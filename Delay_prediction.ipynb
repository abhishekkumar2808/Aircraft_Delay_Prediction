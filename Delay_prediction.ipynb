{
 "metadata": {
  "language_info": {
   "codemirror_mode": {
    "name": "ipython",
    "version": 3
   },
   "file_extension": ".py",
   "mimetype": "text/x-python",
   "name": "python",
   "nbconvert_exporter": "python",
   "pygments_lexer": "ipython3",
   "version": 3
  },
  "orig_nbformat": 2,
  "kernelspec": {
   "name": "python_defaultSpec_1597235545637",
   "display_name": "Python 3.7.4 64-bit"
  }
 },
 "nbformat": 4,
 "nbformat_minor": 2,
 "cells": [
  {
   "cell_type": "code",
   "execution_count": 1,
   "metadata": {},
   "outputs": [],
   "source": [
    "import os\n",
    "import pandas as pd\n",
    "import json\n",
    "import glob"
   ]
  },
  {
   "cell_type": "code",
   "execution_count": 2,
   "metadata": {
    "tags": []
   },
   "outputs": [],
   "source": [
    "city_list=os.listdir(\"C:\\\\Users\\\\Abi\\\\Desktop\\\\ML_project\\\\weather-20200731T142422Z-001\\\\weather\")\n",
    "file_path=\"C:\\\\Users\\\\Abi\\\\Desktop\\\\ML_project\\\\weather-20200731T142422Z-001\\\\weather\\\\\"\n",
    "weather_list=[]\n",
    "for p in city_list:\n",
    "    json_list=os.listdir(file_path+p)\n",
    "    s=json_list.index('2016-1.json')\n",
    "    actual_list=json_list[s:]\n",
    "    for i in actual_list:\n",
    "        fp=open(file_path+p+\"\\\\\"+i,\"r\")\n",
    "        d=fp.read()\n",
    "        data=json.loads(d)\n",
    "        feature_list=['windspeedKmph','winddirDegree','weatherCode','precipMM','visibility','pressure','cloudcover','DewPointF','WindGustKmph',         'tempF','WindChillF','humidity','time']\n",
    "        \n",
    "        for i in data[\"data\"][\"weather\"]:\n",
    "            for j in range(24):\n",
    "                weather_per_hr=dict()\n",
    "                for k in feature_list:\n",
    "                    weather_per_hr[k]=i[\"hourly\"][j][k]\n",
    "                weather_per_hr['date']=i['date']\n",
    "                weather_per_hr['airport']=data[\"data\"][\"request\"][0][\"query\"]\n",
    "                weather_list.append(weather_per_hr)\n",
    "        fp.close()\n",
    "df_weather=pd.DataFrame(weather_list)\n",
    "\n",
    "df_weather.to_csv(\"weather_features.csv\")"
   ]
  },
  {
   "cell_type": "code",
   "execution_count": 3,
   "metadata": {},
   "outputs": [],
   "source": [
    "df_weather[\"air\"]=\"\""
   ]
  },
  {
   "cell_type": "code",
   "execution_count": 4,
   "metadata": {},
   "outputs": [],
   "source": [
    "df_weather[\"air\"]=[x[0:3] for x in df_weather[\"airport\"]]"
   ]
  },
  {
   "cell_type": "code",
   "execution_count": 5,
   "metadata": {},
   "outputs": [],
   "source": [
    "df_weather[\"int_time\"]=0"
   ]
  },
  {
   "cell_type": "code",
   "execution_count": 6,
   "metadata": {
    "tags": []
   },
   "outputs": [],
   "source": [
    "df_weather[\"int_time\"]=[int(x) for x in df_weather[\"time\"]]\n"
   ]
  },
  {
   "cell_type": "code",
   "execution_count": 20,
   "metadata": {},
   "outputs": [
    {
     "output_type": "execute_result",
     "data": {
      "text/plain": "(263160, 17)"
     },
     "metadata": {},
     "execution_count": 20
    }
   ],
   "source": [
    "df_weather.shape"
   ]
  },
  {
   "cell_type": "code",
   "execution_count": 25,
   "metadata": {},
   "outputs": [
    {
     "output_type": "execute_result",
     "data": {
      "text/plain": "       windspeedKmph winddirDegree weatherCode precipMM visibility pressure  \\\n0                 11           318         176      0.1         10     1023   \n1                 13           317         176      0.0         10     1023   \n2                 14           315         122      0.0         10     1023   \n3                 16           314         122      0.0         10     1023   \n4                 17           314         122      0.0         10     1023   \n...              ...           ...         ...      ...        ...      ...   \n263155            26           296         113      0.0         10     1014   \n263156            26           298         113      0.0         10     1014   \n263157            26           300         113      0.0         10     1014   \n263158            23           302         113      0.0         10     1014   \n263159            20           303         113      0.0         10     1014   \n\n       cloudcover DewPointF WindGustKmph tempF WindChillF humidity  time  \\\n0             100        47           17    49         46       91     0   \n1             100        44           22    46         42       92   100   \n2             100        41           26    43         38       92   200   \n3             100        38           30    40         33       93   300   \n4             100        38           30    40         33       93   400   \n...           ...       ...          ...   ...        ...      ...   ...   \n263155          0        57           27    67         67       70  1900   \n263156          0        58           27    67         67       71  2000   \n263157          0        58           27    67         67       73  2100   \n263158          0        58           25    66         66       74  2200   \n263159          0        58           22    66         66       75  2300   \n\n              date                                            airport  air  \\\n0       2016-01-01  ATL, Hartsfield-Jackson Atlanta International ...  ATL   \n1       2016-01-01  ATL, Hartsfield-Jackson Atlanta International ...  ATL   \n2       2016-01-01  ATL, Hartsfield-Jackson Atlanta International ...  ATL   \n3       2016-01-01  ATL, Hartsfield-Jackson Atlanta International ...  ATL   \n4       2016-01-01  ATL, Hartsfield-Jackson Atlanta International ...  ATL   \n...            ...                                                ...  ...   \n263155  2017-09-30  SFO, San Francisco International Airport, Unit...  SFO   \n263156  2017-09-30  SFO, San Francisco International Airport, Unit...  SFO   \n263157  2017-09-30  SFO, San Francisco International Airport, Unit...  SFO   \n263158  2017-09-30  SFO, San Francisco International Airport, Unit...  SFO   \n263159  2017-09-30  SFO, San Francisco International Airport, Unit...  SFO   \n\n        int_time  \n0              0  \n1            100  \n2            200  \n3            300  \n4            400  \n...          ...  \n263155      1900  \n263156      2000  \n263157      2100  \n263158      2200  \n263159      2300  \n\n[263160 rows x 17 columns]",
      "text/html": "<div>\n<style scoped>\n    .dataframe tbody tr th:only-of-type {\n        vertical-align: middle;\n    }\n\n    .dataframe tbody tr th {\n        vertical-align: top;\n    }\n\n    .dataframe thead th {\n        text-align: right;\n    }\n</style>\n<table border=\"1\" class=\"dataframe\">\n  <thead>\n    <tr style=\"text-align: right;\">\n      <th></th>\n      <th>windspeedKmph</th>\n      <th>winddirDegree</th>\n      <th>weatherCode</th>\n      <th>precipMM</th>\n      <th>visibility</th>\n      <th>pressure</th>\n      <th>cloudcover</th>\n      <th>DewPointF</th>\n      <th>WindGustKmph</th>\n      <th>tempF</th>\n      <th>WindChillF</th>\n      <th>humidity</th>\n      <th>time</th>\n      <th>date</th>\n      <th>airport</th>\n      <th>air</th>\n      <th>int_time</th>\n    </tr>\n  </thead>\n  <tbody>\n    <tr>\n      <td>0</td>\n      <td>11</td>\n      <td>318</td>\n      <td>176</td>\n      <td>0.1</td>\n      <td>10</td>\n      <td>1023</td>\n      <td>100</td>\n      <td>47</td>\n      <td>17</td>\n      <td>49</td>\n      <td>46</td>\n      <td>91</td>\n      <td>0</td>\n      <td>2016-01-01</td>\n      <td>ATL, Hartsfield-Jackson Atlanta International ...</td>\n      <td>ATL</td>\n      <td>0</td>\n    </tr>\n    <tr>\n      <td>1</td>\n      <td>13</td>\n      <td>317</td>\n      <td>176</td>\n      <td>0.0</td>\n      <td>10</td>\n      <td>1023</td>\n      <td>100</td>\n      <td>44</td>\n      <td>22</td>\n      <td>46</td>\n      <td>42</td>\n      <td>92</td>\n      <td>100</td>\n      <td>2016-01-01</td>\n      <td>ATL, Hartsfield-Jackson Atlanta International ...</td>\n      <td>ATL</td>\n      <td>100</td>\n    </tr>\n    <tr>\n      <td>2</td>\n      <td>14</td>\n      <td>315</td>\n      <td>122</td>\n      <td>0.0</td>\n      <td>10</td>\n      <td>1023</td>\n      <td>100</td>\n      <td>41</td>\n      <td>26</td>\n      <td>43</td>\n      <td>38</td>\n      <td>92</td>\n      <td>200</td>\n      <td>2016-01-01</td>\n      <td>ATL, Hartsfield-Jackson Atlanta International ...</td>\n      <td>ATL</td>\n      <td>200</td>\n    </tr>\n    <tr>\n      <td>3</td>\n      <td>16</td>\n      <td>314</td>\n      <td>122</td>\n      <td>0.0</td>\n      <td>10</td>\n      <td>1023</td>\n      <td>100</td>\n      <td>38</td>\n      <td>30</td>\n      <td>40</td>\n      <td>33</td>\n      <td>93</td>\n      <td>300</td>\n      <td>2016-01-01</td>\n      <td>ATL, Hartsfield-Jackson Atlanta International ...</td>\n      <td>ATL</td>\n      <td>300</td>\n    </tr>\n    <tr>\n      <td>4</td>\n      <td>17</td>\n      <td>314</td>\n      <td>122</td>\n      <td>0.0</td>\n      <td>10</td>\n      <td>1023</td>\n      <td>100</td>\n      <td>38</td>\n      <td>30</td>\n      <td>40</td>\n      <td>33</td>\n      <td>93</td>\n      <td>400</td>\n      <td>2016-01-01</td>\n      <td>ATL, Hartsfield-Jackson Atlanta International ...</td>\n      <td>ATL</td>\n      <td>400</td>\n    </tr>\n    <tr>\n      <td>...</td>\n      <td>...</td>\n      <td>...</td>\n      <td>...</td>\n      <td>...</td>\n      <td>...</td>\n      <td>...</td>\n      <td>...</td>\n      <td>...</td>\n      <td>...</td>\n      <td>...</td>\n      <td>...</td>\n      <td>...</td>\n      <td>...</td>\n      <td>...</td>\n      <td>...</td>\n      <td>...</td>\n      <td>...</td>\n    </tr>\n    <tr>\n      <td>263155</td>\n      <td>26</td>\n      <td>296</td>\n      <td>113</td>\n      <td>0.0</td>\n      <td>10</td>\n      <td>1014</td>\n      <td>0</td>\n      <td>57</td>\n      <td>27</td>\n      <td>67</td>\n      <td>67</td>\n      <td>70</td>\n      <td>1900</td>\n      <td>2017-09-30</td>\n      <td>SFO, San Francisco International Airport, Unit...</td>\n      <td>SFO</td>\n      <td>1900</td>\n    </tr>\n    <tr>\n      <td>263156</td>\n      <td>26</td>\n      <td>298</td>\n      <td>113</td>\n      <td>0.0</td>\n      <td>10</td>\n      <td>1014</td>\n      <td>0</td>\n      <td>58</td>\n      <td>27</td>\n      <td>67</td>\n      <td>67</td>\n      <td>71</td>\n      <td>2000</td>\n      <td>2017-09-30</td>\n      <td>SFO, San Francisco International Airport, Unit...</td>\n      <td>SFO</td>\n      <td>2000</td>\n    </tr>\n    <tr>\n      <td>263157</td>\n      <td>26</td>\n      <td>300</td>\n      <td>113</td>\n      <td>0.0</td>\n      <td>10</td>\n      <td>1014</td>\n      <td>0</td>\n      <td>58</td>\n      <td>27</td>\n      <td>67</td>\n      <td>67</td>\n      <td>73</td>\n      <td>2100</td>\n      <td>2017-09-30</td>\n      <td>SFO, San Francisco International Airport, Unit...</td>\n      <td>SFO</td>\n      <td>2100</td>\n    </tr>\n    <tr>\n      <td>263158</td>\n      <td>23</td>\n      <td>302</td>\n      <td>113</td>\n      <td>0.0</td>\n      <td>10</td>\n      <td>1014</td>\n      <td>0</td>\n      <td>58</td>\n      <td>25</td>\n      <td>66</td>\n      <td>66</td>\n      <td>74</td>\n      <td>2200</td>\n      <td>2017-09-30</td>\n      <td>SFO, San Francisco International Airport, Unit...</td>\n      <td>SFO</td>\n      <td>2200</td>\n    </tr>\n    <tr>\n      <td>263159</td>\n      <td>20</td>\n      <td>303</td>\n      <td>113</td>\n      <td>0.0</td>\n      <td>10</td>\n      <td>1014</td>\n      <td>0</td>\n      <td>58</td>\n      <td>22</td>\n      <td>66</td>\n      <td>66</td>\n      <td>75</td>\n      <td>2300</td>\n      <td>2017-09-30</td>\n      <td>SFO, San Francisco International Airport, Unit...</td>\n      <td>SFO</td>\n      <td>2300</td>\n    </tr>\n  </tbody>\n</table>\n<p>263160 rows × 17 columns</p>\n</div>"
     },
     "metadata": {},
     "execution_count": 25
    }
   ],
   "source": [
    "df_weather"
   ]
  },
  {
   "cell_type": "code",
   "execution_count": 10,
   "metadata": {
    "tags": []
   },
   "outputs": [],
   "source": [
    "files=glob.glob('C:\\\\Users\\\\Abi\\\\Desktop\\\\ML_project\\\\Flight Data-20200805T074725Z-001\\\\Flight Data\\**\\*',recursive=True)\n",
    "df_flight=pd.DataFrame()\n",
    "for i in files:\n",
    "    try:\n",
    "        i.index(\".csv\")\n",
    "    except:\n",
    "        continue\n",
    "    d=pd.read_csv(i)\n",
    "    d=d[['FlightDate','Quarter','Year','Month'\n",
    "    ,'DayofMonth','DepTime','DepDel15','CRSDepTime','DepDelayMinutes','OriginAirportID','DestAirportID','ArrTime','CRSArrTime','ArrDel15',           'ArrDelayMinutes','Origin','Dest']]\n",
    "    df_flight=pd.concat([df_flight,d])\n",
    "\n",
    "    "
   ]
  },
  {
   "cell_type": "code",
   "execution_count": 11,
   "metadata": {
    "tags": []
   },
   "outputs": [],
   "source": [
    "airports=['ATL','CLT','DEN','DFW','EWR','IAH','JFK','LAS','LAX','MCO','MIA','ORD','PHX','SEA','SFO']\n",
    "df_flight=df_flight[df_flight[\"Dest\"].isin(airports)]\n",
    "df_flight=df_flight[df_flight[\"Origin\"].isin(airports)]\n",
    "\n",
    "\n",
    "\n"
   ]
  },
  {
   "cell_type": "code",
   "execution_count": 12,
   "metadata": {},
   "outputs": [],
   "source": [
    "df_flight=df_flight.dropna()"
   ]
  },
  {
   "cell_type": "code",
   "execution_count": 13,
   "metadata": {},
   "outputs": [],
   "source": [
    "df_flight[\"round_time\"]=0"
   ]
  },
  {
   "cell_type": "code",
   "execution_count": 14,
   "metadata": {},
   "outputs": [],
   "source": [
    "df_flight[\"round_time\"]=[(round((x/100))*100)%2400 for x in df_flight[\"CRSDepTime\"] ]"
   ]
  },
  {
   "cell_type": "code",
   "execution_count": 22,
   "metadata": {},
   "outputs": [
    {
     "output_type": "execute_result",
     "data": {
      "text/plain": "(1851436, 18)"
     },
     "metadata": {},
     "execution_count": 22
    }
   ],
   "source": [
    "df_flight.shape"
   ]
  },
  {
   "cell_type": "code",
   "execution_count": 24,
   "metadata": {},
   "outputs": [
    {
     "output_type": "execute_result",
     "data": {
      "text/plain": "        FlightDate  Quarter  Year  Month  DayofMonth  DepTime  DepDel15  \\\n57      2016-01-01        1  2016      1           1    741.0       0.0   \n58      2016-01-02        1  2016      1           2    737.0       0.0   \n59      2016-01-03        1  2016      1           3    743.0       0.0   \n60      2016-01-04        1  2016      1           4    737.0       0.0   \n61      2016-01-05        1  2016      1           5    708.0       0.0   \n...            ...      ...   ...    ...         ...      ...       ...   \n458684  2017-09-25        3  2017      9          25   2038.0       0.0   \n458687  2017-09-25        3  2017      9          25   1200.0       0.0   \n458688  2017-09-25        3  2017      9          25   1143.0       0.0   \n458695  2017-09-25        3  2017      9          25   2157.0       0.0   \n458711  2017-09-25        3  2017      9          25    605.0       0.0   \n\n        CRSDepTime  DepDelayMinutes  OriginAirportID  DestAirportID  ArrTime  \\\n57             745              0.0            14747          12478   1610.0   \n58             745              0.0            14747          12478   1613.0   \n59             745              0.0            14747          12478   1547.0   \n60             745              0.0            14747          12478   1551.0   \n61             710              0.0            14747          12478   1524.0   \n...            ...              ...              ...            ...      ...   \n458684        2045              0.0            14771          12478    449.0   \n458687        1205              0.0            11618          13204   1428.0   \n458688        1141              2.0            13204          11618   1409.0   \n458695        2159              0.0            12889          12478    540.0   \n458711         605              0.0            13204          12478    821.0   \n\n        CRSArrTime  ArrDel15  ArrDelayMinutes Origin Dest  round_time  \n57            1602       0.0              8.0    SEA  JFK         700  \n58            1602       0.0             11.0    SEA  JFK         700  \n59            1602       0.0              0.0    SEA  JFK         700  \n60            1602       0.0              0.0    SEA  JFK         700  \n61            1527       0.0              0.0    SEA  JFK         700  \n...            ...       ...              ...    ...  ...         ...  \n458684         522       0.0              0.0    SFO  JFK        2000  \n458687        1449       0.0              0.0    EWR  MCO        1200  \n458688        1417       0.0              0.0    MCO  EWR        1100  \n458695         557       0.0              0.0    LAS  JFK        2200  \n458711         837       0.0              0.0    MCO  JFK         600  \n\n[1851436 rows x 18 columns]",
      "text/html": "<div>\n<style scoped>\n    .dataframe tbody tr th:only-of-type {\n        vertical-align: middle;\n    }\n\n    .dataframe tbody tr th {\n        vertical-align: top;\n    }\n\n    .dataframe thead th {\n        text-align: right;\n    }\n</style>\n<table border=\"1\" class=\"dataframe\">\n  <thead>\n    <tr style=\"text-align: right;\">\n      <th></th>\n      <th>FlightDate</th>\n      <th>Quarter</th>\n      <th>Year</th>\n      <th>Month</th>\n      <th>DayofMonth</th>\n      <th>DepTime</th>\n      <th>DepDel15</th>\n      <th>CRSDepTime</th>\n      <th>DepDelayMinutes</th>\n      <th>OriginAirportID</th>\n      <th>DestAirportID</th>\n      <th>ArrTime</th>\n      <th>CRSArrTime</th>\n      <th>ArrDel15</th>\n      <th>ArrDelayMinutes</th>\n      <th>Origin</th>\n      <th>Dest</th>\n      <th>round_time</th>\n    </tr>\n  </thead>\n  <tbody>\n    <tr>\n      <td>57</td>\n      <td>2016-01-01</td>\n      <td>1</td>\n      <td>2016</td>\n      <td>1</td>\n      <td>1</td>\n      <td>741.0</td>\n      <td>0.0</td>\n      <td>745</td>\n      <td>0.0</td>\n      <td>14747</td>\n      <td>12478</td>\n      <td>1610.0</td>\n      <td>1602</td>\n      <td>0.0</td>\n      <td>8.0</td>\n      <td>SEA</td>\n      <td>JFK</td>\n      <td>700</td>\n    </tr>\n    <tr>\n      <td>58</td>\n      <td>2016-01-02</td>\n      <td>1</td>\n      <td>2016</td>\n      <td>1</td>\n      <td>2</td>\n      <td>737.0</td>\n      <td>0.0</td>\n      <td>745</td>\n      <td>0.0</td>\n      <td>14747</td>\n      <td>12478</td>\n      <td>1613.0</td>\n      <td>1602</td>\n      <td>0.0</td>\n      <td>11.0</td>\n      <td>SEA</td>\n      <td>JFK</td>\n      <td>700</td>\n    </tr>\n    <tr>\n      <td>59</td>\n      <td>2016-01-03</td>\n      <td>1</td>\n      <td>2016</td>\n      <td>1</td>\n      <td>3</td>\n      <td>743.0</td>\n      <td>0.0</td>\n      <td>745</td>\n      <td>0.0</td>\n      <td>14747</td>\n      <td>12478</td>\n      <td>1547.0</td>\n      <td>1602</td>\n      <td>0.0</td>\n      <td>0.0</td>\n      <td>SEA</td>\n      <td>JFK</td>\n      <td>700</td>\n    </tr>\n    <tr>\n      <td>60</td>\n      <td>2016-01-04</td>\n      <td>1</td>\n      <td>2016</td>\n      <td>1</td>\n      <td>4</td>\n      <td>737.0</td>\n      <td>0.0</td>\n      <td>745</td>\n      <td>0.0</td>\n      <td>14747</td>\n      <td>12478</td>\n      <td>1551.0</td>\n      <td>1602</td>\n      <td>0.0</td>\n      <td>0.0</td>\n      <td>SEA</td>\n      <td>JFK</td>\n      <td>700</td>\n    </tr>\n    <tr>\n      <td>61</td>\n      <td>2016-01-05</td>\n      <td>1</td>\n      <td>2016</td>\n      <td>1</td>\n      <td>5</td>\n      <td>708.0</td>\n      <td>0.0</td>\n      <td>710</td>\n      <td>0.0</td>\n      <td>14747</td>\n      <td>12478</td>\n      <td>1524.0</td>\n      <td>1527</td>\n      <td>0.0</td>\n      <td>0.0</td>\n      <td>SEA</td>\n      <td>JFK</td>\n      <td>700</td>\n    </tr>\n    <tr>\n      <td>...</td>\n      <td>...</td>\n      <td>...</td>\n      <td>...</td>\n      <td>...</td>\n      <td>...</td>\n      <td>...</td>\n      <td>...</td>\n      <td>...</td>\n      <td>...</td>\n      <td>...</td>\n      <td>...</td>\n      <td>...</td>\n      <td>...</td>\n      <td>...</td>\n      <td>...</td>\n      <td>...</td>\n      <td>...</td>\n      <td>...</td>\n    </tr>\n    <tr>\n      <td>458684</td>\n      <td>2017-09-25</td>\n      <td>3</td>\n      <td>2017</td>\n      <td>9</td>\n      <td>25</td>\n      <td>2038.0</td>\n      <td>0.0</td>\n      <td>2045</td>\n      <td>0.0</td>\n      <td>14771</td>\n      <td>12478</td>\n      <td>449.0</td>\n      <td>522</td>\n      <td>0.0</td>\n      <td>0.0</td>\n      <td>SFO</td>\n      <td>JFK</td>\n      <td>2000</td>\n    </tr>\n    <tr>\n      <td>458687</td>\n      <td>2017-09-25</td>\n      <td>3</td>\n      <td>2017</td>\n      <td>9</td>\n      <td>25</td>\n      <td>1200.0</td>\n      <td>0.0</td>\n      <td>1205</td>\n      <td>0.0</td>\n      <td>11618</td>\n      <td>13204</td>\n      <td>1428.0</td>\n      <td>1449</td>\n      <td>0.0</td>\n      <td>0.0</td>\n      <td>EWR</td>\n      <td>MCO</td>\n      <td>1200</td>\n    </tr>\n    <tr>\n      <td>458688</td>\n      <td>2017-09-25</td>\n      <td>3</td>\n      <td>2017</td>\n      <td>9</td>\n      <td>25</td>\n      <td>1143.0</td>\n      <td>0.0</td>\n      <td>1141</td>\n      <td>2.0</td>\n      <td>13204</td>\n      <td>11618</td>\n      <td>1409.0</td>\n      <td>1417</td>\n      <td>0.0</td>\n      <td>0.0</td>\n      <td>MCO</td>\n      <td>EWR</td>\n      <td>1100</td>\n    </tr>\n    <tr>\n      <td>458695</td>\n      <td>2017-09-25</td>\n      <td>3</td>\n      <td>2017</td>\n      <td>9</td>\n      <td>25</td>\n      <td>2157.0</td>\n      <td>0.0</td>\n      <td>2159</td>\n      <td>0.0</td>\n      <td>12889</td>\n      <td>12478</td>\n      <td>540.0</td>\n      <td>557</td>\n      <td>0.0</td>\n      <td>0.0</td>\n      <td>LAS</td>\n      <td>JFK</td>\n      <td>2200</td>\n    </tr>\n    <tr>\n      <td>458711</td>\n      <td>2017-09-25</td>\n      <td>3</td>\n      <td>2017</td>\n      <td>9</td>\n      <td>25</td>\n      <td>605.0</td>\n      <td>0.0</td>\n      <td>605</td>\n      <td>0.0</td>\n      <td>13204</td>\n      <td>12478</td>\n      <td>821.0</td>\n      <td>837</td>\n      <td>0.0</td>\n      <td>0.0</td>\n      <td>MCO</td>\n      <td>JFK</td>\n      <td>600</td>\n    </tr>\n  </tbody>\n</table>\n<p>1851436 rows × 18 columns</p>\n</div>"
     },
     "metadata": {},
     "execution_count": 24
    }
   ],
   "source": [
    "df_flight"
   ]
  },
  {
   "cell_type": "code",
   "execution_count": 15,
   "metadata": {},
   "outputs": [],
   "source": [
    "result=pd.merge(left=df_weather,right=df_flight,left_on=[\"date\",\"int_time\",\"air\"],right_on=[\"FlightDate\",\"round_time\",\"Origin\"])"
   ]
  },
  {
   "cell_type": "code",
   "execution_count": 13,
   "metadata": {},
   "outputs": [],
   "source": [
    "'''del result[\"int_time\"]\n",
    "del result[\"air\"]\n",
    "del result[\"round_time\"]\n",
    "del result[\"Origin\"]\n",
    "del result[\"Dest\"]'''"
   ]
  },
  {
   "cell_type": "code",
   "execution_count": 16,
   "metadata": {},
   "outputs": [],
   "source": [
    "result=result.dropna()"
   ]
  },
  {
   "cell_type": "code",
   "execution_count": 17,
   "metadata": {},
   "outputs": [
    {
     "output_type": "execute_result",
     "data": {
      "text/plain": "57         745\n58         745\n59         745\n60         745\n61         710\n          ... \n458684    2045\n458687    1205\n458688    1141\n458695    2159\n458711     605\nName: CRSDepTime, Length: 1851436, dtype: int64"
     },
     "metadata": {},
     "execution_count": 17
    }
   ],
   "source": [
    "df_flight[\"CRSDepTime\"]"
   ]
  },
  {
   "cell_type": "code",
   "execution_count": 18,
   "metadata": {},
   "outputs": [
    {
     "output_type": "execute_result",
     "data": {
      "text/plain": "57         700\n58         700\n59         700\n60         700\n61         700\n          ... \n458684    2000\n458687    1200\n458688    1100\n458695    2200\n458711     600\nName: round_time, Length: 1851436, dtype: int64"
     },
     "metadata": {},
     "execution_count": 18
    }
   ],
   "source": [
    "df_flight[\"round_time\"]"
   ]
  },
  {
   "cell_type": "code",
   "execution_count": 19,
   "metadata": {},
   "outputs": [
    {
     "output_type": "execute_result",
     "data": {
      "text/plain": "(1851436, 35)"
     },
     "metadata": {},
     "execution_count": 19
    }
   ],
   "source": [
    "result.shape"
   ]
  },
  {
   "cell_type": "code",
   "execution_count": 23,
   "metadata": {},
   "outputs": [
    {
     "output_type": "execute_result",
     "data": {
      "text/plain": "        windspeedKmph winddirDegree weatherCode precipMM visibility pressure  \\\n0                  18           315         122      0.0         10     1024   \n1                  18           315         122      0.0         10     1024   \n2                  18           315         122      0.0         10     1024   \n3                  18           315         122      0.0         10     1024   \n4                  18           315         122      0.0         10     1024   \n...               ...           ...         ...      ...        ...      ...   \n1851431            23           302         113      0.0         10     1014   \n1851432            20           303         113      0.0         10     1014   \n1851433            20           303         113      0.0         10     1014   \n1851434            20           303         113      0.0         10     1014   \n1851435            20           303         113      0.0         10     1014   \n\n        cloudcover DewPointF WindGustKmph tempF  ... DepDelayMinutes  \\\n0              100        38           28    40  ...             0.0   \n1              100        38           28    40  ...             6.0   \n2              100        38           28    40  ...             0.0   \n3              100        38           28    40  ...            10.0   \n4              100        38           28    40  ...             0.0   \n...            ...       ...          ...   ...  ...             ...   \n1851431          0        58           25    66  ...             7.0   \n1851432          0        58           22    66  ...             0.0   \n1851433          0        58           22    66  ...             9.0   \n1851434          0        58           22    66  ...             5.0   \n1851435          0        58           22    66  ...             0.0   \n\n        OriginAirportID DestAirportID ArrTime CRSArrTime ArrDel15  \\\n0                 10397         13303   838.0        837      0.0   \n1                 10397         13204   728.0        720      0.0   \n2                 10397         13930   738.0        746      0.0   \n3                 10397         14771   921.0        918      0.0   \n4                 10397         13930   800.0        755      0.0   \n...                 ...           ...     ...        ...      ...   \n1851431           14771         10397   535.0        548      0.0   \n1851432           14771         12478   732.0        759      0.0   \n1851433           14771         13930   513.0        519      0.0   \n1851434           14771         10397   615.0        632      0.0   \n1851435           14771         12478   735.0        750      0.0   \n\n         ArrDelayMinutes Origin  Dest  round_time  \n0                    1.0    ATL   MIA         600  \n1                    8.0    ATL   MCO         600  \n2                    0.0    ATL   ORD         600  \n3                    3.0    ATL   SFO         600  \n4                    5.0    ATL   ORD         600  \n...                  ...    ...   ...         ...  \n1851431              0.0    SFO   ATL        2200  \n1851432              0.0    SFO   JFK        2300  \n1851433              0.0    SFO   ORD        2300  \n1851434              0.0    SFO   ATL        2300  \n1851435              0.0    SFO   JFK        2300  \n\n[1851436 rows x 35 columns]",
      "text/html": "<div>\n<style scoped>\n    .dataframe tbody tr th:only-of-type {\n        vertical-align: middle;\n    }\n\n    .dataframe tbody tr th {\n        vertical-align: top;\n    }\n\n    .dataframe thead th {\n        text-align: right;\n    }\n</style>\n<table border=\"1\" class=\"dataframe\">\n  <thead>\n    <tr style=\"text-align: right;\">\n      <th></th>\n      <th>windspeedKmph</th>\n      <th>winddirDegree</th>\n      <th>weatherCode</th>\n      <th>precipMM</th>\n      <th>visibility</th>\n      <th>pressure</th>\n      <th>cloudcover</th>\n      <th>DewPointF</th>\n      <th>WindGustKmph</th>\n      <th>tempF</th>\n      <th>...</th>\n      <th>DepDelayMinutes</th>\n      <th>OriginAirportID</th>\n      <th>DestAirportID</th>\n      <th>ArrTime</th>\n      <th>CRSArrTime</th>\n      <th>ArrDel15</th>\n      <th>ArrDelayMinutes</th>\n      <th>Origin</th>\n      <th>Dest</th>\n      <th>round_time</th>\n    </tr>\n  </thead>\n  <tbody>\n    <tr>\n      <td>0</td>\n      <td>18</td>\n      <td>315</td>\n      <td>122</td>\n      <td>0.0</td>\n      <td>10</td>\n      <td>1024</td>\n      <td>100</td>\n      <td>38</td>\n      <td>28</td>\n      <td>40</td>\n      <td>...</td>\n      <td>0.0</td>\n      <td>10397</td>\n      <td>13303</td>\n      <td>838.0</td>\n      <td>837</td>\n      <td>0.0</td>\n      <td>1.0</td>\n      <td>ATL</td>\n      <td>MIA</td>\n      <td>600</td>\n    </tr>\n    <tr>\n      <td>1</td>\n      <td>18</td>\n      <td>315</td>\n      <td>122</td>\n      <td>0.0</td>\n      <td>10</td>\n      <td>1024</td>\n      <td>100</td>\n      <td>38</td>\n      <td>28</td>\n      <td>40</td>\n      <td>...</td>\n      <td>6.0</td>\n      <td>10397</td>\n      <td>13204</td>\n      <td>728.0</td>\n      <td>720</td>\n      <td>0.0</td>\n      <td>8.0</td>\n      <td>ATL</td>\n      <td>MCO</td>\n      <td>600</td>\n    </tr>\n    <tr>\n      <td>2</td>\n      <td>18</td>\n      <td>315</td>\n      <td>122</td>\n      <td>0.0</td>\n      <td>10</td>\n      <td>1024</td>\n      <td>100</td>\n      <td>38</td>\n      <td>28</td>\n      <td>40</td>\n      <td>...</td>\n      <td>0.0</td>\n      <td>10397</td>\n      <td>13930</td>\n      <td>738.0</td>\n      <td>746</td>\n      <td>0.0</td>\n      <td>0.0</td>\n      <td>ATL</td>\n      <td>ORD</td>\n      <td>600</td>\n    </tr>\n    <tr>\n      <td>3</td>\n      <td>18</td>\n      <td>315</td>\n      <td>122</td>\n      <td>0.0</td>\n      <td>10</td>\n      <td>1024</td>\n      <td>100</td>\n      <td>38</td>\n      <td>28</td>\n      <td>40</td>\n      <td>...</td>\n      <td>10.0</td>\n      <td>10397</td>\n      <td>14771</td>\n      <td>921.0</td>\n      <td>918</td>\n      <td>0.0</td>\n      <td>3.0</td>\n      <td>ATL</td>\n      <td>SFO</td>\n      <td>600</td>\n    </tr>\n    <tr>\n      <td>4</td>\n      <td>18</td>\n      <td>315</td>\n      <td>122</td>\n      <td>0.0</td>\n      <td>10</td>\n      <td>1024</td>\n      <td>100</td>\n      <td>38</td>\n      <td>28</td>\n      <td>40</td>\n      <td>...</td>\n      <td>0.0</td>\n      <td>10397</td>\n      <td>13930</td>\n      <td>800.0</td>\n      <td>755</td>\n      <td>0.0</td>\n      <td>5.0</td>\n      <td>ATL</td>\n      <td>ORD</td>\n      <td>600</td>\n    </tr>\n    <tr>\n      <td>...</td>\n      <td>...</td>\n      <td>...</td>\n      <td>...</td>\n      <td>...</td>\n      <td>...</td>\n      <td>...</td>\n      <td>...</td>\n      <td>...</td>\n      <td>...</td>\n      <td>...</td>\n      <td>...</td>\n      <td>...</td>\n      <td>...</td>\n      <td>...</td>\n      <td>...</td>\n      <td>...</td>\n      <td>...</td>\n      <td>...</td>\n      <td>...</td>\n      <td>...</td>\n      <td>...</td>\n    </tr>\n    <tr>\n      <td>1851431</td>\n      <td>23</td>\n      <td>302</td>\n      <td>113</td>\n      <td>0.0</td>\n      <td>10</td>\n      <td>1014</td>\n      <td>0</td>\n      <td>58</td>\n      <td>25</td>\n      <td>66</td>\n      <td>...</td>\n      <td>7.0</td>\n      <td>14771</td>\n      <td>10397</td>\n      <td>535.0</td>\n      <td>548</td>\n      <td>0.0</td>\n      <td>0.0</td>\n      <td>SFO</td>\n      <td>ATL</td>\n      <td>2200</td>\n    </tr>\n    <tr>\n      <td>1851432</td>\n      <td>20</td>\n      <td>303</td>\n      <td>113</td>\n      <td>0.0</td>\n      <td>10</td>\n      <td>1014</td>\n      <td>0</td>\n      <td>58</td>\n      <td>22</td>\n      <td>66</td>\n      <td>...</td>\n      <td>0.0</td>\n      <td>14771</td>\n      <td>12478</td>\n      <td>732.0</td>\n      <td>759</td>\n      <td>0.0</td>\n      <td>0.0</td>\n      <td>SFO</td>\n      <td>JFK</td>\n      <td>2300</td>\n    </tr>\n    <tr>\n      <td>1851433</td>\n      <td>20</td>\n      <td>303</td>\n      <td>113</td>\n      <td>0.0</td>\n      <td>10</td>\n      <td>1014</td>\n      <td>0</td>\n      <td>58</td>\n      <td>22</td>\n      <td>66</td>\n      <td>...</td>\n      <td>9.0</td>\n      <td>14771</td>\n      <td>13930</td>\n      <td>513.0</td>\n      <td>519</td>\n      <td>0.0</td>\n      <td>0.0</td>\n      <td>SFO</td>\n      <td>ORD</td>\n      <td>2300</td>\n    </tr>\n    <tr>\n      <td>1851434</td>\n      <td>20</td>\n      <td>303</td>\n      <td>113</td>\n      <td>0.0</td>\n      <td>10</td>\n      <td>1014</td>\n      <td>0</td>\n      <td>58</td>\n      <td>22</td>\n      <td>66</td>\n      <td>...</td>\n      <td>5.0</td>\n      <td>14771</td>\n      <td>10397</td>\n      <td>615.0</td>\n      <td>632</td>\n      <td>0.0</td>\n      <td>0.0</td>\n      <td>SFO</td>\n      <td>ATL</td>\n      <td>2300</td>\n    </tr>\n    <tr>\n      <td>1851435</td>\n      <td>20</td>\n      <td>303</td>\n      <td>113</td>\n      <td>0.0</td>\n      <td>10</td>\n      <td>1014</td>\n      <td>0</td>\n      <td>58</td>\n      <td>22</td>\n      <td>66</td>\n      <td>...</td>\n      <td>0.0</td>\n      <td>14771</td>\n      <td>12478</td>\n      <td>735.0</td>\n      <td>750</td>\n      <td>0.0</td>\n      <td>0.0</td>\n      <td>SFO</td>\n      <td>JFK</td>\n      <td>2300</td>\n    </tr>\n  </tbody>\n</table>\n<p>1851436 rows × 35 columns</p>\n</div>"
     },
     "metadata": {},
     "execution_count": 23
    }
   ],
   "source": [
    "result"
   ]
  }
 ]
}