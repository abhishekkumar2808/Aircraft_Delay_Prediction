{
 "metadata": {
  "language_info": {
   "codemirror_mode": {
    "name": "ipython",
    "version": 3
   },
   "file_extension": ".py",
   "mimetype": "text/x-python",
   "name": "python",
   "nbconvert_exporter": "python",
   "pygments_lexer": "ipython3",
   "version": "3.8.2-final"
  },
  "orig_nbformat": 2,
  "kernelspec": {
   "name": "Python 3.8.2 64-bit",
   "display_name": "Python 3.8.2 64-bit",
   "metadata": {
    "interpreter": {
     "hash": "4b750c9e8855aca9485cc082e169bcd2d54cc38eb3f235f1466369ee1aa460cf"
    }
   }
  }
 },
 "nbformat": 4,
 "nbformat_minor": 2,
 "cells": [
  {
   "cell_type": "code",
   "execution_count": 2,
   "metadata": {},
   "outputs": [],
   "source": [
    "import os\n",
    "import pandas as pd\n",
    "import json\n",
    "import glob\n",
    "import sklearn\n",
    "from sklearn.feature_selection import SelectKBest\n",
    "from sklearn.feature_selection import chi2\n",
    "from sklearn.feature_selection import f_classif\n",
    "from sklearn.linear_model import LogisticRegression\n",
    "from sklearn.model_selection import train_test_split\n",
    "from sklearn.metrics import average_precision_score\n",
    "from sklearn.tree import DecisionTreeClassifier\n",
    "from sklearn import metrics\n",
    "from sklearn.metrics import mean_squared_error\n",
    "from sklearn.ensemble import GradientBoostingClassifier\n",
    "from sklearn.ensemble import ExtraTreesClassifier\n",
    "from sklearn.metrics import  classification_report\n",
    "from sklearn.metrics import confusion_matrix\n",
    "from imblearn.over_sampling import SMOTE\n",
    "from imblearn.under_sampling import NearMiss"
   ]
  },
  {
   "cell_type": "code",
   "execution_count": 3,
   "metadata": {
    "tags": []
   },
   "outputs": [],
   "source": [
    "city_list=os.listdir(\"C:\\\\Users\\\\Abi\\\\Desktop\\\\ML_project\\\\weather-20200731T142422Z-001\\\\weather\")\n",
    "file_path=\"C:\\\\Users\\\\Abi\\\\Desktop\\\\ML_project\\\\weather-20200731T142422Z-001\\\\weather\\\\\"\n",
    "weather_list=[]\n",
    "for p in city_list:\n",
    "    json_list=os.listdir(file_path+p)\n",
    "    s=json_list.index('2016-1.json')\n",
    "    actual_list=json_list[s:]\n",
    "    for i in actual_list:\n",
    "        fp=open(file_path+p+\"\\\\\"+i,\"r\")\n",
    "        d=fp.read()\n",
    "        data=json.loads(d)\n",
    "        feature_list=['windspeedKmph','winddirDegree','weatherCode','precipMM','visibility','pressure','cloudcover','DewPointF','WindGustKmph',         'tempF','WindChillF','humidity','time']\n",
    "        \n",
    "        for i in data[\"data\"][\"weather\"]:\n",
    "            for j in range(24):\n",
    "                weather_per_hr=dict()\n",
    "                for k in feature_list:\n",
    "                    weather_per_hr[k]=i[\"hourly\"][j][k]\n",
    "                weather_per_hr['date']=i['date']\n",
    "                weather_per_hr['airport']=data[\"data\"][\"request\"][0][\"query\"]\n",
    "                weather_list.append(weather_per_hr)\n",
    "        fp.close()\n",
    "df_weather=pd.DataFrame(weather_list)\n",
    "\n",
    "df_weather.to_csv(\"weather_features.csv\")"
   ]
  },
  {
   "cell_type": "code",
   "execution_count": 4,
   "metadata": {},
   "outputs": [],
   "source": [
    "df_weather[\"air\"]=\"\""
   ]
  },
  {
   "cell_type": "code",
   "execution_count": 5,
   "metadata": {},
   "outputs": [],
   "source": [
    "df_weather[\"air\"]=[x[0:3] for x in df_weather[\"airport\"]]"
   ]
  },
  {
   "cell_type": "code",
   "execution_count": 6,
   "metadata": {},
   "outputs": [],
   "source": [
    "df_weather[\"int_time\"]=0"
   ]
  },
  {
   "cell_type": "code",
   "execution_count": 7,
   "metadata": {
    "tags": []
   },
   "outputs": [],
   "source": [
    "df_weather[\"int_time\"]=[int(x) for x in df_weather[\"time\"]]\n"
   ]
  },
  {
   "cell_type": "code",
   "execution_count": 8,
   "metadata": {},
   "outputs": [
    {
     "output_type": "execute_result",
     "data": {
      "text/plain": "(263160, 17)"
     },
     "metadata": {},
     "execution_count": 8
    }
   ],
   "source": [
    "df_weather.shape"
   ]
  },
  {
   "cell_type": "code",
   "execution_count": 9,
   "metadata": {},
   "outputs": [
    {
     "output_type": "execute_result",
     "data": {
      "text/plain": "       windspeedKmph winddirDegree weatherCode precipMM visibility pressure  \\\n0                 11           318         176      0.1         10     1023   \n1                 13           317         176      0.0         10     1023   \n2                 14           315         122      0.0         10     1023   \n3                 16           314         122      0.0         10     1023   \n4                 17           314         122      0.0         10     1023   \n...              ...           ...         ...      ...        ...      ...   \n263155            26           296         113      0.0         10     1014   \n263156            26           298         113      0.0         10     1014   \n263157            26           300         113      0.0         10     1014   \n263158            23           302         113      0.0         10     1014   \n263159            20           303         113      0.0         10     1014   \n\n       cloudcover DewPointF WindGustKmph tempF WindChillF humidity  time  \\\n0             100        47           17    49         46       91     0   \n1             100        44           22    46         42       92   100   \n2             100        41           26    43         38       92   200   \n3             100        38           30    40         33       93   300   \n4             100        38           30    40         33       93   400   \n...           ...       ...          ...   ...        ...      ...   ...   \n263155          0        57           27    67         67       70  1900   \n263156          0        58           27    67         67       71  2000   \n263157          0        58           27    67         67       73  2100   \n263158          0        58           25    66         66       74  2200   \n263159          0        58           22    66         66       75  2300   \n\n              date                                            airport  air  \\\n0       2016-01-01  ATL, Hartsfield-Jackson Atlanta International ...  ATL   \n1       2016-01-01  ATL, Hartsfield-Jackson Atlanta International ...  ATL   \n2       2016-01-01  ATL, Hartsfield-Jackson Atlanta International ...  ATL   \n3       2016-01-01  ATL, Hartsfield-Jackson Atlanta International ...  ATL   \n4       2016-01-01  ATL, Hartsfield-Jackson Atlanta International ...  ATL   \n...            ...                                                ...  ...   \n263155  2017-09-30  SFO, San Francisco International Airport, Unit...  SFO   \n263156  2017-09-30  SFO, San Francisco International Airport, Unit...  SFO   \n263157  2017-09-30  SFO, San Francisco International Airport, Unit...  SFO   \n263158  2017-09-30  SFO, San Francisco International Airport, Unit...  SFO   \n263159  2017-09-30  SFO, San Francisco International Airport, Unit...  SFO   \n\n        int_time  \n0              0  \n1            100  \n2            200  \n3            300  \n4            400  \n...          ...  \n263155      1900  \n263156      2000  \n263157      2100  \n263158      2200  \n263159      2300  \n\n[263160 rows x 17 columns]",
      "text/html": "<div>\n<style scoped>\n    .dataframe tbody tr th:only-of-type {\n        vertical-align: middle;\n    }\n\n    .dataframe tbody tr th {\n        vertical-align: top;\n    }\n\n    .dataframe thead th {\n        text-align: right;\n    }\n</style>\n<table border=\"1\" class=\"dataframe\">\n  <thead>\n    <tr style=\"text-align: right;\">\n      <th></th>\n      <th>windspeedKmph</th>\n      <th>winddirDegree</th>\n      <th>weatherCode</th>\n      <th>precipMM</th>\n      <th>visibility</th>\n      <th>pressure</th>\n      <th>cloudcover</th>\n      <th>DewPointF</th>\n      <th>WindGustKmph</th>\n      <th>tempF</th>\n      <th>WindChillF</th>\n      <th>humidity</th>\n      <th>time</th>\n      <th>date</th>\n      <th>airport</th>\n      <th>air</th>\n      <th>int_time</th>\n    </tr>\n  </thead>\n  <tbody>\n    <tr>\n      <th>0</th>\n      <td>11</td>\n      <td>318</td>\n      <td>176</td>\n      <td>0.1</td>\n      <td>10</td>\n      <td>1023</td>\n      <td>100</td>\n      <td>47</td>\n      <td>17</td>\n      <td>49</td>\n      <td>46</td>\n      <td>91</td>\n      <td>0</td>\n      <td>2016-01-01</td>\n      <td>ATL, Hartsfield-Jackson Atlanta International ...</td>\n      <td>ATL</td>\n      <td>0</td>\n    </tr>\n    <tr>\n      <th>1</th>\n      <td>13</td>\n      <td>317</td>\n      <td>176</td>\n      <td>0.0</td>\n      <td>10</td>\n      <td>1023</td>\n      <td>100</td>\n      <td>44</td>\n      <td>22</td>\n      <td>46</td>\n      <td>42</td>\n      <td>92</td>\n      <td>100</td>\n      <td>2016-01-01</td>\n      <td>ATL, Hartsfield-Jackson Atlanta International ...</td>\n      <td>ATL</td>\n      <td>100</td>\n    </tr>\n    <tr>\n      <th>2</th>\n      <td>14</td>\n      <td>315</td>\n      <td>122</td>\n      <td>0.0</td>\n      <td>10</td>\n      <td>1023</td>\n      <td>100</td>\n      <td>41</td>\n      <td>26</td>\n      <td>43</td>\n      <td>38</td>\n      <td>92</td>\n      <td>200</td>\n      <td>2016-01-01</td>\n      <td>ATL, Hartsfield-Jackson Atlanta International ...</td>\n      <td>ATL</td>\n      <td>200</td>\n    </tr>\n    <tr>\n      <th>3</th>\n      <td>16</td>\n      <td>314</td>\n      <td>122</td>\n      <td>0.0</td>\n      <td>10</td>\n      <td>1023</td>\n      <td>100</td>\n      <td>38</td>\n      <td>30</td>\n      <td>40</td>\n      <td>33</td>\n      <td>93</td>\n      <td>300</td>\n      <td>2016-01-01</td>\n      <td>ATL, Hartsfield-Jackson Atlanta International ...</td>\n      <td>ATL</td>\n      <td>300</td>\n    </tr>\n    <tr>\n      <th>4</th>\n      <td>17</td>\n      <td>314</td>\n      <td>122</td>\n      <td>0.0</td>\n      <td>10</td>\n      <td>1023</td>\n      <td>100</td>\n      <td>38</td>\n      <td>30</td>\n      <td>40</td>\n      <td>33</td>\n      <td>93</td>\n      <td>400</td>\n      <td>2016-01-01</td>\n      <td>ATL, Hartsfield-Jackson Atlanta International ...</td>\n      <td>ATL</td>\n      <td>400</td>\n    </tr>\n    <tr>\n      <th>...</th>\n      <td>...</td>\n      <td>...</td>\n      <td>...</td>\n      <td>...</td>\n      <td>...</td>\n      <td>...</td>\n      <td>...</td>\n      <td>...</td>\n      <td>...</td>\n      <td>...</td>\n      <td>...</td>\n      <td>...</td>\n      <td>...</td>\n      <td>...</td>\n      <td>...</td>\n      <td>...</td>\n      <td>...</td>\n    </tr>\n    <tr>\n      <th>263155</th>\n      <td>26</td>\n      <td>296</td>\n      <td>113</td>\n      <td>0.0</td>\n      <td>10</td>\n      <td>1014</td>\n      <td>0</td>\n      <td>57</td>\n      <td>27</td>\n      <td>67</td>\n      <td>67</td>\n      <td>70</td>\n      <td>1900</td>\n      <td>2017-09-30</td>\n      <td>SFO, San Francisco International Airport, Unit...</td>\n      <td>SFO</td>\n      <td>1900</td>\n    </tr>\n    <tr>\n      <th>263156</th>\n      <td>26</td>\n      <td>298</td>\n      <td>113</td>\n      <td>0.0</td>\n      <td>10</td>\n      <td>1014</td>\n      <td>0</td>\n      <td>58</td>\n      <td>27</td>\n      <td>67</td>\n      <td>67</td>\n      <td>71</td>\n      <td>2000</td>\n      <td>2017-09-30</td>\n      <td>SFO, San Francisco International Airport, Unit...</td>\n      <td>SFO</td>\n      <td>2000</td>\n    </tr>\n    <tr>\n      <th>263157</th>\n      <td>26</td>\n      <td>300</td>\n      <td>113</td>\n      <td>0.0</td>\n      <td>10</td>\n      <td>1014</td>\n      <td>0</td>\n      <td>58</td>\n      <td>27</td>\n      <td>67</td>\n      <td>67</td>\n      <td>73</td>\n      <td>2100</td>\n      <td>2017-09-30</td>\n      <td>SFO, San Francisco International Airport, Unit...</td>\n      <td>SFO</td>\n      <td>2100</td>\n    </tr>\n    <tr>\n      <th>263158</th>\n      <td>23</td>\n      <td>302</td>\n      <td>113</td>\n      <td>0.0</td>\n      <td>10</td>\n      <td>1014</td>\n      <td>0</td>\n      <td>58</td>\n      <td>25</td>\n      <td>66</td>\n      <td>66</td>\n      <td>74</td>\n      <td>2200</td>\n      <td>2017-09-30</td>\n      <td>SFO, San Francisco International Airport, Unit...</td>\n      <td>SFO</td>\n      <td>2200</td>\n    </tr>\n    <tr>\n      <th>263159</th>\n      <td>20</td>\n      <td>303</td>\n      <td>113</td>\n      <td>0.0</td>\n      <td>10</td>\n      <td>1014</td>\n      <td>0</td>\n      <td>58</td>\n      <td>22</td>\n      <td>66</td>\n      <td>66</td>\n      <td>75</td>\n      <td>2300</td>\n      <td>2017-09-30</td>\n      <td>SFO, San Francisco International Airport, Unit...</td>\n      <td>SFO</td>\n      <td>2300</td>\n    </tr>\n  </tbody>\n</table>\n<p>263160 rows × 17 columns</p>\n</div>"
     },
     "metadata": {},
     "execution_count": 9
    }
   ],
   "source": [
    "df_weather"
   ]
  },
  {
   "cell_type": "code",
   "execution_count": 10,
   "metadata": {
    "tags": []
   },
   "outputs": [],
   "source": [
    "files=glob.glob('C:\\\\Users\\\\Abi\\\\Desktop\\\\ML_project\\\\Flight Data-20200805T074725Z-001\\\\Flight Data\\**\\*',recursive=True)\n",
    "df_flight=pd.DataFrame()\n",
    "for i in files:\n",
    "    try:\n",
    "        i.index(\".csv\")\n",
    "    except:\n",
    "        continue\n",
    "    d=pd.read_csv(i)\n",
    "    d=d[['FlightDate','Quarter','Year','Month'\n",
    "    ,'DayofMonth','DepTime','DepDel15','CRSDepTime','DepDelayMinutes','OriginAirportID','DestAirportID','ArrTime','CRSArrTime','ArrDel15',           'ArrDelayMinutes','Origin','Dest']]\n",
    "    df_flight=pd.concat([df_flight,d])\n",
    "\n",
    "    "
   ]
  },
  {
   "cell_type": "code",
   "execution_count": 11,
   "metadata": {
    "tags": []
   },
   "outputs": [],
   "source": [
    "airports=['ATL','CLT','DEN','DFW','EWR','IAH','JFK','LAS','LAX','MCO','MIA','ORD','PHX','SEA','SFO']\n",
    "df_flight=df_flight[df_flight[\"Dest\"].isin(airports)]\n",
    "df_flight=df_flight[df_flight[\"Origin\"].isin(airports)]\n",
    "\n",
    "\n",
    "\n"
   ]
  },
  {
   "cell_type": "code",
   "execution_count": 12,
   "metadata": {},
   "outputs": [],
   "source": [
    "df_flight=df_flight.dropna()"
   ]
  },
  {
   "cell_type": "code",
   "execution_count": 13,
   "metadata": {},
   "outputs": [],
   "source": [
    "df_flight[\"round_time\"]=0"
   ]
  },
  {
   "cell_type": "code",
   "execution_count": 14,
   "metadata": {},
   "outputs": [],
   "source": [
    "#to calculate the round-off value for the departure time\n",
    "temp=[]\n",
    "for x in df_flight[\"CRSDepTime\"]: \n",
    "    if(x%100<30):\n",
    "        temp.append((int(x/100)*100)%2400)\n",
    "    else:\n",
    "        temp.append(((int(x/100)+1)*100)%2400)\n",
    "df_flight[\"round_time\"]=temp"
   ]
  },
  {
   "cell_type": "code",
   "execution_count": 15,
   "metadata": {},
   "outputs": [
    {
     "output_type": "execute_result",
     "data": {
      "text/plain": "(1851436, 18)"
     },
     "metadata": {},
     "execution_count": 15
    }
   ],
   "source": [
    "df_flight.shape"
   ]
  },
  {
   "cell_type": "code",
   "execution_count": 16,
   "metadata": {},
   "outputs": [
    {
     "output_type": "execute_result",
     "data": {
      "text/plain": "        FlightDate  Quarter  Year  Month  DayofMonth  DepTime  DepDel15  \\\n57      2016-01-01        1  2016      1           1    741.0       0.0   \n58      2016-01-02        1  2016      1           2    737.0       0.0   \n59      2016-01-03        1  2016      1           3    743.0       0.0   \n60      2016-01-04        1  2016      1           4    737.0       0.0   \n61      2016-01-05        1  2016      1           5    708.0       0.0   \n...            ...      ...   ...    ...         ...      ...       ...   \n458684  2017-09-25        3  2017      9          25   2038.0       0.0   \n458687  2017-09-25        3  2017      9          25   1200.0       0.0   \n458688  2017-09-25        3  2017      9          25   1143.0       0.0   \n458695  2017-09-25        3  2017      9          25   2157.0       0.0   \n458711  2017-09-25        3  2017      9          25    605.0       0.0   \n\n        CRSDepTime  DepDelayMinutes  OriginAirportID  DestAirportID  ArrTime  \\\n57             745              0.0            14747          12478   1610.0   \n58             745              0.0            14747          12478   1613.0   \n59             745              0.0            14747          12478   1547.0   \n60             745              0.0            14747          12478   1551.0   \n61             710              0.0            14747          12478   1524.0   \n...            ...              ...              ...            ...      ...   \n458684        2045              0.0            14771          12478    449.0   \n458687        1205              0.0            11618          13204   1428.0   \n458688        1141              2.0            13204          11618   1409.0   \n458695        2159              0.0            12889          12478    540.0   \n458711         605              0.0            13204          12478    821.0   \n\n        CRSArrTime  ArrDel15  ArrDelayMinutes Origin Dest  round_time  \n57            1602       0.0              8.0    SEA  JFK         800  \n58            1602       0.0             11.0    SEA  JFK         800  \n59            1602       0.0              0.0    SEA  JFK         800  \n60            1602       0.0              0.0    SEA  JFK         800  \n61            1527       0.0              0.0    SEA  JFK         700  \n...            ...       ...              ...    ...  ...         ...  \n458684         522       0.0              0.0    SFO  JFK        2100  \n458687        1449       0.0              0.0    EWR  MCO        1200  \n458688        1417       0.0              0.0    MCO  EWR        1200  \n458695         557       0.0              0.0    LAS  JFK        2200  \n458711         837       0.0              0.0    MCO  JFK         600  \n\n[1851436 rows x 18 columns]",
      "text/html": "<div>\n<style scoped>\n    .dataframe tbody tr th:only-of-type {\n        vertical-align: middle;\n    }\n\n    .dataframe tbody tr th {\n        vertical-align: top;\n    }\n\n    .dataframe thead th {\n        text-align: right;\n    }\n</style>\n<table border=\"1\" class=\"dataframe\">\n  <thead>\n    <tr style=\"text-align: right;\">\n      <th></th>\n      <th>FlightDate</th>\n      <th>Quarter</th>\n      <th>Year</th>\n      <th>Month</th>\n      <th>DayofMonth</th>\n      <th>DepTime</th>\n      <th>DepDel15</th>\n      <th>CRSDepTime</th>\n      <th>DepDelayMinutes</th>\n      <th>OriginAirportID</th>\n      <th>DestAirportID</th>\n      <th>ArrTime</th>\n      <th>CRSArrTime</th>\n      <th>ArrDel15</th>\n      <th>ArrDelayMinutes</th>\n      <th>Origin</th>\n      <th>Dest</th>\n      <th>round_time</th>\n    </tr>\n  </thead>\n  <tbody>\n    <tr>\n      <th>57</th>\n      <td>2016-01-01</td>\n      <td>1</td>\n      <td>2016</td>\n      <td>1</td>\n      <td>1</td>\n      <td>741.0</td>\n      <td>0.0</td>\n      <td>745</td>\n      <td>0.0</td>\n      <td>14747</td>\n      <td>12478</td>\n      <td>1610.0</td>\n      <td>1602</td>\n      <td>0.0</td>\n      <td>8.0</td>\n      <td>SEA</td>\n      <td>JFK</td>\n      <td>800</td>\n    </tr>\n    <tr>\n      <th>58</th>\n      <td>2016-01-02</td>\n      <td>1</td>\n      <td>2016</td>\n      <td>1</td>\n      <td>2</td>\n      <td>737.0</td>\n      <td>0.0</td>\n      <td>745</td>\n      <td>0.0</td>\n      <td>14747</td>\n      <td>12478</td>\n      <td>1613.0</td>\n      <td>1602</td>\n      <td>0.0</td>\n      <td>11.0</td>\n      <td>SEA</td>\n      <td>JFK</td>\n      <td>800</td>\n    </tr>\n    <tr>\n      <th>59</th>\n      <td>2016-01-03</td>\n      <td>1</td>\n      <td>2016</td>\n      <td>1</td>\n      <td>3</td>\n      <td>743.0</td>\n      <td>0.0</td>\n      <td>745</td>\n      <td>0.0</td>\n      <td>14747</td>\n      <td>12478</td>\n      <td>1547.0</td>\n      <td>1602</td>\n      <td>0.0</td>\n      <td>0.0</td>\n      <td>SEA</td>\n      <td>JFK</td>\n      <td>800</td>\n    </tr>\n    <tr>\n      <th>60</th>\n      <td>2016-01-04</td>\n      <td>1</td>\n      <td>2016</td>\n      <td>1</td>\n      <td>4</td>\n      <td>737.0</td>\n      <td>0.0</td>\n      <td>745</td>\n      <td>0.0</td>\n      <td>14747</td>\n      <td>12478</td>\n      <td>1551.0</td>\n      <td>1602</td>\n      <td>0.0</td>\n      <td>0.0</td>\n      <td>SEA</td>\n      <td>JFK</td>\n      <td>800</td>\n    </tr>\n    <tr>\n      <th>61</th>\n      <td>2016-01-05</td>\n      <td>1</td>\n      <td>2016</td>\n      <td>1</td>\n      <td>5</td>\n      <td>708.0</td>\n      <td>0.0</td>\n      <td>710</td>\n      <td>0.0</td>\n      <td>14747</td>\n      <td>12478</td>\n      <td>1524.0</td>\n      <td>1527</td>\n      <td>0.0</td>\n      <td>0.0</td>\n      <td>SEA</td>\n      <td>JFK</td>\n      <td>700</td>\n    </tr>\n    <tr>\n      <th>...</th>\n      <td>...</td>\n      <td>...</td>\n      <td>...</td>\n      <td>...</td>\n      <td>...</td>\n      <td>...</td>\n      <td>...</td>\n      <td>...</td>\n      <td>...</td>\n      <td>...</td>\n      <td>...</td>\n      <td>...</td>\n      <td>...</td>\n      <td>...</td>\n      <td>...</td>\n      <td>...</td>\n      <td>...</td>\n      <td>...</td>\n    </tr>\n    <tr>\n      <th>458684</th>\n      <td>2017-09-25</td>\n      <td>3</td>\n      <td>2017</td>\n      <td>9</td>\n      <td>25</td>\n      <td>2038.0</td>\n      <td>0.0</td>\n      <td>2045</td>\n      <td>0.0</td>\n      <td>14771</td>\n      <td>12478</td>\n      <td>449.0</td>\n      <td>522</td>\n      <td>0.0</td>\n      <td>0.0</td>\n      <td>SFO</td>\n      <td>JFK</td>\n      <td>2100</td>\n    </tr>\n    <tr>\n      <th>458687</th>\n      <td>2017-09-25</td>\n      <td>3</td>\n      <td>2017</td>\n      <td>9</td>\n      <td>25</td>\n      <td>1200.0</td>\n      <td>0.0</td>\n      <td>1205</td>\n      <td>0.0</td>\n      <td>11618</td>\n      <td>13204</td>\n      <td>1428.0</td>\n      <td>1449</td>\n      <td>0.0</td>\n      <td>0.0</td>\n      <td>EWR</td>\n      <td>MCO</td>\n      <td>1200</td>\n    </tr>\n    <tr>\n      <th>458688</th>\n      <td>2017-09-25</td>\n      <td>3</td>\n      <td>2017</td>\n      <td>9</td>\n      <td>25</td>\n      <td>1143.0</td>\n      <td>0.0</td>\n      <td>1141</td>\n      <td>2.0</td>\n      <td>13204</td>\n      <td>11618</td>\n      <td>1409.0</td>\n      <td>1417</td>\n      <td>0.0</td>\n      <td>0.0</td>\n      <td>MCO</td>\n      <td>EWR</td>\n      <td>1200</td>\n    </tr>\n    <tr>\n      <th>458695</th>\n      <td>2017-09-25</td>\n      <td>3</td>\n      <td>2017</td>\n      <td>9</td>\n      <td>25</td>\n      <td>2157.0</td>\n      <td>0.0</td>\n      <td>2159</td>\n      <td>0.0</td>\n      <td>12889</td>\n      <td>12478</td>\n      <td>540.0</td>\n      <td>557</td>\n      <td>0.0</td>\n      <td>0.0</td>\n      <td>LAS</td>\n      <td>JFK</td>\n      <td>2200</td>\n    </tr>\n    <tr>\n      <th>458711</th>\n      <td>2017-09-25</td>\n      <td>3</td>\n      <td>2017</td>\n      <td>9</td>\n      <td>25</td>\n      <td>605.0</td>\n      <td>0.0</td>\n      <td>605</td>\n      <td>0.0</td>\n      <td>13204</td>\n      <td>12478</td>\n      <td>821.0</td>\n      <td>837</td>\n      <td>0.0</td>\n      <td>0.0</td>\n      <td>MCO</td>\n      <td>JFK</td>\n      <td>600</td>\n    </tr>\n  </tbody>\n</table>\n<p>1851436 rows × 18 columns</p>\n</div>"
     },
     "metadata": {},
     "execution_count": 16
    }
   ],
   "source": [
    "df_flight"
   ]
  },
  {
   "cell_type": "code",
   "execution_count": 17,
   "metadata": {},
   "outputs": [],
   "source": [
    "#merging weather dataframe and flight dataframe\n",
    "result=pd.merge(left=df_weather,right=df_flight,left_on=[\"date\",\"int_time\",\"air\"],right_on=[\"FlightDate\",\"round_time\",\"Origin\"])"
   ]
  },
  {
   "cell_type": "code",
   "execution_count": 18,
   "metadata": {},
   "outputs": [],
   "source": [
    "result=result.dropna()"
   ]
  },
  {
   "cell_type": "code",
   "execution_count": 19,
   "metadata": {},
   "outputs": [],
   "source": [
    "target=result[\"ArrDel15\"]"
   ]
  },
  {
   "cell_type": "code",
   "execution_count": 20,
   "metadata": {},
   "outputs": [],
   "source": [
    "features=result.copy()\n",
    "features=features.drop([\"ArrDel15\"],axis=1)"
   ]
  },
  {
   "cell_type": "code",
   "execution_count": 21,
   "metadata": {},
   "outputs": [],
   "source": [
    "features=features.drop([\"date\",\"airport\",\"air\",\"FlightDate\",\"Origin\",\"Dest\",\"ArrDelayMinutes\"],axis=1)"
   ]
  },
  {
   "cell_type": "code",
   "execution_count": 22,
   "metadata": {},
   "outputs": [],
   "source": [
    "feature_selt=pd.DataFrame(SelectKBest(f_classif,k=20).fit_transform(features,target))"
   ]
  },
  {
   "cell_type": "code",
   "execution_count": 23,
   "metadata": {},
   "outputs": [],
   "source": [
    "#feature set\n",
    "train_feature=feature_selt.head(int(0.8*len(features)))\n",
    "test_feature=feature_selt.tail(int(0.2*len(features)))"
   ]
  },
  {
   "cell_type": "code",
   "execution_count": 24,
   "metadata": {},
   "outputs": [],
   "source": [
    "#target set\n",
    "train_target=target.head(int(0.8*len(target)))\n",
    "test_target=target.tail(int(0.2*len(features)))"
   ]
  },
  {
   "cell_type": "code",
   "execution_count": 25,
   "metadata": {},
   "outputs": [],
   "source": [
    "#logistic regression classification\n",
    "LogReg=LogisticRegression()\n",
    "LogReg.fit(train_feature,train_target)\n",
    "logit_predict=LogReg.predict(test_feature)"
   ]
  },
  {
   "cell_type": "code",
   "execution_count": 26,
   "metadata": {
    "tags": []
   },
   "outputs": [
    {
     "output_type": "stream",
     "name": "stdout",
     "text": "              precision    recall  f1-score   support\n\n         0.0       0.92      0.98      0.95    291769\n         1.0       0.91      0.66      0.77     78518\n\n    accuracy                           0.92    370287\n   macro avg       0.91      0.82      0.86    370287\nweighted avg       0.92      0.92      0.91    370287\n\n"
    }
   ],
   "source": [
    "print(classification_report(test_target,logit_predict))"
   ]
  },
  {
   "cell_type": "code",
   "execution_count": 27,
   "metadata": {},
   "outputs": [],
   "source": [
    " #decision tree classifier\n",
    " dtc=DecisionTreeClassifier()\n",
    " dtc=dtc.fit(train_feature,train_target)\n",
    " tree_pred=dtc.predict(test_feature)\n",
    " "
   ]
  },
  {
   "cell_type": "code",
   "execution_count": 28,
   "metadata": {
    "tags": []
   },
   "outputs": [
    {
     "output_type": "stream",
     "name": "stdout",
     "text": "              precision    recall  f1-score   support\n\n         0.0       0.97      0.97      0.97    291769\n         1.0       0.90      0.89      0.89     78518\n\n    accuracy                           0.96    370287\n   macro avg       0.94      0.93      0.93    370287\nweighted avg       0.95      0.96      0.96    370287\n\n"
    }
   ],
   "source": [
    "print(classification_report(test_target,tree_pred))"
   ]
  },
  {
   "cell_type": "code",
   "execution_count": 29,
   "metadata": {},
   "outputs": [
    {
     "output_type": "execute_result",
     "data": {
      "text/plain": "GradientBoostingClassifier(random_state=0)"
     },
     "metadata": {},
     "execution_count": 29
    }
   ],
   "source": [
    "#xgboost\n",
    "xgb = GradientBoostingClassifier(random_state=0)\n",
    "xgb.fit(train_feature,train_target)"
   ]
  },
  {
   "cell_type": "code",
   "execution_count": 30,
   "metadata": {},
   "outputs": [],
   "source": [
    "xgb_pred=xgb.predict(test_feature)"
   ]
  },
  {
   "cell_type": "code",
   "execution_count": 31,
   "metadata": {
    "tags": []
   },
   "outputs": [
    {
     "output_type": "stream",
     "name": "stdout",
     "text": "              precision    recall  f1-score   support\n\n         0.0       0.92      0.99      0.95    291769\n         1.0       0.93      0.69      0.79     78518\n\n    accuracy                           0.92    370287\n   macro avg       0.92      0.84      0.87    370287\nweighted avg       0.92      0.92      0.92    370287\n\n"
    }
   ],
   "source": [
    "print(classification_report(test_target,xgb_pred))"
   ]
  },
  {
   "cell_type": "code",
   "execution_count": 32,
   "metadata": {},
   "outputs": [],
   "source": [
    "#extra tree classifier\n",
    "etc=ExtraTreesClassifier(n_estimators=100,random_state=0)\n",
    "etc.fit(train_feature,train_target)\n",
    "extratree_pred=etc.predict(test_feature)\n"
   ]
  },
  {
   "cell_type": "code",
   "execution_count": 33,
   "metadata": {
    "tags": []
   },
   "outputs": [
    {
     "output_type": "stream",
     "name": "stdout",
     "text": "              precision    recall  f1-score   support\n\n         0.0       0.93      0.98      0.95    291769\n         1.0       0.91      0.71      0.80     78518\n\n    accuracy                           0.92    370287\n   macro avg       0.92      0.85      0.88    370287\nweighted avg       0.92      0.92      0.92    370287\n\n"
    }
   ],
   "source": [
    "\n",
    "print(classification_report(test_target,extratree_pred))"
   ]
  },
  {
   "cell_type": "code",
   "execution_count": 34,
   "metadata": {},
   "outputs": [],
   "source": [
    "#oversampling method\n",
    "#os = oversampling\n",
    "os=SMOTE(random_state=2)\n",
    "train_feature_os,train_target_os= os.fit_sample(train_feature,train_target)"
   ]
  },
  {
   "cell_type": "code",
   "execution_count": 35,
   "metadata": {},
   "outputs": [],
   "source": [
    "#logistic reg\n",
    "LogReg_os=LogisticRegression()\n",
    "LogReg_os.fit(train_feature_os,train_target_os)\n",
    "logit_predict_os=LogReg_os.predict(test_feature)"
   ]
  },
  {
   "cell_type": "code",
   "execution_count": 36,
   "metadata": {
    "tags": []
   },
   "outputs": [
    {
     "output_type": "stream",
     "name": "stdout",
     "text": "              precision    recall  f1-score   support\n\n         0.0       0.94      0.94      0.94    291769\n         1.0       0.77      0.77      0.77     78518\n\n    accuracy                           0.90    370287\n   macro avg       0.85      0.85      0.85    370287\nweighted avg       0.90      0.90      0.90    370287\n\n"
    }
   ],
   "source": [
    "print(classification_report(test_target,logit_predict_os))"
   ]
  },
  {
   "cell_type": "code",
   "execution_count": 37,
   "metadata": {},
   "outputs": [],
   "source": [
    "#decision tree classifier\n",
    "dtc_os=DecisionTreeClassifier()\n",
    "dtc_os.fit(train_feature_os,train_target_os)\n",
    "tree_pred_os=dtc_os.predict(test_feature)"
   ]
  },
  {
   "cell_type": "code",
   "execution_count": 38,
   "metadata": {
    "tags": []
   },
   "outputs": [
    {
     "output_type": "stream",
     "name": "stdout",
     "text": "              precision    recall  f1-score   support\n\n         0.0       0.95      0.95      0.95    291769\n         1.0       0.81      0.82      0.82     78518\n\n    accuracy                           0.92    370287\n   macro avg       0.88      0.89      0.88    370287\nweighted avg       0.92      0.92      0.92    370287\n\n"
    }
   ],
   "source": [
    "print(classification_report(test_target,tree_pred_os))"
   ]
  },
  {
   "cell_type": "code",
   "execution_count": 39,
   "metadata": {},
   "outputs": [],
   "source": [
    "#xgboost\n",
    "xgb_os = GradientBoostingClassifier(random_state=0)\n",
    "xgb_os.fit(train_feature_os,train_target_os)\n",
    "xgb_pred_os=xgb_os.predict(test_feature)"
   ]
  },
  {
   "cell_type": "code",
   "execution_count": 40,
   "metadata": {
    "tags": []
   },
   "outputs": [
    {
     "output_type": "stream",
     "name": "stdout",
     "text": "              precision    recall  f1-score   support\n\n         0.0       0.93      0.97      0.95    291769\n         1.0       0.86      0.72      0.78     78518\n\n    accuracy                           0.91    370287\n   macro avg       0.89      0.84      0.86    370287\nweighted avg       0.91      0.91      0.91    370287\n\n"
    }
   ],
   "source": [
    "print(classification_report(test_target,xgb_pred_os))"
   ]
  },
  {
   "cell_type": "code",
   "execution_count": 41,
   "metadata": {},
   "outputs": [],
   "source": [
    "#extra tree classifier\n",
    "etc_os=ExtraTreesClassifier(n_estimators=100,random_state=0)\n",
    "etc_os.fit(train_feature_os,train_target_os)\n",
    "extratree_pred_os=etc_os.predict(test_feature)\n"
   ]
  },
  {
   "cell_type": "code",
   "execution_count": 42,
   "metadata": {
    "tags": []
   },
   "outputs": [
    {
     "output_type": "stream",
     "name": "stdout",
     "text": "              precision    recall  f1-score   support\n\n         0.0       0.94      0.97      0.95    291769\n         1.0       0.86      0.76      0.81     78518\n\n    accuracy                           0.92    370287\n   macro avg       0.90      0.86      0.88    370287\nweighted avg       0.92      0.92      0.92    370287\n\n"
    }
   ],
   "source": [
    "print(classification_report(test_target,extratree_pred_os))"
   ]
  },
  {
   "cell_type": "code",
   "execution_count": 43,
   "metadata": {},
   "outputs": [],
   "source": [
    "#under-sampling\n",
    "#us- under sampling\n",
    "us =NearMiss()\n",
    "train_feature_us,train_target_us= us.fit_sample(train_feature,train_target)"
   ]
  },
  {
   "cell_type": "code",
   "execution_count": 44,
   "metadata": {},
   "outputs": [],
   "source": [
    "#logistic reg\n",
    "LogReg_us=LogisticRegression()\n",
    "LogReg_us.fit(train_feature_us,train_target_us)\n",
    "logit_predict_us=LogReg_us.predict(test_feature)"
   ]
  },
  {
   "cell_type": "code",
   "execution_count": 45,
   "metadata": {
    "tags": []
   },
   "outputs": [
    {
     "output_type": "stream",
     "name": "stdout",
     "text": "              precision    recall  f1-score   support\n\n         0.0       0.93      0.87      0.90    291769\n         1.0       0.61      0.76      0.68     78518\n\n    accuracy                           0.85    370287\n   macro avg       0.77      0.82      0.79    370287\nweighted avg       0.86      0.85      0.85    370287\n\n"
    }
   ],
   "source": [
    "print(classification_report(test_target,logit_predict_us))\n"
   ]
  },
  {
   "cell_type": "code",
   "execution_count": 46,
   "metadata": {},
   "outputs": [],
   "source": [
    "#decision tree classifier\n",
    "dtc_us=DecisionTreeClassifier()\n",
    "dtc_us.fit(train_feature_us,train_target_us)\n",
    "tree_pred_us=dtc_us.predict(test_feature)"
   ]
  },
  {
   "cell_type": "code",
   "execution_count": 47,
   "metadata": {
    "tags": []
   },
   "outputs": [
    {
     "output_type": "stream",
     "name": "stdout",
     "text": "              precision    recall  f1-score   support\n\n         0.0       0.97      0.85      0.91    291769\n         1.0       0.62      0.90      0.73     78518\n\n    accuracy                           0.86    370287\n   macro avg       0.79      0.88      0.82    370287\nweighted avg       0.90      0.86      0.87    370287\n\n"
    }
   ],
   "source": [
    "print(classification_report(test_target,tree_pred_us))"
   ]
  },
  {
   "cell_type": "code",
   "execution_count": 48,
   "metadata": {},
   "outputs": [],
   "source": [
    "#xgboost\n",
    "xgb_us = GradientBoostingClassifier(random_state=0)\n",
    "xgb_us.fit(train_feature_us,train_target_us)\n",
    "xgb_pred_us=xgb_us.predict(test_feature)"
   ]
  },
  {
   "cell_type": "code",
   "execution_count": 49,
   "metadata": {
    "tags": []
   },
   "outputs": [
    {
     "output_type": "stream",
     "name": "stdout",
     "text": "              precision    recall  f1-score   support\n\n         0.0       0.93      0.85      0.89    291769\n         1.0       0.59      0.78      0.67     78518\n\n    accuracy                           0.84    370287\n   macro avg       0.76      0.82      0.78    370287\nweighted avg       0.86      0.84      0.84    370287\n\n"
    }
   ],
   "source": [
    "print(classification_report(test_target,xgb_pred_us))"
   ]
  },
  {
   "cell_type": "code",
   "execution_count": 50,
   "metadata": {},
   "outputs": [],
   "source": [
    "#extra tree classifier\n",
    "etc_us=ExtraTreesClassifier(n_estimators=100,random_state=0)\n",
    "etc_us.fit(train_feature_us,train_target_us)\n",
    "extratree_pred_us=etc_us.predict(test_feature)"
   ]
  },
  {
   "cell_type": "code",
   "execution_count": 51,
   "metadata": {
    "tags": []
   },
   "outputs": [
    {
     "output_type": "stream",
     "name": "stdout",
     "text": "              precision    recall  f1-score   support\n\n         0.0       0.94      0.79      0.86    291769\n         1.0       0.51      0.81      0.62     78518\n\n    accuracy                           0.79    370287\n   macro avg       0.72      0.80      0.74    370287\nweighted avg       0.85      0.79      0.81    370287\n\n"
    }
   ],
   "source": [
    "print(classification_report(test_target,extratree_pred_us))"
   ]
  },
  {
   "cell_type": "code",
   "execution_count": null,
   "metadata": {},
   "outputs": [],
   "source": []
  }
 ]
}