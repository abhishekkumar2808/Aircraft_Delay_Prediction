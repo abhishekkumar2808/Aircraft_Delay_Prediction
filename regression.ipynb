{
 "metadata": {
  "language_info": {
   "codemirror_mode": {
    "name": "ipython",
    "version": 3
   },
   "file_extension": ".py",
   "mimetype": "text/x-python",
   "name": "python",
   "nbconvert_exporter": "python",
   "pygments_lexer": "ipython3",
   "version": "3.8.2-final"
  },
  "orig_nbformat": 2,
  "kernelspec": {
   "name": "python3",
   "display_name": "Python 3.8.2 64-bit",
   "metadata": {
    "interpreter": {
     "hash": "4b750c9e8855aca9485cc082e169bcd2d54cc38eb3f235f1466369ee1aa460cf"
    }
   }
  }
 },
 "nbformat": 4,
 "nbformat_minor": 2,
 "cells": [
  {
   "cell_type": "code",
   "execution_count": 3,
   "metadata": {},
   "outputs": [],
   "source": [
    "import os\n",
    "import pandas as pd\n",
    "import json\n",
    "import numpy as  np\n",
    "import glob\n",
    "import sklearn\n",
    "import matplotlib as mpl\n",
    "import seaborn as sns\n",
    "import matplotlib.pyplot as plt\n",
    "from sklearn.model_selection import train_test_split\n",
    "from sklearn import metrics\n",
    "from sklearn.metrics import mean_squared_error\n",
    "from sklearn.metrics import mean_absolute_error\n",
    "from sklearn.metrics import r2_score\n",
    "from sklearn.linear_model import LinearRegression\n",
    "from sklearn.svm import LinearSVR\n",
    "from sklearn.ensemble import ExtraTreesRegressor\n",
    "from sklearn.ensemble import GradientBoostingRegressor"
   ]
  },
  {
   "cell_type": "code",
   "execution_count": 4,
   "metadata": {},
   "outputs": [],
   "source": [
    "#METHOD 1 : direct data as input"
   ]
  },
  {
   "cell_type": "code",
   "execution_count": 5,
   "metadata": {},
   "outputs": [],
   "source": [
    "result=pd.read_csv(\"processed_data.csv\")"
   ]
  },
  {
   "cell_type": "code",
   "execution_count": 6,
   "metadata": {},
   "outputs": [
    {
     "output_type": "execute_result",
     "data": {
      "text/plain": [
       "         Unnamed: 0  windspeedKmph  winddirDegree  weatherCode  precipMM  \\\n",
       "0                 0             11            318          176       0.1   \n",
       "1                 1             18            315          122       0.0   \n",
       "2                 2             18            315          122       0.0   \n",
       "3                 3             18            317          122       0.0   \n",
       "4                 4             18            317          122       0.0   \n",
       "...             ...            ...            ...          ...       ...   \n",
       "1851431     1851431             20            303          113       0.0   \n",
       "1851432     1851432             20            303          113       0.0   \n",
       "1851433     1851433             20            303          113       0.0   \n",
       "1851434     1851434             20            303          113       0.0   \n",
       "1851435     1851435             20            303          113       0.0   \n",
       "\n",
       "         visibility  pressure  cloudcover  DewPointF  WindGustKmph  ...  \\\n",
       "0                10      1023         100         47            17  ...   \n",
       "1                10      1024         100         38            28  ...   \n",
       "2                10      1024         100         38            28  ...   \n",
       "3                10      1024         100         38            26  ...   \n",
       "4                10      1024         100         38            26  ...   \n",
       "...             ...       ...         ...        ...           ...  ...   \n",
       "1851431          10      1014           0         58            22  ...   \n",
       "1851432          10      1014           0         58            22  ...   \n",
       "1851433          10      1014           0         58            22  ...   \n",
       "1851434          10      1014           0         58            22  ...   \n",
       "1851435          10      1014           0         58            22  ...   \n",
       "\n",
       "         DepDelayMinutes  OriginAirportID  DestAirportID  ArrTime CRSArrTime  \\\n",
       "0                   17.0            10397          13204    101.0         51   \n",
       "1                    6.0            10397          13204    728.0        720   \n",
       "2                   37.0            10397          13930    753.0        725   \n",
       "3                    0.0            10397          13303    838.0        837   \n",
       "4                    0.0            10397          12892    922.0        915   \n",
       "...                  ...              ...            ...      ...        ...   \n",
       "1851431              9.0            14771          13930    513.0        519   \n",
       "1851432              5.0            14771          10397    615.0        632   \n",
       "1851433              0.0            14771          12478    735.0        750   \n",
       "1851434              0.0            14771          12478    655.0        704   \n",
       "1851435              0.0            14771          13303    649.0        701   \n",
       "\n",
       "        ArrDel15 ArrDelayMinutes  Origin Dest  round_time  \n",
       "0            0.0            10.0     ATL  MCO           0  \n",
       "1            0.0             8.0     ATL  MCO         600  \n",
       "2            1.0            28.0     ATL  ORD         600  \n",
       "3            0.0             1.0     ATL  MIA         700  \n",
       "4            0.0             7.0     ATL  LAX         700  \n",
       "...          ...             ...     ...  ...         ...  \n",
       "1851431      0.0             0.0     SFO  ORD        2300  \n",
       "1851432      0.0             0.0     SFO  ATL        2300  \n",
       "1851433      0.0             0.0     SFO  JFK        2300  \n",
       "1851434      0.0             0.0     SFO  JFK        2300  \n",
       "1851435      0.0             0.0     SFO  MIA        2300  \n",
       "\n",
       "[1851436 rows x 36 columns]"
      ],
      "text/html": "<div>\n<style scoped>\n    .dataframe tbody tr th:only-of-type {\n        vertical-align: middle;\n    }\n\n    .dataframe tbody tr th {\n        vertical-align: top;\n    }\n\n    .dataframe thead th {\n        text-align: right;\n    }\n</style>\n<table border=\"1\" class=\"dataframe\">\n  <thead>\n    <tr style=\"text-align: right;\">\n      <th></th>\n      <th>Unnamed: 0</th>\n      <th>windspeedKmph</th>\n      <th>winddirDegree</th>\n      <th>weatherCode</th>\n      <th>precipMM</th>\n      <th>visibility</th>\n      <th>pressure</th>\n      <th>cloudcover</th>\n      <th>DewPointF</th>\n      <th>WindGustKmph</th>\n      <th>...</th>\n      <th>DepDelayMinutes</th>\n      <th>OriginAirportID</th>\n      <th>DestAirportID</th>\n      <th>ArrTime</th>\n      <th>CRSArrTime</th>\n      <th>ArrDel15</th>\n      <th>ArrDelayMinutes</th>\n      <th>Origin</th>\n      <th>Dest</th>\n      <th>round_time</th>\n    </tr>\n  </thead>\n  <tbody>\n    <tr>\n      <th>0</th>\n      <td>0</td>\n      <td>11</td>\n      <td>318</td>\n      <td>176</td>\n      <td>0.1</td>\n      <td>10</td>\n      <td>1023</td>\n      <td>100</td>\n      <td>47</td>\n      <td>17</td>\n      <td>...</td>\n      <td>17.0</td>\n      <td>10397</td>\n      <td>13204</td>\n      <td>101.0</td>\n      <td>51</td>\n      <td>0.0</td>\n      <td>10.0</td>\n      <td>ATL</td>\n      <td>MCO</td>\n      <td>0</td>\n    </tr>\n    <tr>\n      <th>1</th>\n      <td>1</td>\n      <td>18</td>\n      <td>315</td>\n      <td>122</td>\n      <td>0.0</td>\n      <td>10</td>\n      <td>1024</td>\n      <td>100</td>\n      <td>38</td>\n      <td>28</td>\n      <td>...</td>\n      <td>6.0</td>\n      <td>10397</td>\n      <td>13204</td>\n      <td>728.0</td>\n      <td>720</td>\n      <td>0.0</td>\n      <td>8.0</td>\n      <td>ATL</td>\n      <td>MCO</td>\n      <td>600</td>\n    </tr>\n    <tr>\n      <th>2</th>\n      <td>2</td>\n      <td>18</td>\n      <td>315</td>\n      <td>122</td>\n      <td>0.0</td>\n      <td>10</td>\n      <td>1024</td>\n      <td>100</td>\n      <td>38</td>\n      <td>28</td>\n      <td>...</td>\n      <td>37.0</td>\n      <td>10397</td>\n      <td>13930</td>\n      <td>753.0</td>\n      <td>725</td>\n      <td>1.0</td>\n      <td>28.0</td>\n      <td>ATL</td>\n      <td>ORD</td>\n      <td>600</td>\n    </tr>\n    <tr>\n      <th>3</th>\n      <td>3</td>\n      <td>18</td>\n      <td>317</td>\n      <td>122</td>\n      <td>0.0</td>\n      <td>10</td>\n      <td>1024</td>\n      <td>100</td>\n      <td>38</td>\n      <td>26</td>\n      <td>...</td>\n      <td>0.0</td>\n      <td>10397</td>\n      <td>13303</td>\n      <td>838.0</td>\n      <td>837</td>\n      <td>0.0</td>\n      <td>1.0</td>\n      <td>ATL</td>\n      <td>MIA</td>\n      <td>700</td>\n    </tr>\n    <tr>\n      <th>4</th>\n      <td>4</td>\n      <td>18</td>\n      <td>317</td>\n      <td>122</td>\n      <td>0.0</td>\n      <td>10</td>\n      <td>1024</td>\n      <td>100</td>\n      <td>38</td>\n      <td>26</td>\n      <td>...</td>\n      <td>0.0</td>\n      <td>10397</td>\n      <td>12892</td>\n      <td>922.0</td>\n      <td>915</td>\n      <td>0.0</td>\n      <td>7.0</td>\n      <td>ATL</td>\n      <td>LAX</td>\n      <td>700</td>\n    </tr>\n    <tr>\n      <th>...</th>\n      <td>...</td>\n      <td>...</td>\n      <td>...</td>\n      <td>...</td>\n      <td>...</td>\n      <td>...</td>\n      <td>...</td>\n      <td>...</td>\n      <td>...</td>\n      <td>...</td>\n      <td>...</td>\n      <td>...</td>\n      <td>...</td>\n      <td>...</td>\n      <td>...</td>\n      <td>...</td>\n      <td>...</td>\n      <td>...</td>\n      <td>...</td>\n      <td>...</td>\n      <td>...</td>\n    </tr>\n    <tr>\n      <th>1851431</th>\n      <td>1851431</td>\n      <td>20</td>\n      <td>303</td>\n      <td>113</td>\n      <td>0.0</td>\n      <td>10</td>\n      <td>1014</td>\n      <td>0</td>\n      <td>58</td>\n      <td>22</td>\n      <td>...</td>\n      <td>9.0</td>\n      <td>14771</td>\n      <td>13930</td>\n      <td>513.0</td>\n      <td>519</td>\n      <td>0.0</td>\n      <td>0.0</td>\n      <td>SFO</td>\n      <td>ORD</td>\n      <td>2300</td>\n    </tr>\n    <tr>\n      <th>1851432</th>\n      <td>1851432</td>\n      <td>20</td>\n      <td>303</td>\n      <td>113</td>\n      <td>0.0</td>\n      <td>10</td>\n      <td>1014</td>\n      <td>0</td>\n      <td>58</td>\n      <td>22</td>\n      <td>...</td>\n      <td>5.0</td>\n      <td>14771</td>\n      <td>10397</td>\n      <td>615.0</td>\n      <td>632</td>\n      <td>0.0</td>\n      <td>0.0</td>\n      <td>SFO</td>\n      <td>ATL</td>\n      <td>2300</td>\n    </tr>\n    <tr>\n      <th>1851433</th>\n      <td>1851433</td>\n      <td>20</td>\n      <td>303</td>\n      <td>113</td>\n      <td>0.0</td>\n      <td>10</td>\n      <td>1014</td>\n      <td>0</td>\n      <td>58</td>\n      <td>22</td>\n      <td>...</td>\n      <td>0.0</td>\n      <td>14771</td>\n      <td>12478</td>\n      <td>735.0</td>\n      <td>750</td>\n      <td>0.0</td>\n      <td>0.0</td>\n      <td>SFO</td>\n      <td>JFK</td>\n      <td>2300</td>\n    </tr>\n    <tr>\n      <th>1851434</th>\n      <td>1851434</td>\n      <td>20</td>\n      <td>303</td>\n      <td>113</td>\n      <td>0.0</td>\n      <td>10</td>\n      <td>1014</td>\n      <td>0</td>\n      <td>58</td>\n      <td>22</td>\n      <td>...</td>\n      <td>0.0</td>\n      <td>14771</td>\n      <td>12478</td>\n      <td>655.0</td>\n      <td>704</td>\n      <td>0.0</td>\n      <td>0.0</td>\n      <td>SFO</td>\n      <td>JFK</td>\n      <td>2300</td>\n    </tr>\n    <tr>\n      <th>1851435</th>\n      <td>1851435</td>\n      <td>20</td>\n      <td>303</td>\n      <td>113</td>\n      <td>0.0</td>\n      <td>10</td>\n      <td>1014</td>\n      <td>0</td>\n      <td>58</td>\n      <td>22</td>\n      <td>...</td>\n      <td>0.0</td>\n      <td>14771</td>\n      <td>13303</td>\n      <td>649.0</td>\n      <td>701</td>\n      <td>0.0</td>\n      <td>0.0</td>\n      <td>SFO</td>\n      <td>MIA</td>\n      <td>2300</td>\n    </tr>\n  </tbody>\n</table>\n<p>1851436 rows × 36 columns</p>\n</div>"
     },
     "metadata": {},
     "execution_count": 6
    }
   ],
   "source": [
    "result"
   ]
  },
  {
   "cell_type": "code",
   "execution_count": 7,
   "metadata": {},
   "outputs": [],
   "source": [
    "result=result[result['ArrDel15']==1.0]"
   ]
  },
  {
   "cell_type": "code",
   "execution_count": 8,
   "metadata": {},
   "outputs": [
    {
     "output_type": "execute_result",
     "data": {
      "text/plain": [
       "         Unnamed: 0  windspeedKmph  winddirDegree  weatherCode  precipMM  \\\n",
       "2                 2             18            315          122       0.0   \n",
       "10               10             18            317          122       0.0   \n",
       "41               41             17            317          122       0.0   \n",
       "58               58             17            317          122       0.0   \n",
       "59               59             17            317          122       0.0   \n",
       "...             ...            ...            ...          ...       ...   \n",
       "1851396     1851396             24            292          113       0.0   \n",
       "1851397     1851397             25            293          113       0.0   \n",
       "1851399     1851399             25            293          113       0.0   \n",
       "1851403     1851403             25            293          113       0.0   \n",
       "1851412     1851412             26            296          113       0.0   \n",
       "\n",
       "         visibility  pressure  cloudcover  DewPointF  WindGustKmph  ...  \\\n",
       "2                10      1024         100         38            28  ...   \n",
       "10               10      1024         100         38            26  ...   \n",
       "41               10      1025         100         38            20  ...   \n",
       "58               10      1025         100         38            21  ...   \n",
       "59               10      1025         100         38            21  ...   \n",
       "...             ...       ...         ...        ...           ...  ...   \n",
       "1851396          10      1015          11         56            26  ...   \n",
       "1851397          10      1014           5         57            27  ...   \n",
       "1851399          10      1014           5         57            27  ...   \n",
       "1851403          10      1014           5         57            27  ...   \n",
       "1851412          10      1014           0         57            27  ...   \n",
       "\n",
       "         DepDelayMinutes  OriginAirportID  DestAirportID  ArrTime CRSArrTime  \\\n",
       "2                   37.0            10397          13930    753.0        725   \n",
       "10                  43.0            10397          11292    914.0        858   \n",
       "41                  67.0            10397          12892   1349.0       1230   \n",
       "58                  37.0            10397          11292   1440.0       1408   \n",
       "59                  10.0            10397          12892   1537.0       1520   \n",
       "...                  ...              ...            ...      ...        ...   \n",
       "1851396            131.0            14771          14747   2025.0       1819   \n",
       "1851397             14.0            14771          14747   1901.0       1845   \n",
       "1851399            262.0            14771          11292     34.0       2031   \n",
       "1851403             67.0            14771          12889   1938.0       1850   \n",
       "1851412             14.0            14771          14747   2130.0       2057   \n",
       "\n",
       "        ArrDel15 ArrDelayMinutes  Origin Dest  round_time  \n",
       "2            1.0            28.0     ATL  ORD         600  \n",
       "10           1.0            16.0     ATL  DEN         700  \n",
       "41           1.0            79.0     ATL  LAX        1100  \n",
       "58           1.0            32.0     ATL  DEN        1300  \n",
       "59           1.0            17.0     ATL  LAX        1300  \n",
       "...          ...             ...     ...  ...         ...  \n",
       "1851396      1.0           126.0     SFO  SEA        1600  \n",
       "1851397      1.0            16.0     SFO  SEA        1700  \n",
       "1851399      1.0           243.0     SFO  DEN        1700  \n",
       "1851403      1.0            48.0     SFO  LAS        1700  \n",
       "1851412      1.0            33.0     SFO  SEA        1900  \n",
       "\n",
       "[388058 rows x 36 columns]"
      ],
      "text/html": "<div>\n<style scoped>\n    .dataframe tbody tr th:only-of-type {\n        vertical-align: middle;\n    }\n\n    .dataframe tbody tr th {\n        vertical-align: top;\n    }\n\n    .dataframe thead th {\n        text-align: right;\n    }\n</style>\n<table border=\"1\" class=\"dataframe\">\n  <thead>\n    <tr style=\"text-align: right;\">\n      <th></th>\n      <th>Unnamed: 0</th>\n      <th>windspeedKmph</th>\n      <th>winddirDegree</th>\n      <th>weatherCode</th>\n      <th>precipMM</th>\n      <th>visibility</th>\n      <th>pressure</th>\n      <th>cloudcover</th>\n      <th>DewPointF</th>\n      <th>WindGustKmph</th>\n      <th>...</th>\n      <th>DepDelayMinutes</th>\n      <th>OriginAirportID</th>\n      <th>DestAirportID</th>\n      <th>ArrTime</th>\n      <th>CRSArrTime</th>\n      <th>ArrDel15</th>\n      <th>ArrDelayMinutes</th>\n      <th>Origin</th>\n      <th>Dest</th>\n      <th>round_time</th>\n    </tr>\n  </thead>\n  <tbody>\n    <tr>\n      <th>2</th>\n      <td>2</td>\n      <td>18</td>\n      <td>315</td>\n      <td>122</td>\n      <td>0.0</td>\n      <td>10</td>\n      <td>1024</td>\n      <td>100</td>\n      <td>38</td>\n      <td>28</td>\n      <td>...</td>\n      <td>37.0</td>\n      <td>10397</td>\n      <td>13930</td>\n      <td>753.0</td>\n      <td>725</td>\n      <td>1.0</td>\n      <td>28.0</td>\n      <td>ATL</td>\n      <td>ORD</td>\n      <td>600</td>\n    </tr>\n    <tr>\n      <th>10</th>\n      <td>10</td>\n      <td>18</td>\n      <td>317</td>\n      <td>122</td>\n      <td>0.0</td>\n      <td>10</td>\n      <td>1024</td>\n      <td>100</td>\n      <td>38</td>\n      <td>26</td>\n      <td>...</td>\n      <td>43.0</td>\n      <td>10397</td>\n      <td>11292</td>\n      <td>914.0</td>\n      <td>858</td>\n      <td>1.0</td>\n      <td>16.0</td>\n      <td>ATL</td>\n      <td>DEN</td>\n      <td>700</td>\n    </tr>\n    <tr>\n      <th>41</th>\n      <td>41</td>\n      <td>17</td>\n      <td>317</td>\n      <td>122</td>\n      <td>0.0</td>\n      <td>10</td>\n      <td>1025</td>\n      <td>100</td>\n      <td>38</td>\n      <td>20</td>\n      <td>...</td>\n      <td>67.0</td>\n      <td>10397</td>\n      <td>12892</td>\n      <td>1349.0</td>\n      <td>1230</td>\n      <td>1.0</td>\n      <td>79.0</td>\n      <td>ATL</td>\n      <td>LAX</td>\n      <td>1100</td>\n    </tr>\n    <tr>\n      <th>58</th>\n      <td>58</td>\n      <td>17</td>\n      <td>317</td>\n      <td>122</td>\n      <td>0.0</td>\n      <td>10</td>\n      <td>1025</td>\n      <td>100</td>\n      <td>38</td>\n      <td>21</td>\n      <td>...</td>\n      <td>37.0</td>\n      <td>10397</td>\n      <td>11292</td>\n      <td>1440.0</td>\n      <td>1408</td>\n      <td>1.0</td>\n      <td>32.0</td>\n      <td>ATL</td>\n      <td>DEN</td>\n      <td>1300</td>\n    </tr>\n    <tr>\n      <th>59</th>\n      <td>59</td>\n      <td>17</td>\n      <td>317</td>\n      <td>122</td>\n      <td>0.0</td>\n      <td>10</td>\n      <td>1025</td>\n      <td>100</td>\n      <td>38</td>\n      <td>21</td>\n      <td>...</td>\n      <td>10.0</td>\n      <td>10397</td>\n      <td>12892</td>\n      <td>1537.0</td>\n      <td>1520</td>\n      <td>1.0</td>\n      <td>17.0</td>\n      <td>ATL</td>\n      <td>LAX</td>\n      <td>1300</td>\n    </tr>\n    <tr>\n      <th>...</th>\n      <td>...</td>\n      <td>...</td>\n      <td>...</td>\n      <td>...</td>\n      <td>...</td>\n      <td>...</td>\n      <td>...</td>\n      <td>...</td>\n      <td>...</td>\n      <td>...</td>\n      <td>...</td>\n      <td>...</td>\n      <td>...</td>\n      <td>...</td>\n      <td>...</td>\n      <td>...</td>\n      <td>...</td>\n      <td>...</td>\n      <td>...</td>\n      <td>...</td>\n      <td>...</td>\n    </tr>\n    <tr>\n      <th>1851396</th>\n      <td>1851396</td>\n      <td>24</td>\n      <td>292</td>\n      <td>113</td>\n      <td>0.0</td>\n      <td>10</td>\n      <td>1015</td>\n      <td>11</td>\n      <td>56</td>\n      <td>26</td>\n      <td>...</td>\n      <td>131.0</td>\n      <td>14771</td>\n      <td>14747</td>\n      <td>2025.0</td>\n      <td>1819</td>\n      <td>1.0</td>\n      <td>126.0</td>\n      <td>SFO</td>\n      <td>SEA</td>\n      <td>1600</td>\n    </tr>\n    <tr>\n      <th>1851397</th>\n      <td>1851397</td>\n      <td>25</td>\n      <td>293</td>\n      <td>113</td>\n      <td>0.0</td>\n      <td>10</td>\n      <td>1014</td>\n      <td>5</td>\n      <td>57</td>\n      <td>27</td>\n      <td>...</td>\n      <td>14.0</td>\n      <td>14771</td>\n      <td>14747</td>\n      <td>1901.0</td>\n      <td>1845</td>\n      <td>1.0</td>\n      <td>16.0</td>\n      <td>SFO</td>\n      <td>SEA</td>\n      <td>1700</td>\n    </tr>\n    <tr>\n      <th>1851399</th>\n      <td>1851399</td>\n      <td>25</td>\n      <td>293</td>\n      <td>113</td>\n      <td>0.0</td>\n      <td>10</td>\n      <td>1014</td>\n      <td>5</td>\n      <td>57</td>\n      <td>27</td>\n      <td>...</td>\n      <td>262.0</td>\n      <td>14771</td>\n      <td>11292</td>\n      <td>34.0</td>\n      <td>2031</td>\n      <td>1.0</td>\n      <td>243.0</td>\n      <td>SFO</td>\n      <td>DEN</td>\n      <td>1700</td>\n    </tr>\n    <tr>\n      <th>1851403</th>\n      <td>1851403</td>\n      <td>25</td>\n      <td>293</td>\n      <td>113</td>\n      <td>0.0</td>\n      <td>10</td>\n      <td>1014</td>\n      <td>5</td>\n      <td>57</td>\n      <td>27</td>\n      <td>...</td>\n      <td>67.0</td>\n      <td>14771</td>\n      <td>12889</td>\n      <td>1938.0</td>\n      <td>1850</td>\n      <td>1.0</td>\n      <td>48.0</td>\n      <td>SFO</td>\n      <td>LAS</td>\n      <td>1700</td>\n    </tr>\n    <tr>\n      <th>1851412</th>\n      <td>1851412</td>\n      <td>26</td>\n      <td>296</td>\n      <td>113</td>\n      <td>0.0</td>\n      <td>10</td>\n      <td>1014</td>\n      <td>0</td>\n      <td>57</td>\n      <td>27</td>\n      <td>...</td>\n      <td>14.0</td>\n      <td>14771</td>\n      <td>14747</td>\n      <td>2130.0</td>\n      <td>2057</td>\n      <td>1.0</td>\n      <td>33.0</td>\n      <td>SFO</td>\n      <td>SEA</td>\n      <td>1900</td>\n    </tr>\n  </tbody>\n</table>\n<p>388058 rows × 36 columns</p>\n</div>"
     },
     "metadata": {},
     "execution_count": 8
    }
   ],
   "source": [
    "result"
   ]
  },
  {
   "cell_type": "code",
   "execution_count": 9,
   "metadata": {},
   "outputs": [],
   "source": [
    "target=result[\"ArrDelayMinutes\"]"
   ]
  },
  {
   "cell_type": "code",
   "execution_count": 10,
   "metadata": {},
   "outputs": [],
   "source": [
    "features=result.copy()\n",
    "features=features.drop([\"ArrDel15\",\"Unnamed: 0\",\"date\",\"airport\",\"air\",\"FlightDate\",\"Origin\",\"Dest\"],axis=1)"
   ]
  },
  {
   "cell_type": "code",
   "execution_count": 11,
   "metadata": {},
   "outputs": [],
   "source": [
    "features=features.drop([\"ArrDelayMinutes\",\"time\",\"ArrTime\",\"CRSArrTime\",\"time\",\"round_time\"],axis=1)"
   ]
  },
  {
   "cell_type": "code",
   "execution_count": 12,
   "metadata": {},
   "outputs": [
    {
     "output_type": "execute_result",
     "data": {
      "text/plain": [
       "         windspeedKmph  winddirDegree  weatherCode  precipMM  visibility  \\\n",
       "2                   18            315          122       0.0          10   \n",
       "10                  18            317          122       0.0          10   \n",
       "41                  17            317          122       0.0          10   \n",
       "58                  17            317          122       0.0          10   \n",
       "59                  17            317          122       0.0          10   \n",
       "...                ...            ...          ...       ...         ...   \n",
       "1851396             24            292          113       0.0          10   \n",
       "1851397             25            293          113       0.0          10   \n",
       "1851399             25            293          113       0.0          10   \n",
       "1851403             25            293          113       0.0          10   \n",
       "1851412             26            296          113       0.0          10   \n",
       "\n",
       "         pressure  cloudcover  DewPointF  WindGustKmph  tempF  ...  Quarter  \\\n",
       "2            1024         100         38            28     40  ...        1   \n",
       "10           1024         100         38            26     41  ...        1   \n",
       "41           1025         100         38            20     45  ...        1   \n",
       "58           1025         100         38            21     47  ...        1   \n",
       "59           1025         100         38            21     47  ...        1   \n",
       "...           ...         ...        ...           ...    ...  ...      ...   \n",
       "1851396      1015          11         56            26     66  ...        3   \n",
       "1851397      1014           5         57            27     67  ...        3   \n",
       "1851399      1014           5         57            27     67  ...        3   \n",
       "1851403      1014           5         57            27     67  ...        3   \n",
       "1851412      1014           0         57            27     67  ...        3   \n",
       "\n",
       "         Year  Month  DayofMonth  DepTime  DepDel15  CRSDepTime  \\\n",
       "2        2016      1           1    652.0       1.0         615   \n",
       "10       2016      1           1    803.0       1.0         720   \n",
       "41       2016      1           1   1137.0       1.0        1030   \n",
       "58       2016      1           1   1322.0       1.0        1245   \n",
       "59       2016      1           1   1325.0       0.0        1315   \n",
       "...       ...    ...         ...      ...       ...         ...   \n",
       "1851396  2017      9          30   1815.0       1.0        1604   \n",
       "1851397  2017      9          30   1654.0       0.0        1640   \n",
       "1851399  2017      9          30   2125.0       1.0        1703   \n",
       "1851403  2017      9          30   1827.0       1.0        1720   \n",
       "1851412  2017      9          30   1909.0       0.0        1855   \n",
       "\n",
       "         DepDelayMinutes  OriginAirportID  DestAirportID  \n",
       "2                   37.0            10397          13930  \n",
       "10                  43.0            10397          11292  \n",
       "41                  67.0            10397          12892  \n",
       "58                  37.0            10397          11292  \n",
       "59                  10.0            10397          12892  \n",
       "...                  ...              ...            ...  \n",
       "1851396            131.0            14771          14747  \n",
       "1851397             14.0            14771          14747  \n",
       "1851399            262.0            14771          11292  \n",
       "1851403             67.0            14771          12889  \n",
       "1851412             14.0            14771          14747  \n",
       "\n",
       "[388058 rows x 23 columns]"
      ],
      "text/html": "<div>\n<style scoped>\n    .dataframe tbody tr th:only-of-type {\n        vertical-align: middle;\n    }\n\n    .dataframe tbody tr th {\n        vertical-align: top;\n    }\n\n    .dataframe thead th {\n        text-align: right;\n    }\n</style>\n<table border=\"1\" class=\"dataframe\">\n  <thead>\n    <tr style=\"text-align: right;\">\n      <th></th>\n      <th>windspeedKmph</th>\n      <th>winddirDegree</th>\n      <th>weatherCode</th>\n      <th>precipMM</th>\n      <th>visibility</th>\n      <th>pressure</th>\n      <th>cloudcover</th>\n      <th>DewPointF</th>\n      <th>WindGustKmph</th>\n      <th>tempF</th>\n      <th>...</th>\n      <th>Quarter</th>\n      <th>Year</th>\n      <th>Month</th>\n      <th>DayofMonth</th>\n      <th>DepTime</th>\n      <th>DepDel15</th>\n      <th>CRSDepTime</th>\n      <th>DepDelayMinutes</th>\n      <th>OriginAirportID</th>\n      <th>DestAirportID</th>\n    </tr>\n  </thead>\n  <tbody>\n    <tr>\n      <th>2</th>\n      <td>18</td>\n      <td>315</td>\n      <td>122</td>\n      <td>0.0</td>\n      <td>10</td>\n      <td>1024</td>\n      <td>100</td>\n      <td>38</td>\n      <td>28</td>\n      <td>40</td>\n      <td>...</td>\n      <td>1</td>\n      <td>2016</td>\n      <td>1</td>\n      <td>1</td>\n      <td>652.0</td>\n      <td>1.0</td>\n      <td>615</td>\n      <td>37.0</td>\n      <td>10397</td>\n      <td>13930</td>\n    </tr>\n    <tr>\n      <th>10</th>\n      <td>18</td>\n      <td>317</td>\n      <td>122</td>\n      <td>0.0</td>\n      <td>10</td>\n      <td>1024</td>\n      <td>100</td>\n      <td>38</td>\n      <td>26</td>\n      <td>41</td>\n      <td>...</td>\n      <td>1</td>\n      <td>2016</td>\n      <td>1</td>\n      <td>1</td>\n      <td>803.0</td>\n      <td>1.0</td>\n      <td>720</td>\n      <td>43.0</td>\n      <td>10397</td>\n      <td>11292</td>\n    </tr>\n    <tr>\n      <th>41</th>\n      <td>17</td>\n      <td>317</td>\n      <td>122</td>\n      <td>0.0</td>\n      <td>10</td>\n      <td>1025</td>\n      <td>100</td>\n      <td>38</td>\n      <td>20</td>\n      <td>45</td>\n      <td>...</td>\n      <td>1</td>\n      <td>2016</td>\n      <td>1</td>\n      <td>1</td>\n      <td>1137.0</td>\n      <td>1.0</td>\n      <td>1030</td>\n      <td>67.0</td>\n      <td>10397</td>\n      <td>12892</td>\n    </tr>\n    <tr>\n      <th>58</th>\n      <td>17</td>\n      <td>317</td>\n      <td>122</td>\n      <td>0.0</td>\n      <td>10</td>\n      <td>1025</td>\n      <td>100</td>\n      <td>38</td>\n      <td>21</td>\n      <td>47</td>\n      <td>...</td>\n      <td>1</td>\n      <td>2016</td>\n      <td>1</td>\n      <td>1</td>\n      <td>1322.0</td>\n      <td>1.0</td>\n      <td>1245</td>\n      <td>37.0</td>\n      <td>10397</td>\n      <td>11292</td>\n    </tr>\n    <tr>\n      <th>59</th>\n      <td>17</td>\n      <td>317</td>\n      <td>122</td>\n      <td>0.0</td>\n      <td>10</td>\n      <td>1025</td>\n      <td>100</td>\n      <td>38</td>\n      <td>21</td>\n      <td>47</td>\n      <td>...</td>\n      <td>1</td>\n      <td>2016</td>\n      <td>1</td>\n      <td>1</td>\n      <td>1325.0</td>\n      <td>0.0</td>\n      <td>1315</td>\n      <td>10.0</td>\n      <td>10397</td>\n      <td>12892</td>\n    </tr>\n    <tr>\n      <th>...</th>\n      <td>...</td>\n      <td>...</td>\n      <td>...</td>\n      <td>...</td>\n      <td>...</td>\n      <td>...</td>\n      <td>...</td>\n      <td>...</td>\n      <td>...</td>\n      <td>...</td>\n      <td>...</td>\n      <td>...</td>\n      <td>...</td>\n      <td>...</td>\n      <td>...</td>\n      <td>...</td>\n      <td>...</td>\n      <td>...</td>\n      <td>...</td>\n      <td>...</td>\n      <td>...</td>\n    </tr>\n    <tr>\n      <th>1851396</th>\n      <td>24</td>\n      <td>292</td>\n      <td>113</td>\n      <td>0.0</td>\n      <td>10</td>\n      <td>1015</td>\n      <td>11</td>\n      <td>56</td>\n      <td>26</td>\n      <td>66</td>\n      <td>...</td>\n      <td>3</td>\n      <td>2017</td>\n      <td>9</td>\n      <td>30</td>\n      <td>1815.0</td>\n      <td>1.0</td>\n      <td>1604</td>\n      <td>131.0</td>\n      <td>14771</td>\n      <td>14747</td>\n    </tr>\n    <tr>\n      <th>1851397</th>\n      <td>25</td>\n      <td>293</td>\n      <td>113</td>\n      <td>0.0</td>\n      <td>10</td>\n      <td>1014</td>\n      <td>5</td>\n      <td>57</td>\n      <td>27</td>\n      <td>67</td>\n      <td>...</td>\n      <td>3</td>\n      <td>2017</td>\n      <td>9</td>\n      <td>30</td>\n      <td>1654.0</td>\n      <td>0.0</td>\n      <td>1640</td>\n      <td>14.0</td>\n      <td>14771</td>\n      <td>14747</td>\n    </tr>\n    <tr>\n      <th>1851399</th>\n      <td>25</td>\n      <td>293</td>\n      <td>113</td>\n      <td>0.0</td>\n      <td>10</td>\n      <td>1014</td>\n      <td>5</td>\n      <td>57</td>\n      <td>27</td>\n      <td>67</td>\n      <td>...</td>\n      <td>3</td>\n      <td>2017</td>\n      <td>9</td>\n      <td>30</td>\n      <td>2125.0</td>\n      <td>1.0</td>\n      <td>1703</td>\n      <td>262.0</td>\n      <td>14771</td>\n      <td>11292</td>\n    </tr>\n    <tr>\n      <th>1851403</th>\n      <td>25</td>\n      <td>293</td>\n      <td>113</td>\n      <td>0.0</td>\n      <td>10</td>\n      <td>1014</td>\n      <td>5</td>\n      <td>57</td>\n      <td>27</td>\n      <td>67</td>\n      <td>...</td>\n      <td>3</td>\n      <td>2017</td>\n      <td>9</td>\n      <td>30</td>\n      <td>1827.0</td>\n      <td>1.0</td>\n      <td>1720</td>\n      <td>67.0</td>\n      <td>14771</td>\n      <td>12889</td>\n    </tr>\n    <tr>\n      <th>1851412</th>\n      <td>26</td>\n      <td>296</td>\n      <td>113</td>\n      <td>0.0</td>\n      <td>10</td>\n      <td>1014</td>\n      <td>0</td>\n      <td>57</td>\n      <td>27</td>\n      <td>67</td>\n      <td>...</td>\n      <td>3</td>\n      <td>2017</td>\n      <td>9</td>\n      <td>30</td>\n      <td>1909.0</td>\n      <td>0.0</td>\n      <td>1855</td>\n      <td>14.0</td>\n      <td>14771</td>\n      <td>14747</td>\n    </tr>\n  </tbody>\n</table>\n<p>388058 rows × 23 columns</p>\n</div>"
     },
     "metadata": {},
     "execution_count": 12
    }
   ],
   "source": [
    "features"
   ]
  },
  {
   "cell_type": "code",
   "execution_count": 13,
   "metadata": {},
   "outputs": [],
   "source": [
    "train_feature,test_feature,train_target,test_target=train_test_split(features,target,test_size=0.2,random_state=42)"
   ]
  },
  {
   "cell_type": "code",
   "execution_count": 14,
   "metadata": {},
   "outputs": [],
   "source": [
    "#linear regression\n",
    "lin_reg=LinearRegression().fit(train_feature,train_target)\n",
    "lin_reg_pred=lin_reg.predict(test_feature)"
   ]
  },
  {
   "cell_type": "code",
   "execution_count": 15,
   "metadata": {
    "tags": []
   },
   "outputs": [
    {
     "output_type": "stream",
     "name": "stdout",
     "text": [
      "root_mean_squared_error:   17.761484198472633\nmean_absolute_error:       12.297523203305888\nr2_score:                  0.9369461237531438\n"
     ]
    }
   ],
   "source": [
    "print(\"root_mean_squared_error:  \",mean_squared_error(test_target,lin_reg_pred)**0.5)\n",
    "print(\"mean_absolute_error:      \",mean_absolute_error(test_target,lin_reg_pred))\n",
    "print(\"r2_score:                 \",r2_score(test_target,lin_reg_pred))"
   ]
  },
  {
   "cell_type": "code",
   "execution_count": 16,
   "metadata": {},
   "outputs": [],
   "source": [
    "#linear support vector regressor\n",
    "SVR=LinearSVR().fit(train_feature,train_target)\n",
    "SVR_pred=SVR.predict(test_feature)"
   ]
  },
  {
   "cell_type": "code",
   "execution_count": 17,
   "metadata": {
    "tags": []
   },
   "outputs": [
    {
     "output_type": "stream",
     "name": "stdout",
     "text": [
      "root_mean_squared_error:   50.16231756734962\nmean_absolute_error:       47.27913177333362\nr2_score:                  0.4970689267739635\n"
     ]
    }
   ],
   "source": [
    "print(\"root_mean_squared_error:  \",mean_squared_error(test_target,SVR_pred)**0.5)\n",
    "print(\"mean_absolute_error:      \",mean_absolute_error(test_target,SVR_pred))\n",
    "print(\"r2_score:                 \",r2_score(test_target,SVR_pred))"
   ]
  },
  {
   "cell_type": "code",
   "execution_count": 18,
   "metadata": {},
   "outputs": [],
   "source": [
    "#Extra Tree Regressor\n",
    "extra_tree=ExtraTreesRegressor(n_estimators=100, random_state=0).fit(train_feature,train_target)\n",
    "extra_tree_pred=extra_tree.predict(test_feature)"
   ]
  },
  {
   "cell_type": "code",
   "execution_count": 19,
   "metadata": {
    "tags": []
   },
   "outputs": [
    {
     "output_type": "stream",
     "name": "stdout",
     "text": [
      "root_mean_squared_error:   17.09924076039515\nmean_absolute_error:       11.975189596969539\nr2_score:                  0.9415604400484108\n"
     ]
    }
   ],
   "source": [
    "print(\"root_mean_squared_error:  \",mean_squared_error(test_target,extra_tree_pred)**0.5)\n",
    "print(\"mean_absolute_error:      \",mean_absolute_error(test_target,extra_tree_pred))\n",
    "print(\"r2_score:                 \",r2_score(test_target,extra_tree_pred))"
   ]
  },
  {
   "cell_type": "code",
   "execution_count": 20,
   "metadata": {},
   "outputs": [],
   "source": [
    "#Gradient Boosting Regressor\n",
    "XGBoost=GradientBoostingRegressor().fit(train_feature,train_target)\n",
    "XGBoost_pred=XGBoost.predict(test_feature)"
   ]
  },
  {
   "cell_type": "code",
   "execution_count": 21,
   "metadata": {
    "tags": []
   },
   "outputs": [
    {
     "output_type": "stream",
     "name": "stdout",
     "text": [
      "root_mean_squared_error:   17.08134219864344\nmean_absolute_error:       11.776415587799708\nr2_score:                  0.9416827187679595\n"
     ]
    }
   ],
   "source": [
    "print(\"root_mean_squared_error:  \",mean_squared_error(test_target,XGBoost_pred)**0.5)\n",
    "print(\"mean_absolute_error:      \",mean_absolute_error(test_target,XGBoost_pred))\n",
    "print(\"r2_score:                 \",r2_score(test_target,XGBoost_pred))"
   ]
  },
  {
   "cell_type": "code",
   "execution_count": 22,
   "metadata": {},
   "outputs": [],
   "source": [
    "#METHOD 2 : Pipelining the classified data as input."
   ]
  },
  {
   "cell_type": "code",
   "execution_count": 23,
   "metadata": {},
   "outputs": [],
   "source": [
    "features_pip=pd.read_csv(\"pipeline_data.csv\")"
   ]
  },
  {
   "cell_type": "code",
   "execution_count": 24,
   "metadata": {},
   "outputs": [
    {
     "output_type": "execute_result",
     "data": {
      "text/plain": [
       "       Unnamed: 0  windspeedKmph  winddirDegree  weatherCode  precipMM  \\\n",
       "0         1079740             25            295          116       0.0   \n",
       "1          550997             24            278          122       0.0   \n",
       "2          639641             16            163          113       0.1   \n",
       "3         1796216              9             10          113       0.0   \n",
       "4         1002634              8            197          119       0.0   \n",
       "...           ...            ...            ...          ...       ...   \n",
       "95180     1768695              3             76          113       0.0   \n",
       "95181      402881             22            188          113       0.0   \n",
       "95182      730024              9            196          113       0.0   \n",
       "95183      989158              9            167          113       0.0   \n",
       "95184      255120              8            212          113       0.0   \n",
       "\n",
       "       visibility  pressure  cloudcover  DewPointF  WindGustKmph  ...  Year  \\\n",
       "0              10      1009          33         55            27  ...  2017   \n",
       "1              10      1027          22         12            31  ...  2017   \n",
       "2              10      1012          25         74            18  ...  2016   \n",
       "3              10      1022          70         48            14  ...  2017   \n",
       "4              10      1013          78         68            10  ...  2016   \n",
       "...           ...       ...         ...        ...           ...  ...   ...   \n",
       "95180          10      1015           0         52             3  ...  2016   \n",
       "95181          10      1006           0         49            26  ...  2016   \n",
       "95182          10      1017           0         65            10  ...  2016   \n",
       "95183          10      1012          20         57            10  ...  2016   \n",
       "95184           7      1033          12         21             9  ...  2016   \n",
       "\n",
       "       Month  DayofMonth  DepTime  DepDel15  CRSDepTime  DepDelayMinutes  \\\n",
       "0          4          27   1207.0       1.0        1130             37.0   \n",
       "1          1           8   1415.0       1.0        1344             31.0   \n",
       "2          8           4   2106.0       1.0        1915            111.0   \n",
       "3         12          28   1734.0       1.0        1650             44.0   \n",
       "4          7          28   1150.0       1.0        1016             94.0   \n",
       "...      ...         ...      ...       ...         ...              ...   \n",
       "95180      9          26    841.0       0.0         845              0.0   \n",
       "95181      3          14   1527.0       1.0        1450             37.0   \n",
       "95182      8           5   1117.0       1.0         959             78.0   \n",
       "95183      6          14     22.0       1.0        2240            102.0   \n",
       "95184      2           8   1356.0       1.0        1235             81.0   \n",
       "\n",
       "       OriginAirportID  DestAirportID  ArrDelayMinutes  \n",
       "0                12892          14747             39.0  \n",
       "1                11618          13204             23.0  \n",
       "2                12266          13204            102.0  \n",
       "3                14771          12889             40.0  \n",
       "4                12892          11298            104.0  \n",
       "...                ...            ...              ...  \n",
       "95180            14771          11292              0.0  \n",
       "95181            11298          13930             27.0  \n",
       "95182            12478          14107             42.0  \n",
       "95183            12892          11057             86.0  \n",
       "95184            11292          14107             73.0  \n",
       "\n",
       "[95185 rows x 25 columns]"
      ],
      "text/html": "<div>\n<style scoped>\n    .dataframe tbody tr th:only-of-type {\n        vertical-align: middle;\n    }\n\n    .dataframe tbody tr th {\n        vertical-align: top;\n    }\n\n    .dataframe thead th {\n        text-align: right;\n    }\n</style>\n<table border=\"1\" class=\"dataframe\">\n  <thead>\n    <tr style=\"text-align: right;\">\n      <th></th>\n      <th>Unnamed: 0</th>\n      <th>windspeedKmph</th>\n      <th>winddirDegree</th>\n      <th>weatherCode</th>\n      <th>precipMM</th>\n      <th>visibility</th>\n      <th>pressure</th>\n      <th>cloudcover</th>\n      <th>DewPointF</th>\n      <th>WindGustKmph</th>\n      <th>...</th>\n      <th>Year</th>\n      <th>Month</th>\n      <th>DayofMonth</th>\n      <th>DepTime</th>\n      <th>DepDel15</th>\n      <th>CRSDepTime</th>\n      <th>DepDelayMinutes</th>\n      <th>OriginAirportID</th>\n      <th>DestAirportID</th>\n      <th>ArrDelayMinutes</th>\n    </tr>\n  </thead>\n  <tbody>\n    <tr>\n      <th>0</th>\n      <td>1079740</td>\n      <td>25</td>\n      <td>295</td>\n      <td>116</td>\n      <td>0.0</td>\n      <td>10</td>\n      <td>1009</td>\n      <td>33</td>\n      <td>55</td>\n      <td>27</td>\n      <td>...</td>\n      <td>2017</td>\n      <td>4</td>\n      <td>27</td>\n      <td>1207.0</td>\n      <td>1.0</td>\n      <td>1130</td>\n      <td>37.0</td>\n      <td>12892</td>\n      <td>14747</td>\n      <td>39.0</td>\n    </tr>\n    <tr>\n      <th>1</th>\n      <td>550997</td>\n      <td>24</td>\n      <td>278</td>\n      <td>122</td>\n      <td>0.0</td>\n      <td>10</td>\n      <td>1027</td>\n      <td>22</td>\n      <td>12</td>\n      <td>31</td>\n      <td>...</td>\n      <td>2017</td>\n      <td>1</td>\n      <td>8</td>\n      <td>1415.0</td>\n      <td>1.0</td>\n      <td>1344</td>\n      <td>31.0</td>\n      <td>11618</td>\n      <td>13204</td>\n      <td>23.0</td>\n    </tr>\n    <tr>\n      <th>2</th>\n      <td>639641</td>\n      <td>16</td>\n      <td>163</td>\n      <td>113</td>\n      <td>0.1</td>\n      <td>10</td>\n      <td>1012</td>\n      <td>25</td>\n      <td>74</td>\n      <td>18</td>\n      <td>...</td>\n      <td>2016</td>\n      <td>8</td>\n      <td>4</td>\n      <td>2106.0</td>\n      <td>1.0</td>\n      <td>1915</td>\n      <td>111.0</td>\n      <td>12266</td>\n      <td>13204</td>\n      <td>102.0</td>\n    </tr>\n    <tr>\n      <th>3</th>\n      <td>1796216</td>\n      <td>9</td>\n      <td>10</td>\n      <td>113</td>\n      <td>0.0</td>\n      <td>10</td>\n      <td>1022</td>\n      <td>70</td>\n      <td>48</td>\n      <td>14</td>\n      <td>...</td>\n      <td>2017</td>\n      <td>12</td>\n      <td>28</td>\n      <td>1734.0</td>\n      <td>1.0</td>\n      <td>1650</td>\n      <td>44.0</td>\n      <td>14771</td>\n      <td>12889</td>\n      <td>40.0</td>\n    </tr>\n    <tr>\n      <th>4</th>\n      <td>1002634</td>\n      <td>8</td>\n      <td>197</td>\n      <td>119</td>\n      <td>0.0</td>\n      <td>10</td>\n      <td>1013</td>\n      <td>78</td>\n      <td>68</td>\n      <td>10</td>\n      <td>...</td>\n      <td>2016</td>\n      <td>7</td>\n      <td>28</td>\n      <td>1150.0</td>\n      <td>1.0</td>\n      <td>1016</td>\n      <td>94.0</td>\n      <td>12892</td>\n      <td>11298</td>\n      <td>104.0</td>\n    </tr>\n    <tr>\n      <th>...</th>\n      <td>...</td>\n      <td>...</td>\n      <td>...</td>\n      <td>...</td>\n      <td>...</td>\n      <td>...</td>\n      <td>...</td>\n      <td>...</td>\n      <td>...</td>\n      <td>...</td>\n      <td>...</td>\n      <td>...</td>\n      <td>...</td>\n      <td>...</td>\n      <td>...</td>\n      <td>...</td>\n      <td>...</td>\n      <td>...</td>\n      <td>...</td>\n      <td>...</td>\n      <td>...</td>\n    </tr>\n    <tr>\n      <th>95180</th>\n      <td>1768695</td>\n      <td>3</td>\n      <td>76</td>\n      <td>113</td>\n      <td>0.0</td>\n      <td>10</td>\n      <td>1015</td>\n      <td>0</td>\n      <td>52</td>\n      <td>3</td>\n      <td>...</td>\n      <td>2016</td>\n      <td>9</td>\n      <td>26</td>\n      <td>841.0</td>\n      <td>0.0</td>\n      <td>845</td>\n      <td>0.0</td>\n      <td>14771</td>\n      <td>11292</td>\n      <td>0.0</td>\n    </tr>\n    <tr>\n      <th>95181</th>\n      <td>402881</td>\n      <td>22</td>\n      <td>188</td>\n      <td>113</td>\n      <td>0.0</td>\n      <td>10</td>\n      <td>1006</td>\n      <td>0</td>\n      <td>49</td>\n      <td>26</td>\n      <td>...</td>\n      <td>2016</td>\n      <td>3</td>\n      <td>14</td>\n      <td>1527.0</td>\n      <td>1.0</td>\n      <td>1450</td>\n      <td>37.0</td>\n      <td>11298</td>\n      <td>13930</td>\n      <td>27.0</td>\n    </tr>\n    <tr>\n      <th>95182</th>\n      <td>730024</td>\n      <td>9</td>\n      <td>196</td>\n      <td>113</td>\n      <td>0.0</td>\n      <td>10</td>\n      <td>1017</td>\n      <td>0</td>\n      <td>65</td>\n      <td>10</td>\n      <td>...</td>\n      <td>2016</td>\n      <td>8</td>\n      <td>5</td>\n      <td>1117.0</td>\n      <td>1.0</td>\n      <td>959</td>\n      <td>78.0</td>\n      <td>12478</td>\n      <td>14107</td>\n      <td>42.0</td>\n    </tr>\n    <tr>\n      <th>95183</th>\n      <td>989158</td>\n      <td>9</td>\n      <td>167</td>\n      <td>113</td>\n      <td>0.0</td>\n      <td>10</td>\n      <td>1012</td>\n      <td>20</td>\n      <td>57</td>\n      <td>10</td>\n      <td>...</td>\n      <td>2016</td>\n      <td>6</td>\n      <td>14</td>\n      <td>22.0</td>\n      <td>1.0</td>\n      <td>2240</td>\n      <td>102.0</td>\n      <td>12892</td>\n      <td>11057</td>\n      <td>86.0</td>\n    </tr>\n    <tr>\n      <th>95184</th>\n      <td>255120</td>\n      <td>8</td>\n      <td>212</td>\n      <td>113</td>\n      <td>0.0</td>\n      <td>7</td>\n      <td>1033</td>\n      <td>12</td>\n      <td>21</td>\n      <td>9</td>\n      <td>...</td>\n      <td>2016</td>\n      <td>2</td>\n      <td>8</td>\n      <td>1356.0</td>\n      <td>1.0</td>\n      <td>1235</td>\n      <td>81.0</td>\n      <td>11292</td>\n      <td>14107</td>\n      <td>73.0</td>\n    </tr>\n  </tbody>\n</table>\n<p>95185 rows × 25 columns</p>\n</div>"
     },
     "metadata": {},
     "execution_count": 24
    }
   ],
   "source": [
    "features_pip"
   ]
  },
  {
   "cell_type": "code",
   "execution_count": 25,
   "metadata": {},
   "outputs": [],
   "source": [
    "target_pip=features_pip[\"ArrDelayMinutes\"]"
   ]
  },
  {
   "cell_type": "code",
   "execution_count": 26,
   "metadata": {},
   "outputs": [],
   "source": [
    "features_pip=features_pip.drop([\"ArrDelayMinutes\",\"Unnamed: 0\"],axis=1)"
   ]
  },
  {
   "cell_type": "code",
   "execution_count": 27,
   "metadata": {},
   "outputs": [
    {
     "output_type": "execute_result",
     "data": {
      "text/plain": [
       "       windspeedKmph  winddirDegree  weatherCode  precipMM  visibility  \\\n",
       "0                 25            295          116       0.0          10   \n",
       "1                 24            278          122       0.0          10   \n",
       "2                 16            163          113       0.1          10   \n",
       "3                  9             10          113       0.0          10   \n",
       "4                  8            197          119       0.0          10   \n",
       "...              ...            ...          ...       ...         ...   \n",
       "95180              3             76          113       0.0          10   \n",
       "95181             22            188          113       0.0          10   \n",
       "95182              9            196          113       0.0          10   \n",
       "95183              9            167          113       0.0          10   \n",
       "95184              8            212          113       0.0           7   \n",
       "\n",
       "       pressure  cloudcover  DewPointF  WindGustKmph  tempF  ...  Quarter  \\\n",
       "0          1009          33         55            27     69  ...        2   \n",
       "1          1027          22         12            31     22  ...        1   \n",
       "2          1012          25         74            18     92  ...        3   \n",
       "3          1022          70         48            14     51  ...        4   \n",
       "4          1013          78         68            10     76  ...        3   \n",
       "...         ...         ...        ...           ...    ...  ...      ...   \n",
       "95180      1015           0         52             3     68  ...        3   \n",
       "95181      1006           0         49            26     84  ...        1   \n",
       "95182      1017           0         65            10     76  ...        3   \n",
       "95183      1012          20         57            10     62  ...        2   \n",
       "95184      1033          12         21             9     40  ...        1   \n",
       "\n",
       "       Year  Month  DayofMonth  DepTime  DepDel15  CRSDepTime  \\\n",
       "0      2017      4          27   1207.0       1.0        1130   \n",
       "1      2017      1           8   1415.0       1.0        1344   \n",
       "2      2016      8           4   2106.0       1.0        1915   \n",
       "3      2017     12          28   1734.0       1.0        1650   \n",
       "4      2016      7          28   1150.0       1.0        1016   \n",
       "...     ...    ...         ...      ...       ...         ...   \n",
       "95180  2016      9          26    841.0       0.0         845   \n",
       "95181  2016      3          14   1527.0       1.0        1450   \n",
       "95182  2016      8           5   1117.0       1.0         959   \n",
       "95183  2016      6          14     22.0       1.0        2240   \n",
       "95184  2016      2           8   1356.0       1.0        1235   \n",
       "\n",
       "       DepDelayMinutes  OriginAirportID  DestAirportID  \n",
       "0                 37.0            12892          14747  \n",
       "1                 31.0            11618          13204  \n",
       "2                111.0            12266          13204  \n",
       "3                 44.0            14771          12889  \n",
       "4                 94.0            12892          11298  \n",
       "...                ...              ...            ...  \n",
       "95180              0.0            14771          11292  \n",
       "95181             37.0            11298          13930  \n",
       "95182             78.0            12478          14107  \n",
       "95183            102.0            12892          11057  \n",
       "95184             81.0            11292          14107  \n",
       "\n",
       "[95185 rows x 23 columns]"
      ],
      "text/html": "<div>\n<style scoped>\n    .dataframe tbody tr th:only-of-type {\n        vertical-align: middle;\n    }\n\n    .dataframe tbody tr th {\n        vertical-align: top;\n    }\n\n    .dataframe thead th {\n        text-align: right;\n    }\n</style>\n<table border=\"1\" class=\"dataframe\">\n  <thead>\n    <tr style=\"text-align: right;\">\n      <th></th>\n      <th>windspeedKmph</th>\n      <th>winddirDegree</th>\n      <th>weatherCode</th>\n      <th>precipMM</th>\n      <th>visibility</th>\n      <th>pressure</th>\n      <th>cloudcover</th>\n      <th>DewPointF</th>\n      <th>WindGustKmph</th>\n      <th>tempF</th>\n      <th>...</th>\n      <th>Quarter</th>\n      <th>Year</th>\n      <th>Month</th>\n      <th>DayofMonth</th>\n      <th>DepTime</th>\n      <th>DepDel15</th>\n      <th>CRSDepTime</th>\n      <th>DepDelayMinutes</th>\n      <th>OriginAirportID</th>\n      <th>DestAirportID</th>\n    </tr>\n  </thead>\n  <tbody>\n    <tr>\n      <th>0</th>\n      <td>25</td>\n      <td>295</td>\n      <td>116</td>\n      <td>0.0</td>\n      <td>10</td>\n      <td>1009</td>\n      <td>33</td>\n      <td>55</td>\n      <td>27</td>\n      <td>69</td>\n      <td>...</td>\n      <td>2</td>\n      <td>2017</td>\n      <td>4</td>\n      <td>27</td>\n      <td>1207.0</td>\n      <td>1.0</td>\n      <td>1130</td>\n      <td>37.0</td>\n      <td>12892</td>\n      <td>14747</td>\n    </tr>\n    <tr>\n      <th>1</th>\n      <td>24</td>\n      <td>278</td>\n      <td>122</td>\n      <td>0.0</td>\n      <td>10</td>\n      <td>1027</td>\n      <td>22</td>\n      <td>12</td>\n      <td>31</td>\n      <td>22</td>\n      <td>...</td>\n      <td>1</td>\n      <td>2017</td>\n      <td>1</td>\n      <td>8</td>\n      <td>1415.0</td>\n      <td>1.0</td>\n      <td>1344</td>\n      <td>31.0</td>\n      <td>11618</td>\n      <td>13204</td>\n    </tr>\n    <tr>\n      <th>2</th>\n      <td>16</td>\n      <td>163</td>\n      <td>113</td>\n      <td>0.1</td>\n      <td>10</td>\n      <td>1012</td>\n      <td>25</td>\n      <td>74</td>\n      <td>18</td>\n      <td>92</td>\n      <td>...</td>\n      <td>3</td>\n      <td>2016</td>\n      <td>8</td>\n      <td>4</td>\n      <td>2106.0</td>\n      <td>1.0</td>\n      <td>1915</td>\n      <td>111.0</td>\n      <td>12266</td>\n      <td>13204</td>\n    </tr>\n    <tr>\n      <th>3</th>\n      <td>9</td>\n      <td>10</td>\n      <td>113</td>\n      <td>0.0</td>\n      <td>10</td>\n      <td>1022</td>\n      <td>70</td>\n      <td>48</td>\n      <td>14</td>\n      <td>51</td>\n      <td>...</td>\n      <td>4</td>\n      <td>2017</td>\n      <td>12</td>\n      <td>28</td>\n      <td>1734.0</td>\n      <td>1.0</td>\n      <td>1650</td>\n      <td>44.0</td>\n      <td>14771</td>\n      <td>12889</td>\n    </tr>\n    <tr>\n      <th>4</th>\n      <td>8</td>\n      <td>197</td>\n      <td>119</td>\n      <td>0.0</td>\n      <td>10</td>\n      <td>1013</td>\n      <td>78</td>\n      <td>68</td>\n      <td>10</td>\n      <td>76</td>\n      <td>...</td>\n      <td>3</td>\n      <td>2016</td>\n      <td>7</td>\n      <td>28</td>\n      <td>1150.0</td>\n      <td>1.0</td>\n      <td>1016</td>\n      <td>94.0</td>\n      <td>12892</td>\n      <td>11298</td>\n    </tr>\n    <tr>\n      <th>...</th>\n      <td>...</td>\n      <td>...</td>\n      <td>...</td>\n      <td>...</td>\n      <td>...</td>\n      <td>...</td>\n      <td>...</td>\n      <td>...</td>\n      <td>...</td>\n      <td>...</td>\n      <td>...</td>\n      <td>...</td>\n      <td>...</td>\n      <td>...</td>\n      <td>...</td>\n      <td>...</td>\n      <td>...</td>\n      <td>...</td>\n      <td>...</td>\n      <td>...</td>\n      <td>...</td>\n    </tr>\n    <tr>\n      <th>95180</th>\n      <td>3</td>\n      <td>76</td>\n      <td>113</td>\n      <td>0.0</td>\n      <td>10</td>\n      <td>1015</td>\n      <td>0</td>\n      <td>52</td>\n      <td>3</td>\n      <td>68</td>\n      <td>...</td>\n      <td>3</td>\n      <td>2016</td>\n      <td>9</td>\n      <td>26</td>\n      <td>841.0</td>\n      <td>0.0</td>\n      <td>845</td>\n      <td>0.0</td>\n      <td>14771</td>\n      <td>11292</td>\n    </tr>\n    <tr>\n      <th>95181</th>\n      <td>22</td>\n      <td>188</td>\n      <td>113</td>\n      <td>0.0</td>\n      <td>10</td>\n      <td>1006</td>\n      <td>0</td>\n      <td>49</td>\n      <td>26</td>\n      <td>84</td>\n      <td>...</td>\n      <td>1</td>\n      <td>2016</td>\n      <td>3</td>\n      <td>14</td>\n      <td>1527.0</td>\n      <td>1.0</td>\n      <td>1450</td>\n      <td>37.0</td>\n      <td>11298</td>\n      <td>13930</td>\n    </tr>\n    <tr>\n      <th>95182</th>\n      <td>9</td>\n      <td>196</td>\n      <td>113</td>\n      <td>0.0</td>\n      <td>10</td>\n      <td>1017</td>\n      <td>0</td>\n      <td>65</td>\n      <td>10</td>\n      <td>76</td>\n      <td>...</td>\n      <td>3</td>\n      <td>2016</td>\n      <td>8</td>\n      <td>5</td>\n      <td>1117.0</td>\n      <td>1.0</td>\n      <td>959</td>\n      <td>78.0</td>\n      <td>12478</td>\n      <td>14107</td>\n    </tr>\n    <tr>\n      <th>95183</th>\n      <td>9</td>\n      <td>167</td>\n      <td>113</td>\n      <td>0.0</td>\n      <td>10</td>\n      <td>1012</td>\n      <td>20</td>\n      <td>57</td>\n      <td>10</td>\n      <td>62</td>\n      <td>...</td>\n      <td>2</td>\n      <td>2016</td>\n      <td>6</td>\n      <td>14</td>\n      <td>22.0</td>\n      <td>1.0</td>\n      <td>2240</td>\n      <td>102.0</td>\n      <td>12892</td>\n      <td>11057</td>\n    </tr>\n    <tr>\n      <th>95184</th>\n      <td>8</td>\n      <td>212</td>\n      <td>113</td>\n      <td>0.0</td>\n      <td>7</td>\n      <td>1033</td>\n      <td>12</td>\n      <td>21</td>\n      <td>9</td>\n      <td>40</td>\n      <td>...</td>\n      <td>1</td>\n      <td>2016</td>\n      <td>2</td>\n      <td>8</td>\n      <td>1356.0</td>\n      <td>1.0</td>\n      <td>1235</td>\n      <td>81.0</td>\n      <td>11292</td>\n      <td>14107</td>\n    </tr>\n  </tbody>\n</table>\n<p>95185 rows × 23 columns</p>\n</div>"
     },
     "metadata": {},
     "execution_count": 27
    }
   ],
   "source": [
    "features_pip"
   ]
  },
  {
   "cell_type": "code",
   "execution_count": 28,
   "metadata": {},
   "outputs": [],
   "source": [
    "train_feature_pip,test_feature_pip,train_target_pip,test_target_pip=train_test_split(features_pip,target_pip,test_size=0.2,random_state=42)"
   ]
  },
  {
   "cell_type": "code",
   "execution_count": 29,
   "metadata": {},
   "outputs": [],
   "source": [
    "#linear regression\n",
    "lin_reg_pip=LinearRegression().fit(train_feature_pip,train_target_pip)\n",
    "lin_reg_pred_pip=lin_reg_pip.predict(test_feature_pip)"
   ]
  },
  {
   "cell_type": "code",
   "execution_count": 30,
   "metadata": {
    "tags": []
   },
   "outputs": [
    {
     "output_type": "stream",
     "name": "stdout",
     "text": [
      "root_mean_squared_error:   17.871572305815853\nmean_absolute_error:       12.622196285798008\nr2_score:                  0.9418552137783318\n"
     ]
    }
   ],
   "source": [
    "print(\"root_mean_squared_error:  \",mean_squared_error(test_target_pip,lin_reg_pred_pip)**0.5)\n",
    "print(\"mean_absolute_error:      \",mean_absolute_error(test_target_pip,lin_reg_pred_pip))\n",
    "print(\"r2_score:                 \",r2_score(test_target_pip,lin_reg_pred_pip))"
   ]
  },
  {
   "cell_type": "code",
   "execution_count": 31,
   "metadata": {},
   "outputs": [],
   "source": [
    "#linear support vector regressor\n",
    "SVR_pip=LinearSVR().fit(train_feature_pip,train_target_pip)\n",
    "SVR_pred_pip=SVR_pip.predict(test_feature_pip)"
   ]
  },
  {
   "cell_type": "code",
   "execution_count": 32,
   "metadata": {
    "tags": []
   },
   "outputs": [
    {
     "output_type": "stream",
     "name": "stdout",
     "text": [
      "root_mean_squared_error:   30.51369561825536\nmean_absolute_error:       27.400809375917976\nr2_score:                  0.8304979822423763\n"
     ]
    }
   ],
   "source": [
    "print(\"root_mean_squared_error:  \",mean_squared_error(test_target_pip,SVR_pred_pip)**0.5)\n",
    "print(\"mean_absolute_error:      \",mean_absolute_error(test_target_pip,SVR_pred_pip))\n",
    "print(\"r2_score:                 \",r2_score(test_target_pip,SVR_pred_pip))"
   ]
  },
  {
   "cell_type": "code",
   "execution_count": 33,
   "metadata": {},
   "outputs": [],
   "source": [
    "#Extra Tree Regressor\n",
    "extra_tree_pip=ExtraTreesRegressor(n_estimators=100, random_state=0).fit(train_feature_pip,train_target_pip)\n",
    "extra_tree_pred_pip=extra_tree_pip.predict(test_feature_pip)"
   ]
  },
  {
   "cell_type": "code",
   "execution_count": 34,
   "metadata": {
    "tags": []
   },
   "outputs": [
    {
     "output_type": "stream",
     "name": "stdout",
     "text": [
      "root_mean_squared_error:   18.085150539997386\nmean_absolute_error:       12.91981746073436\nr2_score:                  0.9404571649267806\n"
     ]
    }
   ],
   "source": [
    "print(\"root_mean_squared_error:  \",mean_squared_error(test_target_pip,extra_tree_pred_pip)**0.5)\n",
    "print(\"mean_absolute_error:      \",mean_absolute_error(test_target_pip,extra_tree_pred_pip))\n",
    "print(\"r2_score:                 \",r2_score(test_target_pip,extra_tree_pred_pip))"
   ]
  },
  {
   "cell_type": "code",
   "execution_count": 35,
   "metadata": {},
   "outputs": [],
   "source": [
    "#Gradient Boosting Regressor\n",
    "XGBoost_pip=GradientBoostingRegressor().fit(train_feature_pip,train_target_pip)\n",
    "XGBoost_pred_pip=XGBoost_pip.predict(test_feature_pip)"
   ]
  },
  {
   "cell_type": "code",
   "execution_count": 36,
   "metadata": {
    "tags": []
   },
   "outputs": [
    {
     "output_type": "stream",
     "name": "stdout",
     "text": [
      "root_mean_squared_error:   17.75758454278301\nmean_absolute_error:       12.500865930232601\nr2_score:                  0.9425945619936841\n"
     ]
    }
   ],
   "source": [
    "print(\"root_mean_squared_error:  \",mean_squared_error(test_target_pip,XGBoost_pred_pip)**0.5)\n",
    "print(\"mean_absolute_error:      \",mean_absolute_error(test_target_pip,XGBoost_pred_pip))\n",
    "print(\"r2_score:                 \",r2_score(test_target_pip,XGBoost_pred_pip))"
   ]
  },
  {
   "cell_type": "code",
   "execution_count": 37,
   "metadata": {},
   "outputs": [],
   "source": [
    "#REGRESSION ANALYSIS"
   ]
  },
  {
   "cell_type": "code",
   "execution_count": 38,
   "metadata": {},
   "outputs": [],
   "source": [
    "reg_analysis_data=pd.read_csv(\"processed_data.csv\")"
   ]
  },
  {
   "cell_type": "code",
   "execution_count": 39,
   "metadata": {},
   "outputs": [],
   "source": [
    "reg_analysis_data=reg_analysis_data.drop([\"date\",\"airport\",\"air\",\"FlightDate\",\"Origin\",\"Dest\"],axis=1)"
   ]
  },
  {
   "cell_type": "code",
   "execution_count": 40,
   "metadata": {},
   "outputs": [],
   "source": [
    "reg_analysis_data=reg_analysis_data.drop([\"Unnamed: 0\",\"time\",\"ArrTime\",\"CRSArrTime\",\"time\",\"round_time\"],axis=1)"
   ]
  },
  {
   "cell_type": "code",
   "execution_count": 41,
   "metadata": {},
   "outputs": [],
   "source": [
    "reg_analysis_data= reg_analysis_data[reg_analysis_data['ArrDel15']==1.0]"
   ]
  },
  {
   "cell_type": "code",
   "execution_count": 42,
   "metadata": {},
   "outputs": [
    {
     "output_type": "execute_result",
     "data": {
      "text/plain": [
       "         windspeedKmph  winddirDegree  weatherCode  precipMM  visibility  \\\n",
       "2                   18            315          122       0.0          10   \n",
       "10                  18            317          122       0.0          10   \n",
       "41                  17            317          122       0.0          10   \n",
       "58                  17            317          122       0.0          10   \n",
       "59                  17            317          122       0.0          10   \n",
       "...                ...            ...          ...       ...         ...   \n",
       "1851396             24            292          113       0.0          10   \n",
       "1851397             25            293          113       0.0          10   \n",
       "1851399             25            293          113       0.0          10   \n",
       "1851403             25            293          113       0.0          10   \n",
       "1851412             26            296          113       0.0          10   \n",
       "\n",
       "         pressure  cloudcover  DewPointF  WindGustKmph  tempF  ...  Month  \\\n",
       "2            1024         100         38            28     40  ...      1   \n",
       "10           1024         100         38            26     41  ...      1   \n",
       "41           1025         100         38            20     45  ...      1   \n",
       "58           1025         100         38            21     47  ...      1   \n",
       "59           1025         100         38            21     47  ...      1   \n",
       "...           ...         ...        ...           ...    ...  ...    ...   \n",
       "1851396      1015          11         56            26     66  ...      9   \n",
       "1851397      1014           5         57            27     67  ...      9   \n",
       "1851399      1014           5         57            27     67  ...      9   \n",
       "1851403      1014           5         57            27     67  ...      9   \n",
       "1851412      1014           0         57            27     67  ...      9   \n",
       "\n",
       "         DayofMonth  DepTime  DepDel15  CRSDepTime  DepDelayMinutes  \\\n",
       "2                 1    652.0       1.0         615             37.0   \n",
       "10                1    803.0       1.0         720             43.0   \n",
       "41                1   1137.0       1.0        1030             67.0   \n",
       "58                1   1322.0       1.0        1245             37.0   \n",
       "59                1   1325.0       0.0        1315             10.0   \n",
       "...             ...      ...       ...         ...              ...   \n",
       "1851396          30   1815.0       1.0        1604            131.0   \n",
       "1851397          30   1654.0       0.0        1640             14.0   \n",
       "1851399          30   2125.0       1.0        1703            262.0   \n",
       "1851403          30   1827.0       1.0        1720             67.0   \n",
       "1851412          30   1909.0       0.0        1855             14.0   \n",
       "\n",
       "         OriginAirportID  DestAirportID  ArrDel15  ArrDelayMinutes  \n",
       "2                  10397          13930       1.0             28.0  \n",
       "10                 10397          11292       1.0             16.0  \n",
       "41                 10397          12892       1.0             79.0  \n",
       "58                 10397          11292       1.0             32.0  \n",
       "59                 10397          12892       1.0             17.0  \n",
       "...                  ...            ...       ...              ...  \n",
       "1851396            14771          14747       1.0            126.0  \n",
       "1851397            14771          14747       1.0             16.0  \n",
       "1851399            14771          11292       1.0            243.0  \n",
       "1851403            14771          12889       1.0             48.0  \n",
       "1851412            14771          14747       1.0             33.0  \n",
       "\n",
       "[388058 rows x 25 columns]"
      ],
      "text/html": "<div>\n<style scoped>\n    .dataframe tbody tr th:only-of-type {\n        vertical-align: middle;\n    }\n\n    .dataframe tbody tr th {\n        vertical-align: top;\n    }\n\n    .dataframe thead th {\n        text-align: right;\n    }\n</style>\n<table border=\"1\" class=\"dataframe\">\n  <thead>\n    <tr style=\"text-align: right;\">\n      <th></th>\n      <th>windspeedKmph</th>\n      <th>winddirDegree</th>\n      <th>weatherCode</th>\n      <th>precipMM</th>\n      <th>visibility</th>\n      <th>pressure</th>\n      <th>cloudcover</th>\n      <th>DewPointF</th>\n      <th>WindGustKmph</th>\n      <th>tempF</th>\n      <th>...</th>\n      <th>Month</th>\n      <th>DayofMonth</th>\n      <th>DepTime</th>\n      <th>DepDel15</th>\n      <th>CRSDepTime</th>\n      <th>DepDelayMinutes</th>\n      <th>OriginAirportID</th>\n      <th>DestAirportID</th>\n      <th>ArrDel15</th>\n      <th>ArrDelayMinutes</th>\n    </tr>\n  </thead>\n  <tbody>\n    <tr>\n      <th>2</th>\n      <td>18</td>\n      <td>315</td>\n      <td>122</td>\n      <td>0.0</td>\n      <td>10</td>\n      <td>1024</td>\n      <td>100</td>\n      <td>38</td>\n      <td>28</td>\n      <td>40</td>\n      <td>...</td>\n      <td>1</td>\n      <td>1</td>\n      <td>652.0</td>\n      <td>1.0</td>\n      <td>615</td>\n      <td>37.0</td>\n      <td>10397</td>\n      <td>13930</td>\n      <td>1.0</td>\n      <td>28.0</td>\n    </tr>\n    <tr>\n      <th>10</th>\n      <td>18</td>\n      <td>317</td>\n      <td>122</td>\n      <td>0.0</td>\n      <td>10</td>\n      <td>1024</td>\n      <td>100</td>\n      <td>38</td>\n      <td>26</td>\n      <td>41</td>\n      <td>...</td>\n      <td>1</td>\n      <td>1</td>\n      <td>803.0</td>\n      <td>1.0</td>\n      <td>720</td>\n      <td>43.0</td>\n      <td>10397</td>\n      <td>11292</td>\n      <td>1.0</td>\n      <td>16.0</td>\n    </tr>\n    <tr>\n      <th>41</th>\n      <td>17</td>\n      <td>317</td>\n      <td>122</td>\n      <td>0.0</td>\n      <td>10</td>\n      <td>1025</td>\n      <td>100</td>\n      <td>38</td>\n      <td>20</td>\n      <td>45</td>\n      <td>...</td>\n      <td>1</td>\n      <td>1</td>\n      <td>1137.0</td>\n      <td>1.0</td>\n      <td>1030</td>\n      <td>67.0</td>\n      <td>10397</td>\n      <td>12892</td>\n      <td>1.0</td>\n      <td>79.0</td>\n    </tr>\n    <tr>\n      <th>58</th>\n      <td>17</td>\n      <td>317</td>\n      <td>122</td>\n      <td>0.0</td>\n      <td>10</td>\n      <td>1025</td>\n      <td>100</td>\n      <td>38</td>\n      <td>21</td>\n      <td>47</td>\n      <td>...</td>\n      <td>1</td>\n      <td>1</td>\n      <td>1322.0</td>\n      <td>1.0</td>\n      <td>1245</td>\n      <td>37.0</td>\n      <td>10397</td>\n      <td>11292</td>\n      <td>1.0</td>\n      <td>32.0</td>\n    </tr>\n    <tr>\n      <th>59</th>\n      <td>17</td>\n      <td>317</td>\n      <td>122</td>\n      <td>0.0</td>\n      <td>10</td>\n      <td>1025</td>\n      <td>100</td>\n      <td>38</td>\n      <td>21</td>\n      <td>47</td>\n      <td>...</td>\n      <td>1</td>\n      <td>1</td>\n      <td>1325.0</td>\n      <td>0.0</td>\n      <td>1315</td>\n      <td>10.0</td>\n      <td>10397</td>\n      <td>12892</td>\n      <td>1.0</td>\n      <td>17.0</td>\n    </tr>\n    <tr>\n      <th>...</th>\n      <td>...</td>\n      <td>...</td>\n      <td>...</td>\n      <td>...</td>\n      <td>...</td>\n      <td>...</td>\n      <td>...</td>\n      <td>...</td>\n      <td>...</td>\n      <td>...</td>\n      <td>...</td>\n      <td>...</td>\n      <td>...</td>\n      <td>...</td>\n      <td>...</td>\n      <td>...</td>\n      <td>...</td>\n      <td>...</td>\n      <td>...</td>\n      <td>...</td>\n      <td>...</td>\n    </tr>\n    <tr>\n      <th>1851396</th>\n      <td>24</td>\n      <td>292</td>\n      <td>113</td>\n      <td>0.0</td>\n      <td>10</td>\n      <td>1015</td>\n      <td>11</td>\n      <td>56</td>\n      <td>26</td>\n      <td>66</td>\n      <td>...</td>\n      <td>9</td>\n      <td>30</td>\n      <td>1815.0</td>\n      <td>1.0</td>\n      <td>1604</td>\n      <td>131.0</td>\n      <td>14771</td>\n      <td>14747</td>\n      <td>1.0</td>\n      <td>126.0</td>\n    </tr>\n    <tr>\n      <th>1851397</th>\n      <td>25</td>\n      <td>293</td>\n      <td>113</td>\n      <td>0.0</td>\n      <td>10</td>\n      <td>1014</td>\n      <td>5</td>\n      <td>57</td>\n      <td>27</td>\n      <td>67</td>\n      <td>...</td>\n      <td>9</td>\n      <td>30</td>\n      <td>1654.0</td>\n      <td>0.0</td>\n      <td>1640</td>\n      <td>14.0</td>\n      <td>14771</td>\n      <td>14747</td>\n      <td>1.0</td>\n      <td>16.0</td>\n    </tr>\n    <tr>\n      <th>1851399</th>\n      <td>25</td>\n      <td>293</td>\n      <td>113</td>\n      <td>0.0</td>\n      <td>10</td>\n      <td>1014</td>\n      <td>5</td>\n      <td>57</td>\n      <td>27</td>\n      <td>67</td>\n      <td>...</td>\n      <td>9</td>\n      <td>30</td>\n      <td>2125.0</td>\n      <td>1.0</td>\n      <td>1703</td>\n      <td>262.0</td>\n      <td>14771</td>\n      <td>11292</td>\n      <td>1.0</td>\n      <td>243.0</td>\n    </tr>\n    <tr>\n      <th>1851403</th>\n      <td>25</td>\n      <td>293</td>\n      <td>113</td>\n      <td>0.0</td>\n      <td>10</td>\n      <td>1014</td>\n      <td>5</td>\n      <td>57</td>\n      <td>27</td>\n      <td>67</td>\n      <td>...</td>\n      <td>9</td>\n      <td>30</td>\n      <td>1827.0</td>\n      <td>1.0</td>\n      <td>1720</td>\n      <td>67.0</td>\n      <td>14771</td>\n      <td>12889</td>\n      <td>1.0</td>\n      <td>48.0</td>\n    </tr>\n    <tr>\n      <th>1851412</th>\n      <td>26</td>\n      <td>296</td>\n      <td>113</td>\n      <td>0.0</td>\n      <td>10</td>\n      <td>1014</td>\n      <td>0</td>\n      <td>57</td>\n      <td>27</td>\n      <td>67</td>\n      <td>...</td>\n      <td>9</td>\n      <td>30</td>\n      <td>1909.0</td>\n      <td>0.0</td>\n      <td>1855</td>\n      <td>14.0</td>\n      <td>14771</td>\n      <td>14747</td>\n      <td>1.0</td>\n      <td>33.0</td>\n    </tr>\n  </tbody>\n</table>\n<p>388058 rows × 25 columns</p>\n</div>"
     },
     "metadata": {},
     "execution_count": 42
    }
   ],
   "source": [
    "reg_analysis_data"
   ]
  },
  {
   "cell_type": "code",
   "execution_count": 43,
   "metadata": {},
   "outputs": [],
   "source": [
    "reg_analysis_data=reg_analysis_data.drop(\"ArrDel15\",axis=1)"
   ]
  },
  {
   "cell_type": "code",
   "execution_count": 44,
   "metadata": {},
   "outputs": [
    {
     "output_type": "execute_result",
     "data": {
      "text/plain": [
       "         windspeedKmph  winddirDegree  weatherCode  precipMM  visibility  \\\n",
       "2                   18            315          122       0.0          10   \n",
       "10                  18            317          122       0.0          10   \n",
       "41                  17            317          122       0.0          10   \n",
       "58                  17            317          122       0.0          10   \n",
       "59                  17            317          122       0.0          10   \n",
       "...                ...            ...          ...       ...         ...   \n",
       "1851396             24            292          113       0.0          10   \n",
       "1851397             25            293          113       0.0          10   \n",
       "1851399             25            293          113       0.0          10   \n",
       "1851403             25            293          113       0.0          10   \n",
       "1851412             26            296          113       0.0          10   \n",
       "\n",
       "         pressure  cloudcover  DewPointF  WindGustKmph  tempF  ...  Year  \\\n",
       "2            1024         100         38            28     40  ...  2016   \n",
       "10           1024         100         38            26     41  ...  2016   \n",
       "41           1025         100         38            20     45  ...  2016   \n",
       "58           1025         100         38            21     47  ...  2016   \n",
       "59           1025         100         38            21     47  ...  2016   \n",
       "...           ...         ...        ...           ...    ...  ...   ...   \n",
       "1851396      1015          11         56            26     66  ...  2017   \n",
       "1851397      1014           5         57            27     67  ...  2017   \n",
       "1851399      1014           5         57            27     67  ...  2017   \n",
       "1851403      1014           5         57            27     67  ...  2017   \n",
       "1851412      1014           0         57            27     67  ...  2017   \n",
       "\n",
       "         Month  DayofMonth  DepTime  DepDel15  CRSDepTime  DepDelayMinutes  \\\n",
       "2            1           1    652.0       1.0         615             37.0   \n",
       "10           1           1    803.0       1.0         720             43.0   \n",
       "41           1           1   1137.0       1.0        1030             67.0   \n",
       "58           1           1   1322.0       1.0        1245             37.0   \n",
       "59           1           1   1325.0       0.0        1315             10.0   \n",
       "...        ...         ...      ...       ...         ...              ...   \n",
       "1851396      9          30   1815.0       1.0        1604            131.0   \n",
       "1851397      9          30   1654.0       0.0        1640             14.0   \n",
       "1851399      9          30   2125.0       1.0        1703            262.0   \n",
       "1851403      9          30   1827.0       1.0        1720             67.0   \n",
       "1851412      9          30   1909.0       0.0        1855             14.0   \n",
       "\n",
       "         OriginAirportID  DestAirportID  ArrDelayMinutes  \n",
       "2                  10397          13930             28.0  \n",
       "10                 10397          11292             16.0  \n",
       "41                 10397          12892             79.0  \n",
       "58                 10397          11292             32.0  \n",
       "59                 10397          12892             17.0  \n",
       "...                  ...            ...              ...  \n",
       "1851396            14771          14747            126.0  \n",
       "1851397            14771          14747             16.0  \n",
       "1851399            14771          11292            243.0  \n",
       "1851403            14771          12889             48.0  \n",
       "1851412            14771          14747             33.0  \n",
       "\n",
       "[388058 rows x 24 columns]"
      ],
      "text/html": "<div>\n<style scoped>\n    .dataframe tbody tr th:only-of-type {\n        vertical-align: middle;\n    }\n\n    .dataframe tbody tr th {\n        vertical-align: top;\n    }\n\n    .dataframe thead th {\n        text-align: right;\n    }\n</style>\n<table border=\"1\" class=\"dataframe\">\n  <thead>\n    <tr style=\"text-align: right;\">\n      <th></th>\n      <th>windspeedKmph</th>\n      <th>winddirDegree</th>\n      <th>weatherCode</th>\n      <th>precipMM</th>\n      <th>visibility</th>\n      <th>pressure</th>\n      <th>cloudcover</th>\n      <th>DewPointF</th>\n      <th>WindGustKmph</th>\n      <th>tempF</th>\n      <th>...</th>\n      <th>Year</th>\n      <th>Month</th>\n      <th>DayofMonth</th>\n      <th>DepTime</th>\n      <th>DepDel15</th>\n      <th>CRSDepTime</th>\n      <th>DepDelayMinutes</th>\n      <th>OriginAirportID</th>\n      <th>DestAirportID</th>\n      <th>ArrDelayMinutes</th>\n    </tr>\n  </thead>\n  <tbody>\n    <tr>\n      <th>2</th>\n      <td>18</td>\n      <td>315</td>\n      <td>122</td>\n      <td>0.0</td>\n      <td>10</td>\n      <td>1024</td>\n      <td>100</td>\n      <td>38</td>\n      <td>28</td>\n      <td>40</td>\n      <td>...</td>\n      <td>2016</td>\n      <td>1</td>\n      <td>1</td>\n      <td>652.0</td>\n      <td>1.0</td>\n      <td>615</td>\n      <td>37.0</td>\n      <td>10397</td>\n      <td>13930</td>\n      <td>28.0</td>\n    </tr>\n    <tr>\n      <th>10</th>\n      <td>18</td>\n      <td>317</td>\n      <td>122</td>\n      <td>0.0</td>\n      <td>10</td>\n      <td>1024</td>\n      <td>100</td>\n      <td>38</td>\n      <td>26</td>\n      <td>41</td>\n      <td>...</td>\n      <td>2016</td>\n      <td>1</td>\n      <td>1</td>\n      <td>803.0</td>\n      <td>1.0</td>\n      <td>720</td>\n      <td>43.0</td>\n      <td>10397</td>\n      <td>11292</td>\n      <td>16.0</td>\n    </tr>\n    <tr>\n      <th>41</th>\n      <td>17</td>\n      <td>317</td>\n      <td>122</td>\n      <td>0.0</td>\n      <td>10</td>\n      <td>1025</td>\n      <td>100</td>\n      <td>38</td>\n      <td>20</td>\n      <td>45</td>\n      <td>...</td>\n      <td>2016</td>\n      <td>1</td>\n      <td>1</td>\n      <td>1137.0</td>\n      <td>1.0</td>\n      <td>1030</td>\n      <td>67.0</td>\n      <td>10397</td>\n      <td>12892</td>\n      <td>79.0</td>\n    </tr>\n    <tr>\n      <th>58</th>\n      <td>17</td>\n      <td>317</td>\n      <td>122</td>\n      <td>0.0</td>\n      <td>10</td>\n      <td>1025</td>\n      <td>100</td>\n      <td>38</td>\n      <td>21</td>\n      <td>47</td>\n      <td>...</td>\n      <td>2016</td>\n      <td>1</td>\n      <td>1</td>\n      <td>1322.0</td>\n      <td>1.0</td>\n      <td>1245</td>\n      <td>37.0</td>\n      <td>10397</td>\n      <td>11292</td>\n      <td>32.0</td>\n    </tr>\n    <tr>\n      <th>59</th>\n      <td>17</td>\n      <td>317</td>\n      <td>122</td>\n      <td>0.0</td>\n      <td>10</td>\n      <td>1025</td>\n      <td>100</td>\n      <td>38</td>\n      <td>21</td>\n      <td>47</td>\n      <td>...</td>\n      <td>2016</td>\n      <td>1</td>\n      <td>1</td>\n      <td>1325.0</td>\n      <td>0.0</td>\n      <td>1315</td>\n      <td>10.0</td>\n      <td>10397</td>\n      <td>12892</td>\n      <td>17.0</td>\n    </tr>\n    <tr>\n      <th>...</th>\n      <td>...</td>\n      <td>...</td>\n      <td>...</td>\n      <td>...</td>\n      <td>...</td>\n      <td>...</td>\n      <td>...</td>\n      <td>...</td>\n      <td>...</td>\n      <td>...</td>\n      <td>...</td>\n      <td>...</td>\n      <td>...</td>\n      <td>...</td>\n      <td>...</td>\n      <td>...</td>\n      <td>...</td>\n      <td>...</td>\n      <td>...</td>\n      <td>...</td>\n      <td>...</td>\n    </tr>\n    <tr>\n      <th>1851396</th>\n      <td>24</td>\n      <td>292</td>\n      <td>113</td>\n      <td>0.0</td>\n      <td>10</td>\n      <td>1015</td>\n      <td>11</td>\n      <td>56</td>\n      <td>26</td>\n      <td>66</td>\n      <td>...</td>\n      <td>2017</td>\n      <td>9</td>\n      <td>30</td>\n      <td>1815.0</td>\n      <td>1.0</td>\n      <td>1604</td>\n      <td>131.0</td>\n      <td>14771</td>\n      <td>14747</td>\n      <td>126.0</td>\n    </tr>\n    <tr>\n      <th>1851397</th>\n      <td>25</td>\n      <td>293</td>\n      <td>113</td>\n      <td>0.0</td>\n      <td>10</td>\n      <td>1014</td>\n      <td>5</td>\n      <td>57</td>\n      <td>27</td>\n      <td>67</td>\n      <td>...</td>\n      <td>2017</td>\n      <td>9</td>\n      <td>30</td>\n      <td>1654.0</td>\n      <td>0.0</td>\n      <td>1640</td>\n      <td>14.0</td>\n      <td>14771</td>\n      <td>14747</td>\n      <td>16.0</td>\n    </tr>\n    <tr>\n      <th>1851399</th>\n      <td>25</td>\n      <td>293</td>\n      <td>113</td>\n      <td>0.0</td>\n      <td>10</td>\n      <td>1014</td>\n      <td>5</td>\n      <td>57</td>\n      <td>27</td>\n      <td>67</td>\n      <td>...</td>\n      <td>2017</td>\n      <td>9</td>\n      <td>30</td>\n      <td>2125.0</td>\n      <td>1.0</td>\n      <td>1703</td>\n      <td>262.0</td>\n      <td>14771</td>\n      <td>11292</td>\n      <td>243.0</td>\n    </tr>\n    <tr>\n      <th>1851403</th>\n      <td>25</td>\n      <td>293</td>\n      <td>113</td>\n      <td>0.0</td>\n      <td>10</td>\n      <td>1014</td>\n      <td>5</td>\n      <td>57</td>\n      <td>27</td>\n      <td>67</td>\n      <td>...</td>\n      <td>2017</td>\n      <td>9</td>\n      <td>30</td>\n      <td>1827.0</td>\n      <td>1.0</td>\n      <td>1720</td>\n      <td>67.0</td>\n      <td>14771</td>\n      <td>12889</td>\n      <td>48.0</td>\n    </tr>\n    <tr>\n      <th>1851412</th>\n      <td>26</td>\n      <td>296</td>\n      <td>113</td>\n      <td>0.0</td>\n      <td>10</td>\n      <td>1014</td>\n      <td>0</td>\n      <td>57</td>\n      <td>27</td>\n      <td>67</td>\n      <td>...</td>\n      <td>2017</td>\n      <td>9</td>\n      <td>30</td>\n      <td>1909.0</td>\n      <td>0.0</td>\n      <td>1855</td>\n      <td>14.0</td>\n      <td>14771</td>\n      <td>14747</td>\n      <td>33.0</td>\n    </tr>\n  </tbody>\n</table>\n<p>388058 rows × 24 columns</p>\n</div>"
     },
     "metadata": {},
     "execution_count": 44
    }
   ],
   "source": [
    "reg_analysis_data"
   ]
  },
  {
   "cell_type": "code",
   "execution_count": 45,
   "metadata": {},
   "outputs": [
    {
     "output_type": "display_data",
     "data": {
      "text/plain": "<Figure size 432x288 with 1 Axes>",
      "image/svg+xml": "<?xml version=\"1.0\" encoding=\"utf-8\" standalone=\"no\"?>\r\n<!DOCTYPE svg PUBLIC \"-//W3C//DTD SVG 1.1//EN\"\r\n  \"http://www.w3.org/Graphics/SVG/1.1/DTD/svg11.dtd\">\r\n<!-- Created with matplotlib (https://matplotlib.org/) -->\r\n<svg height=\"262.19625pt\" version=\"1.1\" viewBox=\"0 0 404.86875 262.19625\" width=\"404.86875pt\" xmlns=\"http://www.w3.org/2000/svg\" xmlns:xlink=\"http://www.w3.org/1999/xlink\">\r\n <metadata>\r\n  <rdf:RDF xmlns:cc=\"http://creativecommons.org/ns#\" xmlns:dc=\"http://purl.org/dc/elements/1.1/\" xmlns:rdf=\"http://www.w3.org/1999/02/22-rdf-syntax-ns#\">\r\n   <cc:Work>\r\n    <dc:type rdf:resource=\"http://purl.org/dc/dcmitype/StillImage\"/>\r\n    <dc:date>2020-12-04T18:50:34.246110</dc:date>\r\n    <dc:format>image/svg+xml</dc:format>\r\n    <dc:creator>\r\n     <cc:Agent>\r\n      <dc:title>Matplotlib v3.3.2, https://matplotlib.org/</dc:title>\r\n     </cc:Agent>\r\n    </dc:creator>\r\n   </cc:Work>\r\n  </rdf:RDF>\r\n </metadata>\r\n <defs>\r\n  <style type=\"text/css\">*{stroke-linecap:butt;stroke-linejoin:round;}</style>\r\n </defs>\r\n <g id=\"figure_1\">\r\n  <g id=\"patch_1\">\r\n   <path d=\"M 0 262.19625 \r\nL 404.86875 262.19625 \r\nL 404.86875 0 \r\nL 0 0 \r\nz\r\n\" style=\"fill:none;\"/>\r\n  </g>\r\n  <g id=\"axes_1\">\r\n   <g id=\"patch_2\">\r\n    <path d=\"M 62.86875 224.64 \r\nL 397.66875 224.64 \r\nL 397.66875 7.2 \r\nL 62.86875 7.2 \r\nz\r\n\" style=\"fill:#ffffff;\"/>\r\n   </g>\r\n   <g id=\"patch_3\">\r\n    <path clip-path=\"url(#p24080ab817)\" d=\"M 80.404068 224.64 \r\nL 86.398655 224.64 \r\nL 86.398655 72.867857 \r\nL 80.404068 72.867857 \r\nz\r\n\" style=\"fill:#1f77b4;opacity:0.4;\"/>\r\n   </g>\r\n   <g id=\"patch_4\">\r\n    <path clip-path=\"url(#p24080ab817)\" d=\"M 86.398655 224.64 \r\nL 92.393242 224.64 \r\nL 92.393242 182.823826 \r\nL 86.398655 182.823826 \r\nz\r\n\" style=\"fill:#1f77b4;opacity:0.4;\"/>\r\n   </g>\r\n   <g id=\"patch_5\">\r\n    <path clip-path=\"url(#p24080ab817)\" d=\"M 92.393242 224.64 \r\nL 98.38783 224.64 \r\nL 98.38783 206.909437 \r\nL 92.393242 206.909437 \r\nz\r\n\" style=\"fill:#1f77b4;opacity:0.4;\"/>\r\n   </g>\r\n   <g id=\"patch_6\">\r\n    <path clip-path=\"url(#p24080ab817)\" d=\"M 98.38783 224.64 \r\nL 104.382417 224.64 \r\nL 104.382417 215.615797 \r\nL 98.38783 215.615797 \r\nz\r\n\" style=\"fill:#1f77b4;opacity:0.4;\"/>\r\n   </g>\r\n   <g id=\"patch_7\">\r\n    <path clip-path=\"url(#p24080ab817)\" d=\"M 104.382417 224.64 \r\nL 110.377004 224.64 \r\nL 110.377004 220.152646 \r\nL 104.382417 220.152646 \r\nz\r\n\" style=\"fill:#1f77b4;opacity:0.4;\"/>\r\n   </g>\r\n   <g id=\"patch_8\">\r\n    <path clip-path=\"url(#p24080ab817)\" d=\"M 110.377004 224.64 \r\nL 116.371591 224.64 \r\nL 116.371591 222.13066 \r\nL 110.377004 222.13066 \r\nz\r\n\" style=\"fill:#1f77b4;opacity:0.4;\"/>\r\n   </g>\r\n   <g id=\"patch_9\">\r\n    <path clip-path=\"url(#p24080ab817)\" d=\"M 116.371591 224.64 \r\nL 122.366179 224.64 \r\nL 122.366179 223.289321 \r\nL 116.371591 223.289321 \r\nz\r\n\" style=\"fill:#1f77b4;opacity:0.4;\"/>\r\n   </g>\r\n   <g id=\"patch_10\">\r\n    <path clip-path=\"url(#p24080ab817)\" d=\"M 122.366179 224.64 \r\nL 128.360766 224.64 \r\nL 128.360766 223.783079 \r\nL 122.366179 223.783079 \r\nz\r\n\" style=\"fill:#1f77b4;opacity:0.4;\"/>\r\n   </g>\r\n   <g id=\"patch_11\">\r\n    <path clip-path=\"url(#p24080ab817)\" d=\"M 128.360766 224.64 \r\nL 134.355353 224.64 \r\nL 134.355353 224.108673 \r\nL 128.360766 224.108673 \r\nz\r\n\" style=\"fill:#1f77b4;opacity:0.4;\"/>\r\n   </g>\r\n   <g id=\"patch_12\">\r\n    <path clip-path=\"url(#p24080ab817)\" d=\"M 134.355353 224.64 \r\nL 140.349941 224.64 \r\nL 140.349941 224.328718 \r\nL 134.355353 224.328718 \r\nz\r\n\" style=\"fill:#1f77b4;opacity:0.4;\"/>\r\n   </g>\r\n   <g id=\"patch_13\">\r\n    <path clip-path=\"url(#p24080ab817)\" d=\"M 140.349941 224.64 \r\nL 146.344528 224.64 \r\nL 146.344528 224.462891 \r\nL 140.349941 224.462891 \r\nz\r\n\" style=\"fill:#1f77b4;opacity:0.4;\"/>\r\n   </g>\r\n   <g id=\"patch_14\">\r\n    <path clip-path=\"url(#p24080ab817)\" d=\"M 146.344528 224.64 \r\nL 152.339115 224.64 \r\nL 152.339115 224.498074 \r\nL 146.344528 224.498074 \r\nz\r\n\" style=\"fill:#1f77b4;opacity:0.4;\"/>\r\n   </g>\r\n   <g id=\"patch_15\">\r\n    <path clip-path=\"url(#p24080ab817)\" d=\"M 152.339115 224.64 \r\nL 158.333702 224.64 \r\nL 158.333702 224.539817 \r\nL 152.339115 224.539817 \r\nz\r\n\" style=\"fill:#1f77b4;opacity:0.4;\"/>\r\n   </g>\r\n   <g id=\"patch_16\">\r\n    <path clip-path=\"url(#p24080ab817)\" d=\"M 158.333702 224.64 \r\nL 164.32829 224.64 \r\nL 164.32829 224.561285 \r\nL 158.333702 224.561285 \r\nz\r\n\" style=\"fill:#1f77b4;opacity:0.4;\"/>\r\n   </g>\r\n   <g id=\"patch_17\">\r\n    <path clip-path=\"url(#p24080ab817)\" d=\"M 164.32829 224.64 \r\nL 170.322877 224.64 \r\nL 170.322877 224.569037 \r\nL 164.32829 224.569037 \r\nz\r\n\" style=\"fill:#1f77b4;opacity:0.4;\"/>\r\n   </g>\r\n   <g id=\"patch_18\">\r\n    <path clip-path=\"url(#p24080ab817)\" d=\"M 170.322877 224.64 \r\nL 176.317464 224.64 \r\nL 176.317464 224.585138 \r\nL 170.322877 224.585138 \r\nz\r\n\" style=\"fill:#1f77b4;opacity:0.4;\"/>\r\n   </g>\r\n   <g id=\"patch_19\">\r\n    <path clip-path=\"url(#p24080ab817)\" d=\"M 176.317464 224.64 \r\nL 182.312052 224.64 \r\nL 182.312052 224.598854 \r\nL 176.317464 224.598854 \r\nz\r\n\" style=\"fill:#1f77b4;opacity:0.4;\"/>\r\n   </g>\r\n   <g id=\"patch_20\">\r\n    <path clip-path=\"url(#p24080ab817)\" d=\"M 182.312052 224.64 \r\nL 188.306639 224.64 \r\nL 188.306639 224.588716 \r\nL 182.312052 224.588716 \r\nz\r\n\" style=\"fill:#1f77b4;opacity:0.4;\"/>\r\n   </g>\r\n   <g id=\"patch_21\">\r\n    <path clip-path=\"url(#p24080ab817)\" d=\"M 188.306639 224.64 \r\nL 194.301226 224.64 \r\nL 194.301226 224.583349 \r\nL 188.306639 224.583349 \r\nz\r\n\" style=\"fill:#1f77b4;opacity:0.4;\"/>\r\n   </g>\r\n   <g id=\"patch_22\">\r\n    <path clip-path=\"url(#p24080ab817)\" d=\"M 194.301226 224.64 \r\nL 200.295814 224.64 \r\nL 200.295814 224.596468 \r\nL 194.301226 224.596468 \r\nz\r\n\" style=\"fill:#1f77b4;opacity:0.4;\"/>\r\n   </g>\r\n   <g id=\"patch_23\">\r\n    <path clip-path=\"url(#p24080ab817)\" d=\"M 200.295814 224.64 \r\nL 206.290401 224.64 \r\nL 206.290401 224.597661 \r\nL 200.295814 224.597661 \r\nz\r\n\" style=\"fill:#1f77b4;opacity:0.4;\"/>\r\n   </g>\r\n   <g id=\"patch_24\">\r\n    <path clip-path=\"url(#p24080ab817)\" d=\"M 206.290401 224.64 \r\nL 212.284988 224.64 \r\nL 212.284988 224.611973 \r\nL 206.290401 224.611973 \r\nz\r\n\" style=\"fill:#1f77b4;opacity:0.4;\"/>\r\n   </g>\r\n   <g id=\"patch_25\">\r\n    <path clip-path=\"url(#p24080ab817)\" d=\"M 212.284988 224.64 \r\nL 218.279575 224.64 \r\nL 218.279575 224.614358 \r\nL 212.284988 224.614358 \r\nz\r\n\" style=\"fill:#1f77b4;opacity:0.4;\"/>\r\n   </g>\r\n   <g id=\"patch_26\">\r\n    <path clip-path=\"url(#p24080ab817)\" d=\"M 218.279575 224.64 \r\nL 224.274163 224.64 \r\nL 224.274163 224.619129 \r\nL 218.279575 224.619129 \r\nz\r\n\" style=\"fill:#1f77b4;opacity:0.4;\"/>\r\n   </g>\r\n   <g id=\"patch_27\">\r\n    <path clip-path=\"url(#p24080ab817)\" d=\"M 224.274163 224.64 \r\nL 230.26875 224.64 \r\nL 230.26875 224.623899 \r\nL 224.274163 224.623899 \r\nz\r\n\" style=\"fill:#1f77b4;opacity:0.4;\"/>\r\n   </g>\r\n   <g id=\"patch_28\">\r\n    <path clip-path=\"url(#p24080ab817)\" d=\"M 230.26875 224.64 \r\nL 236.263337 224.64 \r\nL 236.263337 224.624496 \r\nL 230.26875 224.624496 \r\nz\r\n\" style=\"fill:#1f77b4;opacity:0.4;\"/>\r\n   </g>\r\n   <g id=\"patch_29\">\r\n    <path clip-path=\"url(#p24080ab817)\" d=\"M 236.263337 224.64 \r\nL 242.257925 224.64 \r\nL 242.257925 224.629266 \r\nL 236.263337 224.629266 \r\nz\r\n\" style=\"fill:#1f77b4;opacity:0.4;\"/>\r\n   </g>\r\n   <g id=\"patch_30\">\r\n    <path clip-path=\"url(#p24080ab817)\" d=\"M 242.257925 224.64 \r\nL 248.252512 224.64 \r\nL 248.252512 224.630459 \r\nL 242.257925 224.630459 \r\nz\r\n\" style=\"fill:#1f77b4;opacity:0.4;\"/>\r\n   </g>\r\n   <g id=\"patch_31\">\r\n    <path clip-path=\"url(#p24080ab817)\" d=\"M 248.252512 224.64 \r\nL 254.247099 224.64 \r\nL 254.247099 224.63344 \r\nL 248.252512 224.63344 \r\nz\r\n\" style=\"fill:#1f77b4;opacity:0.4;\"/>\r\n   </g>\r\n   <g id=\"patch_32\">\r\n    <path clip-path=\"url(#p24080ab817)\" d=\"M 254.247099 224.64 \r\nL 260.241686 224.64 \r\nL 260.241686 224.635826 \r\nL 254.247099 224.635826 \r\nz\r\n\" style=\"fill:#1f77b4;opacity:0.4;\"/>\r\n   </g>\r\n   <g id=\"patch_33\">\r\n    <path clip-path=\"url(#p24080ab817)\" d=\"M 260.241686 224.64 \r\nL 266.236274 224.64 \r\nL 266.236274 224.636422 \r\nL 260.241686 224.636422 \r\nz\r\n\" style=\"fill:#1f77b4;opacity:0.4;\"/>\r\n   </g>\r\n   <g id=\"patch_34\">\r\n    <path clip-path=\"url(#p24080ab817)\" d=\"M 266.236274 224.64 \r\nL 272.230861 224.64 \r\nL 272.230861 224.635229 \r\nL 266.236274 224.635229 \r\nz\r\n\" style=\"fill:#1f77b4;opacity:0.4;\"/>\r\n   </g>\r\n   <g id=\"patch_35\">\r\n    <path clip-path=\"url(#p24080ab817)\" d=\"M 272.230861 224.64 \r\nL 278.225448 224.64 \r\nL 278.225448 224.636422 \r\nL 272.230861 224.636422 \r\nz\r\n\" style=\"fill:#1f77b4;opacity:0.4;\"/>\r\n   </g>\r\n   <g id=\"patch_36\">\r\n    <path clip-path=\"url(#p24080ab817)\" d=\"M 278.225448 224.64 \r\nL 284.220036 224.64 \r\nL 284.220036 224.635826 \r\nL 278.225448 224.635826 \r\nz\r\n\" style=\"fill:#1f77b4;opacity:0.4;\"/>\r\n   </g>\r\n   <g id=\"patch_37\">\r\n    <path clip-path=\"url(#p24080ab817)\" d=\"M 284.220036 224.64 \r\nL 290.214623 224.64 \r\nL 290.214623 224.639404 \r\nL 284.220036 224.639404 \r\nz\r\n\" style=\"fill:#1f77b4;opacity:0.4;\"/>\r\n   </g>\r\n   <g id=\"patch_38\">\r\n    <path clip-path=\"url(#p24080ab817)\" d=\"M 290.214623 224.64 \r\nL 296.20921 224.64 \r\nL 296.20921 224.638211 \r\nL 290.214623 224.638211 \r\nz\r\n\" style=\"fill:#1f77b4;opacity:0.4;\"/>\r\n   </g>\r\n   <g id=\"patch_39\">\r\n    <path clip-path=\"url(#p24080ab817)\" d=\"M 296.20921 224.64 \r\nL 302.203798 224.64 \r\nL 302.203798 224.638807 \r\nL 296.20921 224.638807 \r\nz\r\n\" style=\"fill:#1f77b4;opacity:0.4;\"/>\r\n   </g>\r\n   <g id=\"patch_40\">\r\n    <path clip-path=\"url(#p24080ab817)\" d=\"M 302.203798 224.64 \r\nL 308.198385 224.64 \r\nL 308.198385 224.639404 \r\nL 302.203798 224.639404 \r\nz\r\n\" style=\"fill:#1f77b4;opacity:0.4;\"/>\r\n   </g>\r\n   <g id=\"patch_41\">\r\n    <path clip-path=\"url(#p24080ab817)\" d=\"M 308.198385 224.64 \r\nL 314.192972 224.64 \r\nL 314.192972 224.639404 \r\nL 308.198385 224.639404 \r\nz\r\n\" style=\"fill:#1f77b4;opacity:0.4;\"/>\r\n   </g>\r\n   <g id=\"patch_42\">\r\n    <path clip-path=\"url(#p24080ab817)\" d=\"M 314.192972 224.64 \r\nL 320.187559 224.64 \r\nL 320.187559 224.639404 \r\nL 314.192972 224.639404 \r\nz\r\n\" style=\"fill:#1f77b4;opacity:0.4;\"/>\r\n   </g>\r\n   <g id=\"patch_43\">\r\n    <path clip-path=\"url(#p24080ab817)\" d=\"M 320.187559 224.64 \r\nL 326.182147 224.64 \r\nL 326.182147 224.64 \r\nL 320.187559 224.64 \r\nz\r\n\" style=\"fill:#1f77b4;opacity:0.4;\"/>\r\n   </g>\r\n   <g id=\"patch_44\">\r\n    <path clip-path=\"url(#p24080ab817)\" d=\"M 326.182147 224.64 \r\nL 332.176734 224.64 \r\nL 332.176734 224.64 \r\nL 326.182147 224.64 \r\nz\r\n\" style=\"fill:#1f77b4;opacity:0.4;\"/>\r\n   </g>\r\n   <g id=\"patch_45\">\r\n    <path clip-path=\"url(#p24080ab817)\" d=\"M 332.176734 224.64 \r\nL 338.171321 224.64 \r\nL 338.171321 224.64 \r\nL 332.176734 224.64 \r\nz\r\n\" style=\"fill:#1f77b4;opacity:0.4;\"/>\r\n   </g>\r\n   <g id=\"patch_46\">\r\n    <path clip-path=\"url(#p24080ab817)\" d=\"M 338.171321 224.64 \r\nL 344.165909 224.64 \r\nL 344.165909 224.64 \r\nL 338.171321 224.64 \r\nz\r\n\" style=\"fill:#1f77b4;opacity:0.4;\"/>\r\n   </g>\r\n   <g id=\"patch_47\">\r\n    <path clip-path=\"url(#p24080ab817)\" d=\"M 344.165909 224.64 \r\nL 350.160496 224.64 \r\nL 350.160496 224.64 \r\nL 344.165909 224.64 \r\nz\r\n\" style=\"fill:#1f77b4;opacity:0.4;\"/>\r\n   </g>\r\n   <g id=\"patch_48\">\r\n    <path clip-path=\"url(#p24080ab817)\" d=\"M 350.160496 224.64 \r\nL 356.155083 224.64 \r\nL 356.155083 224.639404 \r\nL 350.160496 224.639404 \r\nz\r\n\" style=\"fill:#1f77b4;opacity:0.4;\"/>\r\n   </g>\r\n   <g id=\"patch_49\">\r\n    <path clip-path=\"url(#p24080ab817)\" d=\"M 356.155083 224.64 \r\nL 362.14967 224.64 \r\nL 362.14967 224.64 \r\nL 356.155083 224.64 \r\nz\r\n\" style=\"fill:#1f77b4;opacity:0.4;\"/>\r\n   </g>\r\n   <g id=\"patch_50\">\r\n    <path clip-path=\"url(#p24080ab817)\" d=\"M 362.14967 224.64 \r\nL 368.144258 224.64 \r\nL 368.144258 224.639404 \r\nL 362.14967 224.639404 \r\nz\r\n\" style=\"fill:#1f77b4;opacity:0.4;\"/>\r\n   </g>\r\n   <g id=\"patch_51\">\r\n    <path clip-path=\"url(#p24080ab817)\" d=\"M 368.144258 224.64 \r\nL 374.138845 224.64 \r\nL 374.138845 224.64 \r\nL 368.144258 224.64 \r\nz\r\n\" style=\"fill:#1f77b4;opacity:0.4;\"/>\r\n   </g>\r\n   <g id=\"patch_52\">\r\n    <path clip-path=\"url(#p24080ab817)\" d=\"M 374.138845 224.64 \r\nL 380.133432 224.64 \r\nL 380.133432 224.639404 \r\nL 374.138845 224.639404 \r\nz\r\n\" style=\"fill:#1f77b4;opacity:0.4;\"/>\r\n   </g>\r\n   <g id=\"matplotlib.axis_1\">\r\n    <g id=\"xtick_1\">\r\n     <g id=\"line2d_1\">\r\n      <defs>\r\n       <path d=\"M 0 0 \r\nL 0 3.5 \r\n\" id=\"med28697090\" style=\"stroke:#000000;stroke-width:0.8;\"/>\r\n      </defs>\r\n      <g>\r\n       <use style=\"stroke:#000000;stroke-width:0.8;\" x=\"78.29032\" xlink:href=\"#med28697090\" y=\"224.64\"/>\r\n      </g>\r\n     </g>\r\n     <g id=\"text_1\">\r\n      <!-- 0 -->\r\n      <g transform=\"translate(75.10907 239.238437)scale(0.1 -0.1)\">\r\n       <defs>\r\n        <path d=\"M 31.78125 66.40625 \r\nQ 24.171875 66.40625 20.328125 58.90625 \r\nQ 16.5 51.421875 16.5 36.375 \r\nQ 16.5 21.390625 20.328125 13.890625 \r\nQ 24.171875 6.390625 31.78125 6.390625 \r\nQ 39.453125 6.390625 43.28125 13.890625 \r\nQ 47.125 21.390625 47.125 36.375 \r\nQ 47.125 51.421875 43.28125 58.90625 \r\nQ 39.453125 66.40625 31.78125 66.40625 \r\nz\r\nM 31.78125 74.21875 \r\nQ 44.046875 74.21875 50.515625 64.515625 \r\nQ 56.984375 54.828125 56.984375 36.375 \r\nQ 56.984375 17.96875 50.515625 8.265625 \r\nQ 44.046875 -1.421875 31.78125 -1.421875 \r\nQ 19.53125 -1.421875 13.0625 8.265625 \r\nQ 6.59375 17.96875 6.59375 36.375 \r\nQ 6.59375 54.828125 13.0625 64.515625 \r\nQ 19.53125 74.21875 31.78125 74.21875 \r\nz\r\n\" id=\"DejaVuSans-48\"/>\r\n       </defs>\r\n       <use xlink:href=\"#DejaVuSans-48\"/>\r\n      </g>\r\n     </g>\r\n    </g>\r\n    <g id=\"xtick_2\">\r\n     <g id=\"line2d_2\">\r\n      <g>\r\n       <use style=\"stroke:#000000;stroke-width:0.8;\" x=\"148.748563\" xlink:href=\"#med28697090\" y=\"224.64\"/>\r\n      </g>\r\n     </g>\r\n     <g id=\"text_2\">\r\n      <!-- 500 -->\r\n      <g transform=\"translate(139.204813 239.238437)scale(0.1 -0.1)\">\r\n       <defs>\r\n        <path d=\"M 10.796875 72.90625 \r\nL 49.515625 72.90625 \r\nL 49.515625 64.59375 \r\nL 19.828125 64.59375 \r\nL 19.828125 46.734375 \r\nQ 21.96875 47.46875 24.109375 47.828125 \r\nQ 26.265625 48.1875 28.421875 48.1875 \r\nQ 40.625 48.1875 47.75 41.5 \r\nQ 54.890625 34.8125 54.890625 23.390625 \r\nQ 54.890625 11.625 47.5625 5.09375 \r\nQ 40.234375 -1.421875 26.90625 -1.421875 \r\nQ 22.3125 -1.421875 17.546875 -0.640625 \r\nQ 12.796875 0.140625 7.71875 1.703125 \r\nL 7.71875 11.625 \r\nQ 12.109375 9.234375 16.796875 8.0625 \r\nQ 21.484375 6.890625 26.703125 6.890625 \r\nQ 35.15625 6.890625 40.078125 11.328125 \r\nQ 45.015625 15.765625 45.015625 23.390625 \r\nQ 45.015625 31 40.078125 35.4375 \r\nQ 35.15625 39.890625 26.703125 39.890625 \r\nQ 22.75 39.890625 18.8125 39.015625 \r\nQ 14.890625 38.140625 10.796875 36.28125 \r\nz\r\n\" id=\"DejaVuSans-53\"/>\r\n       </defs>\r\n       <use xlink:href=\"#DejaVuSans-53\"/>\r\n       <use x=\"63.623047\" xlink:href=\"#DejaVuSans-48\"/>\r\n       <use x=\"127.246094\" xlink:href=\"#DejaVuSans-48\"/>\r\n      </g>\r\n     </g>\r\n    </g>\r\n    <g id=\"xtick_3\">\r\n     <g id=\"line2d_3\">\r\n      <g>\r\n       <use style=\"stroke:#000000;stroke-width:0.8;\" x=\"219.206806\" xlink:href=\"#med28697090\" y=\"224.64\"/>\r\n      </g>\r\n     </g>\r\n     <g id=\"text_3\">\r\n      <!-- 1000 -->\r\n      <g transform=\"translate(206.481806 239.238437)scale(0.1 -0.1)\">\r\n       <defs>\r\n        <path d=\"M 12.40625 8.296875 \r\nL 28.515625 8.296875 \r\nL 28.515625 63.921875 \r\nL 10.984375 60.40625 \r\nL 10.984375 69.390625 \r\nL 28.421875 72.90625 \r\nL 38.28125 72.90625 \r\nL 38.28125 8.296875 \r\nL 54.390625 8.296875 \r\nL 54.390625 0 \r\nL 12.40625 0 \r\nz\r\n\" id=\"DejaVuSans-49\"/>\r\n       </defs>\r\n       <use xlink:href=\"#DejaVuSans-49\"/>\r\n       <use x=\"63.623047\" xlink:href=\"#DejaVuSans-48\"/>\r\n       <use x=\"127.246094\" xlink:href=\"#DejaVuSans-48\"/>\r\n       <use x=\"190.869141\" xlink:href=\"#DejaVuSans-48\"/>\r\n      </g>\r\n     </g>\r\n    </g>\r\n    <g id=\"xtick_4\">\r\n     <g id=\"line2d_4\">\r\n      <g>\r\n       <use style=\"stroke:#000000;stroke-width:0.8;\" x=\"289.665049\" xlink:href=\"#med28697090\" y=\"224.64\"/>\r\n      </g>\r\n     </g>\r\n     <g id=\"text_4\">\r\n      <!-- 1500 -->\r\n      <g transform=\"translate(276.940049 239.238437)scale(0.1 -0.1)\">\r\n       <use xlink:href=\"#DejaVuSans-49\"/>\r\n       <use x=\"63.623047\" xlink:href=\"#DejaVuSans-53\"/>\r\n       <use x=\"127.246094\" xlink:href=\"#DejaVuSans-48\"/>\r\n       <use x=\"190.869141\" xlink:href=\"#DejaVuSans-48\"/>\r\n      </g>\r\n     </g>\r\n    </g>\r\n    <g id=\"xtick_5\">\r\n     <g id=\"line2d_5\">\r\n      <g>\r\n       <use style=\"stroke:#000000;stroke-width:0.8;\" x=\"360.123291\" xlink:href=\"#med28697090\" y=\"224.64\"/>\r\n      </g>\r\n     </g>\r\n     <g id=\"text_5\">\r\n      <!-- 2000 -->\r\n      <g transform=\"translate(347.398291 239.238437)scale(0.1 -0.1)\">\r\n       <defs>\r\n        <path d=\"M 19.1875 8.296875 \r\nL 53.609375 8.296875 \r\nL 53.609375 0 \r\nL 7.328125 0 \r\nL 7.328125 8.296875 \r\nQ 12.9375 14.109375 22.625 23.890625 \r\nQ 32.328125 33.6875 34.8125 36.53125 \r\nQ 39.546875 41.84375 41.421875 45.53125 \r\nQ 43.3125 49.21875 43.3125 52.78125 \r\nQ 43.3125 58.59375 39.234375 62.25 \r\nQ 35.15625 65.921875 28.609375 65.921875 \r\nQ 23.96875 65.921875 18.8125 64.3125 \r\nQ 13.671875 62.703125 7.8125 59.421875 \r\nL 7.8125 69.390625 \r\nQ 13.765625 71.78125 18.9375 73 \r\nQ 24.125 74.21875 28.421875 74.21875 \r\nQ 39.75 74.21875 46.484375 68.546875 \r\nQ 53.21875 62.890625 53.21875 53.421875 \r\nQ 53.21875 48.921875 51.53125 44.890625 \r\nQ 49.859375 40.875 45.40625 35.40625 \r\nQ 44.1875 33.984375 37.640625 27.21875 \r\nQ 31.109375 20.453125 19.1875 8.296875 \r\nz\r\n\" id=\"DejaVuSans-50\"/>\r\n       </defs>\r\n       <use xlink:href=\"#DejaVuSans-50\"/>\r\n       <use x=\"63.623047\" xlink:href=\"#DejaVuSans-48\"/>\r\n       <use x=\"127.246094\" xlink:href=\"#DejaVuSans-48\"/>\r\n       <use x=\"190.869141\" xlink:href=\"#DejaVuSans-48\"/>\r\n      </g>\r\n     </g>\r\n    </g>\r\n    <g id=\"text_6\">\r\n     <!-- ArrDelayMinutes -->\r\n     <g transform=\"translate(188.803906 252.916562)scale(0.1 -0.1)\">\r\n      <defs>\r\n       <path d=\"M 34.1875 63.1875 \r\nL 20.796875 26.90625 \r\nL 47.609375 26.90625 \r\nz\r\nM 28.609375 72.90625 \r\nL 39.796875 72.90625 \r\nL 67.578125 0 \r\nL 57.328125 0 \r\nL 50.6875 18.703125 \r\nL 17.828125 18.703125 \r\nL 11.1875 0 \r\nL 0.78125 0 \r\nz\r\n\" id=\"DejaVuSans-65\"/>\r\n       <path d=\"M 41.109375 46.296875 \r\nQ 39.59375 47.171875 37.8125 47.578125 \r\nQ 36.03125 48 33.890625 48 \r\nQ 26.265625 48 22.1875 43.046875 \r\nQ 18.109375 38.09375 18.109375 28.8125 \r\nL 18.109375 0 \r\nL 9.078125 0 \r\nL 9.078125 54.6875 \r\nL 18.109375 54.6875 \r\nL 18.109375 46.1875 \r\nQ 20.953125 51.171875 25.484375 53.578125 \r\nQ 30.03125 56 36.53125 56 \r\nQ 37.453125 56 38.578125 55.875 \r\nQ 39.703125 55.765625 41.0625 55.515625 \r\nz\r\n\" id=\"DejaVuSans-114\"/>\r\n       <path d=\"M 19.671875 64.796875 \r\nL 19.671875 8.109375 \r\nL 31.59375 8.109375 \r\nQ 46.6875 8.109375 53.6875 14.9375 \r\nQ 60.6875 21.78125 60.6875 36.53125 \r\nQ 60.6875 51.171875 53.6875 57.984375 \r\nQ 46.6875 64.796875 31.59375 64.796875 \r\nz\r\nM 9.8125 72.90625 \r\nL 30.078125 72.90625 \r\nQ 51.265625 72.90625 61.171875 64.09375 \r\nQ 71.09375 55.28125 71.09375 36.53125 \r\nQ 71.09375 17.671875 61.125 8.828125 \r\nQ 51.171875 0 30.078125 0 \r\nL 9.8125 0 \r\nz\r\n\" id=\"DejaVuSans-68\"/>\r\n       <path d=\"M 56.203125 29.59375 \r\nL 56.203125 25.203125 \r\nL 14.890625 25.203125 \r\nQ 15.484375 15.921875 20.484375 11.0625 \r\nQ 25.484375 6.203125 34.421875 6.203125 \r\nQ 39.59375 6.203125 44.453125 7.46875 \r\nQ 49.3125 8.734375 54.109375 11.28125 \r\nL 54.109375 2.78125 \r\nQ 49.265625 0.734375 44.1875 -0.34375 \r\nQ 39.109375 -1.421875 33.890625 -1.421875 \r\nQ 20.796875 -1.421875 13.15625 6.1875 \r\nQ 5.515625 13.8125 5.515625 26.8125 \r\nQ 5.515625 40.234375 12.765625 48.109375 \r\nQ 20.015625 56 32.328125 56 \r\nQ 43.359375 56 49.78125 48.890625 \r\nQ 56.203125 41.796875 56.203125 29.59375 \r\nz\r\nM 47.21875 32.234375 \r\nQ 47.125 39.59375 43.09375 43.984375 \r\nQ 39.0625 48.390625 32.421875 48.390625 \r\nQ 24.90625 48.390625 20.390625 44.140625 \r\nQ 15.875 39.890625 15.1875 32.171875 \r\nz\r\n\" id=\"DejaVuSans-101\"/>\r\n       <path d=\"M 9.421875 75.984375 \r\nL 18.40625 75.984375 \r\nL 18.40625 0 \r\nL 9.421875 0 \r\nz\r\n\" id=\"DejaVuSans-108\"/>\r\n       <path d=\"M 34.28125 27.484375 \r\nQ 23.390625 27.484375 19.1875 25 \r\nQ 14.984375 22.515625 14.984375 16.5 \r\nQ 14.984375 11.71875 18.140625 8.90625 \r\nQ 21.296875 6.109375 26.703125 6.109375 \r\nQ 34.1875 6.109375 38.703125 11.40625 \r\nQ 43.21875 16.703125 43.21875 25.484375 \r\nL 43.21875 27.484375 \r\nz\r\nM 52.203125 31.203125 \r\nL 52.203125 0 \r\nL 43.21875 0 \r\nL 43.21875 8.296875 \r\nQ 40.140625 3.328125 35.546875 0.953125 \r\nQ 30.953125 -1.421875 24.3125 -1.421875 \r\nQ 15.921875 -1.421875 10.953125 3.296875 \r\nQ 6 8.015625 6 15.921875 \r\nQ 6 25.140625 12.171875 29.828125 \r\nQ 18.359375 34.515625 30.609375 34.515625 \r\nL 43.21875 34.515625 \r\nL 43.21875 35.40625 \r\nQ 43.21875 41.609375 39.140625 45 \r\nQ 35.0625 48.390625 27.6875 48.390625 \r\nQ 23 48.390625 18.546875 47.265625 \r\nQ 14.109375 46.140625 10.015625 43.890625 \r\nL 10.015625 52.203125 \r\nQ 14.9375 54.109375 19.578125 55.046875 \r\nQ 24.21875 56 28.609375 56 \r\nQ 40.484375 56 46.34375 49.84375 \r\nQ 52.203125 43.703125 52.203125 31.203125 \r\nz\r\n\" id=\"DejaVuSans-97\"/>\r\n       <path d=\"M 32.171875 -5.078125 \r\nQ 28.375 -14.84375 24.75 -17.8125 \r\nQ 21.140625 -20.796875 15.09375 -20.796875 \r\nL 7.90625 -20.796875 \r\nL 7.90625 -13.28125 \r\nL 13.1875 -13.28125 \r\nQ 16.890625 -13.28125 18.9375 -11.515625 \r\nQ 21 -9.765625 23.484375 -3.21875 \r\nL 25.09375 0.875 \r\nL 2.984375 54.6875 \r\nL 12.5 54.6875 \r\nL 29.59375 11.921875 \r\nL 46.6875 54.6875 \r\nL 56.203125 54.6875 \r\nz\r\n\" id=\"DejaVuSans-121\"/>\r\n       <path d=\"M 9.8125 72.90625 \r\nL 24.515625 72.90625 \r\nL 43.109375 23.296875 \r\nL 61.8125 72.90625 \r\nL 76.515625 72.90625 \r\nL 76.515625 0 \r\nL 66.890625 0 \r\nL 66.890625 64.015625 \r\nL 48.09375 14.015625 \r\nL 38.1875 14.015625 \r\nL 19.390625 64.015625 \r\nL 19.390625 0 \r\nL 9.8125 0 \r\nz\r\n\" id=\"DejaVuSans-77\"/>\r\n       <path d=\"M 9.421875 54.6875 \r\nL 18.40625 54.6875 \r\nL 18.40625 0 \r\nL 9.421875 0 \r\nz\r\nM 9.421875 75.984375 \r\nL 18.40625 75.984375 \r\nL 18.40625 64.59375 \r\nL 9.421875 64.59375 \r\nz\r\n\" id=\"DejaVuSans-105\"/>\r\n       <path d=\"M 54.890625 33.015625 \r\nL 54.890625 0 \r\nL 45.90625 0 \r\nL 45.90625 32.71875 \r\nQ 45.90625 40.484375 42.875 44.328125 \r\nQ 39.84375 48.1875 33.796875 48.1875 \r\nQ 26.515625 48.1875 22.3125 43.546875 \r\nQ 18.109375 38.921875 18.109375 30.90625 \r\nL 18.109375 0 \r\nL 9.078125 0 \r\nL 9.078125 54.6875 \r\nL 18.109375 54.6875 \r\nL 18.109375 46.1875 \r\nQ 21.34375 51.125 25.703125 53.5625 \r\nQ 30.078125 56 35.796875 56 \r\nQ 45.21875 56 50.046875 50.171875 \r\nQ 54.890625 44.34375 54.890625 33.015625 \r\nz\r\n\" id=\"DejaVuSans-110\"/>\r\n       <path d=\"M 8.5 21.578125 \r\nL 8.5 54.6875 \r\nL 17.484375 54.6875 \r\nL 17.484375 21.921875 \r\nQ 17.484375 14.15625 20.5 10.265625 \r\nQ 23.53125 6.390625 29.59375 6.390625 \r\nQ 36.859375 6.390625 41.078125 11.03125 \r\nQ 45.3125 15.671875 45.3125 23.6875 \r\nL 45.3125 54.6875 \r\nL 54.296875 54.6875 \r\nL 54.296875 0 \r\nL 45.3125 0 \r\nL 45.3125 8.40625 \r\nQ 42.046875 3.421875 37.71875 1 \r\nQ 33.40625 -1.421875 27.6875 -1.421875 \r\nQ 18.265625 -1.421875 13.375 4.4375 \r\nQ 8.5 10.296875 8.5 21.578125 \r\nz\r\nM 31.109375 56 \r\nz\r\n\" id=\"DejaVuSans-117\"/>\r\n       <path d=\"M 18.3125 70.21875 \r\nL 18.3125 54.6875 \r\nL 36.8125 54.6875 \r\nL 36.8125 47.703125 \r\nL 18.3125 47.703125 \r\nL 18.3125 18.015625 \r\nQ 18.3125 11.328125 20.140625 9.421875 \r\nQ 21.96875 7.515625 27.59375 7.515625 \r\nL 36.8125 7.515625 \r\nL 36.8125 0 \r\nL 27.59375 0 \r\nQ 17.1875 0 13.234375 3.875 \r\nQ 9.28125 7.765625 9.28125 18.015625 \r\nL 9.28125 47.703125 \r\nL 2.6875 47.703125 \r\nL 2.6875 54.6875 \r\nL 9.28125 54.6875 \r\nL 9.28125 70.21875 \r\nz\r\n\" id=\"DejaVuSans-116\"/>\r\n       <path d=\"M 44.28125 53.078125 \r\nL 44.28125 44.578125 \r\nQ 40.484375 46.53125 36.375 47.5 \r\nQ 32.28125 48.484375 27.875 48.484375 \r\nQ 21.1875 48.484375 17.84375 46.4375 \r\nQ 14.5 44.390625 14.5 40.28125 \r\nQ 14.5 37.15625 16.890625 35.375 \r\nQ 19.28125 33.59375 26.515625 31.984375 \r\nL 29.59375 31.296875 \r\nQ 39.15625 29.25 43.1875 25.515625 \r\nQ 47.21875 21.78125 47.21875 15.09375 \r\nQ 47.21875 7.46875 41.1875 3.015625 \r\nQ 35.15625 -1.421875 24.609375 -1.421875 \r\nQ 20.21875 -1.421875 15.453125 -0.5625 \r\nQ 10.6875 0.296875 5.421875 2 \r\nL 5.421875 11.28125 \r\nQ 10.40625 8.6875 15.234375 7.390625 \r\nQ 20.0625 6.109375 24.8125 6.109375 \r\nQ 31.15625 6.109375 34.5625 8.28125 \r\nQ 37.984375 10.453125 37.984375 14.40625 \r\nQ 37.984375 18.0625 35.515625 20.015625 \r\nQ 33.0625 21.96875 24.703125 23.78125 \r\nL 21.578125 24.515625 \r\nQ 13.234375 26.265625 9.515625 29.90625 \r\nQ 5.8125 33.546875 5.8125 39.890625 \r\nQ 5.8125 47.609375 11.28125 51.796875 \r\nQ 16.75 56 26.8125 56 \r\nQ 31.78125 56 36.171875 55.265625 \r\nQ 40.578125 54.546875 44.28125 53.078125 \r\nz\r\n\" id=\"DejaVuSans-115\"/>\r\n      </defs>\r\n      <use xlink:href=\"#DejaVuSans-65\"/>\r\n      <use x=\"68.408203\" xlink:href=\"#DejaVuSans-114\"/>\r\n      <use x=\"107.771484\" xlink:href=\"#DejaVuSans-114\"/>\r\n      <use x=\"148.884766\" xlink:href=\"#DejaVuSans-68\"/>\r\n      <use x=\"225.886719\" xlink:href=\"#DejaVuSans-101\"/>\r\n      <use x=\"287.410156\" xlink:href=\"#DejaVuSans-108\"/>\r\n      <use x=\"315.193359\" xlink:href=\"#DejaVuSans-97\"/>\r\n      <use x=\"376.472656\" xlink:href=\"#DejaVuSans-121\"/>\r\n      <use x=\"435.652344\" xlink:href=\"#DejaVuSans-77\"/>\r\n      <use x=\"521.931641\" xlink:href=\"#DejaVuSans-105\"/>\r\n      <use x=\"549.714844\" xlink:href=\"#DejaVuSans-110\"/>\r\n      <use x=\"613.09375\" xlink:href=\"#DejaVuSans-117\"/>\r\n      <use x=\"676.472656\" xlink:href=\"#DejaVuSans-116\"/>\r\n      <use x=\"715.681641\" xlink:href=\"#DejaVuSans-101\"/>\r\n      <use x=\"777.205078\" xlink:href=\"#DejaVuSans-115\"/>\r\n     </g>\r\n    </g>\r\n   </g>\r\n   <g id=\"matplotlib.axis_2\">\r\n    <g id=\"ytick_1\">\r\n     <g id=\"line2d_6\">\r\n      <defs>\r\n       <path d=\"M 0 0 \r\nL -3.5 0 \r\n\" id=\"m24aed9f87b\" style=\"stroke:#000000;stroke-width:0.8;\"/>\r\n      </defs>\r\n      <g>\r\n       <use style=\"stroke:#000000;stroke-width:0.8;\" x=\"62.86875\" xlink:href=\"#m24aed9f87b\" y=\"224.64\"/>\r\n      </g>\r\n     </g>\r\n     <g id=\"text_7\">\r\n      <!-- 0.0000 -->\r\n      <g transform=\"translate(20.878125 228.439219)scale(0.1 -0.1)\">\r\n       <defs>\r\n        <path d=\"M 10.6875 12.40625 \r\nL 21 12.40625 \r\nL 21 0 \r\nL 10.6875 0 \r\nz\r\n\" id=\"DejaVuSans-46\"/>\r\n       </defs>\r\n       <use xlink:href=\"#DejaVuSans-48\"/>\r\n       <use x=\"63.623047\" xlink:href=\"#DejaVuSans-46\"/>\r\n       <use x=\"95.410156\" xlink:href=\"#DejaVuSans-48\"/>\r\n       <use x=\"159.033203\" xlink:href=\"#DejaVuSans-48\"/>\r\n       <use x=\"222.65625\" xlink:href=\"#DejaVuSans-48\"/>\r\n       <use x=\"286.279297\" xlink:href=\"#DejaVuSans-48\"/>\r\n      </g>\r\n     </g>\r\n    </g>\r\n    <g id=\"ytick_2\">\r\n     <g id=\"line2d_7\">\r\n      <g>\r\n       <use style=\"stroke:#000000;stroke-width:0.8;\" x=\"62.86875\" xlink:href=\"#m24aed9f87b\" y=\"200.029642\"/>\r\n      </g>\r\n     </g>\r\n     <g id=\"text_8\">\r\n      <!-- 0.0025 -->\r\n      <g transform=\"translate(20.878125 203.82886)scale(0.1 -0.1)\">\r\n       <use xlink:href=\"#DejaVuSans-48\"/>\r\n       <use x=\"63.623047\" xlink:href=\"#DejaVuSans-46\"/>\r\n       <use x=\"95.410156\" xlink:href=\"#DejaVuSans-48\"/>\r\n       <use x=\"159.033203\" xlink:href=\"#DejaVuSans-48\"/>\r\n       <use x=\"222.65625\" xlink:href=\"#DejaVuSans-50\"/>\r\n       <use x=\"286.279297\" xlink:href=\"#DejaVuSans-53\"/>\r\n      </g>\r\n     </g>\r\n    </g>\r\n    <g id=\"ytick_3\">\r\n     <g id=\"line2d_8\">\r\n      <g>\r\n       <use style=\"stroke:#000000;stroke-width:0.8;\" x=\"62.86875\" xlink:href=\"#m24aed9f87b\" y=\"175.419283\"/>\r\n      </g>\r\n     </g>\r\n     <g id=\"text_9\">\r\n      <!-- 0.0050 -->\r\n      <g transform=\"translate(20.878125 179.218502)scale(0.1 -0.1)\">\r\n       <use xlink:href=\"#DejaVuSans-48\"/>\r\n       <use x=\"63.623047\" xlink:href=\"#DejaVuSans-46\"/>\r\n       <use x=\"95.410156\" xlink:href=\"#DejaVuSans-48\"/>\r\n       <use x=\"159.033203\" xlink:href=\"#DejaVuSans-48\"/>\r\n       <use x=\"222.65625\" xlink:href=\"#DejaVuSans-53\"/>\r\n       <use x=\"286.279297\" xlink:href=\"#DejaVuSans-48\"/>\r\n      </g>\r\n     </g>\r\n    </g>\r\n    <g id=\"ytick_4\">\r\n     <g id=\"line2d_9\">\r\n      <g>\r\n       <use style=\"stroke:#000000;stroke-width:0.8;\" x=\"62.86875\" xlink:href=\"#m24aed9f87b\" y=\"150.808925\"/>\r\n      </g>\r\n     </g>\r\n     <g id=\"text_10\">\r\n      <!-- 0.0075 -->\r\n      <g transform=\"translate(20.878125 154.608144)scale(0.1 -0.1)\">\r\n       <defs>\r\n        <path d=\"M 8.203125 72.90625 \r\nL 55.078125 72.90625 \r\nL 55.078125 68.703125 \r\nL 28.609375 0 \r\nL 18.3125 0 \r\nL 43.21875 64.59375 \r\nL 8.203125 64.59375 \r\nz\r\n\" id=\"DejaVuSans-55\"/>\r\n       </defs>\r\n       <use xlink:href=\"#DejaVuSans-48\"/>\r\n       <use x=\"63.623047\" xlink:href=\"#DejaVuSans-46\"/>\r\n       <use x=\"95.410156\" xlink:href=\"#DejaVuSans-48\"/>\r\n       <use x=\"159.033203\" xlink:href=\"#DejaVuSans-48\"/>\r\n       <use x=\"222.65625\" xlink:href=\"#DejaVuSans-55\"/>\r\n       <use x=\"286.279297\" xlink:href=\"#DejaVuSans-53\"/>\r\n      </g>\r\n     </g>\r\n    </g>\r\n    <g id=\"ytick_5\">\r\n     <g id=\"line2d_10\">\r\n      <g>\r\n       <use style=\"stroke:#000000;stroke-width:0.8;\" x=\"62.86875\" xlink:href=\"#m24aed9f87b\" y=\"126.198567\"/>\r\n      </g>\r\n     </g>\r\n     <g id=\"text_11\">\r\n      <!-- 0.0100 -->\r\n      <g transform=\"translate(20.878125 129.997785)scale(0.1 -0.1)\">\r\n       <use xlink:href=\"#DejaVuSans-48\"/>\r\n       <use x=\"63.623047\" xlink:href=\"#DejaVuSans-46\"/>\r\n       <use x=\"95.410156\" xlink:href=\"#DejaVuSans-48\"/>\r\n       <use x=\"159.033203\" xlink:href=\"#DejaVuSans-49\"/>\r\n       <use x=\"222.65625\" xlink:href=\"#DejaVuSans-48\"/>\r\n       <use x=\"286.279297\" xlink:href=\"#DejaVuSans-48\"/>\r\n      </g>\r\n     </g>\r\n    </g>\r\n    <g id=\"ytick_6\">\r\n     <g id=\"line2d_11\">\r\n      <g>\r\n       <use style=\"stroke:#000000;stroke-width:0.8;\" x=\"62.86875\" xlink:href=\"#m24aed9f87b\" y=\"101.588208\"/>\r\n      </g>\r\n     </g>\r\n     <g id=\"text_12\">\r\n      <!-- 0.0125 -->\r\n      <g transform=\"translate(20.878125 105.387427)scale(0.1 -0.1)\">\r\n       <use xlink:href=\"#DejaVuSans-48\"/>\r\n       <use x=\"63.623047\" xlink:href=\"#DejaVuSans-46\"/>\r\n       <use x=\"95.410156\" xlink:href=\"#DejaVuSans-48\"/>\r\n       <use x=\"159.033203\" xlink:href=\"#DejaVuSans-49\"/>\r\n       <use x=\"222.65625\" xlink:href=\"#DejaVuSans-50\"/>\r\n       <use x=\"286.279297\" xlink:href=\"#DejaVuSans-53\"/>\r\n      </g>\r\n     </g>\r\n    </g>\r\n    <g id=\"ytick_7\">\r\n     <g id=\"line2d_12\">\r\n      <g>\r\n       <use style=\"stroke:#000000;stroke-width:0.8;\" x=\"62.86875\" xlink:href=\"#m24aed9f87b\" y=\"76.97785\"/>\r\n      </g>\r\n     </g>\r\n     <g id=\"text_13\">\r\n      <!-- 0.0150 -->\r\n      <g transform=\"translate(20.878125 80.777069)scale(0.1 -0.1)\">\r\n       <use xlink:href=\"#DejaVuSans-48\"/>\r\n       <use x=\"63.623047\" xlink:href=\"#DejaVuSans-46\"/>\r\n       <use x=\"95.410156\" xlink:href=\"#DejaVuSans-48\"/>\r\n       <use x=\"159.033203\" xlink:href=\"#DejaVuSans-49\"/>\r\n       <use x=\"222.65625\" xlink:href=\"#DejaVuSans-53\"/>\r\n       <use x=\"286.279297\" xlink:href=\"#DejaVuSans-48\"/>\r\n      </g>\r\n     </g>\r\n    </g>\r\n    <g id=\"ytick_8\">\r\n     <g id=\"line2d_13\">\r\n      <g>\r\n       <use style=\"stroke:#000000;stroke-width:0.8;\" x=\"62.86875\" xlink:href=\"#m24aed9f87b\" y=\"52.367492\"/>\r\n      </g>\r\n     </g>\r\n     <g id=\"text_14\">\r\n      <!-- 0.0175 -->\r\n      <g transform=\"translate(20.878125 56.16671)scale(0.1 -0.1)\">\r\n       <use xlink:href=\"#DejaVuSans-48\"/>\r\n       <use x=\"63.623047\" xlink:href=\"#DejaVuSans-46\"/>\r\n       <use x=\"95.410156\" xlink:href=\"#DejaVuSans-48\"/>\r\n       <use x=\"159.033203\" xlink:href=\"#DejaVuSans-49\"/>\r\n       <use x=\"222.65625\" xlink:href=\"#DejaVuSans-55\"/>\r\n       <use x=\"286.279297\" xlink:href=\"#DejaVuSans-53\"/>\r\n      </g>\r\n     </g>\r\n    </g>\r\n    <g id=\"ytick_9\">\r\n     <g id=\"line2d_14\">\r\n      <g>\r\n       <use style=\"stroke:#000000;stroke-width:0.8;\" x=\"62.86875\" xlink:href=\"#m24aed9f87b\" y=\"27.757133\"/>\r\n      </g>\r\n     </g>\r\n     <g id=\"text_15\">\r\n      <!-- 0.0200 -->\r\n      <g transform=\"translate(20.878125 31.556352)scale(0.1 -0.1)\">\r\n       <use xlink:href=\"#DejaVuSans-48\"/>\r\n       <use x=\"63.623047\" xlink:href=\"#DejaVuSans-46\"/>\r\n       <use x=\"95.410156\" xlink:href=\"#DejaVuSans-48\"/>\r\n       <use x=\"159.033203\" xlink:href=\"#DejaVuSans-50\"/>\r\n       <use x=\"222.65625\" xlink:href=\"#DejaVuSans-48\"/>\r\n       <use x=\"286.279297\" xlink:href=\"#DejaVuSans-48\"/>\r\n      </g>\r\n     </g>\r\n    </g>\r\n    <g id=\"text_16\">\r\n     <!-- Density -->\r\n     <g transform=\"translate(14.798438 134.928594)rotate(-90)scale(0.1 -0.1)\">\r\n      <use xlink:href=\"#DejaVuSans-68\"/>\r\n      <use x=\"77.001953\" xlink:href=\"#DejaVuSans-101\"/>\r\n      <use x=\"138.525391\" xlink:href=\"#DejaVuSans-110\"/>\r\n      <use x=\"201.904297\" xlink:href=\"#DejaVuSans-115\"/>\r\n      <use x=\"254.003906\" xlink:href=\"#DejaVuSans-105\"/>\r\n      <use x=\"281.787109\" xlink:href=\"#DejaVuSans-116\"/>\r\n      <use x=\"320.996094\" xlink:href=\"#DejaVuSans-121\"/>\r\n     </g>\r\n    </g>\r\n   </g>\r\n   <g id=\"line2d_15\">\r\n    <path clip-path=\"url(#p24080ab817)\" d=\"M 78.086932 224.068063 \r\nL 79.616397 172.056317 \r\nL 81.145863 17.554286 \r\nL 84.204794 120.074706 \r\nL 85.734259 149.359567 \r\nL 87.263725 167.895724 \r\nL 88.79319 180.759937 \r\nL 90.322656 190.109792 \r\nL 91.852121 196.51197 \r\nL 93.381587 202.04684 \r\nL 94.911052 205.901421 \r\nL 96.440518 209.034828 \r\nL 97.969983 211.508833 \r\nL 101.028914 215.485586 \r\nL 104.087845 218.422873 \r\nL 107.146776 220.007875 \r\nL 108.676242 220.762807 \r\nL 111.735173 221.767976 \r\nL 117.853035 223.064835 \r\nL 122.441432 223.596952 \r\nL 125.500363 223.809239 \r\nL 128.559294 224.009479 \r\nL 134.677156 224.210285 \r\nL 139.265552 224.399349 \r\nL 153.030742 224.527124 \r\nL 180.561121 224.60373 \r\nL 235.621879 224.623367 \r\nL 382.450568 224.639979 \r\nL 382.450568 224.639979 \r\n\" style=\"fill:none;stroke:#1f77b4;stroke-linecap:square;stroke-width:1.5;\"/>\r\n   </g>\r\n   <g id=\"patch_53\">\r\n    <path d=\"M 62.86875 224.64 \r\nL 62.86875 7.2 \r\n\" style=\"fill:none;stroke:#000000;stroke-linecap:square;stroke-linejoin:miter;stroke-width:0.8;\"/>\r\n   </g>\r\n   <g id=\"patch_54\">\r\n    <path d=\"M 397.66875 224.64 \r\nL 397.66875 7.2 \r\n\" style=\"fill:none;stroke:#000000;stroke-linecap:square;stroke-linejoin:miter;stroke-width:0.8;\"/>\r\n   </g>\r\n   <g id=\"patch_55\">\r\n    <path d=\"M 62.86875 224.64 \r\nL 397.66875 224.64 \r\n\" style=\"fill:none;stroke:#000000;stroke-linecap:square;stroke-linejoin:miter;stroke-width:0.8;\"/>\r\n   </g>\r\n   <g id=\"patch_56\">\r\n    <path d=\"M 62.86875 7.2 \r\nL 397.66875 7.2 \r\n\" style=\"fill:none;stroke:#000000;stroke-linecap:square;stroke-linejoin:miter;stroke-width:0.8;\"/>\r\n   </g>\r\n  </g>\r\n </g>\r\n <defs>\r\n  <clipPath id=\"p24080ab817\">\r\n   <rect height=\"217.44\" width=\"334.8\" x=\"62.86875\" y=\"7.2\"/>\r\n  </clipPath>\r\n </defs>\r\n</svg>\r\n",
      "image/png": "[encoded data removed]"
     },
     "metadata": {
      "needs_background": "light"
     }
    }
   ],
   "source": [
    "sns.distplot(reg_analysis_data[\"ArrDelayMinutes\"])\n",
    "plt.savefig(\"distrib.png\")"
   ]
  },
  {
   "cell_type": "code",
   "execution_count": null,
   "metadata": {},
   "outputs": [],
   "source": []
  },
  {
   "cell_type": "code",
   "execution_count": 46,
   "metadata": {},
   "outputs": [
    {
     "output_type": "execute_result",
     "data": {
      "text/plain": [
       "15.0"
      ]
     },
     "metadata": {},
     "execution_count": 46
    }
   ],
   "source": [
    "reg_analysis_data[\"ArrDelayMinutes\"].min()"
   ]
  },
  {
   "cell_type": "code",
   "execution_count": 47,
   "metadata": {},
   "outputs": [],
   "source": [
    "df1=reg_analysis_data[(reg_analysis_data[\"ArrDelayMinutes\"]>0.0) & (reg_analysis_data[\"ArrDelayMinutes\"]<=300.0)]\n",
    "df2=reg_analysis_data[(reg_analysis_data[\"ArrDelayMinutes\"]>300) & (reg_analysis_data[\"ArrDelayMinutes\"]<=600.0)]\n",
    "df3=reg_analysis_data[(reg_analysis_data[\"ArrDelayMinutes\"]>600.0) & (reg_analysis_data[\"ArrDelayMinutes\"]<=1000.0)]\n",
    "df4=reg_analysis_data[(reg_analysis_data[\"ArrDelayMinutes\"]>1000.0) & (reg_analysis_data[\"ArrDelayMinutes\"]<=1500.0)]\n",
    "df5=reg_analysis_data[(reg_analysis_data[\"ArrDelayMinutes\"]>1500.0)]"
   ]
  },
  {
   "cell_type": "code",
   "execution_count": 48,
   "metadata": {},
   "outputs": [
    {
     "output_type": "execute_result",
     "data": {
      "text/plain": [
       "11"
      ]
     },
     "metadata": {},
     "execution_count": 48
    }
   ],
   "source": [
    "len(df5)"
   ]
  },
  {
   "cell_type": "code",
   "execution_count": 49,
   "metadata": {},
   "outputs": [
    {
     "output_type": "execute_result",
     "data": {
      "text/plain": [
       "         windspeedKmph  winddirDegree  weatherCode  precipMM  visibility  \\\n",
       "2                   18            315          122       0.0          10   \n",
       "10                  18            317          122       0.0          10   \n",
       "41                  17            317          122       0.0          10   \n",
       "58                  17            317          122       0.0          10   \n",
       "59                  17            317          122       0.0          10   \n",
       "...                ...            ...          ...       ...         ...   \n",
       "1851396             24            292          113       0.0          10   \n",
       "1851397             25            293          113       0.0          10   \n",
       "1851399             25            293          113       0.0          10   \n",
       "1851403             25            293          113       0.0          10   \n",
       "1851412             26            296          113       0.0          10   \n",
       "\n",
       "         pressure  cloudcover  DewPointF  WindGustKmph  tempF  ...  Year  \\\n",
       "2            1024         100         38            28     40  ...  2016   \n",
       "10           1024         100         38            26     41  ...  2016   \n",
       "41           1025         100         38            20     45  ...  2016   \n",
       "58           1025         100         38            21     47  ...  2016   \n",
       "59           1025         100         38            21     47  ...  2016   \n",
       "...           ...         ...        ...           ...    ...  ...   ...   \n",
       "1851396      1015          11         56            26     66  ...  2017   \n",
       "1851397      1014           5         57            27     67  ...  2017   \n",
       "1851399      1014           5         57            27     67  ...  2017   \n",
       "1851403      1014           5         57            27     67  ...  2017   \n",
       "1851412      1014           0         57            27     67  ...  2017   \n",
       "\n",
       "         Month  DayofMonth  DepTime  DepDel15  CRSDepTime  DepDelayMinutes  \\\n",
       "2            1           1    652.0       1.0         615             37.0   \n",
       "10           1           1    803.0       1.0         720             43.0   \n",
       "41           1           1   1137.0       1.0        1030             67.0   \n",
       "58           1           1   1322.0       1.0        1245             37.0   \n",
       "59           1           1   1325.0       0.0        1315             10.0   \n",
       "...        ...         ...      ...       ...         ...              ...   \n",
       "1851396      9          30   1815.0       1.0        1604            131.0   \n",
       "1851397      9          30   1654.0       0.0        1640             14.0   \n",
       "1851399      9          30   2125.0       1.0        1703            262.0   \n",
       "1851403      9          30   1827.0       1.0        1720             67.0   \n",
       "1851412      9          30   1909.0       0.0        1855             14.0   \n",
       "\n",
       "         OriginAirportID  DestAirportID  ArrDelayMinutes  \n",
       "2                  10397          13930             28.0  \n",
       "10                 10397          11292             16.0  \n",
       "41                 10397          12892             79.0  \n",
       "58                 10397          11292             32.0  \n",
       "59                 10397          12892             17.0  \n",
       "...                  ...            ...              ...  \n",
       "1851396            14771          14747            126.0  \n",
       "1851397            14771          14747             16.0  \n",
       "1851399            14771          11292            243.0  \n",
       "1851403            14771          12889             48.0  \n",
       "1851412            14771          14747             33.0  \n",
       "\n",
       "[383005 rows x 24 columns]"
      ],
      "text/html": "<div>\n<style scoped>\n    .dataframe tbody tr th:only-of-type {\n        vertical-align: middle;\n    }\n\n    .dataframe tbody tr th {\n        vertical-align: top;\n    }\n\n    .dataframe thead th {\n        text-align: right;\n    }\n</style>\n<table border=\"1\" class=\"dataframe\">\n  <thead>\n    <tr style=\"text-align: right;\">\n      <th></th>\n      <th>windspeedKmph</th>\n      <th>winddirDegree</th>\n      <th>weatherCode</th>\n      <th>precipMM</th>\n      <th>visibility</th>\n      <th>pressure</th>\n      <th>cloudcover</th>\n      <th>DewPointF</th>\n      <th>WindGustKmph</th>\n      <th>tempF</th>\n      <th>...</th>\n      <th>Year</th>\n      <th>Month</th>\n      <th>DayofMonth</th>\n      <th>DepTime</th>\n      <th>DepDel15</th>\n      <th>CRSDepTime</th>\n      <th>DepDelayMinutes</th>\n      <th>OriginAirportID</th>\n      <th>DestAirportID</th>\n      <th>ArrDelayMinutes</th>\n    </tr>\n  </thead>\n  <tbody>\n    <tr>\n      <th>2</th>\n      <td>18</td>\n      <td>315</td>\n      <td>122</td>\n      <td>0.0</td>\n      <td>10</td>\n      <td>1024</td>\n      <td>100</td>\n      <td>38</td>\n      <td>28</td>\n      <td>40</td>\n      <td>...</td>\n      <td>2016</td>\n      <td>1</td>\n      <td>1</td>\n      <td>652.0</td>\n      <td>1.0</td>\n      <td>615</td>\n      <td>37.0</td>\n      <td>10397</td>\n      <td>13930</td>\n      <td>28.0</td>\n    </tr>\n    <tr>\n      <th>10</th>\n      <td>18</td>\n      <td>317</td>\n      <td>122</td>\n      <td>0.0</td>\n      <td>10</td>\n      <td>1024</td>\n      <td>100</td>\n      <td>38</td>\n      <td>26</td>\n      <td>41</td>\n      <td>...</td>\n      <td>2016</td>\n      <td>1</td>\n      <td>1</td>\n      <td>803.0</td>\n      <td>1.0</td>\n      <td>720</td>\n      <td>43.0</td>\n      <td>10397</td>\n      <td>11292</td>\n      <td>16.0</td>\n    </tr>\n    <tr>\n      <th>41</th>\n      <td>17</td>\n      <td>317</td>\n      <td>122</td>\n      <td>0.0</td>\n      <td>10</td>\n      <td>1025</td>\n      <td>100</td>\n      <td>38</td>\n      <td>20</td>\n      <td>45</td>\n      <td>...</td>\n      <td>2016</td>\n      <td>1</td>\n      <td>1</td>\n      <td>1137.0</td>\n      <td>1.0</td>\n      <td>1030</td>\n      <td>67.0</td>\n      <td>10397</td>\n      <td>12892</td>\n      <td>79.0</td>\n    </tr>\n    <tr>\n      <th>58</th>\n      <td>17</td>\n      <td>317</td>\n      <td>122</td>\n      <td>0.0</td>\n      <td>10</td>\n      <td>1025</td>\n      <td>100</td>\n      <td>38</td>\n      <td>21</td>\n      <td>47</td>\n      <td>...</td>\n      <td>2016</td>\n      <td>1</td>\n      <td>1</td>\n      <td>1322.0</td>\n      <td>1.0</td>\n      <td>1245</td>\n      <td>37.0</td>\n      <td>10397</td>\n      <td>11292</td>\n      <td>32.0</td>\n    </tr>\n    <tr>\n      <th>59</th>\n      <td>17</td>\n      <td>317</td>\n      <td>122</td>\n      <td>0.0</td>\n      <td>10</td>\n      <td>1025</td>\n      <td>100</td>\n      <td>38</td>\n      <td>21</td>\n      <td>47</td>\n      <td>...</td>\n      <td>2016</td>\n      <td>1</td>\n      <td>1</td>\n      <td>1325.0</td>\n      <td>0.0</td>\n      <td>1315</td>\n      <td>10.0</td>\n      <td>10397</td>\n      <td>12892</td>\n      <td>17.0</td>\n    </tr>\n    <tr>\n      <th>...</th>\n      <td>...</td>\n      <td>...</td>\n      <td>...</td>\n      <td>...</td>\n      <td>...</td>\n      <td>...</td>\n      <td>...</td>\n      <td>...</td>\n      <td>...</td>\n      <td>...</td>\n      <td>...</td>\n      <td>...</td>\n      <td>...</td>\n      <td>...</td>\n      <td>...</td>\n      <td>...</td>\n      <td>...</td>\n      <td>...</td>\n      <td>...</td>\n      <td>...</td>\n      <td>...</td>\n    </tr>\n    <tr>\n      <th>1851396</th>\n      <td>24</td>\n      <td>292</td>\n      <td>113</td>\n      <td>0.0</td>\n      <td>10</td>\n      <td>1015</td>\n      <td>11</td>\n      <td>56</td>\n      <td>26</td>\n      <td>66</td>\n      <td>...</td>\n      <td>2017</td>\n      <td>9</td>\n      <td>30</td>\n      <td>1815.0</td>\n      <td>1.0</td>\n      <td>1604</td>\n      <td>131.0</td>\n      <td>14771</td>\n      <td>14747</td>\n      <td>126.0</td>\n    </tr>\n    <tr>\n      <th>1851397</th>\n      <td>25</td>\n      <td>293</td>\n      <td>113</td>\n      <td>0.0</td>\n      <td>10</td>\n      <td>1014</td>\n      <td>5</td>\n      <td>57</td>\n      <td>27</td>\n      <td>67</td>\n      <td>...</td>\n      <td>2017</td>\n      <td>9</td>\n      <td>30</td>\n      <td>1654.0</td>\n      <td>0.0</td>\n      <td>1640</td>\n      <td>14.0</td>\n      <td>14771</td>\n      <td>14747</td>\n      <td>16.0</td>\n    </tr>\n    <tr>\n      <th>1851399</th>\n      <td>25</td>\n      <td>293</td>\n      <td>113</td>\n      <td>0.0</td>\n      <td>10</td>\n      <td>1014</td>\n      <td>5</td>\n      <td>57</td>\n      <td>27</td>\n      <td>67</td>\n      <td>...</td>\n      <td>2017</td>\n      <td>9</td>\n      <td>30</td>\n      <td>2125.0</td>\n      <td>1.0</td>\n      <td>1703</td>\n      <td>262.0</td>\n      <td>14771</td>\n      <td>11292</td>\n      <td>243.0</td>\n    </tr>\n    <tr>\n      <th>1851403</th>\n      <td>25</td>\n      <td>293</td>\n      <td>113</td>\n      <td>0.0</td>\n      <td>10</td>\n      <td>1014</td>\n      <td>5</td>\n      <td>57</td>\n      <td>27</td>\n      <td>67</td>\n      <td>...</td>\n      <td>2017</td>\n      <td>9</td>\n      <td>30</td>\n      <td>1827.0</td>\n      <td>1.0</td>\n      <td>1720</td>\n      <td>67.0</td>\n      <td>14771</td>\n      <td>12889</td>\n      <td>48.0</td>\n    </tr>\n    <tr>\n      <th>1851412</th>\n      <td>26</td>\n      <td>296</td>\n      <td>113</td>\n      <td>0.0</td>\n      <td>10</td>\n      <td>1014</td>\n      <td>0</td>\n      <td>57</td>\n      <td>27</td>\n      <td>67</td>\n      <td>...</td>\n      <td>2017</td>\n      <td>9</td>\n      <td>30</td>\n      <td>1909.0</td>\n      <td>0.0</td>\n      <td>1855</td>\n      <td>14.0</td>\n      <td>14771</td>\n      <td>14747</td>\n      <td>33.0</td>\n    </tr>\n  </tbody>\n</table>\n<p>383005 rows × 24 columns</p>\n</div>"
     },
     "metadata": {},
     "execution_count": 49
    }
   ],
   "source": [
    "df1"
   ]
  },
  {
   "cell_type": "code",
   "execution_count": 50,
   "metadata": {},
   "outputs": [],
   "source": [
    "target1=df1[\"ArrDelayMinutes\"]\n",
    "features1=df1.drop(\"ArrDelayMinutes\",axis=1)"
   ]
  },
  {
   "cell_type": "code",
   "execution_count": 51,
   "metadata": {},
   "outputs": [],
   "source": [
    "train_feature1,test_feature1,train_target1,test_target1=train_test_split(features1,target1,test_size=0.2,random_state=42)"
   ]
  },
  {
   "cell_type": "code",
   "execution_count": 52,
   "metadata": {},
   "outputs": [],
   "source": [
    "XGBoost1=GradientBoostingRegressor().fit(train_feature1,train_target1)\n",
    "XGBoost_pred1=XGBoost1.predict(test_feature1)"
   ]
  },
  {
   "cell_type": "code",
   "execution_count": 53,
   "metadata": {},
   "outputs": [
    {
     "output_type": "stream",
     "name": "stdout",
     "text": [
      "root_mean_squared_error:   16.876250497937136\nmean_absolute_error:       11.67788200167582\nr2_score:                  0.8862754013066069\n"
     ]
    }
   ],
   "source": [
    "print(\"root_mean_squared_error:  \",mean_squared_error(test_target1,XGBoost_pred1)**0.5)\n",
    "print(\"mean_absolute_error:      \",mean_absolute_error(test_target1,XGBoost_pred1))\n",
    "print(\"r2_score:                 \",r2_score(test_target1,XGBoost_pred1))"
   ]
  },
  {
   "cell_type": "code",
   "execution_count": 54,
   "metadata": {},
   "outputs": [
    {
     "output_type": "error",
     "ename": "SyntaxError",
     "evalue": "unexpected EOF while parsing (<ipython-input-54-01057ee718ab>, line 2)",
     "traceback": [
      "\u001b[1;36m  File \u001b[1;32m\"<ipython-input-54-01057ee718ab>\"\u001b[1;36m, line \u001b[1;32m2\u001b[0m\n\u001b[1;33m    features2=df2.drop(\"ArrDelayMinutes\",axis\u001b[0m\n\u001b[1;37m                                             ^\u001b[0m\n\u001b[1;31mSyntaxError\u001b[0m\u001b[1;31m:\u001b[0m unexpected EOF while parsing\n"
     ]
    }
   ],
   "source": [
    "target2=df2[\"ArrDelayMinutes\"]\n",
    "features2=df2.drop(\"ArrDelayMinutes\",axis"
   ]
  },
  {
   "cell_type": "code",
   "execution_count": 103,
   "metadata": {},
   "outputs": [],
   "source": [
    "train_feature2,test_feature2,train_target2,test_target2=train_test_split(features2,target2,test_size=0.2,random_state=42)"
   ]
  },
  {
   "cell_type": "code",
   "execution_count": 104,
   "metadata": {},
   "outputs": [],
   "source": [
    "XGBoost2=GradientBoostingRegressor().fit(train_feature2,train_target2)\n",
    "XGBoost_pred2=XGBoost2.predict(test_feature2)"
   ]
  },
  {
   "cell_type": "code",
   "execution_count": 105,
   "metadata": {},
   "outputs": [
    {
     "output_type": "stream",
     "name": "stdout",
     "text": [
      "root_mean_squared_error:   20.700563499035546\nmean_absolute_error:       15.084686802385367\nr2_score:                  0.9191044226029512\n"
     ]
    }
   ],
   "source": [
    "print(\"root_mean_squared_error:  \",mean_squared_error(test_target2,XGBoost_pred2)**0.5)\n",
    "print(\"mean_absolute_error:      \",mean_absolute_error(test_target2,XGBoost_pred2))\n",
    "print(\"r2_score:                 \",r2_score(test_target2,XGBoost_pred2))"
   ]
  },
  {
   "cell_type": "code",
   "execution_count": 106,
   "metadata": {},
   "outputs": [],
   "source": [
    "target3=df3[\"ArrDelayMinutes\"]\n",
    "features3=df3.drop(\"ArrDelayMinutes\",axis=1)"
   ]
  },
  {
   "cell_type": "code",
   "execution_count": 107,
   "metadata": {},
   "outputs": [],
   "source": [
    "train_feature3,test_feature3,train_target3,test_target3=train_test_split(features3,target3,test_size=0.2,random_state=42)"
   ]
  },
  {
   "cell_type": "code",
   "execution_count": 108,
   "metadata": {},
   "outputs": [],
   "source": [
    "XGBoost3=GradientBoostingRegressor().fit(train_feature3,train_target3)\n",
    "XGBoost_pred3=XGBoost3.predict(test_feature3)"
   ]
  },
  {
   "cell_type": "code",
   "execution_count": 109,
   "metadata": {},
   "outputs": [
    {
     "output_type": "stream",
     "name": "stdout",
     "text": [
      "root_mean_squared_error:   22.245659349923688\nmean_absolute_error:       16.51980015098379\nr2_score:                  0.9610772494173027\n"
     ]
    }
   ],
   "source": [
    "print(\"root_mean_squared_error:  \",mean_squared_error(test_target3,XGBoost_pred3)**0.5)\n",
    "print(\"mean_absolute_error:      \",mean_absolute_error(test_target3,XGBoost_pred3))\n",
    "print(\"r2_score:                 \",r2_score(test_target3,XGBoost_pred3))"
   ]
  },
  {
   "cell_type": "code",
   "execution_count": 110,
   "metadata": {},
   "outputs": [],
   "source": [
    "target4=df4[\"ArrDelayMinutes\"]\n",
    "features4=df4.drop(\"ArrDelayMinutes\",axis=1)"
   ]
  },
  {
   "cell_type": "code",
   "execution_count": 111,
   "metadata": {},
   "outputs": [],
   "source": [
    "train_feature4,test_feature4,train_target4,test_target4=train_test_split(features4,target4,test_size=0.2,random_state=42)"
   ]
  },
  {
   "cell_type": "code",
   "execution_count": 121,
   "metadata": {},
   "outputs": [],
   "source": [
    "XGBoost4=GradientBoostingRegressor().fit(train_feature4,train_target4)\n",
    "XGBoost_pred4=XGBoost4.predict(test_feature4)"
   ]
  },
  {
   "cell_type": "code",
   "execution_count": 122,
   "metadata": {},
   "outputs": [
    {
     "output_type": "stream",
     "name": "stdout",
     "text": [
      "root_mean_squared_error:   24.19515734671272\nmean_absolute_error:       19.424456452594864\nr2_score:                  0.9682225692189339\n"
     ]
    }
   ],
   "source": [
    "print(\"root_mean_squared_error:  \",mean_squared_error(test_target4,XGBoost_pred4)**0.5)\n",
    "print(\"mean_absolute_error:      \",mean_absolute_error(test_target4,XGBoost_pred4))\n",
    "print(\"r2_score:                 \",r2_score(test_target4,XGBoost_pred4))"
   ]
  },
  {
   "cell_type": "code",
   "execution_count": 123,
   "metadata": {},
   "outputs": [],
   "source": [
    "target5=df5[\"ArrDelayMinutes\"]\n",
    "features5=df5.drop(\"ArrDelayMinutes\",axis=1)"
   ]
  },
  {
   "cell_type": "code",
   "execution_count": 124,
   "metadata": {},
   "outputs": [],
   "source": [
    "train_feature5,test_feature5,train_target5,test_target5=train_test_split(features5,target5,test_size=0.2,random_state=42)"
   ]
  },
  {
   "cell_type": "code",
   "execution_count": 125,
   "metadata": {},
   "outputs": [],
   "source": [
    "XGBoost5=GradientBoostingRegressor().fit(train_feature5,train_target5)\n",
    "XGBoost_pred5=XGBoost5.predict(test_feature5)"
   ]
  },
  {
   "cell_type": "code",
   "execution_count": 126,
   "metadata": {},
   "outputs": [
    {
     "output_type": "stream",
     "name": "stdout",
     "text": [
      "root_mean_squared_error:   74.49160924301803\nmean_absolute_error:       58.841754981736734\nr2_score:                  0.9192883184887624\n"
     ]
    }
   ],
   "source": [
    "print(\"root_mean_squared_error:  \",mean_squared_error(test_target5,XGBoost_pred5)**0.5)\n",
    "print(\"mean_absolute_error:      \",mean_absolute_error(test_target5,XGBoost_pred5))\n",
    "print(\"r2_score:                 \",r2_score(test_target5,XGBoost_pred5))"
   ]
  },
  {
   "cell_type": "code",
   "execution_count": null,
   "metadata": {},
   "outputs": [],
   "source": []
  }
 ]
}