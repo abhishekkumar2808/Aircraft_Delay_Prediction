{
 "metadata": {
  "language_info": {
   "codemirror_mode": {
    "name": "ipython",
    "version": 3
   },
   "file_extension": ".py",
   "mimetype": "text/x-python",
   "name": "python",
   "nbconvert_exporter": "python",
   "pygments_lexer": "ipython3",
   "version": "3.8.2-final"
  },
  "orig_nbformat": 2,
  "kernelspec": {
   "name": "Python 3.8.2 64-bit",
   "display_name": "Python 3.8.2 64-bit",
   "metadata": {
    "interpreter": {
     "hash": "4b750c9e8855aca9485cc082e169bcd2d54cc38eb3f235f1466369ee1aa460cf"
    }
   }
  }
 },
 "nbformat": 4,
 "nbformat_minor": 2,
 "cells": [
  {
   "cell_type": "code",
   "execution_count": 2,
   "metadata": {},
   "outputs": [],
   "source": [
    "import os\n",
    "import pandas as pd\n",
    "import json\n",
    "import glob\n",
    "import sklearn\n",
    "from sklearn.feature_selection import SelectKBest\n",
    "from sklearn.feature_selection import chi2\n",
    "from sklearn.feature_selection import f_classif\n",
    "from sklearn.linear_model import LogisticRegression\n",
    "from sklearn.model_selection import train_test_split\n",
    "from sklearn.metrics import average_precision_score\n",
    "from sklearn.tree import DecisionTreeClassifier\n",
    "from sklearn import metrics\n",
    "from sklearn.metrics import mean_squared_error\n",
    "from sklearn.ensemble import GradientBoostingClassifier\n",
    "from sklearn.ensemble import ExtraTreesClassifier\n",
    "from sklearn.metrics import  classification_report\n",
    "from sklearn.metrics import confusion_matrix\n",
    "from imblearn.over_sampling import SMOTE\n",
    "from imblearn.under_sampling import NearMiss"
   ]
  },
  {
   "cell_type": "code",
   "execution_count": 3,
   "metadata": {},
   "outputs": [],
   "source": [
    "result=pd.read_csv(\"processed_data.csv\")"
   ]
  },
  {
   "cell_type": "code",
   "execution_count": 4,
   "metadata": {},
   "outputs": [
    {
     "output_type": "execute_result",
     "data": {
      "text/plain": "         Unnamed: 0  windspeedKmph  winddirDegree  weatherCode  precipMM  \\\n0                 0             11            318          176       0.1   \n1                 1             18            315          122       0.0   \n2                 2             18            315          122       0.0   \n3                 3             18            317          122       0.0   \n4                 4             18            317          122       0.0   \n...             ...            ...            ...          ...       ...   \n1851431     1851431             20            303          113       0.0   \n1851432     1851432             20            303          113       0.0   \n1851433     1851433             20            303          113       0.0   \n1851434     1851434             20            303          113       0.0   \n1851435     1851435             20            303          113       0.0   \n\n         visibility  pressure  cloudcover  DewPointF  WindGustKmph  ...  \\\n0                10      1023         100         47            17  ...   \n1                10      1024         100         38            28  ...   \n2                10      1024         100         38            28  ...   \n3                10      1024         100         38            26  ...   \n4                10      1024         100         38            26  ...   \n...             ...       ...         ...        ...           ...  ...   \n1851431          10      1014           0         58            22  ...   \n1851432          10      1014           0         58            22  ...   \n1851433          10      1014           0         58            22  ...   \n1851434          10      1014           0         58            22  ...   \n1851435          10      1014           0         58            22  ...   \n\n         DepDelayMinutes  OriginAirportID  DestAirportID  ArrTime CRSArrTime  \\\n0                   17.0            10397          13204    101.0         51   \n1                    6.0            10397          13204    728.0        720   \n2                   37.0            10397          13930    753.0        725   \n3                    0.0            10397          13303    838.0        837   \n4                    0.0            10397          12892    922.0        915   \n...                  ...              ...            ...      ...        ...   \n1851431              9.0            14771          13930    513.0        519   \n1851432              5.0            14771          10397    615.0        632   \n1851433              0.0            14771          12478    735.0        750   \n1851434              0.0            14771          12478    655.0        704   \n1851435              0.0            14771          13303    649.0        701   \n\n        ArrDel15 ArrDelayMinutes  Origin Dest  round_time  \n0            0.0            10.0     ATL  MCO           0  \n1            0.0             8.0     ATL  MCO         600  \n2            1.0            28.0     ATL  ORD         600  \n3            0.0             1.0     ATL  MIA         700  \n4            0.0             7.0     ATL  LAX         700  \n...          ...             ...     ...  ...         ...  \n1851431      0.0             0.0     SFO  ORD        2300  \n1851432      0.0             0.0     SFO  ATL        2300  \n1851433      0.0             0.0     SFO  JFK        2300  \n1851434      0.0             0.0     SFO  JFK        2300  \n1851435      0.0             0.0     SFO  MIA        2300  \n\n[1851436 rows x 36 columns]",
      "text/html": "<div>\n<style scoped>\n    .dataframe tbody tr th:only-of-type {\n        vertical-align: middle;\n    }\n\n    .dataframe tbody tr th {\n        vertical-align: top;\n    }\n\n    .dataframe thead th {\n        text-align: right;\n    }\n</style>\n<table border=\"1\" class=\"dataframe\">\n  <thead>\n    <tr style=\"text-align: right;\">\n      <th></th>\n      <th>Unnamed: 0</th>\n      <th>windspeedKmph</th>\n      <th>winddirDegree</th>\n      <th>weatherCode</th>\n      <th>precipMM</th>\n      <th>visibility</th>\n      <th>pressure</th>\n      <th>cloudcover</th>\n      <th>DewPointF</th>\n      <th>WindGustKmph</th>\n      <th>...</th>\n      <th>DepDelayMinutes</th>\n      <th>OriginAirportID</th>\n      <th>DestAirportID</th>\n      <th>ArrTime</th>\n      <th>CRSArrTime</th>\n      <th>ArrDel15</th>\n      <th>ArrDelayMinutes</th>\n      <th>Origin</th>\n      <th>Dest</th>\n      <th>round_time</th>\n    </tr>\n  </thead>\n  <tbody>\n    <tr>\n      <th>0</th>\n      <td>0</td>\n      <td>11</td>\n      <td>318</td>\n      <td>176</td>\n      <td>0.1</td>\n      <td>10</td>\n      <td>1023</td>\n      <td>100</td>\n      <td>47</td>\n      <td>17</td>\n      <td>...</td>\n      <td>17.0</td>\n      <td>10397</td>\n      <td>13204</td>\n      <td>101.0</td>\n      <td>51</td>\n      <td>0.0</td>\n      <td>10.0</td>\n      <td>ATL</td>\n      <td>MCO</td>\n      <td>0</td>\n    </tr>\n    <tr>\n      <th>1</th>\n      <td>1</td>\n      <td>18</td>\n      <td>315</td>\n      <td>122</td>\n      <td>0.0</td>\n      <td>10</td>\n      <td>1024</td>\n      <td>100</td>\n      <td>38</td>\n      <td>28</td>\n      <td>...</td>\n      <td>6.0</td>\n      <td>10397</td>\n      <td>13204</td>\n      <td>728.0</td>\n      <td>720</td>\n      <td>0.0</td>\n      <td>8.0</td>\n      <td>ATL</td>\n      <td>MCO</td>\n      <td>600</td>\n    </tr>\n    <tr>\n      <th>2</th>\n      <td>2</td>\n      <td>18</td>\n      <td>315</td>\n      <td>122</td>\n      <td>0.0</td>\n      <td>10</td>\n      <td>1024</td>\n      <td>100</td>\n      <td>38</td>\n      <td>28</td>\n      <td>...</td>\n      <td>37.0</td>\n      <td>10397</td>\n      <td>13930</td>\n      <td>753.0</td>\n      <td>725</td>\n      <td>1.0</td>\n      <td>28.0</td>\n      <td>ATL</td>\n      <td>ORD</td>\n      <td>600</td>\n    </tr>\n    <tr>\n      <th>3</th>\n      <td>3</td>\n      <td>18</td>\n      <td>317</td>\n      <td>122</td>\n      <td>0.0</td>\n      <td>10</td>\n      <td>1024</td>\n      <td>100</td>\n      <td>38</td>\n      <td>26</td>\n      <td>...</td>\n      <td>0.0</td>\n      <td>10397</td>\n      <td>13303</td>\n      <td>838.0</td>\n      <td>837</td>\n      <td>0.0</td>\n      <td>1.0</td>\n      <td>ATL</td>\n      <td>MIA</td>\n      <td>700</td>\n    </tr>\n    <tr>\n      <th>4</th>\n      <td>4</td>\n      <td>18</td>\n      <td>317</td>\n      <td>122</td>\n      <td>0.0</td>\n      <td>10</td>\n      <td>1024</td>\n      <td>100</td>\n      <td>38</td>\n      <td>26</td>\n      <td>...</td>\n      <td>0.0</td>\n      <td>10397</td>\n      <td>12892</td>\n      <td>922.0</td>\n      <td>915</td>\n      <td>0.0</td>\n      <td>7.0</td>\n      <td>ATL</td>\n      <td>LAX</td>\n      <td>700</td>\n    </tr>\n    <tr>\n      <th>...</th>\n      <td>...</td>\n      <td>...</td>\n      <td>...</td>\n      <td>...</td>\n      <td>...</td>\n      <td>...</td>\n      <td>...</td>\n      <td>...</td>\n      <td>...</td>\n      <td>...</td>\n      <td>...</td>\n      <td>...</td>\n      <td>...</td>\n      <td>...</td>\n      <td>...</td>\n      <td>...</td>\n      <td>...</td>\n      <td>...</td>\n      <td>...</td>\n      <td>...</td>\n      <td>...</td>\n    </tr>\n    <tr>\n      <th>1851431</th>\n      <td>1851431</td>\n      <td>20</td>\n      <td>303</td>\n      <td>113</td>\n      <td>0.0</td>\n      <td>10</td>\n      <td>1014</td>\n      <td>0</td>\n      <td>58</td>\n      <td>22</td>\n      <td>...</td>\n      <td>9.0</td>\n      <td>14771</td>\n      <td>13930</td>\n      <td>513.0</td>\n      <td>519</td>\n      <td>0.0</td>\n      <td>0.0</td>\n      <td>SFO</td>\n      <td>ORD</td>\n      <td>2300</td>\n    </tr>\n    <tr>\n      <th>1851432</th>\n      <td>1851432</td>\n      <td>20</td>\n      <td>303</td>\n      <td>113</td>\n      <td>0.0</td>\n      <td>10</td>\n      <td>1014</td>\n      <td>0</td>\n      <td>58</td>\n      <td>22</td>\n      <td>...</td>\n      <td>5.0</td>\n      <td>14771</td>\n      <td>10397</td>\n      <td>615.0</td>\n      <td>632</td>\n      <td>0.0</td>\n      <td>0.0</td>\n      <td>SFO</td>\n      <td>ATL</td>\n      <td>2300</td>\n    </tr>\n    <tr>\n      <th>1851433</th>\n      <td>1851433</td>\n      <td>20</td>\n      <td>303</td>\n      <td>113</td>\n      <td>0.0</td>\n      <td>10</td>\n      <td>1014</td>\n      <td>0</td>\n      <td>58</td>\n      <td>22</td>\n      <td>...</td>\n      <td>0.0</td>\n      <td>14771</td>\n      <td>12478</td>\n      <td>735.0</td>\n      <td>750</td>\n      <td>0.0</td>\n      <td>0.0</td>\n      <td>SFO</td>\n      <td>JFK</td>\n      <td>2300</td>\n    </tr>\n    <tr>\n      <th>1851434</th>\n      <td>1851434</td>\n      <td>20</td>\n      <td>303</td>\n      <td>113</td>\n      <td>0.0</td>\n      <td>10</td>\n      <td>1014</td>\n      <td>0</td>\n      <td>58</td>\n      <td>22</td>\n      <td>...</td>\n      <td>0.0</td>\n      <td>14771</td>\n      <td>12478</td>\n      <td>655.0</td>\n      <td>704</td>\n      <td>0.0</td>\n      <td>0.0</td>\n      <td>SFO</td>\n      <td>JFK</td>\n      <td>2300</td>\n    </tr>\n    <tr>\n      <th>1851435</th>\n      <td>1851435</td>\n      <td>20</td>\n      <td>303</td>\n      <td>113</td>\n      <td>0.0</td>\n      <td>10</td>\n      <td>1014</td>\n      <td>0</td>\n      <td>58</td>\n      <td>22</td>\n      <td>...</td>\n      <td>0.0</td>\n      <td>14771</td>\n      <td>13303</td>\n      <td>649.0</td>\n      <td>701</td>\n      <td>0.0</td>\n      <td>0.0</td>\n      <td>SFO</td>\n      <td>MIA</td>\n      <td>2300</td>\n    </tr>\n  </tbody>\n</table>\n<p>1851436 rows × 36 columns</p>\n</div>"
     },
     "metadata": {},
     "execution_count": 4
    }
   ],
   "source": [
    "result\n"
   ]
  },
  {
   "cell_type": "code",
   "execution_count": 10,
   "metadata": {},
   "outputs": [],
   "source": [
    "target=result[\"ArrDel15\"]"
   ]
  },
  {
   "cell_type": "code",
   "execution_count": 6,
   "metadata": {},
   "outputs": [],
   "source": [
    "features=result.copy()\n",
    "features=features.drop([\"ArrDel15\",\"Unnamed: 0\",\"date\",\"airport\",\"air\",\"FlightDate\",\"Origin\",\"Dest\"],axis=1)"
   ]
  },
  {
   "cell_type": "code",
   "execution_count": 7,
   "metadata": {},
   "outputs": [],
   "source": [
    "features=features.drop([\"ArrDelayMinutes\",\"time\",\"ArrTime\",\"CRSArrTime\",\"time\",\"round_time\"],axis=1)"
   ]
  },
  {
   "cell_type": "code",
   "execution_count": 12,
   "metadata": {
    "tags": []
   },
   "outputs": [],
   "source": [
    "selector=SelectKBest(f_classif,k=20).fit(features,target)"
   ]
  },
  {
   "cell_type": "code",
   "execution_count": 14,
   "metadata": {
    "tags": []
   },
   "outputs": [],
   "source": [
    "cols=selector.get_support(indices=True)"
   ]
  },
  {
   "cell_type": "code",
   "execution_count": 15,
   "metadata": {},
   "outputs": [],
   "source": [
    "features_selt=features.iloc[:,cols]"
   ]
  },
  {
   "cell_type": "code",
   "execution_count": 16,
   "metadata": {},
   "outputs": [
    {
     "output_type": "execute_result",
     "data": {
      "text/plain": "         windspeedKmph  winddirDegree  weatherCode  precipMM  visibility  \\\n0                   11            318          176       0.1          10   \n1                   18            315          122       0.0          10   \n2                   18            315          122       0.0          10   \n3                   18            317          122       0.0          10   \n4                   18            317          122       0.0          10   \n...                ...            ...          ...       ...         ...   \n1851431             20            303          113       0.0          10   \n1851432             20            303          113       0.0          10   \n1851433             20            303          113       0.0          10   \n1851434             20            303          113       0.0          10   \n1851435             20            303          113       0.0          10   \n\n         pressure  cloudcover  DewPointF  WindGustKmph  tempF  WindChillF  \\\n0            1023         100         47            17     49          46   \n1            1024         100         38            28     40          32   \n2            1024         100         38            28     40          32   \n3            1024         100         38            26     41          33   \n4            1024         100         38            26     41          33   \n...           ...         ...        ...           ...    ...         ...   \n1851431      1014           0         58            22     66          66   \n1851432      1014           0         58            22     66          66   \n1851433      1014           0         58            22     66          66   \n1851434      1014           0         58            22     66          66   \n1851435      1014           0         58            22     66          66   \n\n         int_time  Quarter  Month  DepTime  DepDel15  CRSDepTime  \\\n0               0        1      1   2347.0       1.0        2330   \n1             600        1      1    606.0       0.0         600   \n2             600        1      1    652.0       1.0         615   \n3             700        1      1    642.0       0.0         645   \n4             700        1      1    715.0       0.0         715   \n...           ...      ...    ...      ...       ...         ...   \n1851431      2300        3      9   2329.0       0.0        2320   \n1851432      2300        3      9   2258.0       0.0        2253   \n1851433      2300        3      9   2309.0       0.0        2310   \n1851434      2300        3      9   2225.0       0.0        2230   \n1851435      2300        3      9   2228.0       0.0        2235   \n\n         DepDelayMinutes  OriginAirportID  DestAirportID  \n0                   17.0            10397          13204  \n1                    6.0            10397          13204  \n2                   37.0            10397          13930  \n3                    0.0            10397          13303  \n4                    0.0            10397          12892  \n...                  ...              ...            ...  \n1851431              9.0            14771          13930  \n1851432              5.0            14771          10397  \n1851433              0.0            14771          12478  \n1851434              0.0            14771          12478  \n1851435              0.0            14771          13303  \n\n[1851436 rows x 20 columns]",
      "text/html": "<div>\n<style scoped>\n    .dataframe tbody tr th:only-of-type {\n        vertical-align: middle;\n    }\n\n    .dataframe tbody tr th {\n        vertical-align: top;\n    }\n\n    .dataframe thead th {\n        text-align: right;\n    }\n</style>\n<table border=\"1\" class=\"dataframe\">\n  <thead>\n    <tr style=\"text-align: right;\">\n      <th></th>\n      <th>windspeedKmph</th>\n      <th>winddirDegree</th>\n      <th>weatherCode</th>\n      <th>precipMM</th>\n      <th>visibility</th>\n      <th>pressure</th>\n      <th>cloudcover</th>\n      <th>DewPointF</th>\n      <th>WindGustKmph</th>\n      <th>tempF</th>\n      <th>WindChillF</th>\n      <th>int_time</th>\n      <th>Quarter</th>\n      <th>Month</th>\n      <th>DepTime</th>\n      <th>DepDel15</th>\n      <th>CRSDepTime</th>\n      <th>DepDelayMinutes</th>\n      <th>OriginAirportID</th>\n      <th>DestAirportID</th>\n    </tr>\n  </thead>\n  <tbody>\n    <tr>\n      <th>0</th>\n      <td>11</td>\n      <td>318</td>\n      <td>176</td>\n      <td>0.1</td>\n      <td>10</td>\n      <td>1023</td>\n      <td>100</td>\n      <td>47</td>\n      <td>17</td>\n      <td>49</td>\n      <td>46</td>\n      <td>0</td>\n      <td>1</td>\n      <td>1</td>\n      <td>2347.0</td>\n      <td>1.0</td>\n      <td>2330</td>\n      <td>17.0</td>\n      <td>10397</td>\n      <td>13204</td>\n    </tr>\n    <tr>\n      <th>1</th>\n      <td>18</td>\n      <td>315</td>\n      <td>122</td>\n      <td>0.0</td>\n      <td>10</td>\n      <td>1024</td>\n      <td>100</td>\n      <td>38</td>\n      <td>28</td>\n      <td>40</td>\n      <td>32</td>\n      <td>600</td>\n      <td>1</td>\n      <td>1</td>\n      <td>606.0</td>\n      <td>0.0</td>\n      <td>600</td>\n      <td>6.0</td>\n      <td>10397</td>\n      <td>13204</td>\n    </tr>\n    <tr>\n      <th>2</th>\n      <td>18</td>\n      <td>315</td>\n      <td>122</td>\n      <td>0.0</td>\n      <td>10</td>\n      <td>1024</td>\n      <td>100</td>\n      <td>38</td>\n      <td>28</td>\n      <td>40</td>\n      <td>32</td>\n      <td>600</td>\n      <td>1</td>\n      <td>1</td>\n      <td>652.0</td>\n      <td>1.0</td>\n      <td>615</td>\n      <td>37.0</td>\n      <td>10397</td>\n      <td>13930</td>\n    </tr>\n    <tr>\n      <th>3</th>\n      <td>18</td>\n      <td>317</td>\n      <td>122</td>\n      <td>0.0</td>\n      <td>10</td>\n      <td>1024</td>\n      <td>100</td>\n      <td>38</td>\n      <td>26</td>\n      <td>41</td>\n      <td>33</td>\n      <td>700</td>\n      <td>1</td>\n      <td>1</td>\n      <td>642.0</td>\n      <td>0.0</td>\n      <td>645</td>\n      <td>0.0</td>\n      <td>10397</td>\n      <td>13303</td>\n    </tr>\n    <tr>\n      <th>4</th>\n      <td>18</td>\n      <td>317</td>\n      <td>122</td>\n      <td>0.0</td>\n      <td>10</td>\n      <td>1024</td>\n      <td>100</td>\n      <td>38</td>\n      <td>26</td>\n      <td>41</td>\n      <td>33</td>\n      <td>700</td>\n      <td>1</td>\n      <td>1</td>\n      <td>715.0</td>\n      <td>0.0</td>\n      <td>715</td>\n      <td>0.0</td>\n      <td>10397</td>\n      <td>12892</td>\n    </tr>\n    <tr>\n      <th>...</th>\n      <td>...</td>\n      <td>...</td>\n      <td>...</td>\n      <td>...</td>\n      <td>...</td>\n      <td>...</td>\n      <td>...</td>\n      <td>...</td>\n      <td>...</td>\n      <td>...</td>\n      <td>...</td>\n      <td>...</td>\n      <td>...</td>\n      <td>...</td>\n      <td>...</td>\n      <td>...</td>\n      <td>...</td>\n      <td>...</td>\n      <td>...</td>\n      <td>...</td>\n    </tr>\n    <tr>\n      <th>1851431</th>\n      <td>20</td>\n      <td>303</td>\n      <td>113</td>\n      <td>0.0</td>\n      <td>10</td>\n      <td>1014</td>\n      <td>0</td>\n      <td>58</td>\n      <td>22</td>\n      <td>66</td>\n      <td>66</td>\n      <td>2300</td>\n      <td>3</td>\n      <td>9</td>\n      <td>2329.0</td>\n      <td>0.0</td>\n      <td>2320</td>\n      <td>9.0</td>\n      <td>14771</td>\n      <td>13930</td>\n    </tr>\n    <tr>\n      <th>1851432</th>\n      <td>20</td>\n      <td>303</td>\n      <td>113</td>\n      <td>0.0</td>\n      <td>10</td>\n      <td>1014</td>\n      <td>0</td>\n      <td>58</td>\n      <td>22</td>\n      <td>66</td>\n      <td>66</td>\n      <td>2300</td>\n      <td>3</td>\n      <td>9</td>\n      <td>2258.0</td>\n      <td>0.0</td>\n      <td>2253</td>\n      <td>5.0</td>\n      <td>14771</td>\n      <td>10397</td>\n    </tr>\n    <tr>\n      <th>1851433</th>\n      <td>20</td>\n      <td>303</td>\n      <td>113</td>\n      <td>0.0</td>\n      <td>10</td>\n      <td>1014</td>\n      <td>0</td>\n      <td>58</td>\n      <td>22</td>\n      <td>66</td>\n      <td>66</td>\n      <td>2300</td>\n      <td>3</td>\n      <td>9</td>\n      <td>2309.0</td>\n      <td>0.0</td>\n      <td>2310</td>\n      <td>0.0</td>\n      <td>14771</td>\n      <td>12478</td>\n    </tr>\n    <tr>\n      <th>1851434</th>\n      <td>20</td>\n      <td>303</td>\n      <td>113</td>\n      <td>0.0</td>\n      <td>10</td>\n      <td>1014</td>\n      <td>0</td>\n      <td>58</td>\n      <td>22</td>\n      <td>66</td>\n      <td>66</td>\n      <td>2300</td>\n      <td>3</td>\n      <td>9</td>\n      <td>2225.0</td>\n      <td>0.0</td>\n      <td>2230</td>\n      <td>0.0</td>\n      <td>14771</td>\n      <td>12478</td>\n    </tr>\n    <tr>\n      <th>1851435</th>\n      <td>20</td>\n      <td>303</td>\n      <td>113</td>\n      <td>0.0</td>\n      <td>10</td>\n      <td>1014</td>\n      <td>0</td>\n      <td>58</td>\n      <td>22</td>\n      <td>66</td>\n      <td>66</td>\n      <td>2300</td>\n      <td>3</td>\n      <td>9</td>\n      <td>2228.0</td>\n      <td>0.0</td>\n      <td>2235</td>\n      <td>0.0</td>\n      <td>14771</td>\n      <td>13303</td>\n    </tr>\n  </tbody>\n</table>\n<p>1851436 rows × 20 columns</p>\n</div>"
     },
     "metadata": {},
     "execution_count": 16
    }
   ],
   "source": [
    "features_selt"
   ]
  },
  {
   "cell_type": "code",
   "execution_count": 17,
   "metadata": {},
   "outputs": [
    {
     "output_type": "execute_result",
     "data": {
      "text/plain": "[&#39;windspeedKmph&#39;,\n &#39;winddirDegree&#39;,\n &#39;weatherCode&#39;,\n &#39;precipMM&#39;,\n &#39;visibility&#39;,\n &#39;pressure&#39;,\n &#39;cloudcover&#39;,\n &#39;DewPointF&#39;,\n &#39;WindGustKmph&#39;,\n &#39;tempF&#39;,\n &#39;WindChillF&#39;,\n &#39;int_time&#39;,\n &#39;Quarter&#39;,\n &#39;Month&#39;,\n &#39;DepTime&#39;,\n &#39;DepDel15&#39;,\n &#39;CRSDepTime&#39;,\n &#39;DepDelayMinutes&#39;,\n &#39;OriginAirportID&#39;,\n &#39;DestAirportID&#39;]"
     },
     "metadata": {},
     "execution_count": 17
    }
   ],
   "source": [
    "#listing the selected features.\n",
    "list(features_selt.columns)"
   ]
  },
  {
   "cell_type": "code",
   "execution_count": 18,
   "metadata": {},
   "outputs": [],
   "source": [
    "train_feature,test_feature,train_target,test_target=train_test_split(features_selt,target,test_size=0.2,random_state=42)"
   ]
  },
  {
   "cell_type": "code",
   "execution_count": 19,
   "metadata": {},
   "outputs": [],
   "source": [
    "#logistic regression classification\n",
    "LogReg=LogisticRegression()\n",
    "LogReg.fit(train_feature,train_target)\n",
    "logit_predict=LogReg.predict(test_feature)"
   ]
  },
  {
   "cell_type": "code",
   "execution_count": 20,
   "metadata": {
    "tags": []
   },
   "outputs": [
    {
     "output_type": "stream",
     "name": "stdout",
     "text": "              precision    recall  f1-score   support\n\n         0.0       0.92      0.98      0.95    292301\n         1.0       0.89      0.68      0.77     77987\n\n    accuracy                           0.92    370288\n   macro avg       0.91      0.83      0.86    370288\nweighted avg       0.91      0.92      0.91    370288\n\n"
    }
   ],
   "source": [
    "print(classification_report(test_target,logit_predict))"
   ]
  },
  {
   "cell_type": "code",
   "execution_count": 21,
   "metadata": {},
   "outputs": [],
   "source": [
    " #decision tree classifier\n",
    " dtc=DecisionTreeClassifier(random_state=0)\n",
    " dtc=dtc.fit(train_feature,train_target)\n",
    " tree_pred=dtc.predict(test_feature)\n",
    " 8"
   ]
  },
  {
   "cell_type": "code",
   "execution_count": 22,
   "metadata": {
    "tags": []
   },
   "outputs": [
    {
     "output_type": "stream",
     "name": "stdout",
     "text": "              precision    recall  f1-score   support\n\n         0.0       0.92      0.91      0.92    292301\n         1.0       0.68      0.70      0.69     77987\n\n    accuracy                           0.87    370288\n   macro avg       0.80      0.81      0.80    370288\nweighted avg       0.87      0.87      0.87    370288\n\n"
    }
   ],
   "source": [
    "pk \n",
    "rint(classification_report(test_target,tree_pred))"
   ]
  },
  {
   "cell_type": "code",
   "execution_count": 23,
   "metadata": {},
   "outputs": [
    {
     "output_type": "execute_result",
     "data": {
      "text/plain": "GradientBoostingClassifier(random_state=0)"
     },
     "metadata": {},
     "execution_count": 23
    }
   ],
   "source": [
    "#xgboost\n",
    "xgb = GradientBoostingClassifier(random_state=0)\n",
    "xgb.fit(train_feature,train_target)"
   ]
  },
  {
   "cell_type": "code",
   "execution_count": 24,
   "metadata": {},
   "outputs": [],
   "source": [
    "xgb_pred=xgb.predict(test_feature)"
   ]
  },
  {
   "cell_type": "code",
   "execution_count": 25,
   "metadata": {
    "tags": []
   },
   "outputs": [
    {
     "output_type": "stream",
     "name": "stdout",
     "text": "              precision    recall  f1-score   support\n\n         0.0       0.92      0.98      0.95    292301\n         1.0       0.90      0.68      0.77     77987\n\n    accuracy                           0.92    370288\n   macro avg       0.91      0.83      0.86    370288\nweighted avg       0.92      0.92      0.91    370288\n\n"
    }
   ],
   "source": [
    "print(classification_report(test_target,xgb_pred))"
   ]
  },
  {
   "cell_type": "code",
   "execution_count": 26,
   "metadata": {},
   "outputs": [],
   "source": [
    "#extra tree classifier\n",
    "etc=ExtraTreesClassifier(n_estimators=100,random_state=0)\n",
    "etc.fit(train_feature,train_target)\n",
    "extratree_pred=etc.predict(test_feature)\n"
   ]
  },
  {
   "cell_type": "code",
   "execution_count": 27,
   "metadata": {
    "tags": []
   },
   "outputs": [
    {
     "output_type": "stream",
     "name": "stdout",
     "text": "              precision    recall  f1-score   support\n\n         0.0       0.93      0.96      0.94    292301\n         1.0       0.83      0.73      0.77     77987\n\n    accuracy                           0.91    370288\n   macro avg       0.88      0.84      0.86    370288\nweighted avg       0.91      0.91      0.91    370288\n\n"
    }
   ],
   "source": [
    "\n",
    "print(classification_report(test_target,extratree_pred))"
   ]
  },
  {
   "cell_type": "code",
   "execution_count": 28,
   "metadata": {},
   "outputs": [],
   "source": [
    "#oversampling method\n",
    "#os = oversampling\n",
    "os=SMOTE(random_state=2)\n",
    "train_feature_os,train_target_os= os.fit_sample(train_feature,train_target)"
   ]
  },
  {
   "cell_type": "code",
   "execution_count": 29,
   "metadata": {},
   "outputs": [],
   "source": [
    "#logistic reg\n",
    "LogReg_os=LogisticRegression()\n",
    "LogReg_os.fit(train_feature_os,train_target_os)\n",
    "logit_predict_os=LogReg_os.predict(test_feature)"
   ]
  },
  {
   "cell_type": "code",
   "execution_count": 30,
   "metadata": {
    "tags": []
   },
   "outputs": [
    {
     "output_type": "stream",
     "name": "stdout",
     "text": "              precision    recall  f1-score   support\n\n         0.0       0.94      0.93      0.93    292301\n         1.0       0.74      0.78      0.76     77987\n\n    accuracy                           0.90    370288\n   macro avg       0.84      0.85      0.85    370288\nweighted avg       0.90      0.90      0.90    370288\n\n"
    }
   ],
   "source": [
    "print(classification_report(test_target,logit_predict_os))"
   ]
  },
  {
   "cell_type": "code",
   "execution_count": 31,
   "metadata": {},
   "outputs": [],
   "source": [
    "#decision tree classifier\n",
    "dtc_os=DecisionTreeClassifier()\n",
    "dtc_os.fit(train_feature_os,train_target_os)\n",
    "tree_pred_os=dtc_os.predict(test_feature)"
   ]
  },
  {
   "cell_type": "code",
   "execution_count": 32,
   "metadata": {
    "tags": []
   },
   "outputs": [
    {
     "output_type": "stream",
     "name": "stdout",
     "text": "              precision    recall  f1-score   support\n\n         0.0       0.92      0.90      0.91    292301\n         1.0       0.66      0.70      0.68     77987\n\n    accuracy                           0.86    370288\n   macro avg       0.79      0.80      0.80    370288\nweighted avg       0.87      0.86      0.86    370288\n\n"
    }
   ],
   "source": [
    "print(classification_report(test_target,tree_pred_os))"
   ]
  },
  {
   "cell_type": "code",
   "execution_count": 33,
   "metadata": {},
   "outputs": [],
   "source": [
    "#xgboost\n",
    "xgb_os = GradientBoostingClassifier(random_state=0)\n",
    "xgb_os.fit(train_feature_os,train_target_os)\n",
    "xgb_pred_os=xgb_os.predict(test_feature)"
   ]
  },
  {
   "cell_type": "code",
   "execution_count": 34,
   "metadata": {
    "tags": []
   },
   "outputs": [
    {
     "output_type": "stream",
     "name": "stdout",
     "text": "              precision    recall  f1-score   support\n\n         0.0       0.93      0.95      0.94    292301\n         1.0       0.81      0.74      0.77     77987\n\n    accuracy                           0.91    370288\n   macro avg       0.87      0.85      0.86    370288\nweighted avg       0.91      0.91      0.91    370288\n\n"
    }
   ],
   "source": [
    "print(classification_report(test_target,xgb_pred_os))"
   ]
  },
  {
   "cell_type": "code",
   "execution_count": 35,
   "metadata": {},
   "outputs": [],
   "source": [
    "#extra tree classifier\n",
    "etc_os=ExtraTreesClassifier(n_estimators=100,random_state=0)\n",
    "etc_os.fit(train_feature_os,train_target_os)\n",
    "extratree_pred_os=etc_os.predict(test_feature)\n"
   ]
  },
  {
   "cell_type": "code",
   "execution_count": 36,
   "metadata": {
    "tags": []
   },
   "outputs": [
    {
     "output_type": "stream",
     "name": "stdout",
     "text": "              precision    recall  f1-score   support\n\n         0.0       0.94      0.95      0.94    292301\n         1.0       0.79      0.75      0.77     77987\n\n    accuracy                           0.91    370288\n   macro avg       0.86      0.85      0.86    370288\nweighted avg       0.90      0.91      0.90    370288\n\n"
    }
   ],
   "source": [
    "print(classification_report(test_target,extratree_pred_os))"
   ]
  },
  {
   "cell_type": "code",
   "execution_count": 37,
   "metadata": {},
   "outputs": [],
   "source": [
    "#under-sampling\n",
    "#us- under sampling\n",
    "us =NearMiss()\n",
    "train_feature_us,train_target_us=  us.fit_sample(train_feature,train_target)"
   ]
  },
  {
   "source": [
    "#logistic reg\n",
    "LogReg_us=LogisticRegression()\n",
    "LogReg_us.fit(train_feature_us,train_target_us)\n",
    "logit_predict_us=LogReg_us.predict(test_feature)"
   ],
   "cell_type": "code",
   "metadata": {},
   "execution_count": 38,
   "outputs": []
  },
  {
   "cell_type": "code",
   "execution_count": 39,
   "metadata": {
    "tags": []
   },
   "outputs": [
    {
     "output_type": "stream",
     "name": "stdout",
     "text": "              precision    recall  f1-score   support\n\n         0.0       0.94      0.84      0.89    292301\n         1.0       0.57      0.80      0.67     77987\n\n    accuracy                           0.83    370288\n   macro avg       0.76      0.82      0.78    370288\nweighted avg       0.86      0.83      0.84    370288\n\n"
    }
   ],
   "source": [
    "print(classification_report(test_target,logit_predict_us))\n"
   ]
  },
  {
   "cell_type": "code",
   "execution_count": 40,
   "metadata": {},
   "outputs": [],
   "source": [
    "#decision tree classifier\n",
    "dtc_us=DecisionTreeClassifier()\n",
    "dtc_us.fit(train_feature_us,train_target_us)\n",
    "tree_pred_us=dtc_us.predict(test_feature)"
   ]
  },
  {
   "cell_type": "code",
   "execution_count": 41,
   "metadata": {
    "tags": []
   },
   "outputs": [
    {
     "output_type": "stream",
     "name": "stdout",
     "text": "              precision    recall  f1-score   support\n\n         0.0       0.93      0.61      0.74    292301\n         1.0       0.36      0.83      0.51     77987\n\n    accuracy                           0.66    370288\n   macro avg       0.65      0.72      0.62    370288\nweighted avg       0.81      0.66      0.69    370288\n\n"
    }
   ],
   "source": [
    "print(classification_report(test_target,tree_pred_us))"
   ]
  },
  {
   "cell_type": "code",
   "execution_count": 42,
   "metadata": {},
   "outputs": [],
   "source": [
    "#xgboost\n",
    "xgb_us = GradientBoostingClassifier(random_state=0)\n",
    "xgb_us.fit(train_feature_us,train_target_us)\n",
    "xgb_pred_us=xgb_us.predict(test_feature)"
   ]
  },
  {
   "cell_type": "code",
   "execution_count": 43,
   "metadata": {
    "tags": []
   },
   "outputs": [
    {
     "output_type": "stream",
     "name": "stdout",
     "text": "              precision    recall  f1-score   support\n\n         0.0       0.94      0.78      0.85    292301\n         1.0       0.50      0.82      0.62     77987\n\n    accuracy                           0.79    370288\n   macro avg       0.72      0.80      0.73    370288\nweighted avg       0.85      0.79      0.80    370288\n\n"
    }
   ],
   "source": [
    "print(classification_report(test_target,xgb_pred_us))"
   ]
  },
  {
   "cell_type": "code",
   "execution_count": 44,
   "metadata": {},
   "outputs": [],
   "source": [
    "#extra tree classifier\n",
    "etc_us=ExtraTreesClassifier(n_estimators=100,random_state=0)\n",
    "etc_us.fit(train_feature_us,train_target_us)\n",
    "extratree_pred_us=etc_us.predict(test_feature)"
   ]
  },
  {
   "cell_type": "code",
   "execution_count": 45,
   "metadata": {
    "tags": []
   },
   "outputs": [
    {
     "output_type": "stream",
     "name": "stdout",
     "text": "              precision    recall  f1-score   support\n\n         0.0       0.95      0.69      0.80    292301\n         1.0       0.42      0.85      0.56     77987\n\n    accuracy                           0.72    370288\n   macro avg       0.68      0.77      0.68    370288\nweighted avg       0.84      0.72      0.75    370288\n\n"
    }
   ],
   "source": [
    "print(classification_report(test_target,extratree_pred_us))"
   ]
  }
 ]
}