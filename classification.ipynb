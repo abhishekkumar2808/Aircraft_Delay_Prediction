{
 "metadata": {
  "language_info": {
   "codemirror_mode": {
    "name": "ipython",
    "version": 3
   },
   "file_extension": ".py",
   "mimetype": "text/x-python",
   "name": "python",
   "nbconvert_exporter": "python",
   "pygments_lexer": "ipython3",
   "version": "3.8.2-final"
  },
  "orig_nbformat": 2,
  "kernelspec": {
   "name": "python3",
   "display_name": "Python 3.8.2 64-bit",
   "metadata": {
    "interpreter": {
     "hash": "4b750c9e8855aca9485cc082e169bcd2d54cc38eb3f235f1466369ee1aa460cf"
    }
   }
  }
 },
 "nbformat": 4,
 "nbformat_minor": 2,
 "cells": [
  {
   "cell_type": "code",
   "execution_count": 1,
   "metadata": {},
   "outputs": [],
   "source": [
    "import os\n",
    "import pandas as pd\n",
    "import numpy as np\n",
    "import json\n",
    "import matplotlib.pyplot as plt\n",
    "import glob\n",
    "import sklearn\n",
    "from sklearn.feature_selection import SelectKBest\n",
    "from sklearn.feature_selection import chi2\n",
    "from sklearn.feature_selection import f_classif\n",
    "from sklearn.linear_model import LogisticRegression\n",
    "from sklearn.model_selection import train_test_split\n",
    "from sklearn.metrics import average_precision_score\n",
    "from sklearn.tree import DecisionTreeClassifier\n",
    "from sklearn import metrics\n",
    "from sklearn.metrics import mean_squared_error\n",
    "from sklearn.ensemble import GradientBoostingClassifier\n",
    "from sklearn.ensemble import ExtraTreesClassifier\n",
    "from sklearn.metrics import  classification_report\n",
    "from sklearn.metrics import confusion_matrix\n",
    "from imblearn.over_sampling import SMOTE\n",
    "from imblearn.under_sampling import NearMiss"
   ]
  },
  {
   "cell_type": "code",
   "execution_count": 2,
   "metadata": {},
   "outputs": [
    {
     "output_type": "error",
     "ename": "KeyboardInterrupt",
     "evalue": "",
     "traceback": [
      "\u001b[1;31m---------------------------------------------------------------------------\u001b[0m",
      "\u001b[1;31mKeyboardInterrupt\u001b[0m                         Traceback (most recent call last)",
      "\u001b[1;32m<ipython-input-2-543810803cd0>\u001b[0m in \u001b[0;36m<module>\u001b[1;34m\u001b[0m\n\u001b[1;32m----> 1\u001b[1;33m \u001b[0mresult\u001b[0m\u001b[1;33m=\u001b[0m\u001b[0mpd\u001b[0m\u001b[1;33m.\u001b[0m\u001b[0mread_csv\u001b[0m\u001b[1;33m(\u001b[0m\u001b[1;34m\"processed_data.csv\"\u001b[0m\u001b[1;33m)\u001b[0m\u001b[1;33m\u001b[0m\u001b[1;33m\u001b[0m\u001b[0m\n\u001b[0m",
      "\u001b[1;32m~\\AppData\\Local\\Programs\\Python\\Python38\\lib\\site-packages\\pandas\\io\\parsers.py\u001b[0m in \u001b[0;36mread_csv\u001b[1;34m(filepath_or_buffer, sep, delimiter, header, names, index_col, usecols, squeeze, prefix, mangle_dupe_cols, dtype, engine, converters, true_values, false_values, skipinitialspace, skiprows, skipfooter, nrows, na_values, keep_default_na, na_filter, verbose, skip_blank_lines, parse_dates, infer_datetime_format, keep_date_col, date_parser, dayfirst, cache_dates, iterator, chunksize, compression, thousands, decimal, lineterminator, quotechar, quoting, doublequote, escapechar, comment, encoding, dialect, error_bad_lines, warn_bad_lines, delim_whitespace, low_memory, memory_map, float_precision)\u001b[0m\n\u001b[0;32m    684\u001b[0m     )\n\u001b[0;32m    685\u001b[0m \u001b[1;33m\u001b[0m\u001b[0m\n\u001b[1;32m--> 686\u001b[1;33m     \u001b[1;32mreturn\u001b[0m \u001b[0m_read\u001b[0m\u001b[1;33m(\u001b[0m\u001b[0mfilepath_or_buffer\u001b[0m\u001b[1;33m,\u001b[0m \u001b[0mkwds\u001b[0m\u001b[1;33m)\u001b[0m\u001b[1;33m\u001b[0m\u001b[1;33m\u001b[0m\u001b[0m\n\u001b[0m\u001b[0;32m    687\u001b[0m \u001b[1;33m\u001b[0m\u001b[0m\n\u001b[0;32m    688\u001b[0m \u001b[1;33m\u001b[0m\u001b[0m\n",
      "\u001b[1;32m~\\AppData\\Local\\Programs\\Python\\Python38\\lib\\site-packages\\pandas\\io\\parsers.py\u001b[0m in \u001b[0;36m_read\u001b[1;34m(filepath_or_buffer, kwds)\u001b[0m\n\u001b[0;32m    456\u001b[0m \u001b[1;33m\u001b[0m\u001b[0m\n\u001b[0;32m    457\u001b[0m     \u001b[1;32mtry\u001b[0m\u001b[1;33m:\u001b[0m\u001b[1;33m\u001b[0m\u001b[1;33m\u001b[0m\u001b[0m\n\u001b[1;32m--> 458\u001b[1;33m         \u001b[0mdata\u001b[0m \u001b[1;33m=\u001b[0m \u001b[0mparser\u001b[0m\u001b[1;33m.\u001b[0m\u001b[0mread\u001b[0m\u001b[1;33m(\u001b[0m\u001b[0mnrows\u001b[0m\u001b[1;33m)\u001b[0m\u001b[1;33m\u001b[0m\u001b[1;33m\u001b[0m\u001b[0m\n\u001b[0m\u001b[0;32m    459\u001b[0m     \u001b[1;32mfinally\u001b[0m\u001b[1;33m:\u001b[0m\u001b[1;33m\u001b[0m\u001b[1;33m\u001b[0m\u001b[0m\n\u001b[0;32m    460\u001b[0m         \u001b[0mparser\u001b[0m\u001b[1;33m.\u001b[0m\u001b[0mclose\u001b[0m\u001b[1;33m(\u001b[0m\u001b[1;33m)\u001b[0m\u001b[1;33m\u001b[0m\u001b[1;33m\u001b[0m\u001b[0m\n",
      "\u001b[1;32m~\\AppData\\Local\\Programs\\Python\\Python38\\lib\\site-packages\\pandas\\io\\parsers.py\u001b[0m in \u001b[0;36mread\u001b[1;34m(self, nrows)\u001b[0m\n\u001b[0;32m   1184\u001b[0m     \u001b[1;32mdef\u001b[0m \u001b[0mread\u001b[0m\u001b[1;33m(\u001b[0m\u001b[0mself\u001b[0m\u001b[1;33m,\u001b[0m \u001b[0mnrows\u001b[0m\u001b[1;33m=\u001b[0m\u001b[1;32mNone\u001b[0m\u001b[1;33m)\u001b[0m\u001b[1;33m:\u001b[0m\u001b[1;33m\u001b[0m\u001b[1;33m\u001b[0m\u001b[0m\n\u001b[0;32m   1185\u001b[0m         \u001b[0mnrows\u001b[0m \u001b[1;33m=\u001b[0m \u001b[0m_validate_integer\u001b[0m\u001b[1;33m(\u001b[0m\u001b[1;34m\"nrows\"\u001b[0m\u001b[1;33m,\u001b[0m \u001b[0mnrows\u001b[0m\u001b[1;33m)\u001b[0m\u001b[1;33m\u001b[0m\u001b[1;33m\u001b[0m\u001b[0m\n\u001b[1;32m-> 1186\u001b[1;33m         \u001b[0mret\u001b[0m \u001b[1;33m=\u001b[0m \u001b[0mself\u001b[0m\u001b[1;33m.\u001b[0m\u001b[0m_engine\u001b[0m\u001b[1;33m.\u001b[0m\u001b[0mread\u001b[0m\u001b[1;33m(\u001b[0m\u001b[0mnrows\u001b[0m\u001b[1;33m)\u001b[0m\u001b[1;33m\u001b[0m\u001b[1;33m\u001b[0m\u001b[0m\n\u001b[0m\u001b[0;32m   1187\u001b[0m \u001b[1;33m\u001b[0m\u001b[0m\n\u001b[0;32m   1188\u001b[0m         \u001b[1;31m# May alter columns / col_dict\u001b[0m\u001b[1;33m\u001b[0m\u001b[1;33m\u001b[0m\u001b[1;33m\u001b[0m\u001b[0m\n",
      "\u001b[1;32m~\\AppData\\Local\\Programs\\Python\\Python38\\lib\\site-packages\\pandas\\io\\parsers.py\u001b[0m in \u001b[0;36mread\u001b[1;34m(self, nrows)\u001b[0m\n\u001b[0;32m   2143\u001b[0m     \u001b[1;32mdef\u001b[0m \u001b[0mread\u001b[0m\u001b[1;33m(\u001b[0m\u001b[0mself\u001b[0m\u001b[1;33m,\u001b[0m \u001b[0mnrows\u001b[0m\u001b[1;33m=\u001b[0m\u001b[1;32mNone\u001b[0m\u001b[1;33m)\u001b[0m\u001b[1;33m:\u001b[0m\u001b[1;33m\u001b[0m\u001b[1;33m\u001b[0m\u001b[0m\n\u001b[0;32m   2144\u001b[0m         \u001b[1;32mtry\u001b[0m\u001b[1;33m:\u001b[0m\u001b[1;33m\u001b[0m\u001b[1;33m\u001b[0m\u001b[0m\n\u001b[1;32m-> 2145\u001b[1;33m             \u001b[0mdata\u001b[0m \u001b[1;33m=\u001b[0m \u001b[0mself\u001b[0m\u001b[1;33m.\u001b[0m\u001b[0m_reader\u001b[0m\u001b[1;33m.\u001b[0m\u001b[0mread\u001b[0m\u001b[1;33m(\u001b[0m\u001b[0mnrows\u001b[0m\u001b[1;33m)\u001b[0m\u001b[1;33m\u001b[0m\u001b[1;33m\u001b[0m\u001b[0m\n\u001b[0m\u001b[0;32m   2146\u001b[0m         \u001b[1;32mexcept\u001b[0m \u001b[0mStopIteration\u001b[0m\u001b[1;33m:\u001b[0m\u001b[1;33m\u001b[0m\u001b[1;33m\u001b[0m\u001b[0m\n\u001b[0;32m   2147\u001b[0m             \u001b[1;32mif\u001b[0m \u001b[0mself\u001b[0m\u001b[1;33m.\u001b[0m\u001b[0m_first_chunk\u001b[0m\u001b[1;33m:\u001b[0m\u001b[1;33m\u001b[0m\u001b[1;33m\u001b[0m\u001b[0m\n",
      "\u001b[1;32mpandas\\_libs\\parsers.pyx\u001b[0m in \u001b[0;36mpandas._libs.parsers.TextReader.read\u001b[1;34m()\u001b[0m\n",
      "\u001b[1;32mpandas\\_libs\\parsers.pyx\u001b[0m in \u001b[0;36mpandas._libs.parsers.TextReader._read_low_memory\u001b[1;34m()\u001b[0m\n",
      "\u001b[1;32mpandas\\_libs\\parsers.pyx\u001b[0m in \u001b[0;36mpandas._libs.parsers.TextReader._read_rows\u001b[1;34m()\u001b[0m\n",
      "\u001b[1;32mpandas\\_libs\\parsers.pyx\u001b[0m in \u001b[0;36mpandas._libs.parsers.TextReader._convert_column_data\u001b[1;34m()\u001b[0m\n",
      "\u001b[1;32mpandas\\_libs\\parsers.pyx\u001b[0m in \u001b[0;36mpandas._libs.parsers.TextReader._convert_tokens\u001b[1;34m()\u001b[0m\n",
      "\u001b[1;32mpandas\\_libs\\parsers.pyx\u001b[0m in \u001b[0;36mpandas._libs.parsers.TextReader._convert_with_dtype\u001b[1;34m()\u001b[0m\n",
      "\u001b[1;32m~\\AppData\\Local\\Programs\\Python\\Python38\\lib\\site-packages\\pandas\\core\\dtypes\\common.py\u001b[0m in \u001b[0;36mis_categorical_dtype\u001b[1;34m(arr_or_dtype)\u001b[0m\n\u001b[0;32m    528\u001b[0m \u001b[1;33m\u001b[0m\u001b[0m\n\u001b[0;32m    529\u001b[0m \u001b[1;33m\u001b[0m\u001b[0m\n\u001b[1;32m--> 530\u001b[1;33m \u001b[1;32mdef\u001b[0m \u001b[0mis_categorical_dtype\u001b[0m\u001b[1;33m(\u001b[0m\u001b[0marr_or_dtype\u001b[0m\u001b[1;33m)\u001b[0m \u001b[1;33m->\u001b[0m \u001b[0mbool\u001b[0m\u001b[1;33m:\u001b[0m\u001b[1;33m\u001b[0m\u001b[1;33m\u001b[0m\u001b[0m\n\u001b[0m\u001b[0;32m    531\u001b[0m     \"\"\"\n\u001b[0;32m    532\u001b[0m     \u001b[0mCheck\u001b[0m \u001b[0mwhether\u001b[0m \u001b[0man\u001b[0m \u001b[0marray\u001b[0m\u001b[1;33m-\u001b[0m\u001b[0mlike\u001b[0m \u001b[1;32mor\u001b[0m \u001b[0mdtype\u001b[0m \u001b[1;32mis\u001b[0m \u001b[0mof\u001b[0m \u001b[0mthe\u001b[0m \u001b[0mCategorical\u001b[0m \u001b[0mdtype\u001b[0m\u001b[1;33m.\u001b[0m\u001b[1;33m\u001b[0m\u001b[1;33m\u001b[0m\u001b[0m\n",
      "\u001b[1;31mKeyboardInterrupt\u001b[0m: "
     ]
    }
   ],
   "source": [
    "result=pd.read_csv(\"processed_data.csv\")"
   ]
  },
  {
   "cell_type": "code",
   "execution_count": 19,
   "metadata": {},
   "outputs": [
    {
     "output_type": "execute_result",
     "data": {
      "text/plain": [
       "         Unnamed: 0  windspeedKmph  winddirDegree  weatherCode  precipMM  \\\n",
       "0                 0             11            318          176       0.1   \n",
       "1                 1             18            315          122       0.0   \n",
       "2                 2             18            315          122       0.0   \n",
       "3                 3             18            317          122       0.0   \n",
       "4                 4             18            317          122       0.0   \n",
       "...             ...            ...            ...          ...       ...   \n",
       "1851431     1851431             20            303          113       0.0   \n",
       "1851432     1851432             20            303          113       0.0   \n",
       "1851433     1851433             20            303          113       0.0   \n",
       "1851434     1851434             20            303          113       0.0   \n",
       "1851435     1851435             20            303          113       0.0   \n",
       "\n",
       "         visibility  pressure  cloudcover  DewPointF  WindGustKmph  ...  \\\n",
       "0                10      1023         100         47            17  ...   \n",
       "1                10      1024         100         38            28  ...   \n",
       "2                10      1024         100         38            28  ...   \n",
       "3                10      1024         100         38            26  ...   \n",
       "4                10      1024         100         38            26  ...   \n",
       "...             ...       ...         ...        ...           ...  ...   \n",
       "1851431          10      1014           0         58            22  ...   \n",
       "1851432          10      1014           0         58            22  ...   \n",
       "1851433          10      1014           0         58            22  ...   \n",
       "1851434          10      1014           0         58            22  ...   \n",
       "1851435          10      1014           0         58            22  ...   \n",
       "\n",
       "         DepDelayMinutes  OriginAirportID  DestAirportID  ArrTime CRSArrTime  \\\n",
       "0                   17.0            10397          13204    101.0         51   \n",
       "1                    6.0            10397          13204    728.0        720   \n",
       "2                   37.0            10397          13930    753.0        725   \n",
       "3                    0.0            10397          13303    838.0        837   \n",
       "4                    0.0            10397          12892    922.0        915   \n",
       "...                  ...              ...            ...      ...        ...   \n",
       "1851431              9.0            14771          13930    513.0        519   \n",
       "1851432              5.0            14771          10397    615.0        632   \n",
       "1851433              0.0            14771          12478    735.0        750   \n",
       "1851434              0.0            14771          12478    655.0        704   \n",
       "1851435              0.0            14771          13303    649.0        701   \n",
       "\n",
       "        ArrDel15 ArrDelayMinutes  Origin Dest  round_time  \n",
       "0            0.0            10.0     ATL  MCO           0  \n",
       "1            0.0             8.0     ATL  MCO         600  \n",
       "2            1.0            28.0     ATL  ORD         600  \n",
       "3            0.0             1.0     ATL  MIA         700  \n",
       "4            0.0             7.0     ATL  LAX         700  \n",
       "...          ...             ...     ...  ...         ...  \n",
       "1851431      0.0             0.0     SFO  ORD        2300  \n",
       "1851432      0.0             0.0     SFO  ATL        2300  \n",
       "1851433      0.0             0.0     SFO  JFK        2300  \n",
       "1851434      0.0             0.0     SFO  JFK        2300  \n",
       "1851435      0.0             0.0     SFO  MIA        2300  \n",
       "\n",
       "[1851436 rows x 36 columns]"
      ],
      "text/html": "<div>\n<style scoped>\n    .dataframe tbody tr th:only-of-type {\n        vertical-align: middle;\n    }\n\n    .dataframe tbody tr th {\n        vertical-align: top;\n    }\n\n    .dataframe thead th {\n        text-align: right;\n    }\n</style>\n<table border=\"1\" class=\"dataframe\">\n  <thead>\n    <tr style=\"text-align: right;\">\n      <th></th>\n      <th>Unnamed: 0</th>\n      <th>windspeedKmph</th>\n      <th>winddirDegree</th>\n      <th>weatherCode</th>\n      <th>precipMM</th>\n      <th>visibility</th>\n      <th>pressure</th>\n      <th>cloudcover</th>\n      <th>DewPointF</th>\n      <th>WindGustKmph</th>\n      <th>...</th>\n      <th>DepDelayMinutes</th>\n      <th>OriginAirportID</th>\n      <th>DestAirportID</th>\n      <th>ArrTime</th>\n      <th>CRSArrTime</th>\n      <th>ArrDel15</th>\n      <th>ArrDelayMinutes</th>\n      <th>Origin</th>\n      <th>Dest</th>\n      <th>round_time</th>\n    </tr>\n  </thead>\n  <tbody>\n    <tr>\n      <th>0</th>\n      <td>0</td>\n      <td>11</td>\n      <td>318</td>\n      <td>176</td>\n      <td>0.1</td>\n      <td>10</td>\n      <td>1023</td>\n      <td>100</td>\n      <td>47</td>\n      <td>17</td>\n      <td>...</td>\n      <td>17.0</td>\n      <td>10397</td>\n      <td>13204</td>\n      <td>101.0</td>\n      <td>51</td>\n      <td>0.0</td>\n      <td>10.0</td>\n      <td>ATL</td>\n      <td>MCO</td>\n      <td>0</td>\n    </tr>\n    <tr>\n      <th>1</th>\n      <td>1</td>\n      <td>18</td>\n      <td>315</td>\n      <td>122</td>\n      <td>0.0</td>\n      <td>10</td>\n      <td>1024</td>\n      <td>100</td>\n      <td>38</td>\n      <td>28</td>\n      <td>...</td>\n      <td>6.0</td>\n      <td>10397</td>\n      <td>13204</td>\n      <td>728.0</td>\n      <td>720</td>\n      <td>0.0</td>\n      <td>8.0</td>\n      <td>ATL</td>\n      <td>MCO</td>\n      <td>600</td>\n    </tr>\n    <tr>\n      <th>2</th>\n      <td>2</td>\n      <td>18</td>\n      <td>315</td>\n      <td>122</td>\n      <td>0.0</td>\n      <td>10</td>\n      <td>1024</td>\n      <td>100</td>\n      <td>38</td>\n      <td>28</td>\n      <td>...</td>\n      <td>37.0</td>\n      <td>10397</td>\n      <td>13930</td>\n      <td>753.0</td>\n      <td>725</td>\n      <td>1.0</td>\n      <td>28.0</td>\n      <td>ATL</td>\n      <td>ORD</td>\n      <td>600</td>\n    </tr>\n    <tr>\n      <th>3</th>\n      <td>3</td>\n      <td>18</td>\n      <td>317</td>\n      <td>122</td>\n      <td>0.0</td>\n      <td>10</td>\n      <td>1024</td>\n      <td>100</td>\n      <td>38</td>\n      <td>26</td>\n      <td>...</td>\n      <td>0.0</td>\n      <td>10397</td>\n      <td>13303</td>\n      <td>838.0</td>\n      <td>837</td>\n      <td>0.0</td>\n      <td>1.0</td>\n      <td>ATL</td>\n      <td>MIA</td>\n      <td>700</td>\n    </tr>\n    <tr>\n      <th>4</th>\n      <td>4</td>\n      <td>18</td>\n      <td>317</td>\n      <td>122</td>\n      <td>0.0</td>\n      <td>10</td>\n      <td>1024</td>\n      <td>100</td>\n      <td>38</td>\n      <td>26</td>\n      <td>...</td>\n      <td>0.0</td>\n      <td>10397</td>\n      <td>12892</td>\n      <td>922.0</td>\n      <td>915</td>\n      <td>0.0</td>\n      <td>7.0</td>\n      <td>ATL</td>\n      <td>LAX</td>\n      <td>700</td>\n    </tr>\n    <tr>\n      <th>...</th>\n      <td>...</td>\n      <td>...</td>\n      <td>...</td>\n      <td>...</td>\n      <td>...</td>\n      <td>...</td>\n      <td>...</td>\n      <td>...</td>\n      <td>...</td>\n      <td>...</td>\n      <td>...</td>\n      <td>...</td>\n      <td>...</td>\n      <td>...</td>\n      <td>...</td>\n      <td>...</td>\n      <td>...</td>\n      <td>...</td>\n      <td>...</td>\n      <td>...</td>\n      <td>...</td>\n    </tr>\n    <tr>\n      <th>1851431</th>\n      <td>1851431</td>\n      <td>20</td>\n      <td>303</td>\n      <td>113</td>\n      <td>0.0</td>\n      <td>10</td>\n      <td>1014</td>\n      <td>0</td>\n      <td>58</td>\n      <td>22</td>\n      <td>...</td>\n      <td>9.0</td>\n      <td>14771</td>\n      <td>13930</td>\n      <td>513.0</td>\n      <td>519</td>\n      <td>0.0</td>\n      <td>0.0</td>\n      <td>SFO</td>\n      <td>ORD</td>\n      <td>2300</td>\n    </tr>\n    <tr>\n      <th>1851432</th>\n      <td>1851432</td>\n      <td>20</td>\n      <td>303</td>\n      <td>113</td>\n      <td>0.0</td>\n      <td>10</td>\n      <td>1014</td>\n      <td>0</td>\n      <td>58</td>\n      <td>22</td>\n      <td>...</td>\n      <td>5.0</td>\n      <td>14771</td>\n      <td>10397</td>\n      <td>615.0</td>\n      <td>632</td>\n      <td>0.0</td>\n      <td>0.0</td>\n      <td>SFO</td>\n      <td>ATL</td>\n      <td>2300</td>\n    </tr>\n    <tr>\n      <th>1851433</th>\n      <td>1851433</td>\n      <td>20</td>\n      <td>303</td>\n      <td>113</td>\n      <td>0.0</td>\n      <td>10</td>\n      <td>1014</td>\n      <td>0</td>\n      <td>58</td>\n      <td>22</td>\n      <td>...</td>\n      <td>0.0</td>\n      <td>14771</td>\n      <td>12478</td>\n      <td>735.0</td>\n      <td>750</td>\n      <td>0.0</td>\n      <td>0.0</td>\n      <td>SFO</td>\n      <td>JFK</td>\n      <td>2300</td>\n    </tr>\n    <tr>\n      <th>1851434</th>\n      <td>1851434</td>\n      <td>20</td>\n      <td>303</td>\n      <td>113</td>\n      <td>0.0</td>\n      <td>10</td>\n      <td>1014</td>\n      <td>0</td>\n      <td>58</td>\n      <td>22</td>\n      <td>...</td>\n      <td>0.0</td>\n      <td>14771</td>\n      <td>12478</td>\n      <td>655.0</td>\n      <td>704</td>\n      <td>0.0</td>\n      <td>0.0</td>\n      <td>SFO</td>\n      <td>JFK</td>\n      <td>2300</td>\n    </tr>\n    <tr>\n      <th>1851435</th>\n      <td>1851435</td>\n      <td>20</td>\n      <td>303</td>\n      <td>113</td>\n      <td>0.0</td>\n      <td>10</td>\n      <td>1014</td>\n      <td>0</td>\n      <td>58</td>\n      <td>22</td>\n      <td>...</td>\n      <td>0.0</td>\n      <td>14771</td>\n      <td>13303</td>\n      <td>649.0</td>\n      <td>701</td>\n      <td>0.0</td>\n      <td>0.0</td>\n      <td>SFO</td>\n      <td>MIA</td>\n      <td>2300</td>\n    </tr>\n  </tbody>\n</table>\n<p>1851436 rows × 36 columns</p>\n</div>"
     },
     "metadata": {},
     "execution_count": 19
    }
   ],
   "source": [
    "result\n"
   ]
  },
  {
   "cell_type": "code",
   "execution_count": 20,
   "metadata": {},
   "outputs": [],
   "source": [
    "target=result[\"ArrDel15\"]"
   ]
  },
  {
   "cell_type": "code",
   "execution_count": 21,
   "metadata": {},
   "outputs": [],
   "source": [
    "features=result.copy()\n",
    "features=features.drop([\"ArrDel15\",\"Unnamed: 0\",\"date\",\"airport\",\"air\",\"FlightDate\",\"Origin\",\"Dest\"],axis=1)"
   ]
  },
  {
   "cell_type": "code",
   "execution_count": 22,
   "metadata": {},
   "outputs": [],
   "source": [
    "features=features.drop([\"ArrDelayMinutes\",\"time\",\"ArrTime\",\"CRSArrTime\",\"time\",\"round_time\"],axis=1)"
   ]
  },
  {
   "cell_type": "code",
   "execution_count": 23,
   "metadata": {
    "tags": []
   },
   "outputs": [],
   "source": [
    "#selector=SelectKBest(f_classif,k=20).fit(features,target)"
   ]
  },
  {
   "cell_type": "code",
   "execution_count": 24,
   "metadata": {
    "tags": []
   },
   "outputs": [],
   "source": [
    "#cols=selector.get_support(indices=True)"
   ]
  },
  {
   "cell_type": "code",
   "execution_count": 25,
   "metadata": {},
   "outputs": [],
   "source": [
    "#features_selt=features.iloc[:,cols]"
   ]
  },
  {
   "cell_type": "code",
   "execution_count": 26,
   "metadata": {},
   "outputs": [],
   "source": [
    "#listing the selected features.\n",
    "#list(features_selt.columns)"
   ]
  },
  {
   "cell_type": "code",
   "execution_count": 27,
   "metadata": {},
   "outputs": [],
   "source": [
    "features_selt= features"
   ]
  },
  {
   "cell_type": "code",
   "execution_count": 28,
   "metadata": {},
   "outputs": [],
   "source": [
    "train_feature,test_feature,train_target,test_target=train_test_split(features_selt,target,test_size=0.25,random_state=42)"
   ]
  },
  {
   "cell_type": "code",
   "execution_count": 29,
   "metadata": {},
   "outputs": [],
   "source": [
    "#logistic regression classification\n",
    "LogReg=LogisticRegression()\n",
    "LogReg.fit(train_feature,train_target)\n",
    "logit_predict=LogReg.predict(test_feature)"
   ]
  },
  {
   "cell_type": "code",
   "execution_count": 30,
   "metadata": {
    "tags": []
   },
   "outputs": [
    {
     "output_type": "stream",
     "name": "stdout",
     "text": [
      "              precision    recall  f1-score   support\n\n         0.0       0.92      0.98      0.95    365657\n         1.0       0.89      0.68      0.77     97202\n\n    accuracy                           0.92    462859\n   macro avg       0.91      0.83      0.86    462859\nweighted avg       0.91      0.92      0.91    462859\n\n"
     ]
    }
   ],
   "source": [
    "print(classification_report(test_target,logit_predict))"
   ]
  },
  {
   "cell_type": "code",
   "execution_count": 31,
   "metadata": {},
   "outputs": [
    {
     "output_type": "execute_result",
     "data": {
      "text/plain": [
       "8"
      ]
     },
     "metadata": {},
     "execution_count": 31
    }
   ],
   "source": [
    " #decision tree classifier\n",
    " dtc=DecisionTreeClassifier(random_state=0)\n",
    " dtc=dtc.fit(train_feature,train_target)\n",
    " tree_pred=dtc.predict(test_feature)\n",
    " 8"
   ]
  },
  {
   "cell_type": "code",
   "execution_count": 32,
   "metadata": {
    "tags": []
   },
   "outputs": [
    {
     "output_type": "stream",
     "name": "stdout",
     "text": [
      "              precision    recall  f1-score   support\n\n         0.0       0.92      0.91      0.92    365657\n         1.0       0.68      0.70      0.69     97202\n\n    accuracy                           0.87    462859\n   macro avg       0.80      0.81      0.80    462859\nweighted avg       0.87      0.87      0.87    462859\n\n"
     ]
    }
   ],
   "source": [
    "print(classification_report(test_target,tree_pred))"
   ]
  },
  {
   "cell_type": "code",
   "execution_count": 33,
   "metadata": {},
   "outputs": [
    {
     "output_type": "execute_result",
     "data": {
      "text/plain": [
       "GradientBoostingClassifier(random_state=0)"
      ]
     },
     "metadata": {},
     "execution_count": 33
    }
   ],
   "source": [
    "#xgboost\n",
    "xgb = GradientBoostingClassifier(random_state=0)\n",
    "xgb.fit(train_feature,train_target)"
   ]
  },
  {
   "cell_type": "code",
   "execution_count": 34,
   "metadata": {},
   "outputs": [],
   "source": [
    "xgb_pred=xgb.predict(test_feature)"
   ]
  },
  {
   "cell_type": "code",
   "execution_count": 35,
   "metadata": {
    "tags": []
   },
   "outputs": [
    {
     "output_type": "stream",
     "name": "stdout",
     "text": [
      "              precision    recall  f1-score   support\n\n         0.0       0.92      0.98      0.95    365657\n         1.0       0.90      0.68      0.77     97202\n\n    accuracy                           0.92    462859\n   macro avg       0.91      0.83      0.86    462859\nweighted avg       0.92      0.92      0.91    462859\n\n"
     ]
    }
   ],
   "source": [
    "print(classification_report(test_target,xgb_pred))"
   ]
  },
  {
   "cell_type": "code",
   "execution_count": 36,
   "metadata": {},
   "outputs": [],
   "source": [
    "#extra tree classifier\n",
    "etc=ExtraTreesClassifier(n_estimators=100,random_state=0)\n",
    "etc.fit(train_feature,train_target)\n",
    "extratree_pred=etc.predict(test_feature)\n"
   ]
  },
  {
   "cell_type": "code",
   "execution_count": 38,
   "metadata": {
    "tags": []
   },
   "outputs": [
    {
     "output_type": "stream",
     "name": "stdout",
     "text": [
      "              precision    recall  f1-score   support\n\n         0.0       0.93      0.95      0.94    365657\n         1.0       0.81      0.73      0.77     97202\n\n    accuracy                           0.91    462859\n   macro avg       0.87      0.84      0.86    462859\nweighted avg       0.91      0.91      0.91    462859\n\n"
     ]
    }
   ],
   "source": [
    "\n",
    "print(classification_report(test_target,extratree_pred))"
   ]
  },
  {
   "cell_type": "code",
   "execution_count": 39,
   "metadata": {},
   "outputs": [],
   "source": [
    "#oversampling method\n",
    "#os = oversampling\n",
    "os=SMOTE(random_state=2)\n",
    "train_feature_os,train_target_os= os.fit_sample(train_feature,train_target)"
   ]
  },
  {
   "cell_type": "code",
   "execution_count": 40,
   "metadata": {},
   "outputs": [],
   "source": [
    "#logistic reg\n",
    "LogReg_os=LogisticRegression()\n",
    "LogReg_os.fit(train_feature_os,train_target_os)\n",
    "logit_predict_os=LogReg_os.predict(test_feature)"
   ]
  },
  {
   "cell_type": "code",
   "execution_count": 41,
   "metadata": {
    "tags": []
   },
   "outputs": [
    {
     "output_type": "stream",
     "name": "stdout",
     "text": [
      "              precision    recall  f1-score   support\n\n         0.0       0.94      0.93      0.93    365657\n         1.0       0.74      0.78      0.76     97202\n\n    accuracy                           0.90    462859\n   macro avg       0.84      0.85      0.85    462859\nweighted avg       0.90      0.90      0.90    462859\n\n"
     ]
    }
   ],
   "source": [
    "print(classification_report(test_target,logit_predict_os))"
   ]
  },
  {
   "cell_type": "code",
   "execution_count": 42,
   "metadata": {},
   "outputs": [],
   "source": [
    "#decision tree classifier\n",
    "dtc_os=DecisionTreeClassifier()\n",
    "dtc_os.fit(train_feature_os,train_target_os)\n",
    "tree_pred_os=dtc_os.predict(test_feature)"
   ]
  },
  {
   "cell_type": "code",
   "execution_count": 43,
   "metadata": {
    "tags": []
   },
   "outputs": [
    {
     "output_type": "stream",
     "name": "stdout",
     "text": [
      "              precision    recall  f1-score   support\n\n         0.0       0.92      0.91      0.91    365657\n         1.0       0.66      0.70      0.68     97202\n\n    accuracy                           0.86    462859\n   macro avg       0.79      0.81      0.80    462859\nweighted avg       0.87      0.86      0.86    462859\n\n"
     ]
    }
   ],
   "source": [
    "print(classification_report(test_target,tree_pred_os))"
   ]
  },
  {
   "cell_type": "code",
   "execution_count": 44,
   "metadata": {},
   "outputs": [],
   "source": [
    "#xgboost\n",
    "xgb_os = GradientBoostingClassifier(random_state=0)\n",
    "xgb_os.fit(train_feature_os,train_target_os)\n",
    "xgb_pred_os=xgb_os.predict(test_feature)"
   ]
  },
  {
   "cell_type": "code",
   "execution_count": 45,
   "metadata": {
    "tags": []
   },
   "outputs": [
    {
     "output_type": "stream",
     "name": "stdout",
     "text": [
      "              precision    recall  f1-score   support\n\n         0.0       0.93      0.96      0.94    365657\n         1.0       0.81      0.74      0.77     97202\n\n    accuracy                           0.91    462859\n   macro avg       0.87      0.85      0.86    462859\nweighted avg       0.91      0.91      0.91    462859\n\n"
     ]
    }
   ],
   "source": [
    "print(classification_report(test_target,xgb_pred_os))"
   ]
  },
  {
   "cell_type": "code",
   "execution_count": 46,
   "metadata": {},
   "outputs": [],
   "source": [
    "#extra tree classifier\n",
    "etc_os=ExtraTreesClassifier(n_estimators=100,random_state=0)\n",
    "etc_os.fit(train_feature_os,train_target_os)\n",
    "extratree_pred_os=etc_os.predict(test_feature)\n"
   ]
  },
  {
   "cell_type": "code",
   "execution_count": 47,
   "metadata": {
    "tags": []
   },
   "outputs": [
    {
     "output_type": "stream",
     "name": "stdout",
     "text": [
      "              precision    recall  f1-score   support\n\n         0.0       0.94      0.94      0.94    365657\n         1.0       0.77      0.75      0.76     97202\n\n    accuracy                           0.90    462859\n   macro avg       0.85      0.85      0.85    462859\nweighted avg       0.90      0.90      0.90    462859\n\n"
     ]
    }
   ],
   "source": [
    "print(classification_report(test_target,extratree_pred_os))"
   ]
  },
  {
   "cell_type": "code",
   "execution_count": 48,
   "metadata": {
    "tags": []
   },
   "outputs": [
    {
     "output_type": "stream",
     "name": "stdout",
     "text": [
      "95185\n"
     ]
    }
   ],
   "source": [
    "print(len(list(np.where(extratree_pred_os==1.0)[0])))"
   ]
  },
  {
   "cell_type": "code",
   "execution_count": 49,
   "metadata": {
    "tags": []
   },
   "outputs": [
    {
     "output_type": "stream",
     "name": "stdout",
     "text": [
      "97202\n"
     ]
    }
   ],
   "source": [
    "print(len(list(np.where(test_target==1.0)[0])))"
   ]
  },
  {
   "cell_type": "code",
   "execution_count": 50,
   "metadata": {},
   "outputs": [],
   "source": [
    "#under-sampling\n",
    "#us- under sampling\n",
    "us =NearMiss()\n",
    "train_feature_us,train_target_us=  us.fit_sample(train_feature,train_target)"
   ]
  },
  {
   "source": [
    "#logistic reg\n",
    "LogReg_us=LogisticRegression()\n",
    "LogReg_us.fit(train_feature_us,train_target_us)\n",
    "logit_predict_us=LogReg_us.predict(test_feature)"
   ],
   "cell_type": "code",
   "metadata": {},
   "execution_count": 51,
   "outputs": []
  },
  {
   "cell_type": "code",
   "execution_count": 52,
   "metadata": {
    "tags": []
   },
   "outputs": [
    {
     "output_type": "stream",
     "name": "stdout",
     "text": [
      "              precision    recall  f1-score   support\n\n         0.0       0.93      0.82      0.87    365657\n         1.0       0.53      0.78      0.63     97202\n\n    accuracy                           0.81    462859\n   macro avg       0.73      0.80      0.75    462859\nweighted avg       0.85      0.81      0.82    462859\n\n"
     ]
    }
   ],
   "source": [
    "print(classification_report(test_target,logit_predict_us))\n"
   ]
  },
  {
   "cell_type": "code",
   "execution_count": 53,
   "metadata": {},
   "outputs": [],
   "source": [
    "#decision tree classifier\n",
    "dtc_us=DecisionTreeClassifier()\n",
    "dtc_us.fit(train_feature_us,train_target_us)\n",
    "tree_pred_us=dtc_us.predict(test_feature)"
   ]
  },
  {
   "cell_type": "code",
   "execution_count": 54,
   "metadata": {
    "tags": []
   },
   "outputs": [
    {
     "output_type": "stream",
     "name": "stdout",
     "text": [
      "              precision    recall  f1-score   support\n\n         0.0       0.93      0.62      0.75    365657\n         1.0       0.37      0.83      0.51     97202\n\n    accuracy                           0.67    462859\n   macro avg       0.65      0.73      0.63    462859\nweighted avg       0.81      0.67      0.70    462859\n\n"
     ]
    }
   ],
   "source": [
    "print(classification_report(test_target,tree_pred_us))"
   ]
  },
  {
   "cell_type": "code",
   "execution_count": 55,
   "metadata": {},
   "outputs": [],
   "source": [
    "#xgboost\n",
    "xgb_us = GradientBoostingClassifier(random_state=0)\n",
    "xgb_us.fit(train_feature_us,train_target_us)\n",
    "xgb_pred_us=xgb_us.predict(test_feature)"
   ]
  },
  {
   "cell_type": "code",
   "execution_count": 56,
   "metadata": {
    "tags": []
   },
   "outputs": [
    {
     "output_type": "stream",
     "name": "stdout",
     "text": [
      "              precision    recall  f1-score   support\n\n         0.0       0.94      0.78      0.86    365657\n         1.0       0.50      0.82      0.62     97202\n\n    accuracy                           0.79    462859\n   macro avg       0.72      0.80      0.74    462859\nweighted avg       0.85      0.79      0.81    462859\n\n"
     ]
    }
   ],
   "source": [
    "print(classification_report(test_target,xgb_pred_us))"
   ]
  },
  {
   "cell_type": "code",
   "execution_count": 57,
   "metadata": {},
   "outputs": [],
   "source": [
    "#extra tree classifier\n",
    "etc_us=ExtraTreesClassifier(n_estimators=100,random_state=0)\n",
    "etc_us.fit(train_feature_us,train_target_us)\n",
    "extratree_pred_us=etc_us.predict(test_feature)"
   ]
  },
  {
   "cell_type": "code",
   "execution_count": 58,
   "metadata": {
    "tags": []
   },
   "outputs": [
    {
     "output_type": "stream",
     "name": "stdout",
     "text": [
      "              precision    recall  f1-score   support\n\n         0.0       0.95      0.69      0.80    365657\n         1.0       0.42      0.85      0.56     97202\n\n    accuracy                           0.72    462859\n   macro avg       0.68      0.77      0.68    462859\nweighted avg       0.84      0.72      0.75    462859\n\n"
     ]
    }
   ],
   "source": [
    "print(classification_report(test_target,extratree_pred_us))"
   ]
  },
  {
   "cell_type": "code",
   "execution_count": 59,
   "metadata": {},
   "outputs": [],
   "source": [
    "Arr_del_index=list(test_feature.index)\n"
   ]
  },
  {
   "cell_type": "code",
   "execution_count": 60,
   "metadata": {},
   "outputs": [],
   "source": [
    "test_feature[\"ArrDelayMinutes\"]=result[\"ArrDelayMinutes\"][Arr_del_index]"
   ]
  },
  {
   "cell_type": "code",
   "execution_count": 61,
   "metadata": {},
   "outputs": [
    {
     "output_type": "execute_result",
     "data": {
      "text/plain": [
       "         windspeedKmph  winddirDegree  weatherCode  precipMM  visibility  \\\n",
       "1778209             11             55          113       0.0          10   \n",
       "737512              22            242          113       0.0          10   \n",
       "36012               18            152          122       0.0          10   \n",
       "1079740             25            295          116       0.0          10   \n",
       "1093872             15            229          113       0.0          10   \n",
       "...                ...            ...          ...       ...         ...   \n",
       "518264              11            253          113       0.0          10   \n",
       "1102305             11            222          113       0.0          10   \n",
       "1347538             10            281          113       0.0           5   \n",
       "461598              14            330          113       0.0          10   \n",
       "1165842              6            216          389       6.8           6   \n",
       "\n",
       "         pressure  cloudcover  DewPointF  WindGustKmph  tempF  ...  Year  \\\n",
       "1778209      1013           0         29            16     64  ...  2017   \n",
       "737512       1016           1         32            37     39  ...  2017   \n",
       "36012        1014         100         61            24     67  ...  2016   \n",
       "1079740      1009          33         55            27     69  ...  2017   \n",
       "1093872      1012           0         58            18     72  ...  2017   \n",
       "...           ...         ...        ...           ...    ...  ...   ...   \n",
       "518264       1024          44         11            12     21  ...  2016   \n",
       "1102305      1015           0         68            13     88  ...  2017   \n",
       "1347538      1019          44         38            17     40  ...  2016   \n",
       "461598       1020           0         36            16     57  ...  2017   \n",
       "1165842      1017         100         75            15     80  ...  2016   \n",
       "\n",
       "         Month  DayofMonth  DepTime  DepDel15  CRSDepTime  DepDelayMinutes  \\\n",
       "1778209     10           9    923.0       0.0         930              0.0   \n",
       "737512       1           1    650.0       0.0         700              0.0   \n",
       "36012        3          31   1125.0       1.0        1050             35.0   \n",
       "1079740      4          27   1207.0       1.0        1130             37.0   \n",
       "1093872      6          15   1402.0       0.0        1400              2.0   \n",
       "...        ...         ...      ...       ...         ...              ...   \n",
       "518264       2          12    951.0       0.0         953              0.0   \n",
       "1102305      7          14   1109.0       0.0        1110              0.0   \n",
       "1347538      5          15    505.0       0.0         500              5.0   \n",
       "461598       2          15   1904.0       0.0        1905              0.0   \n",
       "1165842      7          24   2050.0       0.0        2055              0.0   \n",
       "\n",
       "         OriginAirportID  DestAirportID  ArrDelayMinutes  \n",
       "1778209            14771          12892             26.0  \n",
       "737512             12478          13303              0.0  \n",
       "36012              10397          12892             33.0  \n",
       "1079740            12892          14747             39.0  \n",
       "1093872            12892          14771              3.0  \n",
       "...                  ...            ...              ...  \n",
       "518264             11618          13930              0.0  \n",
       "1102305            12892          12478             17.0  \n",
       "1347538            13930          12266              2.0  \n",
       "461598             11298          11292              0.0  \n",
       "1165842            13204          10397              0.0  \n",
       "\n",
       "[462859 rows x 24 columns]"
      ],
      "text/html": "<div>\n<style scoped>\n    .dataframe tbody tr th:only-of-type {\n        vertical-align: middle;\n    }\n\n    .dataframe tbody tr th {\n        vertical-align: top;\n    }\n\n    .dataframe thead th {\n        text-align: right;\n    }\n</style>\n<table border=\"1\" class=\"dataframe\">\n  <thead>\n    <tr style=\"text-align: right;\">\n      <th></th>\n      <th>windspeedKmph</th>\n      <th>winddirDegree</th>\n      <th>weatherCode</th>\n      <th>precipMM</th>\n      <th>visibility</th>\n      <th>pressure</th>\n      <th>cloudcover</th>\n      <th>DewPointF</th>\n      <th>WindGustKmph</th>\n      <th>tempF</th>\n      <th>...</th>\n      <th>Year</th>\n      <th>Month</th>\n      <th>DayofMonth</th>\n      <th>DepTime</th>\n      <th>DepDel15</th>\n      <th>CRSDepTime</th>\n      <th>DepDelayMinutes</th>\n      <th>OriginAirportID</th>\n      <th>DestAirportID</th>\n      <th>ArrDelayMinutes</th>\n    </tr>\n  </thead>\n  <tbody>\n    <tr>\n      <th>1778209</th>\n      <td>11</td>\n      <td>55</td>\n      <td>113</td>\n      <td>0.0</td>\n      <td>10</td>\n      <td>1013</td>\n      <td>0</td>\n      <td>29</td>\n      <td>16</td>\n      <td>64</td>\n      <td>...</td>\n      <td>2017</td>\n      <td>10</td>\n      <td>9</td>\n      <td>923.0</td>\n      <td>0.0</td>\n      <td>930</td>\n      <td>0.0</td>\n      <td>14771</td>\n      <td>12892</td>\n      <td>26.0</td>\n    </tr>\n    <tr>\n      <th>737512</th>\n      <td>22</td>\n      <td>242</td>\n      <td>113</td>\n      <td>0.0</td>\n      <td>10</td>\n      <td>1016</td>\n      <td>1</td>\n      <td>32</td>\n      <td>37</td>\n      <td>39</td>\n      <td>...</td>\n      <td>2017</td>\n      <td>1</td>\n      <td>1</td>\n      <td>650.0</td>\n      <td>0.0</td>\n      <td>700</td>\n      <td>0.0</td>\n      <td>12478</td>\n      <td>13303</td>\n      <td>0.0</td>\n    </tr>\n    <tr>\n      <th>36012</th>\n      <td>18</td>\n      <td>152</td>\n      <td>122</td>\n      <td>0.0</td>\n      <td>10</td>\n      <td>1014</td>\n      <td>100</td>\n      <td>61</td>\n      <td>24</td>\n      <td>67</td>\n      <td>...</td>\n      <td>2016</td>\n      <td>3</td>\n      <td>31</td>\n      <td>1125.0</td>\n      <td>1.0</td>\n      <td>1050</td>\n      <td>35.0</td>\n      <td>10397</td>\n      <td>12892</td>\n      <td>33.0</td>\n    </tr>\n    <tr>\n      <th>1079740</th>\n      <td>25</td>\n      <td>295</td>\n      <td>116</td>\n      <td>0.0</td>\n      <td>10</td>\n      <td>1009</td>\n      <td>33</td>\n      <td>55</td>\n      <td>27</td>\n      <td>69</td>\n      <td>...</td>\n      <td>2017</td>\n      <td>4</td>\n      <td>27</td>\n      <td>1207.0</td>\n      <td>1.0</td>\n      <td>1130</td>\n      <td>37.0</td>\n      <td>12892</td>\n      <td>14747</td>\n      <td>39.0</td>\n    </tr>\n    <tr>\n      <th>1093872</th>\n      <td>15</td>\n      <td>229</td>\n      <td>113</td>\n      <td>0.0</td>\n      <td>10</td>\n      <td>1012</td>\n      <td>0</td>\n      <td>58</td>\n      <td>18</td>\n      <td>72</td>\n      <td>...</td>\n      <td>2017</td>\n      <td>6</td>\n      <td>15</td>\n      <td>1402.0</td>\n      <td>0.0</td>\n      <td>1400</td>\n      <td>2.0</td>\n      <td>12892</td>\n      <td>14771</td>\n      <td>3.0</td>\n    </tr>\n    <tr>\n      <th>...</th>\n      <td>...</td>\n      <td>...</td>\n      <td>...</td>\n      <td>...</td>\n      <td>...</td>\n      <td>...</td>\n      <td>...</td>\n      <td>...</td>\n      <td>...</td>\n      <td>...</td>\n      <td>...</td>\n      <td>...</td>\n      <td>...</td>\n      <td>...</td>\n      <td>...</td>\n      <td>...</td>\n      <td>...</td>\n      <td>...</td>\n      <td>...</td>\n      <td>...</td>\n      <td>...</td>\n    </tr>\n    <tr>\n      <th>518264</th>\n      <td>11</td>\n      <td>253</td>\n      <td>113</td>\n      <td>0.0</td>\n      <td>10</td>\n      <td>1024</td>\n      <td>44</td>\n      <td>11</td>\n      <td>12</td>\n      <td>21</td>\n      <td>...</td>\n      <td>2016</td>\n      <td>2</td>\n      <td>12</td>\n      <td>951.0</td>\n      <td>0.0</td>\n      <td>953</td>\n      <td>0.0</td>\n      <td>11618</td>\n      <td>13930</td>\n      <td>0.0</td>\n    </tr>\n    <tr>\n      <th>1102305</th>\n      <td>11</td>\n      <td>222</td>\n      <td>113</td>\n      <td>0.0</td>\n      <td>10</td>\n      <td>1015</td>\n      <td>0</td>\n      <td>68</td>\n      <td>13</td>\n      <td>88</td>\n      <td>...</td>\n      <td>2017</td>\n      <td>7</td>\n      <td>14</td>\n      <td>1109.0</td>\n      <td>0.0</td>\n      <td>1110</td>\n      <td>0.0</td>\n      <td>12892</td>\n      <td>12478</td>\n      <td>17.0</td>\n    </tr>\n    <tr>\n      <th>1347538</th>\n      <td>10</td>\n      <td>281</td>\n      <td>113</td>\n      <td>0.0</td>\n      <td>5</td>\n      <td>1019</td>\n      <td>44</td>\n      <td>38</td>\n      <td>17</td>\n      <td>40</td>\n      <td>...</td>\n      <td>2016</td>\n      <td>5</td>\n      <td>15</td>\n      <td>505.0</td>\n      <td>0.0</td>\n      <td>500</td>\n      <td>5.0</td>\n      <td>13930</td>\n      <td>12266</td>\n      <td>2.0</td>\n    </tr>\n    <tr>\n      <th>461598</th>\n      <td>14</td>\n      <td>330</td>\n      <td>113</td>\n      <td>0.0</td>\n      <td>10</td>\n      <td>1020</td>\n      <td>0</td>\n      <td>36</td>\n      <td>16</td>\n      <td>57</td>\n      <td>...</td>\n      <td>2017</td>\n      <td>2</td>\n      <td>15</td>\n      <td>1904.0</td>\n      <td>0.0</td>\n      <td>1905</td>\n      <td>0.0</td>\n      <td>11298</td>\n      <td>11292</td>\n      <td>0.0</td>\n    </tr>\n    <tr>\n      <th>1165842</th>\n      <td>6</td>\n      <td>216</td>\n      <td>389</td>\n      <td>6.8</td>\n      <td>6</td>\n      <td>1017</td>\n      <td>100</td>\n      <td>75</td>\n      <td>15</td>\n      <td>80</td>\n      <td>...</td>\n      <td>2016</td>\n      <td>7</td>\n      <td>24</td>\n      <td>2050.0</td>\n      <td>0.0</td>\n      <td>2055</td>\n      <td>0.0</td>\n      <td>13204</td>\n      <td>10397</td>\n      <td>0.0</td>\n    </tr>\n  </tbody>\n</table>\n<p>462859 rows × 24 columns</p>\n</div>"
     },
     "metadata": {},
     "execution_count": 61
    }
   ],
   "source": [
    "test_feature"
   ]
  },
  {
   "cell_type": "code",
   "execution_count": 62,
   "metadata": {},
   "outputs": [],
   "source": [
    "test_feature[\"pred\"]=extratree_pred_os"
   ]
  },
  {
   "cell_type": "code",
   "execution_count": 63,
   "metadata": {},
   "outputs": [
    {
     "output_type": "execute_result",
     "data": {
      "text/plain": [
       "         windspeedKmph  winddirDegree  weatherCode  precipMM  visibility  \\\n",
       "1778209             11             55          113       0.0          10   \n",
       "737512              22            242          113       0.0          10   \n",
       "36012               18            152          122       0.0          10   \n",
       "1079740             25            295          116       0.0          10   \n",
       "1093872             15            229          113       0.0          10   \n",
       "...                ...            ...          ...       ...         ...   \n",
       "518264              11            253          113       0.0          10   \n",
       "1102305             11            222          113       0.0          10   \n",
       "1347538             10            281          113       0.0           5   \n",
       "461598              14            330          113       0.0          10   \n",
       "1165842              6            216          389       6.8           6   \n",
       "\n",
       "         pressure  cloudcover  DewPointF  WindGustKmph  tempF  ...  Month  \\\n",
       "1778209      1013           0         29            16     64  ...     10   \n",
       "737512       1016           1         32            37     39  ...      1   \n",
       "36012        1014         100         61            24     67  ...      3   \n",
       "1079740      1009          33         55            27     69  ...      4   \n",
       "1093872      1012           0         58            18     72  ...      6   \n",
       "...           ...         ...        ...           ...    ...  ...    ...   \n",
       "518264       1024          44         11            12     21  ...      2   \n",
       "1102305      1015           0         68            13     88  ...      7   \n",
       "1347538      1019          44         38            17     40  ...      5   \n",
       "461598       1020           0         36            16     57  ...      2   \n",
       "1165842      1017         100         75            15     80  ...      7   \n",
       "\n",
       "         DayofMonth  DepTime  DepDel15  CRSDepTime  DepDelayMinutes  \\\n",
       "1778209           9    923.0       0.0         930              0.0   \n",
       "737512            1    650.0       0.0         700              0.0   \n",
       "36012            31   1125.0       1.0        1050             35.0   \n",
       "1079740          27   1207.0       1.0        1130             37.0   \n",
       "1093872          15   1402.0       0.0        1400              2.0   \n",
       "...             ...      ...       ...         ...              ...   \n",
       "518264           12    951.0       0.0         953              0.0   \n",
       "1102305          14   1109.0       0.0        1110              0.0   \n",
       "1347538          15    505.0       0.0         500              5.0   \n",
       "461598           15   1904.0       0.0        1905              0.0   \n",
       "1165842          24   2050.0       0.0        2055              0.0   \n",
       "\n",
       "         OriginAirportID  DestAirportID  ArrDelayMinutes  pred  \n",
       "1778209            14771          12892             26.0   0.0  \n",
       "737512             12478          13303              0.0   0.0  \n",
       "36012              10397          12892             33.0   0.0  \n",
       "1079740            12892          14747             39.0   1.0  \n",
       "1093872            12892          14771              3.0   0.0  \n",
       "...                  ...            ...              ...   ...  \n",
       "518264             11618          13930              0.0   0.0  \n",
       "1102305            12892          12478             17.0   0.0  \n",
       "1347538            13930          12266              2.0   0.0  \n",
       "461598             11298          11292              0.0   0.0  \n",
       "1165842            13204          10397              0.0   0.0  \n",
       "\n",
       "[462859 rows x 25 columns]"
      ],
      "text/html": "<div>\n<style scoped>\n    .dataframe tbody tr th:only-of-type {\n        vertical-align: middle;\n    }\n\n    .dataframe tbody tr th {\n        vertical-align: top;\n    }\n\n    .dataframe thead th {\n        text-align: right;\n    }\n</style>\n<table border=\"1\" class=\"dataframe\">\n  <thead>\n    <tr style=\"text-align: right;\">\n      <th></th>\n      <th>windspeedKmph</th>\n      <th>winddirDegree</th>\n      <th>weatherCode</th>\n      <th>precipMM</th>\n      <th>visibility</th>\n      <th>pressure</th>\n      <th>cloudcover</th>\n      <th>DewPointF</th>\n      <th>WindGustKmph</th>\n      <th>tempF</th>\n      <th>...</th>\n      <th>Month</th>\n      <th>DayofMonth</th>\n      <th>DepTime</th>\n      <th>DepDel15</th>\n      <th>CRSDepTime</th>\n      <th>DepDelayMinutes</th>\n      <th>OriginAirportID</th>\n      <th>DestAirportID</th>\n      <th>ArrDelayMinutes</th>\n      <th>pred</th>\n    </tr>\n  </thead>\n  <tbody>\n    <tr>\n      <th>1778209</th>\n      <td>11</td>\n      <td>55</td>\n      <td>113</td>\n      <td>0.0</td>\n      <td>10</td>\n      <td>1013</td>\n      <td>0</td>\n      <td>29</td>\n      <td>16</td>\n      <td>64</td>\n      <td>...</td>\n      <td>10</td>\n      <td>9</td>\n      <td>923.0</td>\n      <td>0.0</td>\n      <td>930</td>\n      <td>0.0</td>\n      <td>14771</td>\n      <td>12892</td>\n      <td>26.0</td>\n      <td>0.0</td>\n    </tr>\n    <tr>\n      <th>737512</th>\n      <td>22</td>\n      <td>242</td>\n      <td>113</td>\n      <td>0.0</td>\n      <td>10</td>\n      <td>1016</td>\n      <td>1</td>\n      <td>32</td>\n      <td>37</td>\n      <td>39</td>\n      <td>...</td>\n      <td>1</td>\n      <td>1</td>\n      <td>650.0</td>\n      <td>0.0</td>\n      <td>700</td>\n      <td>0.0</td>\n      <td>12478</td>\n      <td>13303</td>\n      <td>0.0</td>\n      <td>0.0</td>\n    </tr>\n    <tr>\n      <th>36012</th>\n      <td>18</td>\n      <td>152</td>\n      <td>122</td>\n      <td>0.0</td>\n      <td>10</td>\n      <td>1014</td>\n      <td>100</td>\n      <td>61</td>\n      <td>24</td>\n      <td>67</td>\n      <td>...</td>\n      <td>3</td>\n      <td>31</td>\n      <td>1125.0</td>\n      <td>1.0</td>\n      <td>1050</td>\n      <td>35.0</td>\n      <td>10397</td>\n      <td>12892</td>\n      <td>33.0</td>\n      <td>0.0</td>\n    </tr>\n    <tr>\n      <th>1079740</th>\n      <td>25</td>\n      <td>295</td>\n      <td>116</td>\n      <td>0.0</td>\n      <td>10</td>\n      <td>1009</td>\n      <td>33</td>\n      <td>55</td>\n      <td>27</td>\n      <td>69</td>\n      <td>...</td>\n      <td>4</td>\n      <td>27</td>\n      <td>1207.0</td>\n      <td>1.0</td>\n      <td>1130</td>\n      <td>37.0</td>\n      <td>12892</td>\n      <td>14747</td>\n      <td>39.0</td>\n      <td>1.0</td>\n    </tr>\n    <tr>\n      <th>1093872</th>\n      <td>15</td>\n      <td>229</td>\n      <td>113</td>\n      <td>0.0</td>\n      <td>10</td>\n      <td>1012</td>\n      <td>0</td>\n      <td>58</td>\n      <td>18</td>\n      <td>72</td>\n      <td>...</td>\n      <td>6</td>\n      <td>15</td>\n      <td>1402.0</td>\n      <td>0.0</td>\n      <td>1400</td>\n      <td>2.0</td>\n      <td>12892</td>\n      <td>14771</td>\n      <td>3.0</td>\n      <td>0.0</td>\n    </tr>\n    <tr>\n      <th>...</th>\n      <td>...</td>\n      <td>...</td>\n      <td>...</td>\n      <td>...</td>\n      <td>...</td>\n      <td>...</td>\n      <td>...</td>\n      <td>...</td>\n      <td>...</td>\n      <td>...</td>\n      <td>...</td>\n      <td>...</td>\n      <td>...</td>\n      <td>...</td>\n      <td>...</td>\n      <td>...</td>\n      <td>...</td>\n      <td>...</td>\n      <td>...</td>\n      <td>...</td>\n      <td>...</td>\n    </tr>\n    <tr>\n      <th>518264</th>\n      <td>11</td>\n      <td>253</td>\n      <td>113</td>\n      <td>0.0</td>\n      <td>10</td>\n      <td>1024</td>\n      <td>44</td>\n      <td>11</td>\n      <td>12</td>\n      <td>21</td>\n      <td>...</td>\n      <td>2</td>\n      <td>12</td>\n      <td>951.0</td>\n      <td>0.0</td>\n      <td>953</td>\n      <td>0.0</td>\n      <td>11618</td>\n      <td>13930</td>\n      <td>0.0</td>\n      <td>0.0</td>\n    </tr>\n    <tr>\n      <th>1102305</th>\n      <td>11</td>\n      <td>222</td>\n      <td>113</td>\n      <td>0.0</td>\n      <td>10</td>\n      <td>1015</td>\n      <td>0</td>\n      <td>68</td>\n      <td>13</td>\n      <td>88</td>\n      <td>...</td>\n      <td>7</td>\n      <td>14</td>\n      <td>1109.0</td>\n      <td>0.0</td>\n      <td>1110</td>\n      <td>0.0</td>\n      <td>12892</td>\n      <td>12478</td>\n      <td>17.0</td>\n      <td>0.0</td>\n    </tr>\n    <tr>\n      <th>1347538</th>\n      <td>10</td>\n      <td>281</td>\n      <td>113</td>\n      <td>0.0</td>\n      <td>5</td>\n      <td>1019</td>\n      <td>44</td>\n      <td>38</td>\n      <td>17</td>\n      <td>40</td>\n      <td>...</td>\n      <td>5</td>\n      <td>15</td>\n      <td>505.0</td>\n      <td>0.0</td>\n      <td>500</td>\n      <td>5.0</td>\n      <td>13930</td>\n      <td>12266</td>\n      <td>2.0</td>\n      <td>0.0</td>\n    </tr>\n    <tr>\n      <th>461598</th>\n      <td>14</td>\n      <td>330</td>\n      <td>113</td>\n      <td>0.0</td>\n      <td>10</td>\n      <td>1020</td>\n      <td>0</td>\n      <td>36</td>\n      <td>16</td>\n      <td>57</td>\n      <td>...</td>\n      <td>2</td>\n      <td>15</td>\n      <td>1904.0</td>\n      <td>0.0</td>\n      <td>1905</td>\n      <td>0.0</td>\n      <td>11298</td>\n      <td>11292</td>\n      <td>0.0</td>\n      <td>0.0</td>\n    </tr>\n    <tr>\n      <th>1165842</th>\n      <td>6</td>\n      <td>216</td>\n      <td>389</td>\n      <td>6.8</td>\n      <td>6</td>\n      <td>1017</td>\n      <td>100</td>\n      <td>75</td>\n      <td>15</td>\n      <td>80</td>\n      <td>...</td>\n      <td>7</td>\n      <td>24</td>\n      <td>2050.0</td>\n      <td>0.0</td>\n      <td>2055</td>\n      <td>0.0</td>\n      <td>13204</td>\n      <td>10397</td>\n      <td>0.0</td>\n      <td>0.0</td>\n    </tr>\n  </tbody>\n</table>\n<p>462859 rows × 25 columns</p>\n</div>"
     },
     "metadata": {},
     "execution_count": 63
    }
   ],
   "source": [
    "test_feature"
   ]
  },
  {
   "cell_type": "code",
   "execution_count": 64,
   "metadata": {},
   "outputs": [],
   "source": [
    "test_feature=test_feature[test_feature[\"pred\"]==1.0]"
   ]
  },
  {
   "cell_type": "code",
   "execution_count": 65,
   "metadata": {},
   "outputs": [
    {
     "output_type": "execute_result",
     "data": {
      "text/plain": [
       "         windspeedKmph  winddirDegree  weatherCode  precipMM  visibility  \\\n",
       "1079740             25            295          116       0.0          10   \n",
       "550997              24            278          122       0.0          10   \n",
       "639641              16            163          113       0.1          10   \n",
       "1796216              9             10          113       0.0          10   \n",
       "1002634              8            197          119       0.0          10   \n",
       "...                ...            ...          ...       ...         ...   \n",
       "1768695              3             76          113       0.0          10   \n",
       "402881              22            188          113       0.0          10   \n",
       "730024               9            196          113       0.0          10   \n",
       "989158               9            167          113       0.0          10   \n",
       "255120               8            212          113       0.0           7   \n",
       "\n",
       "         pressure  cloudcover  DewPointF  WindGustKmph  tempF  ...  Month  \\\n",
       "1079740      1009          33         55            27     69  ...      4   \n",
       "550997       1027          22         12            31     22  ...      1   \n",
       "639641       1012          25         74            18     92  ...      8   \n",
       "1796216      1022          70         48            14     51  ...     12   \n",
       "1002634      1013          78         68            10     76  ...      7   \n",
       "...           ...         ...        ...           ...    ...  ...    ...   \n",
       "1768695      1015           0         52             3     68  ...      9   \n",
       "402881       1006           0         49            26     84  ...      3   \n",
       "730024       1017           0         65            10     76  ...      8   \n",
       "989158       1012          20         57            10     62  ...      6   \n",
       "255120       1033          12         21             9     40  ...      2   \n",
       "\n",
       "         DayofMonth  DepTime  DepDel15  CRSDepTime  DepDelayMinutes  \\\n",
       "1079740          27   1207.0       1.0        1130             37.0   \n",
       "550997            8   1415.0       1.0        1344             31.0   \n",
       "639641            4   2106.0       1.0        1915            111.0   \n",
       "1796216          28   1734.0       1.0        1650             44.0   \n",
       "1002634          28   1150.0       1.0        1016             94.0   \n",
       "...             ...      ...       ...         ...              ...   \n",
       "1768695          26    841.0       0.0         845              0.0   \n",
       "402881           14   1527.0       1.0        1450             37.0   \n",
       "730024            5   1117.0       1.0         959             78.0   \n",
       "989158           14     22.0       1.0        2240            102.0   \n",
       "255120            8   1356.0       1.0        1235             81.0   \n",
       "\n",
       "         OriginAirportID  DestAirportID  ArrDelayMinutes  pred  \n",
       "1079740            12892          14747             39.0   1.0  \n",
       "550997             11618          13204             23.0   1.0  \n",
       "639641             12266          13204            102.0   1.0  \n",
       "1796216            14771          12889             40.0   1.0  \n",
       "1002634            12892          11298            104.0   1.0  \n",
       "...                  ...            ...              ...   ...  \n",
       "1768695            14771          11292              0.0   1.0  \n",
       "402881             11298          13930             27.0   1.0  \n",
       "730024             12478          14107             42.0   1.0  \n",
       "989158             12892          11057             86.0   1.0  \n",
       "255120             11292          14107             73.0   1.0  \n",
       "\n",
       "[95185 rows x 25 columns]"
      ],
      "text/html": "<div>\n<style scoped>\n    .dataframe tbody tr th:only-of-type {\n        vertical-align: middle;\n    }\n\n    .dataframe tbody tr th {\n        vertical-align: top;\n    }\n\n    .dataframe thead th {\n        text-align: right;\n    }\n</style>\n<table border=\"1\" class=\"dataframe\">\n  <thead>\n    <tr style=\"text-align: right;\">\n      <th></th>\n      <th>windspeedKmph</th>\n      <th>winddirDegree</th>\n      <th>weatherCode</th>\n      <th>precipMM</th>\n      <th>visibility</th>\n      <th>pressure</th>\n      <th>cloudcover</th>\n      <th>DewPointF</th>\n      <th>WindGustKmph</th>\n      <th>tempF</th>\n      <th>...</th>\n      <th>Month</th>\n      <th>DayofMonth</th>\n      <th>DepTime</th>\n      <th>DepDel15</th>\n      <th>CRSDepTime</th>\n      <th>DepDelayMinutes</th>\n      <th>OriginAirportID</th>\n      <th>DestAirportID</th>\n      <th>ArrDelayMinutes</th>\n      <th>pred</th>\n    </tr>\n  </thead>\n  <tbody>\n    <tr>\n      <th>1079740</th>\n      <td>25</td>\n      <td>295</td>\n      <td>116</td>\n      <td>0.0</td>\n      <td>10</td>\n      <td>1009</td>\n      <td>33</td>\n      <td>55</td>\n      <td>27</td>\n      <td>69</td>\n      <td>...</td>\n      <td>4</td>\n      <td>27</td>\n      <td>1207.0</td>\n      <td>1.0</td>\n      <td>1130</td>\n      <td>37.0</td>\n      <td>12892</td>\n      <td>14747</td>\n      <td>39.0</td>\n      <td>1.0</td>\n    </tr>\n    <tr>\n      <th>550997</th>\n      <td>24</td>\n      <td>278</td>\n      <td>122</td>\n      <td>0.0</td>\n      <td>10</td>\n      <td>1027</td>\n      <td>22</td>\n      <td>12</td>\n      <td>31</td>\n      <td>22</td>\n      <td>...</td>\n      <td>1</td>\n      <td>8</td>\n      <td>1415.0</td>\n      <td>1.0</td>\n      <td>1344</td>\n      <td>31.0</td>\n      <td>11618</td>\n      <td>13204</td>\n      <td>23.0</td>\n      <td>1.0</td>\n    </tr>\n    <tr>\n      <th>639641</th>\n      <td>16</td>\n      <td>163</td>\n      <td>113</td>\n      <td>0.1</td>\n      <td>10</td>\n      <td>1012</td>\n      <td>25</td>\n      <td>74</td>\n      <td>18</td>\n      <td>92</td>\n      <td>...</td>\n      <td>8</td>\n      <td>4</td>\n      <td>2106.0</td>\n      <td>1.0</td>\n      <td>1915</td>\n      <td>111.0</td>\n      <td>12266</td>\n      <td>13204</td>\n      <td>102.0</td>\n      <td>1.0</td>\n    </tr>\n    <tr>\n      <th>1796216</th>\n      <td>9</td>\n      <td>10</td>\n      <td>113</td>\n      <td>0.0</td>\n      <td>10</td>\n      <td>1022</td>\n      <td>70</td>\n      <td>48</td>\n      <td>14</td>\n      <td>51</td>\n      <td>...</td>\n      <td>12</td>\n      <td>28</td>\n      <td>1734.0</td>\n      <td>1.0</td>\n      <td>1650</td>\n      <td>44.0</td>\n      <td>14771</td>\n      <td>12889</td>\n      <td>40.0</td>\n      <td>1.0</td>\n    </tr>\n    <tr>\n      <th>1002634</th>\n      <td>8</td>\n      <td>197</td>\n      <td>119</td>\n      <td>0.0</td>\n      <td>10</td>\n      <td>1013</td>\n      <td>78</td>\n      <td>68</td>\n      <td>10</td>\n      <td>76</td>\n      <td>...</td>\n      <td>7</td>\n      <td>28</td>\n      <td>1150.0</td>\n      <td>1.0</td>\n      <td>1016</td>\n      <td>94.0</td>\n      <td>12892</td>\n      <td>11298</td>\n      <td>104.0</td>\n      <td>1.0</td>\n    </tr>\n    <tr>\n      <th>...</th>\n      <td>...</td>\n      <td>...</td>\n      <td>...</td>\n      <td>...</td>\n      <td>...</td>\n      <td>...</td>\n      <td>...</td>\n      <td>...</td>\n      <td>...</td>\n      <td>...</td>\n      <td>...</td>\n      <td>...</td>\n      <td>...</td>\n      <td>...</td>\n      <td>...</td>\n      <td>...</td>\n      <td>...</td>\n      <td>...</td>\n      <td>...</td>\n      <td>...</td>\n      <td>...</td>\n    </tr>\n    <tr>\n      <th>1768695</th>\n      <td>3</td>\n      <td>76</td>\n      <td>113</td>\n      <td>0.0</td>\n      <td>10</td>\n      <td>1015</td>\n      <td>0</td>\n      <td>52</td>\n      <td>3</td>\n      <td>68</td>\n      <td>...</td>\n      <td>9</td>\n      <td>26</td>\n      <td>841.0</td>\n      <td>0.0</td>\n      <td>845</td>\n      <td>0.0</td>\n      <td>14771</td>\n      <td>11292</td>\n      <td>0.0</td>\n      <td>1.0</td>\n    </tr>\n    <tr>\n      <th>402881</th>\n      <td>22</td>\n      <td>188</td>\n      <td>113</td>\n      <td>0.0</td>\n      <td>10</td>\n      <td>1006</td>\n      <td>0</td>\n      <td>49</td>\n      <td>26</td>\n      <td>84</td>\n      <td>...</td>\n      <td>3</td>\n      <td>14</td>\n      <td>1527.0</td>\n      <td>1.0</td>\n      <td>1450</td>\n      <td>37.0</td>\n      <td>11298</td>\n      <td>13930</td>\n      <td>27.0</td>\n      <td>1.0</td>\n    </tr>\n    <tr>\n      <th>730024</th>\n      <td>9</td>\n      <td>196</td>\n      <td>113</td>\n      <td>0.0</td>\n      <td>10</td>\n      <td>1017</td>\n      <td>0</td>\n      <td>65</td>\n      <td>10</td>\n      <td>76</td>\n      <td>...</td>\n      <td>8</td>\n      <td>5</td>\n      <td>1117.0</td>\n      <td>1.0</td>\n      <td>959</td>\n      <td>78.0</td>\n      <td>12478</td>\n      <td>14107</td>\n      <td>42.0</td>\n      <td>1.0</td>\n    </tr>\n    <tr>\n      <th>989158</th>\n      <td>9</td>\n      <td>167</td>\n      <td>113</td>\n      <td>0.0</td>\n      <td>10</td>\n      <td>1012</td>\n      <td>20</td>\n      <td>57</td>\n      <td>10</td>\n      <td>62</td>\n      <td>...</td>\n      <td>6</td>\n      <td>14</td>\n      <td>22.0</td>\n      <td>1.0</td>\n      <td>2240</td>\n      <td>102.0</td>\n      <td>12892</td>\n      <td>11057</td>\n      <td>86.0</td>\n      <td>1.0</td>\n    </tr>\n    <tr>\n      <th>255120</th>\n      <td>8</td>\n      <td>212</td>\n      <td>113</td>\n      <td>0.0</td>\n      <td>7</td>\n      <td>1033</td>\n      <td>12</td>\n      <td>21</td>\n      <td>9</td>\n      <td>40</td>\n      <td>...</td>\n      <td>2</td>\n      <td>8</td>\n      <td>1356.0</td>\n      <td>1.0</td>\n      <td>1235</td>\n      <td>81.0</td>\n      <td>11292</td>\n      <td>14107</td>\n      <td>73.0</td>\n      <td>1.0</td>\n    </tr>\n  </tbody>\n</table>\n<p>95185 rows × 25 columns</p>\n</div>"
     },
     "metadata": {},
     "execution_count": 65
    }
   ],
   "source": [
    "test_feature"
   ]
  },
  {
   "cell_type": "code",
   "execution_count": 66,
   "metadata": {},
   "outputs": [],
   "source": [
    "test_feature=test_feature.drop([\"pred\"],axis=1)"
   ]
  },
  {
   "cell_type": "code",
   "execution_count": 67,
   "metadata": {},
   "outputs": [],
   "source": [
    "test_feature.to_csv(\"pipeline_data.csv\")"
   ]
  },
  {
   "cell_type": "code",
   "execution_count": 68,
   "metadata": {},
   "outputs": [
    {
     "output_type": "display_data",
     "data": {
      "text/plain": "<Figure size 432x288 with 1 Axes>",
      "image/svg+xml": "<?xml version=\"1.0\" encoding=\"utf-8\" standalone=\"no\"?>\r\n<!DOCTYPE svg PUBLIC \"-//W3C//DTD SVG 1.1//EN\"\r\n  \"http://www.w3.org/Graphics/SVG/1.1/DTD/svg11.dtd\">\r\n<!-- Created with matplotlib (https://matplotlib.org/) -->\r\n<svg height=\"248.518125pt\" version=\"1.1\" viewBox=\"0 0 382.603125 248.518125\" width=\"382.603125pt\" xmlns=\"http://www.w3.org/2000/svg\" xmlns:xlink=\"http://www.w3.org/1999/xlink\">\r\n <metadata>\r\n  <rdf:RDF xmlns:cc=\"http://creativecommons.org/ns#\" xmlns:dc=\"http://purl.org/dc/elements/1.1/\" xmlns:rdf=\"http://www.w3.org/1999/02/22-rdf-syntax-ns#\">\r\n   <cc:Work>\r\n    <dc:type rdf:resource=\"http://purl.org/dc/dcmitype/StillImage\"/>\r\n    <dc:date>2020-12-04T18:23:36.523113</dc:date>\r\n    <dc:format>image/svg+xml</dc:format>\r\n    <dc:creator>\r\n     <cc:Agent>\r\n      <dc:title>Matplotlib v3.3.2, https://matplotlib.org/</dc:title>\r\n     </cc:Agent>\r\n    </dc:creator>\r\n   </cc:Work>\r\n  </rdf:RDF>\r\n </metadata>\r\n <defs>\r\n  <style type=\"text/css\">*{stroke-linecap:butt;stroke-linejoin:round;}</style>\r\n </defs>\r\n <g id=\"figure_1\">\r\n  <g id=\"patch_1\">\r\n   <path d=\"M 0 248.518125 \r\nL 382.603125 248.518125 \r\nL 382.603125 0 \r\nL 0 0 \r\nz\r\n\" style=\"fill:none;\"/>\r\n  </g>\r\n  <g id=\"axes_1\">\r\n   <g id=\"patch_2\">\r\n    <path d=\"M 40.603125 224.64 \r\nL 375.403125 224.64 \r\nL 375.403125 7.2 \r\nL 40.603125 7.2 \r\nz\r\n\" style=\"fill:#ffffff;\"/>\r\n   </g>\r\n   <g id=\"patch_3\">\r\n    <path clip-path=\"url(#p030e968df5)\" d=\"M 55.821307 224.64 \r\nL 126.059069 224.64 \r\nL 126.059069 17.554286 \r\nL 55.821307 17.554286 \r\nz\r\n\" style=\"fill:#1f77b4;\"/>\r\n   </g>\r\n   <g id=\"patch_4\">\r\n    <path clip-path=\"url(#p030e968df5)\" d=\"M 289.947181 224.64 \r\nL 360.184943 224.64 \r\nL 360.184943 169.591899 \r\nL 289.947181 169.591899 \r\nz\r\n\" style=\"fill:#1f77b4;\"/>\r\n   </g>\r\n   <g id=\"matplotlib.axis_1\">\r\n    <g id=\"xtick_1\">\r\n     <g id=\"line2d_1\">\r\n      <defs>\r\n       <path d=\"M 0 0 \r\nL 0 3.5 \r\n\" id=\"m1100f65689\" style=\"stroke:#000000;stroke-width:0.8;\"/>\r\n      </defs>\r\n      <g>\r\n       <use style=\"stroke:#000000;stroke-width:0.8;\" x=\"90.940188\" xlink:href=\"#m1100f65689\" y=\"224.64\"/>\r\n      </g>\r\n     </g>\r\n     <g id=\"text_1\">\r\n      <!-- on-time(0) -->\r\n      <g transform=\"translate(64.52925 239.238437)scale(0.1 -0.1)\">\r\n       <defs>\r\n        <path d=\"M 30.609375 48.390625 \r\nQ 23.390625 48.390625 19.1875 42.75 \r\nQ 14.984375 37.109375 14.984375 27.296875 \r\nQ 14.984375 17.484375 19.15625 11.84375 \r\nQ 23.34375 6.203125 30.609375 6.203125 \r\nQ 37.796875 6.203125 41.984375 11.859375 \r\nQ 46.1875 17.53125 46.1875 27.296875 \r\nQ 46.1875 37.015625 41.984375 42.703125 \r\nQ 37.796875 48.390625 30.609375 48.390625 \r\nz\r\nM 30.609375 56 \r\nQ 42.328125 56 49.015625 48.375 \r\nQ 55.71875 40.765625 55.71875 27.296875 \r\nQ 55.71875 13.875 49.015625 6.21875 \r\nQ 42.328125 -1.421875 30.609375 -1.421875 \r\nQ 18.84375 -1.421875 12.171875 6.21875 \r\nQ 5.515625 13.875 5.515625 27.296875 \r\nQ 5.515625 40.765625 12.171875 48.375 \r\nQ 18.84375 56 30.609375 56 \r\nz\r\n\" id=\"DejaVuSans-111\"/>\r\n        <path d=\"M 54.890625 33.015625 \r\nL 54.890625 0 \r\nL 45.90625 0 \r\nL 45.90625 32.71875 \r\nQ 45.90625 40.484375 42.875 44.328125 \r\nQ 39.84375 48.1875 33.796875 48.1875 \r\nQ 26.515625 48.1875 22.3125 43.546875 \r\nQ 18.109375 38.921875 18.109375 30.90625 \r\nL 18.109375 0 \r\nL 9.078125 0 \r\nL 9.078125 54.6875 \r\nL 18.109375 54.6875 \r\nL 18.109375 46.1875 \r\nQ 21.34375 51.125 25.703125 53.5625 \r\nQ 30.078125 56 35.796875 56 \r\nQ 45.21875 56 50.046875 50.171875 \r\nQ 54.890625 44.34375 54.890625 33.015625 \r\nz\r\n\" id=\"DejaVuSans-110\"/>\r\n        <path d=\"M 4.890625 31.390625 \r\nL 31.203125 31.390625 \r\nL 31.203125 23.390625 \r\nL 4.890625 23.390625 \r\nz\r\n\" id=\"DejaVuSans-45\"/>\r\n        <path d=\"M 18.3125 70.21875 \r\nL 18.3125 54.6875 \r\nL 36.8125 54.6875 \r\nL 36.8125 47.703125 \r\nL 18.3125 47.703125 \r\nL 18.3125 18.015625 \r\nQ 18.3125 11.328125 20.140625 9.421875 \r\nQ 21.96875 7.515625 27.59375 7.515625 \r\nL 36.8125 7.515625 \r\nL 36.8125 0 \r\nL 27.59375 0 \r\nQ 17.1875 0 13.234375 3.875 \r\nQ 9.28125 7.765625 9.28125 18.015625 \r\nL 9.28125 47.703125 \r\nL 2.6875 47.703125 \r\nL 2.6875 54.6875 \r\nL 9.28125 54.6875 \r\nL 9.28125 70.21875 \r\nz\r\n\" id=\"DejaVuSans-116\"/>\r\n        <path d=\"M 9.421875 54.6875 \r\nL 18.40625 54.6875 \r\nL 18.40625 0 \r\nL 9.421875 0 \r\nz\r\nM 9.421875 75.984375 \r\nL 18.40625 75.984375 \r\nL 18.40625 64.59375 \r\nL 9.421875 64.59375 \r\nz\r\n\" id=\"DejaVuSans-105\"/>\r\n        <path d=\"M 52 44.1875 \r\nQ 55.375 50.25 60.0625 53.125 \r\nQ 64.75 56 71.09375 56 \r\nQ 79.640625 56 84.28125 50.015625 \r\nQ 88.921875 44.046875 88.921875 33.015625 \r\nL 88.921875 0 \r\nL 79.890625 0 \r\nL 79.890625 32.71875 \r\nQ 79.890625 40.578125 77.09375 44.375 \r\nQ 74.3125 48.1875 68.609375 48.1875 \r\nQ 61.625 48.1875 57.5625 43.546875 \r\nQ 53.515625 38.921875 53.515625 30.90625 \r\nL 53.515625 0 \r\nL 44.484375 0 \r\nL 44.484375 32.71875 \r\nQ 44.484375 40.625 41.703125 44.40625 \r\nQ 38.921875 48.1875 33.109375 48.1875 \r\nQ 26.21875 48.1875 22.15625 43.53125 \r\nQ 18.109375 38.875 18.109375 30.90625 \r\nL 18.109375 0 \r\nL 9.078125 0 \r\nL 9.078125 54.6875 \r\nL 18.109375 54.6875 \r\nL 18.109375 46.1875 \r\nQ 21.1875 51.21875 25.484375 53.609375 \r\nQ 29.78125 56 35.6875 56 \r\nQ 41.65625 56 45.828125 52.96875 \r\nQ 50 49.953125 52 44.1875 \r\nz\r\n\" id=\"DejaVuSans-109\"/>\r\n        <path d=\"M 56.203125 29.59375 \r\nL 56.203125 25.203125 \r\nL 14.890625 25.203125 \r\nQ 15.484375 15.921875 20.484375 11.0625 \r\nQ 25.484375 6.203125 34.421875 6.203125 \r\nQ 39.59375 6.203125 44.453125 7.46875 \r\nQ 49.3125 8.734375 54.109375 11.28125 \r\nL 54.109375 2.78125 \r\nQ 49.265625 0.734375 44.1875 -0.34375 \r\nQ 39.109375 -1.421875 33.890625 -1.421875 \r\nQ 20.796875 -1.421875 13.15625 6.1875 \r\nQ 5.515625 13.8125 5.515625 26.8125 \r\nQ 5.515625 40.234375 12.765625 48.109375 \r\nQ 20.015625 56 32.328125 56 \r\nQ 43.359375 56 49.78125 48.890625 \r\nQ 56.203125 41.796875 56.203125 29.59375 \r\nz\r\nM 47.21875 32.234375 \r\nQ 47.125 39.59375 43.09375 43.984375 \r\nQ 39.0625 48.390625 32.421875 48.390625 \r\nQ 24.90625 48.390625 20.390625 44.140625 \r\nQ 15.875 39.890625 15.1875 32.171875 \r\nz\r\n\" id=\"DejaVuSans-101\"/>\r\n        <path d=\"M 31 75.875 \r\nQ 24.46875 64.65625 21.28125 53.65625 \r\nQ 18.109375 42.671875 18.109375 31.390625 \r\nQ 18.109375 20.125 21.3125 9.0625 \r\nQ 24.515625 -2 31 -13.1875 \r\nL 23.1875 -13.1875 \r\nQ 15.875 -1.703125 12.234375 9.375 \r\nQ 8.59375 20.453125 8.59375 31.390625 \r\nQ 8.59375 42.28125 12.203125 53.3125 \r\nQ 15.828125 64.359375 23.1875 75.875 \r\nz\r\n\" id=\"DejaVuSans-40\"/>\r\n        <path d=\"M 31.78125 66.40625 \r\nQ 24.171875 66.40625 20.328125 58.90625 \r\nQ 16.5 51.421875 16.5 36.375 \r\nQ 16.5 21.390625 20.328125 13.890625 \r\nQ 24.171875 6.390625 31.78125 6.390625 \r\nQ 39.453125 6.390625 43.28125 13.890625 \r\nQ 47.125 21.390625 47.125 36.375 \r\nQ 47.125 51.421875 43.28125 58.90625 \r\nQ 39.453125 66.40625 31.78125 66.40625 \r\nz\r\nM 31.78125 74.21875 \r\nQ 44.046875 74.21875 50.515625 64.515625 \r\nQ 56.984375 54.828125 56.984375 36.375 \r\nQ 56.984375 17.96875 50.515625 8.265625 \r\nQ 44.046875 -1.421875 31.78125 -1.421875 \r\nQ 19.53125 -1.421875 13.0625 8.265625 \r\nQ 6.59375 17.96875 6.59375 36.375 \r\nQ 6.59375 54.828125 13.0625 64.515625 \r\nQ 19.53125 74.21875 31.78125 74.21875 \r\nz\r\n\" id=\"DejaVuSans-48\"/>\r\n        <path d=\"M 8.015625 75.875 \r\nL 15.828125 75.875 \r\nQ 23.140625 64.359375 26.78125 53.3125 \r\nQ 30.421875 42.28125 30.421875 31.390625 \r\nQ 30.421875 20.453125 26.78125 9.375 \r\nQ 23.140625 -1.703125 15.828125 -13.1875 \r\nL 8.015625 -13.1875 \r\nQ 14.5 -2 17.703125 9.0625 \r\nQ 20.90625 20.125 20.90625 31.390625 \r\nQ 20.90625 42.671875 17.703125 53.65625 \r\nQ 14.5 64.65625 8.015625 75.875 \r\nz\r\n\" id=\"DejaVuSans-41\"/>\r\n       </defs>\r\n       <use xlink:href=\"#DejaVuSans-111\"/>\r\n       <use x=\"61.181641\" xlink:href=\"#DejaVuSans-110\"/>\r\n       <use x=\"124.560547\" xlink:href=\"#DejaVuSans-45\"/>\r\n       <use x=\"160.644531\" xlink:href=\"#DejaVuSans-116\"/>\r\n       <use x=\"199.853516\" xlink:href=\"#DejaVuSans-105\"/>\r\n       <use x=\"227.636719\" xlink:href=\"#DejaVuSans-109\"/>\r\n       <use x=\"325.048828\" xlink:href=\"#DejaVuSans-101\"/>\r\n       <use x=\"386.572266\" xlink:href=\"#DejaVuSans-40\"/>\r\n       <use x=\"425.585938\" xlink:href=\"#DejaVuSans-48\"/>\r\n       <use x=\"489.208984\" xlink:href=\"#DejaVuSans-41\"/>\r\n      </g>\r\n     </g>\r\n    </g>\r\n    <g id=\"xtick_2\">\r\n     <g id=\"line2d_2\">\r\n      <g>\r\n       <use style=\"stroke:#000000;stroke-width:0.8;\" x=\"325.066062\" xlink:href=\"#m1100f65689\" y=\"224.64\"/>\r\n      </g>\r\n     </g>\r\n     <g id=\"text_2\">\r\n      <!-- delay(1) -->\r\n      <g transform=\"translate(304.319968 239.238437)scale(0.1 -0.1)\">\r\n       <defs>\r\n        <path d=\"M 45.40625 46.390625 \r\nL 45.40625 75.984375 \r\nL 54.390625 75.984375 \r\nL 54.390625 0 \r\nL 45.40625 0 \r\nL 45.40625 8.203125 \r\nQ 42.578125 3.328125 38.25 0.953125 \r\nQ 33.9375 -1.421875 27.875 -1.421875 \r\nQ 17.96875 -1.421875 11.734375 6.484375 \r\nQ 5.515625 14.40625 5.515625 27.296875 \r\nQ 5.515625 40.1875 11.734375 48.09375 \r\nQ 17.96875 56 27.875 56 \r\nQ 33.9375 56 38.25 53.625 \r\nQ 42.578125 51.265625 45.40625 46.390625 \r\nz\r\nM 14.796875 27.296875 \r\nQ 14.796875 17.390625 18.875 11.75 \r\nQ 22.953125 6.109375 30.078125 6.109375 \r\nQ 37.203125 6.109375 41.296875 11.75 \r\nQ 45.40625 17.390625 45.40625 27.296875 \r\nQ 45.40625 37.203125 41.296875 42.84375 \r\nQ 37.203125 48.484375 30.078125 48.484375 \r\nQ 22.953125 48.484375 18.875 42.84375 \r\nQ 14.796875 37.203125 14.796875 27.296875 \r\nz\r\n\" id=\"DejaVuSans-100\"/>\r\n        <path d=\"M 9.421875 75.984375 \r\nL 18.40625 75.984375 \r\nL 18.40625 0 \r\nL 9.421875 0 \r\nz\r\n\" id=\"DejaVuSans-108\"/>\r\n        <path d=\"M 34.28125 27.484375 \r\nQ 23.390625 27.484375 19.1875 25 \r\nQ 14.984375 22.515625 14.984375 16.5 \r\nQ 14.984375 11.71875 18.140625 8.90625 \r\nQ 21.296875 6.109375 26.703125 6.109375 \r\nQ 34.1875 6.109375 38.703125 11.40625 \r\nQ 43.21875 16.703125 43.21875 25.484375 \r\nL 43.21875 27.484375 \r\nz\r\nM 52.203125 31.203125 \r\nL 52.203125 0 \r\nL 43.21875 0 \r\nL 43.21875 8.296875 \r\nQ 40.140625 3.328125 35.546875 0.953125 \r\nQ 30.953125 -1.421875 24.3125 -1.421875 \r\nQ 15.921875 -1.421875 10.953125 3.296875 \r\nQ 6 8.015625 6 15.921875 \r\nQ 6 25.140625 12.171875 29.828125 \r\nQ 18.359375 34.515625 30.609375 34.515625 \r\nL 43.21875 34.515625 \r\nL 43.21875 35.40625 \r\nQ 43.21875 41.609375 39.140625 45 \r\nQ 35.0625 48.390625 27.6875 48.390625 \r\nQ 23 48.390625 18.546875 47.265625 \r\nQ 14.109375 46.140625 10.015625 43.890625 \r\nL 10.015625 52.203125 \r\nQ 14.9375 54.109375 19.578125 55.046875 \r\nQ 24.21875 56 28.609375 56 \r\nQ 40.484375 56 46.34375 49.84375 \r\nQ 52.203125 43.703125 52.203125 31.203125 \r\nz\r\n\" id=\"DejaVuSans-97\"/>\r\n        <path d=\"M 32.171875 -5.078125 \r\nQ 28.375 -14.84375 24.75 -17.8125 \r\nQ 21.140625 -20.796875 15.09375 -20.796875 \r\nL 7.90625 -20.796875 \r\nL 7.90625 -13.28125 \r\nL 13.1875 -13.28125 \r\nQ 16.890625 -13.28125 18.9375 -11.515625 \r\nQ 21 -9.765625 23.484375 -3.21875 \r\nL 25.09375 0.875 \r\nL 2.984375 54.6875 \r\nL 12.5 54.6875 \r\nL 29.59375 11.921875 \r\nL 46.6875 54.6875 \r\nL 56.203125 54.6875 \r\nz\r\n\" id=\"DejaVuSans-121\"/>\r\n        <path d=\"M 12.40625 8.296875 \r\nL 28.515625 8.296875 \r\nL 28.515625 63.921875 \r\nL 10.984375 60.40625 \r\nL 10.984375 69.390625 \r\nL 28.421875 72.90625 \r\nL 38.28125 72.90625 \r\nL 38.28125 8.296875 \r\nL 54.390625 8.296875 \r\nL 54.390625 0 \r\nL 12.40625 0 \r\nz\r\n\" id=\"DejaVuSans-49\"/>\r\n       </defs>\r\n       <use xlink:href=\"#DejaVuSans-100\"/>\r\n       <use x=\"63.476562\" xlink:href=\"#DejaVuSans-101\"/>\r\n       <use x=\"125\" xlink:href=\"#DejaVuSans-108\"/>\r\n       <use x=\"152.783203\" xlink:href=\"#DejaVuSans-97\"/>\r\n       <use x=\"214.0625\" xlink:href=\"#DejaVuSans-121\"/>\r\n       <use x=\"273.242188\" xlink:href=\"#DejaVuSans-40\"/>\r\n       <use x=\"312.255859\" xlink:href=\"#DejaVuSans-49\"/>\r\n       <use x=\"375.878906\" xlink:href=\"#DejaVuSans-41\"/>\r\n      </g>\r\n     </g>\r\n    </g>\r\n   </g>\r\n   <g id=\"matplotlib.axis_2\">\r\n    <g id=\"ytick_1\">\r\n     <g id=\"line2d_3\">\r\n      <defs>\r\n       <path d=\"M 0 0 \r\nL -3.5 0 \r\n\" id=\"m6ea23f5abe\" style=\"stroke:#000000;stroke-width:0.8;\"/>\r\n      </defs>\r\n      <g>\r\n       <use style=\"stroke:#000000;stroke-width:0.8;\" x=\"40.603125\" xlink:href=\"#m6ea23f5abe\" y=\"224.64\"/>\r\n      </g>\r\n     </g>\r\n     <g id=\"text_3\">\r\n      <!-- 0 -->\r\n      <g transform=\"translate(27.240625 228.439219)scale(0.1 -0.1)\">\r\n       <use xlink:href=\"#DejaVuSans-48\"/>\r\n      </g>\r\n     </g>\r\n    </g>\r\n    <g id=\"ytick_2\">\r\n     <g id=\"line2d_4\">\r\n      <g>\r\n       <use style=\"stroke:#000000;stroke-width:0.8;\" x=\"40.603125\" xlink:href=\"#m6ea23f5abe\" y=\"198.426618\"/>\r\n      </g>\r\n     </g>\r\n     <g id=\"text_4\">\r\n      <!-- 10 -->\r\n      <g transform=\"translate(20.878125 202.225837)scale(0.1 -0.1)\">\r\n       <use xlink:href=\"#DejaVuSans-49\"/>\r\n       <use x=\"63.623047\" xlink:href=\"#DejaVuSans-48\"/>\r\n      </g>\r\n     </g>\r\n    </g>\r\n    <g id=\"ytick_3\">\r\n     <g id=\"line2d_5\">\r\n      <g>\r\n       <use style=\"stroke:#000000;stroke-width:0.8;\" x=\"40.603125\" xlink:href=\"#m6ea23f5abe\" y=\"172.213237\"/>\r\n      </g>\r\n     </g>\r\n     <g id=\"text_5\">\r\n      <!-- 20 -->\r\n      <g transform=\"translate(20.878125 176.012456)scale(0.1 -0.1)\">\r\n       <defs>\r\n        <path d=\"M 19.1875 8.296875 \r\nL 53.609375 8.296875 \r\nL 53.609375 0 \r\nL 7.328125 0 \r\nL 7.328125 8.296875 \r\nQ 12.9375 14.109375 22.625 23.890625 \r\nQ 32.328125 33.6875 34.8125 36.53125 \r\nQ 39.546875 41.84375 41.421875 45.53125 \r\nQ 43.3125 49.21875 43.3125 52.78125 \r\nQ 43.3125 58.59375 39.234375 62.25 \r\nQ 35.15625 65.921875 28.609375 65.921875 \r\nQ 23.96875 65.921875 18.8125 64.3125 \r\nQ 13.671875 62.703125 7.8125 59.421875 \r\nL 7.8125 69.390625 \r\nQ 13.765625 71.78125 18.9375 73 \r\nQ 24.125 74.21875 28.421875 74.21875 \r\nQ 39.75 74.21875 46.484375 68.546875 \r\nQ 53.21875 62.890625 53.21875 53.421875 \r\nQ 53.21875 48.921875 51.53125 44.890625 \r\nQ 49.859375 40.875 45.40625 35.40625 \r\nQ 44.1875 33.984375 37.640625 27.21875 \r\nQ 31.109375 20.453125 19.1875 8.296875 \r\nz\r\n\" id=\"DejaVuSans-50\"/>\r\n       </defs>\r\n       <use xlink:href=\"#DejaVuSans-50\"/>\r\n       <use x=\"63.623047\" xlink:href=\"#DejaVuSans-48\"/>\r\n      </g>\r\n     </g>\r\n    </g>\r\n    <g id=\"ytick_4\">\r\n     <g id=\"line2d_6\">\r\n      <g>\r\n       <use style=\"stroke:#000000;stroke-width:0.8;\" x=\"40.603125\" xlink:href=\"#m6ea23f5abe\" y=\"145.999855\"/>\r\n      </g>\r\n     </g>\r\n     <g id=\"text_6\">\r\n      <!-- 30 -->\r\n      <g transform=\"translate(20.878125 149.799074)scale(0.1 -0.1)\">\r\n       <defs>\r\n        <path d=\"M 40.578125 39.3125 \r\nQ 47.65625 37.796875 51.625 33 \r\nQ 55.609375 28.21875 55.609375 21.1875 \r\nQ 55.609375 10.40625 48.1875 4.484375 \r\nQ 40.765625 -1.421875 27.09375 -1.421875 \r\nQ 22.515625 -1.421875 17.65625 -0.515625 \r\nQ 12.796875 0.390625 7.625 2.203125 \r\nL 7.625 11.71875 \r\nQ 11.71875 9.328125 16.59375 8.109375 \r\nQ 21.484375 6.890625 26.8125 6.890625 \r\nQ 36.078125 6.890625 40.9375 10.546875 \r\nQ 45.796875 14.203125 45.796875 21.1875 \r\nQ 45.796875 27.640625 41.28125 31.265625 \r\nQ 36.765625 34.90625 28.71875 34.90625 \r\nL 20.21875 34.90625 \r\nL 20.21875 43.015625 \r\nL 29.109375 43.015625 \r\nQ 36.375 43.015625 40.234375 45.921875 \r\nQ 44.09375 48.828125 44.09375 54.296875 \r\nQ 44.09375 59.90625 40.109375 62.90625 \r\nQ 36.140625 65.921875 28.71875 65.921875 \r\nQ 24.65625 65.921875 20.015625 65.03125 \r\nQ 15.375 64.15625 9.8125 62.3125 \r\nL 9.8125 71.09375 \r\nQ 15.4375 72.65625 20.34375 73.4375 \r\nQ 25.25 74.21875 29.59375 74.21875 \r\nQ 40.828125 74.21875 47.359375 69.109375 \r\nQ 53.90625 64.015625 53.90625 55.328125 \r\nQ 53.90625 49.265625 50.4375 45.09375 \r\nQ 46.96875 40.921875 40.578125 39.3125 \r\nz\r\n\" id=\"DejaVuSans-51\"/>\r\n       </defs>\r\n       <use xlink:href=\"#DejaVuSans-51\"/>\r\n       <use x=\"63.623047\" xlink:href=\"#DejaVuSans-48\"/>\r\n      </g>\r\n     </g>\r\n    </g>\r\n    <g id=\"ytick_5\">\r\n     <g id=\"line2d_7\">\r\n      <g>\r\n       <use style=\"stroke:#000000;stroke-width:0.8;\" x=\"40.603125\" xlink:href=\"#m6ea23f5abe\" y=\"119.786474\"/>\r\n      </g>\r\n     </g>\r\n     <g id=\"text_7\">\r\n      <!-- 40 -->\r\n      <g transform=\"translate(20.878125 123.585693)scale(0.1 -0.1)\">\r\n       <defs>\r\n        <path d=\"M 37.796875 64.3125 \r\nL 12.890625 25.390625 \r\nL 37.796875 25.390625 \r\nz\r\nM 35.203125 72.90625 \r\nL 47.609375 72.90625 \r\nL 47.609375 25.390625 \r\nL 58.015625 25.390625 \r\nL 58.015625 17.1875 \r\nL 47.609375 17.1875 \r\nL 47.609375 0 \r\nL 37.796875 0 \r\nL 37.796875 17.1875 \r\nL 4.890625 17.1875 \r\nL 4.890625 26.703125 \r\nz\r\n\" id=\"DejaVuSans-52\"/>\r\n       </defs>\r\n       <use xlink:href=\"#DejaVuSans-52\"/>\r\n       <use x=\"63.623047\" xlink:href=\"#DejaVuSans-48\"/>\r\n      </g>\r\n     </g>\r\n    </g>\r\n    <g id=\"ytick_6\">\r\n     <g id=\"line2d_8\">\r\n      <g>\r\n       <use style=\"stroke:#000000;stroke-width:0.8;\" x=\"40.603125\" xlink:href=\"#m6ea23f5abe\" y=\"93.573092\"/>\r\n      </g>\r\n     </g>\r\n     <g id=\"text_8\">\r\n      <!-- 50 -->\r\n      <g transform=\"translate(20.878125 97.372311)scale(0.1 -0.1)\">\r\n       <defs>\r\n        <path d=\"M 10.796875 72.90625 \r\nL 49.515625 72.90625 \r\nL 49.515625 64.59375 \r\nL 19.828125 64.59375 \r\nL 19.828125 46.734375 \r\nQ 21.96875 47.46875 24.109375 47.828125 \r\nQ 26.265625 48.1875 28.421875 48.1875 \r\nQ 40.625 48.1875 47.75 41.5 \r\nQ 54.890625 34.8125 54.890625 23.390625 \r\nQ 54.890625 11.625 47.5625 5.09375 \r\nQ 40.234375 -1.421875 26.90625 -1.421875 \r\nQ 22.3125 -1.421875 17.546875 -0.640625 \r\nQ 12.796875 0.140625 7.71875 1.703125 \r\nL 7.71875 11.625 \r\nQ 12.109375 9.234375 16.796875 8.0625 \r\nQ 21.484375 6.890625 26.703125 6.890625 \r\nQ 35.15625 6.890625 40.078125 11.328125 \r\nQ 45.015625 15.765625 45.015625 23.390625 \r\nQ 45.015625 31 40.078125 35.4375 \r\nQ 35.15625 39.890625 26.703125 39.890625 \r\nQ 22.75 39.890625 18.8125 39.015625 \r\nQ 14.890625 38.140625 10.796875 36.28125 \r\nz\r\n\" id=\"DejaVuSans-53\"/>\r\n       </defs>\r\n       <use xlink:href=\"#DejaVuSans-53\"/>\r\n       <use x=\"63.623047\" xlink:href=\"#DejaVuSans-48\"/>\r\n      </g>\r\n     </g>\r\n    </g>\r\n    <g id=\"ytick_7\">\r\n     <g id=\"line2d_9\">\r\n      <g>\r\n       <use style=\"stroke:#000000;stroke-width:0.8;\" x=\"40.603125\" xlink:href=\"#m6ea23f5abe\" y=\"67.359711\"/>\r\n      </g>\r\n     </g>\r\n     <g id=\"text_9\">\r\n      <!-- 60 -->\r\n      <g transform=\"translate(20.878125 71.158929)scale(0.1 -0.1)\">\r\n       <defs>\r\n        <path d=\"M 33.015625 40.375 \r\nQ 26.375 40.375 22.484375 35.828125 \r\nQ 18.609375 31.296875 18.609375 23.390625 \r\nQ 18.609375 15.53125 22.484375 10.953125 \r\nQ 26.375 6.390625 33.015625 6.390625 \r\nQ 39.65625 6.390625 43.53125 10.953125 \r\nQ 47.40625 15.53125 47.40625 23.390625 \r\nQ 47.40625 31.296875 43.53125 35.828125 \r\nQ 39.65625 40.375 33.015625 40.375 \r\nz\r\nM 52.59375 71.296875 \r\nL 52.59375 62.3125 \r\nQ 48.875 64.0625 45.09375 64.984375 \r\nQ 41.3125 65.921875 37.59375 65.921875 \r\nQ 27.828125 65.921875 22.671875 59.328125 \r\nQ 17.53125 52.734375 16.796875 39.40625 \r\nQ 19.671875 43.65625 24.015625 45.921875 \r\nQ 28.375 48.1875 33.59375 48.1875 \r\nQ 44.578125 48.1875 50.953125 41.515625 \r\nQ 57.328125 34.859375 57.328125 23.390625 \r\nQ 57.328125 12.15625 50.6875 5.359375 \r\nQ 44.046875 -1.421875 33.015625 -1.421875 \r\nQ 20.359375 -1.421875 13.671875 8.265625 \r\nQ 6.984375 17.96875 6.984375 36.375 \r\nQ 6.984375 53.65625 15.1875 63.9375 \r\nQ 23.390625 74.21875 37.203125 74.21875 \r\nQ 40.921875 74.21875 44.703125 73.484375 \r\nQ 48.484375 72.75 52.59375 71.296875 \r\nz\r\n\" id=\"DejaVuSans-54\"/>\r\n       </defs>\r\n       <use xlink:href=\"#DejaVuSans-54\"/>\r\n       <use x=\"63.623047\" xlink:href=\"#DejaVuSans-48\"/>\r\n      </g>\r\n     </g>\r\n    </g>\r\n    <g id=\"ytick_8\">\r\n     <g id=\"line2d_10\">\r\n      <g>\r\n       <use style=\"stroke:#000000;stroke-width:0.8;\" x=\"40.603125\" xlink:href=\"#m6ea23f5abe\" y=\"41.146329\"/>\r\n      </g>\r\n     </g>\r\n     <g id=\"text_10\">\r\n      <!-- 70 -->\r\n      <g transform=\"translate(20.878125 44.945548)scale(0.1 -0.1)\">\r\n       <defs>\r\n        <path d=\"M 8.203125 72.90625 \r\nL 55.078125 72.90625 \r\nL 55.078125 68.703125 \r\nL 28.609375 0 \r\nL 18.3125 0 \r\nL 43.21875 64.59375 \r\nL 8.203125 64.59375 \r\nz\r\n\" id=\"DejaVuSans-55\"/>\r\n       </defs>\r\n       <use xlink:href=\"#DejaVuSans-55\"/>\r\n       <use x=\"63.623047\" xlink:href=\"#DejaVuSans-48\"/>\r\n      </g>\r\n     </g>\r\n    </g>\r\n    <g id=\"ytick_9\">\r\n     <g id=\"line2d_11\">\r\n      <g>\r\n       <use style=\"stroke:#000000;stroke-width:0.8;\" x=\"40.603125\" xlink:href=\"#m6ea23f5abe\" y=\"14.932948\"/>\r\n      </g>\r\n     </g>\r\n     <g id=\"text_11\">\r\n      <!-- 80 -->\r\n      <g transform=\"translate(20.878125 18.732166)scale(0.1 -0.1)\">\r\n       <defs>\r\n        <path d=\"M 31.78125 34.625 \r\nQ 24.75 34.625 20.71875 30.859375 \r\nQ 16.703125 27.09375 16.703125 20.515625 \r\nQ 16.703125 13.921875 20.71875 10.15625 \r\nQ 24.75 6.390625 31.78125 6.390625 \r\nQ 38.8125 6.390625 42.859375 10.171875 \r\nQ 46.921875 13.96875 46.921875 20.515625 \r\nQ 46.921875 27.09375 42.890625 30.859375 \r\nQ 38.875 34.625 31.78125 34.625 \r\nz\r\nM 21.921875 38.8125 \r\nQ 15.578125 40.375 12.03125 44.71875 \r\nQ 8.5 49.078125 8.5 55.328125 \r\nQ 8.5 64.0625 14.71875 69.140625 \r\nQ 20.953125 74.21875 31.78125 74.21875 \r\nQ 42.671875 74.21875 48.875 69.140625 \r\nQ 55.078125 64.0625 55.078125 55.328125 \r\nQ 55.078125 49.078125 51.53125 44.71875 \r\nQ 48 40.375 41.703125 38.8125 \r\nQ 48.828125 37.15625 52.796875 32.3125 \r\nQ 56.78125 27.484375 56.78125 20.515625 \r\nQ 56.78125 9.90625 50.3125 4.234375 \r\nQ 43.84375 -1.421875 31.78125 -1.421875 \r\nQ 19.734375 -1.421875 13.25 4.234375 \r\nQ 6.78125 9.90625 6.78125 20.515625 \r\nQ 6.78125 27.484375 10.78125 32.3125 \r\nQ 14.796875 37.15625 21.921875 38.8125 \r\nz\r\nM 18.3125 54.390625 \r\nQ 18.3125 48.734375 21.84375 45.5625 \r\nQ 25.390625 42.390625 31.78125 42.390625 \r\nQ 38.140625 42.390625 41.71875 45.5625 \r\nQ 45.3125 48.734375 45.3125 54.390625 \r\nQ 45.3125 60.0625 41.71875 63.234375 \r\nQ 38.140625 66.40625 31.78125 66.40625 \r\nQ 25.390625 66.40625 21.84375 63.234375 \r\nQ 18.3125 60.0625 18.3125 54.390625 \r\nz\r\n\" id=\"DejaVuSans-56\"/>\r\n       </defs>\r\n       <use xlink:href=\"#DejaVuSans-56\"/>\r\n       <use x=\"63.623047\" xlink:href=\"#DejaVuSans-48\"/>\r\n      </g>\r\n     </g>\r\n    </g>\r\n    <g id=\"text_12\">\r\n     <!-- distribution% -->\r\n     <g transform=\"translate(14.798438 149.16375)rotate(-90)scale(0.1 -0.1)\">\r\n      <defs>\r\n       <path d=\"M 44.28125 53.078125 \r\nL 44.28125 44.578125 \r\nQ 40.484375 46.53125 36.375 47.5 \r\nQ 32.28125 48.484375 27.875 48.484375 \r\nQ 21.1875 48.484375 17.84375 46.4375 \r\nQ 14.5 44.390625 14.5 40.28125 \r\nQ 14.5 37.15625 16.890625 35.375 \r\nQ 19.28125 33.59375 26.515625 31.984375 \r\nL 29.59375 31.296875 \r\nQ 39.15625 29.25 43.1875 25.515625 \r\nQ 47.21875 21.78125 47.21875 15.09375 \r\nQ 47.21875 7.46875 41.1875 3.015625 \r\nQ 35.15625 -1.421875 24.609375 -1.421875 \r\nQ 20.21875 -1.421875 15.453125 -0.5625 \r\nQ 10.6875 0.296875 5.421875 2 \r\nL 5.421875 11.28125 \r\nQ 10.40625 8.6875 15.234375 7.390625 \r\nQ 20.0625 6.109375 24.8125 6.109375 \r\nQ 31.15625 6.109375 34.5625 8.28125 \r\nQ 37.984375 10.453125 37.984375 14.40625 \r\nQ 37.984375 18.0625 35.515625 20.015625 \r\nQ 33.0625 21.96875 24.703125 23.78125 \r\nL 21.578125 24.515625 \r\nQ 13.234375 26.265625 9.515625 29.90625 \r\nQ 5.8125 33.546875 5.8125 39.890625 \r\nQ 5.8125 47.609375 11.28125 51.796875 \r\nQ 16.75 56 26.8125 56 \r\nQ 31.78125 56 36.171875 55.265625 \r\nQ 40.578125 54.546875 44.28125 53.078125 \r\nz\r\n\" id=\"DejaVuSans-115\"/>\r\n       <path d=\"M 41.109375 46.296875 \r\nQ 39.59375 47.171875 37.8125 47.578125 \r\nQ 36.03125 48 33.890625 48 \r\nQ 26.265625 48 22.1875 43.046875 \r\nQ 18.109375 38.09375 18.109375 28.8125 \r\nL 18.109375 0 \r\nL 9.078125 0 \r\nL 9.078125 54.6875 \r\nL 18.109375 54.6875 \r\nL 18.109375 46.1875 \r\nQ 20.953125 51.171875 25.484375 53.578125 \r\nQ 30.03125 56 36.53125 56 \r\nQ 37.453125 56 38.578125 55.875 \r\nQ 39.703125 55.765625 41.0625 55.515625 \r\nz\r\n\" id=\"DejaVuSans-114\"/>\r\n       <path d=\"M 48.6875 27.296875 \r\nQ 48.6875 37.203125 44.609375 42.84375 \r\nQ 40.53125 48.484375 33.40625 48.484375 \r\nQ 26.265625 48.484375 22.1875 42.84375 \r\nQ 18.109375 37.203125 18.109375 27.296875 \r\nQ 18.109375 17.390625 22.1875 11.75 \r\nQ 26.265625 6.109375 33.40625 6.109375 \r\nQ 40.53125 6.109375 44.609375 11.75 \r\nQ 48.6875 17.390625 48.6875 27.296875 \r\nz\r\nM 18.109375 46.390625 \r\nQ 20.953125 51.265625 25.265625 53.625 \r\nQ 29.59375 56 35.59375 56 \r\nQ 45.5625 56 51.78125 48.09375 \r\nQ 58.015625 40.1875 58.015625 27.296875 \r\nQ 58.015625 14.40625 51.78125 6.484375 \r\nQ 45.5625 -1.421875 35.59375 -1.421875 \r\nQ 29.59375 -1.421875 25.265625 0.953125 \r\nQ 20.953125 3.328125 18.109375 8.203125 \r\nL 18.109375 0 \r\nL 9.078125 0 \r\nL 9.078125 75.984375 \r\nL 18.109375 75.984375 \r\nz\r\n\" id=\"DejaVuSans-98\"/>\r\n       <path d=\"M 8.5 21.578125 \r\nL 8.5 54.6875 \r\nL 17.484375 54.6875 \r\nL 17.484375 21.921875 \r\nQ 17.484375 14.15625 20.5 10.265625 \r\nQ 23.53125 6.390625 29.59375 6.390625 \r\nQ 36.859375 6.390625 41.078125 11.03125 \r\nQ 45.3125 15.671875 45.3125 23.6875 \r\nL 45.3125 54.6875 \r\nL 54.296875 54.6875 \r\nL 54.296875 0 \r\nL 45.3125 0 \r\nL 45.3125 8.40625 \r\nQ 42.046875 3.421875 37.71875 1 \r\nQ 33.40625 -1.421875 27.6875 -1.421875 \r\nQ 18.265625 -1.421875 13.375 4.4375 \r\nQ 8.5 10.296875 8.5 21.578125 \r\nz\r\nM 31.109375 56 \r\nz\r\n\" id=\"DejaVuSans-117\"/>\r\n       <path d=\"M 72.703125 32.078125 \r\nQ 68.453125 32.078125 66.03125 28.46875 \r\nQ 63.625 24.859375 63.625 18.40625 \r\nQ 63.625 12.0625 66.03125 8.421875 \r\nQ 68.453125 4.78125 72.703125 4.78125 \r\nQ 76.859375 4.78125 79.265625 8.421875 \r\nQ 81.6875 12.0625 81.6875 18.40625 \r\nQ 81.6875 24.8125 79.265625 28.4375 \r\nQ 76.859375 32.078125 72.703125 32.078125 \r\nz\r\nM 72.703125 38.28125 \r\nQ 80.421875 38.28125 84.953125 32.90625 \r\nQ 89.5 27.546875 89.5 18.40625 \r\nQ 89.5 9.28125 84.9375 3.921875 \r\nQ 80.375 -1.421875 72.703125 -1.421875 \r\nQ 64.890625 -1.421875 60.34375 3.921875 \r\nQ 55.8125 9.28125 55.8125 18.40625 \r\nQ 55.8125 27.59375 60.375 32.9375 \r\nQ 64.9375 38.28125 72.703125 38.28125 \r\nz\r\nM 22.3125 68.015625 \r\nQ 18.109375 68.015625 15.6875 64.375 \r\nQ 13.28125 60.75 13.28125 54.390625 \r\nQ 13.28125 47.953125 15.671875 44.328125 \r\nQ 18.0625 40.71875 22.3125 40.71875 \r\nQ 26.5625 40.71875 28.96875 44.328125 \r\nQ 31.390625 47.953125 31.390625 54.390625 \r\nQ 31.390625 60.6875 28.953125 64.34375 \r\nQ 26.515625 68.015625 22.3125 68.015625 \r\nz\r\nM 66.40625 74.21875 \r\nL 74.21875 74.21875 \r\nL 28.609375 -1.421875 \r\nL 20.796875 -1.421875 \r\nz\r\nM 22.3125 74.21875 \r\nQ 30.03125 74.21875 34.609375 68.875 \r\nQ 39.203125 63.53125 39.203125 54.390625 \r\nQ 39.203125 45.171875 34.640625 39.84375 \r\nQ 30.078125 34.515625 22.3125 34.515625 \r\nQ 14.546875 34.515625 10.03125 39.859375 \r\nQ 5.515625 45.21875 5.515625 54.390625 \r\nQ 5.515625 63.484375 10.046875 68.84375 \r\nQ 14.59375 74.21875 22.3125 74.21875 \r\nz\r\n\" id=\"DejaVuSans-37\"/>\r\n      </defs>\r\n      <use xlink:href=\"#DejaVuSans-100\"/>\r\n      <use x=\"63.476562\" xlink:href=\"#DejaVuSans-105\"/>\r\n      <use x=\"91.259766\" xlink:href=\"#DejaVuSans-115\"/>\r\n      <use x=\"143.359375\" xlink:href=\"#DejaVuSans-116\"/>\r\n      <use x=\"182.568359\" xlink:href=\"#DejaVuSans-114\"/>\r\n      <use x=\"223.681641\" xlink:href=\"#DejaVuSans-105\"/>\r\n      <use x=\"251.464844\" xlink:href=\"#DejaVuSans-98\"/>\r\n      <use x=\"314.941406\" xlink:href=\"#DejaVuSans-117\"/>\r\n      <use x=\"378.320312\" xlink:href=\"#DejaVuSans-116\"/>\r\n      <use x=\"417.529297\" xlink:href=\"#DejaVuSans-105\"/>\r\n      <use x=\"445.3125\" xlink:href=\"#DejaVuSans-111\"/>\r\n      <use x=\"506.494141\" xlink:href=\"#DejaVuSans-110\"/>\r\n      <use x=\"569.873047\" xlink:href=\"#DejaVuSans-37\"/>\r\n     </g>\r\n    </g>\r\n   </g>\r\n   <g id=\"patch_5\">\r\n    <path d=\"M 40.603125 224.64 \r\nL 40.603125 7.2 \r\n\" style=\"fill:none;stroke:#000000;stroke-linecap:square;stroke-linejoin:miter;stroke-width:0.8;\"/>\r\n   </g>\r\n   <g id=\"patch_6\">\r\n    <path d=\"M 375.403125 224.64 \r\nL 375.403125 7.2 \r\n\" style=\"fill:none;stroke:#000000;stroke-linecap:square;stroke-linejoin:miter;stroke-width:0.8;\"/>\r\n   </g>\r\n   <g id=\"patch_7\">\r\n    <path d=\"M 40.603125 224.64 \r\nL 375.403125 224.64 \r\n\" style=\"fill:none;stroke:#000000;stroke-linecap:square;stroke-linejoin:miter;stroke-width:0.8;\"/>\r\n   </g>\r\n   <g id=\"patch_8\">\r\n    <path d=\"M 40.603125 7.2 \r\nL 375.403125 7.2 \r\n\" style=\"fill:none;stroke:#000000;stroke-linecap:square;stroke-linejoin:miter;stroke-width:0.8;\"/>\r\n   </g>\r\n  </g>\r\n </g>\r\n <defs>\r\n  <clipPath id=\"p030e968df5\">\r\n   <rect height=\"217.44\" width=\"334.8\" x=\"40.603125\" y=\"7.2\"/>\r\n  </clipPath>\r\n </defs>\r\n</svg>\r\n",
      "image/png": "[encoded data removed]"
     },
     "metadata": {
      "needs_background": "light"
     }
    }
   ],
   "source": [
    "y= [79,21]\n",
    "x=['on-time(0)','delay(1)']\n",
    "plt.bar(x,y,width=0.3)\n",
    " \n",
    "plt.ylabel(\"distribution%\") \n",
    "plt.savefig(\"classplot.png\")"
   ]
  },
  {
   "cell_type": "code",
   "execution_count": null,
   "metadata": {},
   "outputs": [],
   "source": []
  }
 ]
}