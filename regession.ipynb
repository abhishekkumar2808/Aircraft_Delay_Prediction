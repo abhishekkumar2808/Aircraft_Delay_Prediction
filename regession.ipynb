{
 "metadata": {
  "language_info": {
   "codemirror_mode": {
    "name": "ipython",
    "version": 3
   },
   "file_extension": ".py",
   "mimetype": "text/x-python",
   "name": "python",
   "nbconvert_exporter": "python",
   "pygments_lexer": "ipython3",
   "version": "3.8.2-final"
  },
  "orig_nbformat": 2,
  "kernelspec": {
   "name": "Python 3.8.2 64-bit",
   "display_name": "Python 3.8.2 64-bit",
   "metadata": {
    "interpreter": {
     "hash": "4b750c9e8855aca9485cc082e169bcd2d54cc38eb3f235f1466369ee1aa460cf"
    }
   }
  }
 },
 "nbformat": 4,
 "nbformat_minor": 2,
 "cells": [
  {
   "cell_type": "code",
   "execution_count": 2,
   "metadata": {},
   "outputs": [],
   "source": [
    "import os\n",
    "import pandas as pd\n",
    "import json\n",
    "import glob\n",
    "import sklearn\n",
    "from sklearn.model_selection import train_test_split\n",
    "from sklearn import metrics\n",
    "from sklearn.metrics import mean_squared_error\n",
    "from sklearn.metrics import mean_absolute_error\n",
    "from sklearn.metrics import r2_score\n",
    "from sklearn.linear_model import LinearRegression\n",
    "from sklearn.svm import LinearSVR\n",
    "from sklearn.ensemble import ExtraTreesRegressor\n",
    "from sklearn.ensemble import GradientBoostingRegressor"
   ]
  },
  {
   "cell_type": "code",
   "execution_count": 82,
   "metadata": {},
   "outputs": [],
   "source": [
    "#METHOD 1 : direct data as input"
   ]
  },
  {
   "cell_type": "code",
   "execution_count": 83,
   "metadata": {},
   "outputs": [],
   "source": [
    "result=pd.read_csv(\"processed_data.csv\")"
   ]
  },
  {
   "cell_type": "code",
   "execution_count": 84,
   "metadata": {},
   "outputs": [
    {
     "output_type": "execute_result",
     "data": {
      "text/plain": "         Unnamed: 0  windspeedKmph  winddirDegree  weatherCode  precipMM  \\\n0                 0             11            318          176       0.1   \n1                 1             18            315          122       0.0   \n2                 2             18            315          122       0.0   \n3                 3             18            317          122       0.0   \n4                 4             18            317          122       0.0   \n...             ...            ...            ...          ...       ...   \n1851431     1851431             20            303          113       0.0   \n1851432     1851432             20            303          113       0.0   \n1851433     1851433             20            303          113       0.0   \n1851434     1851434             20            303          113       0.0   \n1851435     1851435             20            303          113       0.0   \n\n         visibility  pressure  cloudcover  DewPointF  WindGustKmph  ...  \\\n0                10      1023         100         47            17  ...   \n1                10      1024         100         38            28  ...   \n2                10      1024         100         38            28  ...   \n3                10      1024         100         38            26  ...   \n4                10      1024         100         38            26  ...   \n...             ...       ...         ...        ...           ...  ...   \n1851431          10      1014           0         58            22  ...   \n1851432          10      1014           0         58            22  ...   \n1851433          10      1014           0         58            22  ...   \n1851434          10      1014           0         58            22  ...   \n1851435          10      1014           0         58            22  ...   \n\n         DepDelayMinutes  OriginAirportID  DestAirportID  ArrTime CRSArrTime  \\\n0                   17.0            10397          13204    101.0         51   \n1                    6.0            10397          13204    728.0        720   \n2                   37.0            10397          13930    753.0        725   \n3                    0.0            10397          13303    838.0        837   \n4                    0.0            10397          12892    922.0        915   \n...                  ...              ...            ...      ...        ...   \n1851431              9.0            14771          13930    513.0        519   \n1851432              5.0            14771          10397    615.0        632   \n1851433              0.0            14771          12478    735.0        750   \n1851434              0.0            14771          12478    655.0        704   \n1851435              0.0            14771          13303    649.0        701   \n\n        ArrDel15 ArrDelayMinutes  Origin Dest  round_time  \n0            0.0            10.0     ATL  MCO           0  \n1            0.0             8.0     ATL  MCO         600  \n2            1.0            28.0     ATL  ORD         600  \n3            0.0             1.0     ATL  MIA         700  \n4            0.0             7.0     ATL  LAX         700  \n...          ...             ...     ...  ...         ...  \n1851431      0.0             0.0     SFO  ORD        2300  \n1851432      0.0             0.0     SFO  ATL        2300  \n1851433      0.0             0.0     SFO  JFK        2300  \n1851434      0.0             0.0     SFO  JFK        2300  \n1851435      0.0             0.0     SFO  MIA        2300  \n\n[1851436 rows x 36 columns]",
      "text/html": "<div>\n<style scoped>\n    .dataframe tbody tr th:only-of-type {\n        vertical-align: middle;\n    }\n\n    .dataframe tbody tr th {\n        vertical-align: top;\n    }\n\n    .dataframe thead th {\n        text-align: right;\n    }\n</style>\n<table border=\"1\" class=\"dataframe\">\n  <thead>\n    <tr style=\"text-align: right;\">\n      <th></th>\n      <th>Unnamed: 0</th>\n      <th>windspeedKmph</th>\n      <th>winddirDegree</th>\n      <th>weatherCode</th>\n      <th>precipMM</th>\n      <th>visibility</th>\n      <th>pressure</th>\n      <th>cloudcover</th>\n      <th>DewPointF</th>\n      <th>WindGustKmph</th>\n      <th>...</th>\n      <th>DepDelayMinutes</th>\n      <th>OriginAirportID</th>\n      <th>DestAirportID</th>\n      <th>ArrTime</th>\n      <th>CRSArrTime</th>\n      <th>ArrDel15</th>\n      <th>ArrDelayMinutes</th>\n      <th>Origin</th>\n      <th>Dest</th>\n      <th>round_time</th>\n    </tr>\n  </thead>\n  <tbody>\n    <tr>\n      <th>0</th>\n      <td>0</td>\n      <td>11</td>\n      <td>318</td>\n      <td>176</td>\n      <td>0.1</td>\n      <td>10</td>\n      <td>1023</td>\n      <td>100</td>\n      <td>47</td>\n      <td>17</td>\n      <td>...</td>\n      <td>17.0</td>\n      <td>10397</td>\n      <td>13204</td>\n      <td>101.0</td>\n      <td>51</td>\n      <td>0.0</td>\n      <td>10.0</td>\n      <td>ATL</td>\n      <td>MCO</td>\n      <td>0</td>\n    </tr>\n    <tr>\n      <th>1</th>\n      <td>1</td>\n      <td>18</td>\n      <td>315</td>\n      <td>122</td>\n      <td>0.0</td>\n      <td>10</td>\n      <td>1024</td>\n      <td>100</td>\n      <td>38</td>\n      <td>28</td>\n      <td>...</td>\n      <td>6.0</td>\n      <td>10397</td>\n      <td>13204</td>\n      <td>728.0</td>\n      <td>720</td>\n      <td>0.0</td>\n      <td>8.0</td>\n      <td>ATL</td>\n      <td>MCO</td>\n      <td>600</td>\n    </tr>\n    <tr>\n      <th>2</th>\n      <td>2</td>\n      <td>18</td>\n      <td>315</td>\n      <td>122</td>\n      <td>0.0</td>\n      <td>10</td>\n      <td>1024</td>\n      <td>100</td>\n      <td>38</td>\n      <td>28</td>\n      <td>...</td>\n      <td>37.0</td>\n      <td>10397</td>\n      <td>13930</td>\n      <td>753.0</td>\n      <td>725</td>\n      <td>1.0</td>\n      <td>28.0</td>\n      <td>ATL</td>\n      <td>ORD</td>\n      <td>600</td>\n    </tr>\n    <tr>\n      <th>3</th>\n      <td>3</td>\n      <td>18</td>\n      <td>317</td>\n      <td>122</td>\n      <td>0.0</td>\n      <td>10</td>\n      <td>1024</td>\n      <td>100</td>\n      <td>38</td>\n      <td>26</td>\n      <td>...</td>\n      <td>0.0</td>\n      <td>10397</td>\n      <td>13303</td>\n      <td>838.0</td>\n      <td>837</td>\n      <td>0.0</td>\n      <td>1.0</td>\n      <td>ATL</td>\n      <td>MIA</td>\n      <td>700</td>\n    </tr>\n    <tr>\n      <th>4</th>\n      <td>4</td>\n      <td>18</td>\n      <td>317</td>\n      <td>122</td>\n      <td>0.0</td>\n      <td>10</td>\n      <td>1024</td>\n      <td>100</td>\n      <td>38</td>\n      <td>26</td>\n      <td>...</td>\n      <td>0.0</td>\n      <td>10397</td>\n      <td>12892</td>\n      <td>922.0</td>\n      <td>915</td>\n      <td>0.0</td>\n      <td>7.0</td>\n      <td>ATL</td>\n      <td>LAX</td>\n      <td>700</td>\n    </tr>\n    <tr>\n      <th>...</th>\n      <td>...</td>\n      <td>...</td>\n      <td>...</td>\n      <td>...</td>\n      <td>...</td>\n      <td>...</td>\n      <td>...</td>\n      <td>...</td>\n      <td>...</td>\n      <td>...</td>\n      <td>...</td>\n      <td>...</td>\n      <td>...</td>\n      <td>...</td>\n      <td>...</td>\n      <td>...</td>\n      <td>...</td>\n      <td>...</td>\n      <td>...</td>\n      <td>...</td>\n      <td>...</td>\n    </tr>\n    <tr>\n      <th>1851431</th>\n      <td>1851431</td>\n      <td>20</td>\n      <td>303</td>\n      <td>113</td>\n      <td>0.0</td>\n      <td>10</td>\n      <td>1014</td>\n      <td>0</td>\n      <td>58</td>\n      <td>22</td>\n      <td>...</td>\n      <td>9.0</td>\n      <td>14771</td>\n      <td>13930</td>\n      <td>513.0</td>\n      <td>519</td>\n      <td>0.0</td>\n      <td>0.0</td>\n      <td>SFO</td>\n      <td>ORD</td>\n      <td>2300</td>\n    </tr>\n    <tr>\n      <th>1851432</th>\n      <td>1851432</td>\n      <td>20</td>\n      <td>303</td>\n      <td>113</td>\n      <td>0.0</td>\n      <td>10</td>\n      <td>1014</td>\n      <td>0</td>\n      <td>58</td>\n      <td>22</td>\n      <td>...</td>\n      <td>5.0</td>\n      <td>14771</td>\n      <td>10397</td>\n      <td>615.0</td>\n      <td>632</td>\n      <td>0.0</td>\n      <td>0.0</td>\n      <td>SFO</td>\n      <td>ATL</td>\n      <td>2300</td>\n    </tr>\n    <tr>\n      <th>1851433</th>\n      <td>1851433</td>\n      <td>20</td>\n      <td>303</td>\n      <td>113</td>\n      <td>0.0</td>\n      <td>10</td>\n      <td>1014</td>\n      <td>0</td>\n      <td>58</td>\n      <td>22</td>\n      <td>...</td>\n      <td>0.0</td>\n      <td>14771</td>\n      <td>12478</td>\n      <td>735.0</td>\n      <td>750</td>\n      <td>0.0</td>\n      <td>0.0</td>\n      <td>SFO</td>\n      <td>JFK</td>\n      <td>2300</td>\n    </tr>\n    <tr>\n      <th>1851434</th>\n      <td>1851434</td>\n      <td>20</td>\n      <td>303</td>\n      <td>113</td>\n      <td>0.0</td>\n      <td>10</td>\n      <td>1014</td>\n      <td>0</td>\n      <td>58</td>\n      <td>22</td>\n      <td>...</td>\n      <td>0.0</td>\n      <td>14771</td>\n      <td>12478</td>\n      <td>655.0</td>\n      <td>704</td>\n      <td>0.0</td>\n      <td>0.0</td>\n      <td>SFO</td>\n      <td>JFK</td>\n      <td>2300</td>\n    </tr>\n    <tr>\n      <th>1851435</th>\n      <td>1851435</td>\n      <td>20</td>\n      <td>303</td>\n      <td>113</td>\n      <td>0.0</td>\n      <td>10</td>\n      <td>1014</td>\n      <td>0</td>\n      <td>58</td>\n      <td>22</td>\n      <td>...</td>\n      <td>0.0</td>\n      <td>14771</td>\n      <td>13303</td>\n      <td>649.0</td>\n      <td>701</td>\n      <td>0.0</td>\n      <td>0.0</td>\n      <td>SFO</td>\n      <td>MIA</td>\n      <td>2300</td>\n    </tr>\n  </tbody>\n</table>\n<p>1851436 rows × 36 columns</p>\n</div>"
     },
     "metadata": {},
     "execution_count": 84
    }
   ],
   "source": [
    "result"
   ]
  },
  {
   "cell_type": "code",
   "execution_count": 85,
   "metadata": {},
   "outputs": [],
   "source": [
    "result=result[result['ArrDel15']==1.0]"
   ]
  },
  {
   "cell_type": "code",
   "execution_count": 86,
   "metadata": {},
   "outputs": [
    {
     "output_type": "execute_result",
     "data": {
      "text/plain": "         Unnamed: 0  windspeedKmph  winddirDegree  weatherCode  precipMM  \\\n2                 2             18            315          122       0.0   \n10               10             18            317          122       0.0   \n41               41             17            317          122       0.0   \n58               58             17            317          122       0.0   \n59               59             17            317          122       0.0   \n...             ...            ...            ...          ...       ...   \n1851396     1851396             24            292          113       0.0   \n1851397     1851397             25            293          113       0.0   \n1851399     1851399             25            293          113       0.0   \n1851403     1851403             25            293          113       0.0   \n1851412     1851412             26            296          113       0.0   \n\n         visibility  pressure  cloudcover  DewPointF  WindGustKmph  ...  \\\n2                10      1024         100         38            28  ...   \n10               10      1024         100         38            26  ...   \n41               10      1025         100         38            20  ...   \n58               10      1025         100         38            21  ...   \n59               10      1025         100         38            21  ...   \n...             ...       ...         ...        ...           ...  ...   \n1851396          10      1015          11         56            26  ...   \n1851397          10      1014           5         57            27  ...   \n1851399          10      1014           5         57            27  ...   \n1851403          10      1014           5         57            27  ...   \n1851412          10      1014           0         57            27  ...   \n\n         DepDelayMinutes  OriginAirportID  DestAirportID  ArrTime CRSArrTime  \\\n2                   37.0            10397          13930    753.0        725   \n10                  43.0            10397          11292    914.0        858   \n41                  67.0            10397          12892   1349.0       1230   \n58                  37.0            10397          11292   1440.0       1408   \n59                  10.0            10397          12892   1537.0       1520   \n...                  ...              ...            ...      ...        ...   \n1851396            131.0            14771          14747   2025.0       1819   \n1851397             14.0            14771          14747   1901.0       1845   \n1851399            262.0            14771          11292     34.0       2031   \n1851403             67.0            14771          12889   1938.0       1850   \n1851412             14.0            14771          14747   2130.0       2057   \n\n        ArrDel15 ArrDelayMinutes  Origin Dest  round_time  \n2            1.0            28.0     ATL  ORD         600  \n10           1.0            16.0     ATL  DEN         700  \n41           1.0            79.0     ATL  LAX        1100  \n58           1.0            32.0     ATL  DEN        1300  \n59           1.0            17.0     ATL  LAX        1300  \n...          ...             ...     ...  ...         ...  \n1851396      1.0           126.0     SFO  SEA        1600  \n1851397      1.0            16.0     SFO  SEA        1700  \n1851399      1.0           243.0     SFO  DEN        1700  \n1851403      1.0            48.0     SFO  LAS        1700  \n1851412      1.0            33.0     SFO  SEA        1900  \n\n[388058 rows x 36 columns]",
      "text/html": "<div>\n<style scoped>\n    .dataframe tbody tr th:only-of-type {\n        vertical-align: middle;\n    }\n\n    .dataframe tbody tr th {\n        vertical-align: top;\n    }\n\n    .dataframe thead th {\n        text-align: right;\n    }\n</style>\n<table border=\"1\" class=\"dataframe\">\n  <thead>\n    <tr style=\"text-align: right;\">\n      <th></th>\n      <th>Unnamed: 0</th>\n      <th>windspeedKmph</th>\n      <th>winddirDegree</th>\n      <th>weatherCode</th>\n      <th>precipMM</th>\n      <th>visibility</th>\n      <th>pressure</th>\n      <th>cloudcover</th>\n      <th>DewPointF</th>\n      <th>WindGustKmph</th>\n      <th>...</th>\n      <th>DepDelayMinutes</th>\n      <th>OriginAirportID</th>\n      <th>DestAirportID</th>\n      <th>ArrTime</th>\n      <th>CRSArrTime</th>\n      <th>ArrDel15</th>\n      <th>ArrDelayMinutes</th>\n      <th>Origin</th>\n      <th>Dest</th>\n      <th>round_time</th>\n    </tr>\n  </thead>\n  <tbody>\n    <tr>\n      <th>2</th>\n      <td>2</td>\n      <td>18</td>\n      <td>315</td>\n      <td>122</td>\n      <td>0.0</td>\n      <td>10</td>\n      <td>1024</td>\n      <td>100</td>\n      <td>38</td>\n      <td>28</td>\n      <td>...</td>\n      <td>37.0</td>\n      <td>10397</td>\n      <td>13930</td>\n      <td>753.0</td>\n      <td>725</td>\n      <td>1.0</td>\n      <td>28.0</td>\n      <td>ATL</td>\n      <td>ORD</td>\n      <td>600</td>\n    </tr>\n    <tr>\n      <th>10</th>\n      <td>10</td>\n      <td>18</td>\n      <td>317</td>\n      <td>122</td>\n      <td>0.0</td>\n      <td>10</td>\n      <td>1024</td>\n      <td>100</td>\n      <td>38</td>\n      <td>26</td>\n      <td>...</td>\n      <td>43.0</td>\n      <td>10397</td>\n      <td>11292</td>\n      <td>914.0</td>\n      <td>858</td>\n      <td>1.0</td>\n      <td>16.0</td>\n      <td>ATL</td>\n      <td>DEN</td>\n      <td>700</td>\n    </tr>\n    <tr>\n      <th>41</th>\n      <td>41</td>\n      <td>17</td>\n      <td>317</td>\n      <td>122</td>\n      <td>0.0</td>\n      <td>10</td>\n      <td>1025</td>\n      <td>100</td>\n      <td>38</td>\n      <td>20</td>\n      <td>...</td>\n      <td>67.0</td>\n      <td>10397</td>\n      <td>12892</td>\n      <td>1349.0</td>\n      <td>1230</td>\n      <td>1.0</td>\n      <td>79.0</td>\n      <td>ATL</td>\n      <td>LAX</td>\n      <td>1100</td>\n    </tr>\n    <tr>\n      <th>58</th>\n      <td>58</td>\n      <td>17</td>\n      <td>317</td>\n      <td>122</td>\n      <td>0.0</td>\n      <td>10</td>\n      <td>1025</td>\n      <td>100</td>\n      <td>38</td>\n      <td>21</td>\n      <td>...</td>\n      <td>37.0</td>\n      <td>10397</td>\n      <td>11292</td>\n      <td>1440.0</td>\n      <td>1408</td>\n      <td>1.0</td>\n      <td>32.0</td>\n      <td>ATL</td>\n      <td>DEN</td>\n      <td>1300</td>\n    </tr>\n    <tr>\n      <th>59</th>\n      <td>59</td>\n      <td>17</td>\n      <td>317</td>\n      <td>122</td>\n      <td>0.0</td>\n      <td>10</td>\n      <td>1025</td>\n      <td>100</td>\n      <td>38</td>\n      <td>21</td>\n      <td>...</td>\n      <td>10.0</td>\n      <td>10397</td>\n      <td>12892</td>\n      <td>1537.0</td>\n      <td>1520</td>\n      <td>1.0</td>\n      <td>17.0</td>\n      <td>ATL</td>\n      <td>LAX</td>\n      <td>1300</td>\n    </tr>\n    <tr>\n      <th>...</th>\n      <td>...</td>\n      <td>...</td>\n      <td>...</td>\n      <td>...</td>\n      <td>...</td>\n      <td>...</td>\n      <td>...</td>\n      <td>...</td>\n      <td>...</td>\n      <td>...</td>\n      <td>...</td>\n      <td>...</td>\n      <td>...</td>\n      <td>...</td>\n      <td>...</td>\n      <td>...</td>\n      <td>...</td>\n      <td>...</td>\n      <td>...</td>\n      <td>...</td>\n      <td>...</td>\n    </tr>\n    <tr>\n      <th>1851396</th>\n      <td>1851396</td>\n      <td>24</td>\n      <td>292</td>\n      <td>113</td>\n      <td>0.0</td>\n      <td>10</td>\n      <td>1015</td>\n      <td>11</td>\n      <td>56</td>\n      <td>26</td>\n      <td>...</td>\n      <td>131.0</td>\n      <td>14771</td>\n      <td>14747</td>\n      <td>2025.0</td>\n      <td>1819</td>\n      <td>1.0</td>\n      <td>126.0</td>\n      <td>SFO</td>\n      <td>SEA</td>\n      <td>1600</td>\n    </tr>\n    <tr>\n      <th>1851397</th>\n      <td>1851397</td>\n      <td>25</td>\n      <td>293</td>\n      <td>113</td>\n      <td>0.0</td>\n      <td>10</td>\n      <td>1014</td>\n      <td>5</td>\n      <td>57</td>\n      <td>27</td>\n      <td>...</td>\n      <td>14.0</td>\n      <td>14771</td>\n      <td>14747</td>\n      <td>1901.0</td>\n      <td>1845</td>\n      <td>1.0</td>\n      <td>16.0</td>\n      <td>SFO</td>\n      <td>SEA</td>\n      <td>1700</td>\n    </tr>\n    <tr>\n      <th>1851399</th>\n      <td>1851399</td>\n      <td>25</td>\n      <td>293</td>\n      <td>113</td>\n      <td>0.0</td>\n      <td>10</td>\n      <td>1014</td>\n      <td>5</td>\n      <td>57</td>\n      <td>27</td>\n      <td>...</td>\n      <td>262.0</td>\n      <td>14771</td>\n      <td>11292</td>\n      <td>34.0</td>\n      <td>2031</td>\n      <td>1.0</td>\n      <td>243.0</td>\n      <td>SFO</td>\n      <td>DEN</td>\n      <td>1700</td>\n    </tr>\n    <tr>\n      <th>1851403</th>\n      <td>1851403</td>\n      <td>25</td>\n      <td>293</td>\n      <td>113</td>\n      <td>0.0</td>\n      <td>10</td>\n      <td>1014</td>\n      <td>5</td>\n      <td>57</td>\n      <td>27</td>\n      <td>...</td>\n      <td>67.0</td>\n      <td>14771</td>\n      <td>12889</td>\n      <td>1938.0</td>\n      <td>1850</td>\n      <td>1.0</td>\n      <td>48.0</td>\n      <td>SFO</td>\n      <td>LAS</td>\n      <td>1700</td>\n    </tr>\n    <tr>\n      <th>1851412</th>\n      <td>1851412</td>\n      <td>26</td>\n      <td>296</td>\n      <td>113</td>\n      <td>0.0</td>\n      <td>10</td>\n      <td>1014</td>\n      <td>0</td>\n      <td>57</td>\n      <td>27</td>\n      <td>...</td>\n      <td>14.0</td>\n      <td>14771</td>\n      <td>14747</td>\n      <td>2130.0</td>\n      <td>2057</td>\n      <td>1.0</td>\n      <td>33.0</td>\n      <td>SFO</td>\n      <td>SEA</td>\n      <td>1900</td>\n    </tr>\n  </tbody>\n</table>\n<p>388058 rows × 36 columns</p>\n</div>"
     },
     "metadata": {},
     "execution_count": 86
    }
   ],
   "source": [
    "result"
   ]
  },
  {
   "cell_type": "code",
   "execution_count": 87,
   "metadata": {},
   "outputs": [],
   "source": [
    "target=result[\"ArrDelayMinutes\"]"
   ]
  },
  {
   "cell_type": "code",
   "execution_count": 88,
   "metadata": {},
   "outputs": [],
   "source": [
    "features=result.copy()\n",
    "features=features.drop([\"ArrDel15\",\"Unnamed: 0\",\"date\",\"airport\",\"air\",\"FlightDate\",\"Origin\",\"Dest\"],axis=1)"
   ]
  },
  {
   "cell_type": "code",
   "execution_count": 89,
   "metadata": {},
   "outputs": [],
   "source": [
    "features=features.drop([\"ArrDelayMinutes\",\"time\",\"ArrTime\",\"CRSArrTime\",\"time\",\"round_time\"],axis=1)"
   ]
  },
  {
   "cell_type": "code",
   "execution_count": 90,
   "metadata": {},
   "outputs": [
    {
     "output_type": "execute_result",
     "data": {
      "text/plain": "         windspeedKmph  winddirDegree  weatherCode  precipMM  visibility  \\\n2                   18            315          122       0.0          10   \n10                  18            317          122       0.0          10   \n41                  17            317          122       0.0          10   \n58                  17            317          122       0.0          10   \n59                  17            317          122       0.0          10   \n...                ...            ...          ...       ...         ...   \n1851396             24            292          113       0.0          10   \n1851397             25            293          113       0.0          10   \n1851399             25            293          113       0.0          10   \n1851403             25            293          113       0.0          10   \n1851412             26            296          113       0.0          10   \n\n         pressure  cloudcover  DewPointF  WindGustKmph  tempF  ...  Quarter  \\\n2            1024         100         38            28     40  ...        1   \n10           1024         100         38            26     41  ...        1   \n41           1025         100         38            20     45  ...        1   \n58           1025         100         38            21     47  ...        1   \n59           1025         100         38            21     47  ...        1   \n...           ...         ...        ...           ...    ...  ...      ...   \n1851396      1015          11         56            26     66  ...        3   \n1851397      1014           5         57            27     67  ...        3   \n1851399      1014           5         57            27     67  ...        3   \n1851403      1014           5         57            27     67  ...        3   \n1851412      1014           0         57            27     67  ...        3   \n\n         Year  Month  DayofMonth  DepTime  DepDel15  CRSDepTime  \\\n2        2016      1           1    652.0       1.0         615   \n10       2016      1           1    803.0       1.0         720   \n41       2016      1           1   1137.0       1.0        1030   \n58       2016      1           1   1322.0       1.0        1245   \n59       2016      1           1   1325.0       0.0        1315   \n...       ...    ...         ...      ...       ...         ...   \n1851396  2017      9          30   1815.0       1.0        1604   \n1851397  2017      9          30   1654.0       0.0        1640   \n1851399  2017      9          30   2125.0       1.0        1703   \n1851403  2017      9          30   1827.0       1.0        1720   \n1851412  2017      9          30   1909.0       0.0        1855   \n\n         DepDelayMinutes  OriginAirportID  DestAirportID  \n2                   37.0            10397          13930  \n10                  43.0            10397          11292  \n41                  67.0            10397          12892  \n58                  37.0            10397          11292  \n59                  10.0            10397          12892  \n...                  ...              ...            ...  \n1851396            131.0            14771          14747  \n1851397             14.0            14771          14747  \n1851399            262.0            14771          11292  \n1851403             67.0            14771          12889  \n1851412             14.0            14771          14747  \n\n[388058 rows x 23 columns]",
      "text/html": "<div>\n<style scoped>\n    .dataframe tbody tr th:only-of-type {\n        vertical-align: middle;\n    }\n\n    .dataframe tbody tr th {\n        vertical-align: top;\n    }\n\n    .dataframe thead th {\n        text-align: right;\n    }\n</style>\n<table border=\"1\" class=\"dataframe\">\n  <thead>\n    <tr style=\"text-align: right;\">\n      <th></th>\n      <th>windspeedKmph</th>\n      <th>winddirDegree</th>\n      <th>weatherCode</th>\n      <th>precipMM</th>\n      <th>visibility</th>\n      <th>pressure</th>\n      <th>cloudcover</th>\n      <th>DewPointF</th>\n      <th>WindGustKmph</th>\n      <th>tempF</th>\n      <th>...</th>\n      <th>Quarter</th>\n      <th>Year</th>\n      <th>Month</th>\n      <th>DayofMonth</th>\n      <th>DepTime</th>\n      <th>DepDel15</th>\n      <th>CRSDepTime</th>\n      <th>DepDelayMinutes</th>\n      <th>OriginAirportID</th>\n      <th>DestAirportID</th>\n    </tr>\n  </thead>\n  <tbody>\n    <tr>\n      <th>2</th>\n      <td>18</td>\n      <td>315</td>\n      <td>122</td>\n      <td>0.0</td>\n      <td>10</td>\n      <td>1024</td>\n      <td>100</td>\n      <td>38</td>\n      <td>28</td>\n      <td>40</td>\n      <td>...</td>\n      <td>1</td>\n      <td>2016</td>\n      <td>1</td>\n      <td>1</td>\n      <td>652.0</td>\n      <td>1.0</td>\n      <td>615</td>\n      <td>37.0</td>\n      <td>10397</td>\n      <td>13930</td>\n    </tr>\n    <tr>\n      <th>10</th>\n      <td>18</td>\n      <td>317</td>\n      <td>122</td>\n      <td>0.0</td>\n      <td>10</td>\n      <td>1024</td>\n      <td>100</td>\n      <td>38</td>\n      <td>26</td>\n      <td>41</td>\n      <td>...</td>\n      <td>1</td>\n      <td>2016</td>\n      <td>1</td>\n      <td>1</td>\n      <td>803.0</td>\n      <td>1.0</td>\n      <td>720</td>\n      <td>43.0</td>\n      <td>10397</td>\n      <td>11292</td>\n    </tr>\n    <tr>\n      <th>41</th>\n      <td>17</td>\n      <td>317</td>\n      <td>122</td>\n      <td>0.0</td>\n      <td>10</td>\n      <td>1025</td>\n      <td>100</td>\n      <td>38</td>\n      <td>20</td>\n      <td>45</td>\n      <td>...</td>\n      <td>1</td>\n      <td>2016</td>\n      <td>1</td>\n      <td>1</td>\n      <td>1137.0</td>\n      <td>1.0</td>\n      <td>1030</td>\n      <td>67.0</td>\n      <td>10397</td>\n      <td>12892</td>\n    </tr>\n    <tr>\n      <th>58</th>\n      <td>17</td>\n      <td>317</td>\n      <td>122</td>\n      <td>0.0</td>\n      <td>10</td>\n      <td>1025</td>\n      <td>100</td>\n      <td>38</td>\n      <td>21</td>\n      <td>47</td>\n      <td>...</td>\n      <td>1</td>\n      <td>2016</td>\n      <td>1</td>\n      <td>1</td>\n      <td>1322.0</td>\n      <td>1.0</td>\n      <td>1245</td>\n      <td>37.0</td>\n      <td>10397</td>\n      <td>11292</td>\n    </tr>\n    <tr>\n      <th>59</th>\n      <td>17</td>\n      <td>317</td>\n      <td>122</td>\n      <td>0.0</td>\n      <td>10</td>\n      <td>1025</td>\n      <td>100</td>\n      <td>38</td>\n      <td>21</td>\n      <td>47</td>\n      <td>...</td>\n      <td>1</td>\n      <td>2016</td>\n      <td>1</td>\n      <td>1</td>\n      <td>1325.0</td>\n      <td>0.0</td>\n      <td>1315</td>\n      <td>10.0</td>\n      <td>10397</td>\n      <td>12892</td>\n    </tr>\n    <tr>\n      <th>...</th>\n      <td>...</td>\n      <td>...</td>\n      <td>...</td>\n      <td>...</td>\n      <td>...</td>\n      <td>...</td>\n      <td>...</td>\n      <td>...</td>\n      <td>...</td>\n      <td>...</td>\n      <td>...</td>\n      <td>...</td>\n      <td>...</td>\n      <td>...</td>\n      <td>...</td>\n      <td>...</td>\n      <td>...</td>\n      <td>...</td>\n      <td>...</td>\n      <td>...</td>\n      <td>...</td>\n    </tr>\n    <tr>\n      <th>1851396</th>\n      <td>24</td>\n      <td>292</td>\n      <td>113</td>\n      <td>0.0</td>\n      <td>10</td>\n      <td>1015</td>\n      <td>11</td>\n      <td>56</td>\n      <td>26</td>\n      <td>66</td>\n      <td>...</td>\n      <td>3</td>\n      <td>2017</td>\n      <td>9</td>\n      <td>30</td>\n      <td>1815.0</td>\n      <td>1.0</td>\n      <td>1604</td>\n      <td>131.0</td>\n      <td>14771</td>\n      <td>14747</td>\n    </tr>\n    <tr>\n      <th>1851397</th>\n      <td>25</td>\n      <td>293</td>\n      <td>113</td>\n      <td>0.0</td>\n      <td>10</td>\n      <td>1014</td>\n      <td>5</td>\n      <td>57</td>\n      <td>27</td>\n      <td>67</td>\n      <td>...</td>\n      <td>3</td>\n      <td>2017</td>\n      <td>9</td>\n      <td>30</td>\n      <td>1654.0</td>\n      <td>0.0</td>\n      <td>1640</td>\n      <td>14.0</td>\n      <td>14771</td>\n      <td>14747</td>\n    </tr>\n    <tr>\n      <th>1851399</th>\n      <td>25</td>\n      <td>293</td>\n      <td>113</td>\n      <td>0.0</td>\n      <td>10</td>\n      <td>1014</td>\n      <td>5</td>\n      <td>57</td>\n      <td>27</td>\n      <td>67</td>\n      <td>...</td>\n      <td>3</td>\n      <td>2017</td>\n      <td>9</td>\n      <td>30</td>\n      <td>2125.0</td>\n      <td>1.0</td>\n      <td>1703</td>\n      <td>262.0</td>\n      <td>14771</td>\n      <td>11292</td>\n    </tr>\n    <tr>\n      <th>1851403</th>\n      <td>25</td>\n      <td>293</td>\n      <td>113</td>\n      <td>0.0</td>\n      <td>10</td>\n      <td>1014</td>\n      <td>5</td>\n      <td>57</td>\n      <td>27</td>\n      <td>67</td>\n      <td>...</td>\n      <td>3</td>\n      <td>2017</td>\n      <td>9</td>\n      <td>30</td>\n      <td>1827.0</td>\n      <td>1.0</td>\n      <td>1720</td>\n      <td>67.0</td>\n      <td>14771</td>\n      <td>12889</td>\n    </tr>\n    <tr>\n      <th>1851412</th>\n      <td>26</td>\n      <td>296</td>\n      <td>113</td>\n      <td>0.0</td>\n      <td>10</td>\n      <td>1014</td>\n      <td>0</td>\n      <td>57</td>\n      <td>27</td>\n      <td>67</td>\n      <td>...</td>\n      <td>3</td>\n      <td>2017</td>\n      <td>9</td>\n      <td>30</td>\n      <td>1909.0</td>\n      <td>0.0</td>\n      <td>1855</td>\n      <td>14.0</td>\n      <td>14771</td>\n      <td>14747</td>\n    </tr>\n  </tbody>\n</table>\n<p>388058 rows × 23 columns</p>\n</div>"
     },
     "metadata": {},
     "execution_count": 90
    }
   ],
   "source": [
    "features"
   ]
  },
  {
   "cell_type": "code",
   "execution_count": 91,
   "metadata": {},
   "outputs": [],
   "source": [
    "train_feature,test_feature,train_target,test_target=train_test_split(features,target,test_size=0.2,random_state=42)"
   ]
  },
  {
   "cell_type": "code",
   "execution_count": 92,
   "metadata": {},
   "outputs": [],
   "source": [
    "#linear regression\n",
    "lin_reg=LinearRegression().fit(train_feature,train_target)\n",
    "lin_reg_pred=lin_reg.predict(test_feature)"
   ]
  },
  {
   "cell_type": "code",
   "execution_count": 93,
   "metadata": {
    "tags": []
   },
   "outputs": [
    {
     "output_type": "stream",
     "name": "stdout",
     "text": "mean_squared_error:   315.470320932593\nmean_absolute_error:  12.297523203305888\nr2_score:             0.9369461237531438\n"
    }
   ],
   "source": [
    "print(\"mean_squared_error:  \",mean_squared_error(test_target,lin_reg_pred))\n",
    "print(\"mean_absolute_error: \",mean_absolute_error(test_target,lin_reg_pred))\n",
    "print(\"r2_score:            \",r2_score(test_target,lin_reg_pred))"
   ]
  },
  {
   "cell_type": "code",
   "execution_count": 94,
   "metadata": {},
   "outputs": [],
   "source": [
    "#linear support vector regressor\n",
    "SVR=LinearSVR().fit(train_feature,train_target)\n",
    "SVR_pred=SVR.predict(test_feature)"
   ]
  },
  {
   "cell_type": "code",
   "execution_count": 95,
   "metadata": {
    "tags": []
   },
   "outputs": [
    {
     "output_type": "stream",
     "name": "stdout",
     "text": "mean_squared_error:   433.3935806809209\nmean_absolute_error:  16.103693272958207\nr2_score:             0.9133764941131318\n"
    }
   ],
   "source": [
    "print(\"mean_squared_error:  \",mean_squared_error(test_target,SVR_pred))\n",
    "print(\"mean_absolute_error: \",mean_absolute_error(test_target,SVR_pred))\n",
    "print(\"r2_score:            \",r2_score(test_target,SVR_pred))"
   ]
  },
  {
   "cell_type": "code",
   "execution_count": 96,
   "metadata": {},
   "outputs": [],
   "source": [
    "#Extra Tree Regressor\n",
    "extra_tree=ExtraTreesRegressor(n_estimators=100, random_state=0).fit(train_feature,train_target)\n",
    "extra_tree_pred=extra_tree.predict(test_feature)"
   ]
  },
  {
   "cell_type": "code",
   "execution_count": 97,
   "metadata": {
    "tags": []
   },
   "outputs": [
    {
     "output_type": "stream",
     "name": "stdout",
     "text": "mean_squared_error:   292.384034581959\nmean_absolute_error:  11.975189596969539\nr2_score:             0.9415604400484108\n"
    }
   ],
   "source": [
    "print(\"mean_squared_error:  \",mean_squared_error(test_target,extra_tree_pred))\n",
    "print(\"mean_absolute_error: \",mean_absolute_error(test_target,extra_tree_pred))\n",
    "print(\"r2_score:            \",r2_score(test_target,extra_tree_pred))"
   ]
  },
  {
   "cell_type": "code",
   "execution_count": 98,
   "metadata": {},
   "outputs": [],
   "source": [
    "#Gradient Boosting Regressor\n",
    "XGBoost=GradientBoostingRegressor().fit(train_feature,train_target)\n",
    "XGBoost_pred=XGBoost.predict(test_feature)"
   ]
  },
  {
   "cell_type": "code",
   "execution_count": 99,
   "metadata": {
    "tags": []
   },
   "outputs": [
    {
     "output_type": "stream",
     "name": "stdout",
     "text": "mean_squared_error:   291.7722513071572\nmean_absolute_error:  11.776415587799706\nr2_score:             0.9416827187679594\n"
    }
   ],
   "source": [
    "print(\"mean_squared_error:  \",mean_squared_error(test_target,XGBoost_pred))\n",
    "print(\"mean_absolute_error: \",mean_absolute_error(test_target,XGBoost_pred))\n",
    "print(\"r2_score:            \",r2_score(test_target,XGBoost_pred))"
   ]
  },
  {
   "cell_type": "code",
   "execution_count": 100,
   "metadata": {},
   "outputs": [],
   "source": [
    "#METHOD 2 : Pipelining the classified data as input."
   ]
  },
  {
   "cell_type": "code",
   "execution_count": 3,
   "metadata": {},
   "outputs": [],
   "source": [
    "features_pip=pd.read_csv(\"pipeline_data.csv\")"
   ]
  },
  {
   "cell_type": "code",
   "execution_count": 4,
   "metadata": {},
   "outputs": [
    {
     "output_type": "execute_result",
     "data": {
      "text/plain": "        Unnamed: 0  windspeedKmph  winddirDegree  weatherCode  precipMM  \\\n0           737512             22            242          113       0.0   \n1            36012             18            152          122       0.0   \n2          1079740             25            295          116       0.0   \n3          1423204             12             81          116       0.0   \n4           182611              6            222          356       2.2   \n...            ...            ...            ...          ...       ...   \n157376      937989              6            166          113       0.0   \n157377     1535529              5             96          113       0.0   \n157378     1307026              9            225          143       0.0   \n157379     1792665              4             20          113       0.0   \n157380      319158             11             99          116       0.0   \n\n        visibility  pressure  cloudcover  DewPointF  WindGustKmph  ...  \\\n0               10      1016           1         32            37  ...   \n1               10      1014         100         61            24  ...   \n2               10      1009          33         55            27  ...   \n3               10      1014          47         49            15  ...   \n4                8      1016          38         71            10  ...   \n...            ...       ...         ...        ...           ...  ...   \n157376          10      1015           0         45             6  ...   \n157377          10      1021           0         34             7  ...   \n157378           6      1006         100         35            12  ...   \n157379          10      1022           0         51             9  ...   \n157380          10      1019          10         25            24  ...   \n\n        int_time  Quarter  Month  DepTime  DepDel15  CRSDepTime  \\\n0            700        1      1    650.0       0.0         700   \n1           1100        1      3   1125.0       1.0        1050   \n2           1200        2      4   1207.0       1.0        1130   \n3           1400        2      5   1349.0       0.0        1350   \n4            800        3      7    809.0       0.0         810   \n...          ...      ...    ...      ...       ...         ...   \n157376      1700        4     11   1748.0       1.0        1725   \n157377      1000        1      2   1028.0       1.0        1000   \n157378      1700        1      1   1711.0       0.0        1715   \n157379      2200        4     12   2130.0       0.0        2135   \n157380      1700        4     11   1810.0       1.0        1650   \n\n        DepDelayMinutes  OriginAirportID  DestAirportID  ArrDelayMinutes  \n0                   0.0            12478          13303              0.0  \n1                  35.0            10397          12892             33.0  \n2                  37.0            12892          14747             39.0  \n3                   0.0            13930          14747             21.0  \n4                   0.0            11057          10397              5.0  \n...                 ...              ...            ...              ...  \n157376             23.0            12892          11298             15.0  \n157377             28.0            14107          14771             25.0  \n157378              0.0            13930          11292              0.0  \n157379              0.0            14771          13303              0.0  \n157380             80.0            11292          14771             57.0  \n\n[157381 rows x 22 columns]",
      "text/html": "<div>\n<style scoped>\n    .dataframe tbody tr th:only-of-type {\n        vertical-align: middle;\n    }\n\n    .dataframe tbody tr th {\n        vertical-align: top;\n    }\n\n    .dataframe thead th {\n        text-align: right;\n    }\n</style>\n<table border=\"1\" class=\"dataframe\">\n  <thead>\n    <tr style=\"text-align: right;\">\n      <th></th>\n      <th>Unnamed: 0</th>\n      <th>windspeedKmph</th>\n      <th>winddirDegree</th>\n      <th>weatherCode</th>\n      <th>precipMM</th>\n      <th>visibility</th>\n      <th>pressure</th>\n      <th>cloudcover</th>\n      <th>DewPointF</th>\n      <th>WindGustKmph</th>\n      <th>...</th>\n      <th>int_time</th>\n      <th>Quarter</th>\n      <th>Month</th>\n      <th>DepTime</th>\n      <th>DepDel15</th>\n      <th>CRSDepTime</th>\n      <th>DepDelayMinutes</th>\n      <th>OriginAirportID</th>\n      <th>DestAirportID</th>\n      <th>ArrDelayMinutes</th>\n    </tr>\n  </thead>\n  <tbody>\n    <tr>\n      <th>0</th>\n      <td>737512</td>\n      <td>22</td>\n      <td>242</td>\n      <td>113</td>\n      <td>0.0</td>\n      <td>10</td>\n      <td>1016</td>\n      <td>1</td>\n      <td>32</td>\n      <td>37</td>\n      <td>...</td>\n      <td>700</td>\n      <td>1</td>\n      <td>1</td>\n      <td>650.0</td>\n      <td>0.0</td>\n      <td>700</td>\n      <td>0.0</td>\n      <td>12478</td>\n      <td>13303</td>\n      <td>0.0</td>\n    </tr>\n    <tr>\n      <th>1</th>\n      <td>36012</td>\n      <td>18</td>\n      <td>152</td>\n      <td>122</td>\n      <td>0.0</td>\n      <td>10</td>\n      <td>1014</td>\n      <td>100</td>\n      <td>61</td>\n      <td>24</td>\n      <td>...</td>\n      <td>1100</td>\n      <td>1</td>\n      <td>3</td>\n      <td>1125.0</td>\n      <td>1.0</td>\n      <td>1050</td>\n      <td>35.0</td>\n      <td>10397</td>\n      <td>12892</td>\n      <td>33.0</td>\n    </tr>\n    <tr>\n      <th>2</th>\n      <td>1079740</td>\n      <td>25</td>\n      <td>295</td>\n      <td>116</td>\n      <td>0.0</td>\n      <td>10</td>\n      <td>1009</td>\n      <td>33</td>\n      <td>55</td>\n      <td>27</td>\n      <td>...</td>\n      <td>1200</td>\n      <td>2</td>\n      <td>4</td>\n      <td>1207.0</td>\n      <td>1.0</td>\n      <td>1130</td>\n      <td>37.0</td>\n      <td>12892</td>\n      <td>14747</td>\n      <td>39.0</td>\n    </tr>\n    <tr>\n      <th>3</th>\n      <td>1423204</td>\n      <td>12</td>\n      <td>81</td>\n      <td>116</td>\n      <td>0.0</td>\n      <td>10</td>\n      <td>1014</td>\n      <td>47</td>\n      <td>49</td>\n      <td>15</td>\n      <td>...</td>\n      <td>1400</td>\n      <td>2</td>\n      <td>5</td>\n      <td>1349.0</td>\n      <td>0.0</td>\n      <td>1350</td>\n      <td>0.0</td>\n      <td>13930</td>\n      <td>14747</td>\n      <td>21.0</td>\n    </tr>\n    <tr>\n      <th>4</th>\n      <td>182611</td>\n      <td>6</td>\n      <td>222</td>\n      <td>356</td>\n      <td>2.2</td>\n      <td>8</td>\n      <td>1016</td>\n      <td>38</td>\n      <td>71</td>\n      <td>10</td>\n      <td>...</td>\n      <td>800</td>\n      <td>3</td>\n      <td>7</td>\n      <td>809.0</td>\n      <td>0.0</td>\n      <td>810</td>\n      <td>0.0</td>\n      <td>11057</td>\n      <td>10397</td>\n      <td>5.0</td>\n    </tr>\n    <tr>\n      <th>...</th>\n      <td>...</td>\n      <td>...</td>\n      <td>...</td>\n      <td>...</td>\n      <td>...</td>\n      <td>...</td>\n      <td>...</td>\n      <td>...</td>\n      <td>...</td>\n      <td>...</td>\n      <td>...</td>\n      <td>...</td>\n      <td>...</td>\n      <td>...</td>\n      <td>...</td>\n      <td>...</td>\n      <td>...</td>\n      <td>...</td>\n      <td>...</td>\n      <td>...</td>\n      <td>...</td>\n    </tr>\n    <tr>\n      <th>157376</th>\n      <td>937989</td>\n      <td>6</td>\n      <td>166</td>\n      <td>113</td>\n      <td>0.0</td>\n      <td>10</td>\n      <td>1015</td>\n      <td>0</td>\n      <td>45</td>\n      <td>6</td>\n      <td>...</td>\n      <td>1700</td>\n      <td>4</td>\n      <td>11</td>\n      <td>1748.0</td>\n      <td>1.0</td>\n      <td>1725</td>\n      <td>23.0</td>\n      <td>12892</td>\n      <td>11298</td>\n      <td>15.0</td>\n    </tr>\n    <tr>\n      <th>157377</th>\n      <td>1535529</td>\n      <td>5</td>\n      <td>96</td>\n      <td>113</td>\n      <td>0.0</td>\n      <td>10</td>\n      <td>1021</td>\n      <td>0</td>\n      <td>34</td>\n      <td>7</td>\n      <td>...</td>\n      <td>1000</td>\n      <td>1</td>\n      <td>2</td>\n      <td>1028.0</td>\n      <td>1.0</td>\n      <td>1000</td>\n      <td>28.0</td>\n      <td>14107</td>\n      <td>14771</td>\n      <td>25.0</td>\n    </tr>\n    <tr>\n      <th>157378</th>\n      <td>1307026</td>\n      <td>9</td>\n      <td>225</td>\n      <td>143</td>\n      <td>0.0</td>\n      <td>6</td>\n      <td>1006</td>\n      <td>100</td>\n      <td>35</td>\n      <td>12</td>\n      <td>...</td>\n      <td>1700</td>\n      <td>1</td>\n      <td>1</td>\n      <td>1711.0</td>\n      <td>0.0</td>\n      <td>1715</td>\n      <td>0.0</td>\n      <td>13930</td>\n      <td>11292</td>\n      <td>0.0</td>\n    </tr>\n    <tr>\n      <th>157379</th>\n      <td>1792665</td>\n      <td>4</td>\n      <td>20</td>\n      <td>113</td>\n      <td>0.0</td>\n      <td>10</td>\n      <td>1022</td>\n      <td>0</td>\n      <td>51</td>\n      <td>9</td>\n      <td>...</td>\n      <td>2200</td>\n      <td>4</td>\n      <td>12</td>\n      <td>2130.0</td>\n      <td>0.0</td>\n      <td>2135</td>\n      <td>0.0</td>\n      <td>14771</td>\n      <td>13303</td>\n      <td>0.0</td>\n    </tr>\n    <tr>\n      <th>157380</th>\n      <td>319158</td>\n      <td>11</td>\n      <td>99</td>\n      <td>116</td>\n      <td>0.0</td>\n      <td>10</td>\n      <td>1019</td>\n      <td>10</td>\n      <td>25</td>\n      <td>24</td>\n      <td>...</td>\n      <td>1700</td>\n      <td>4</td>\n      <td>11</td>\n      <td>1810.0</td>\n      <td>1.0</td>\n      <td>1650</td>\n      <td>80.0</td>\n      <td>11292</td>\n      <td>14771</td>\n      <td>57.0</td>\n    </tr>\n  </tbody>\n</table>\n<p>157381 rows × 22 columns</p>\n</div>"
     },
     "metadata": {},
     "execution_count": 4
    }
   ],
   "source": [
    "features_pip"
   ]
  },
  {
   "cell_type": "code",
   "execution_count": 5,
   "metadata": {},
   "outputs": [],
   "source": [
    "target_pip=features_pip[\"ArrDelayMinutes\"]"
   ]
  },
  {
   "cell_type": "code",
   "execution_count": 6,
   "metadata": {},
   "outputs": [],
   "source": [
    "features_pip=features_pip.drop([\"ArrDelayMinutes\",\"Unnamed: 0\"],axis=1)"
   ]
  },
  {
   "cell_type": "code",
   "execution_count": 7,
   "metadata": {},
   "outputs": [
    {
     "output_type": "execute_result",
     "data": {
      "text/plain": "        windspeedKmph  winddirDegree  weatherCode  precipMM  visibility  \\\n0                  22            242          113       0.0          10   \n1                  18            152          122       0.0          10   \n2                  25            295          116       0.0          10   \n3                  12             81          116       0.0          10   \n4                   6            222          356       2.2           8   \n...               ...            ...          ...       ...         ...   \n157376              6            166          113       0.0          10   \n157377              5             96          113       0.0          10   \n157378              9            225          143       0.0           6   \n157379              4             20          113       0.0          10   \n157380             11             99          116       0.0          10   \n\n        pressure  cloudcover  DewPointF  WindGustKmph  tempF  WindChillF  \\\n0           1016           1         32            37     39          30   \n1           1014         100         61            24     67          65   \n2           1009          33         55            27     69          70   \n3           1014          47         49            15     61          62   \n4           1016          38         71            10     80          81   \n...          ...         ...        ...           ...    ...         ...   \n157376      1015           0         45             6     77          75   \n157377      1021           0         34             7     50          48   \n157378      1006         100         35            12     39          35   \n157379      1022           0         51             9     63          63   \n157380      1019          10         25            24     52          50   \n\n        int_time  Quarter  Month  DepTime  DepDel15  CRSDepTime  \\\n0            700        1      1    650.0       0.0         700   \n1           1100        1      3   1125.0       1.0        1050   \n2           1200        2      4   1207.0       1.0        1130   \n3           1400        2      5   1349.0       0.0        1350   \n4            800        3      7    809.0       0.0         810   \n...          ...      ...    ...      ...       ...         ...   \n157376      1700        4     11   1748.0       1.0        1725   \n157377      1000        1      2   1028.0       1.0        1000   \n157378      1700        1      1   1711.0       0.0        1715   \n157379      2200        4     12   2130.0       0.0        2135   \n157380      1700        4     11   1810.0       1.0        1650   \n\n        DepDelayMinutes  OriginAirportID  DestAirportID  \n0                   0.0            12478          13303  \n1                  35.0            10397          12892  \n2                  37.0            12892          14747  \n3                   0.0            13930          14747  \n4                   0.0            11057          10397  \n...                 ...              ...            ...  \n157376             23.0            12892          11298  \n157377             28.0            14107          14771  \n157378              0.0            13930          11292  \n157379              0.0            14771          13303  \n157380             80.0            11292          14771  \n\n[157381 rows x 20 columns]",
      "text/html": "<div>\n<style scoped>\n    .dataframe tbody tr th:only-of-type {\n        vertical-align: middle;\n    }\n\n    .dataframe tbody tr th {\n        vertical-align: top;\n    }\n\n    .dataframe thead th {\n        text-align: right;\n    }\n</style>\n<table border=\"1\" class=\"dataframe\">\n  <thead>\n    <tr style=\"text-align: right;\">\n      <th></th>\n      <th>windspeedKmph</th>\n      <th>winddirDegree</th>\n      <th>weatherCode</th>\n      <th>precipMM</th>\n      <th>visibility</th>\n      <th>pressure</th>\n      <th>cloudcover</th>\n      <th>DewPointF</th>\n      <th>WindGustKmph</th>\n      <th>tempF</th>\n      <th>WindChillF</th>\n      <th>int_time</th>\n      <th>Quarter</th>\n      <th>Month</th>\n      <th>DepTime</th>\n      <th>DepDel15</th>\n      <th>CRSDepTime</th>\n      <th>DepDelayMinutes</th>\n      <th>OriginAirportID</th>\n      <th>DestAirportID</th>\n    </tr>\n  </thead>\n  <tbody>\n    <tr>\n      <th>0</th>\n      <td>22</td>\n      <td>242</td>\n      <td>113</td>\n      <td>0.0</td>\n      <td>10</td>\n      <td>1016</td>\n      <td>1</td>\n      <td>32</td>\n      <td>37</td>\n      <td>39</td>\n      <td>30</td>\n      <td>700</td>\n      <td>1</td>\n      <td>1</td>\n      <td>650.0</td>\n      <td>0.0</td>\n      <td>700</td>\n      <td>0.0</td>\n      <td>12478</td>\n      <td>13303</td>\n    </tr>\n    <tr>\n      <th>1</th>\n      <td>18</td>\n      <td>152</td>\n      <td>122</td>\n      <td>0.0</td>\n      <td>10</td>\n      <td>1014</td>\n      <td>100</td>\n      <td>61</td>\n      <td>24</td>\n      <td>67</td>\n      <td>65</td>\n      <td>1100</td>\n      <td>1</td>\n      <td>3</td>\n      <td>1125.0</td>\n      <td>1.0</td>\n      <td>1050</td>\n      <td>35.0</td>\n      <td>10397</td>\n      <td>12892</td>\n    </tr>\n    <tr>\n      <th>2</th>\n      <td>25</td>\n      <td>295</td>\n      <td>116</td>\n      <td>0.0</td>\n      <td>10</td>\n      <td>1009</td>\n      <td>33</td>\n      <td>55</td>\n      <td>27</td>\n      <td>69</td>\n      <td>70</td>\n      <td>1200</td>\n      <td>2</td>\n      <td>4</td>\n      <td>1207.0</td>\n      <td>1.0</td>\n      <td>1130</td>\n      <td>37.0</td>\n      <td>12892</td>\n      <td>14747</td>\n    </tr>\n    <tr>\n      <th>3</th>\n      <td>12</td>\n      <td>81</td>\n      <td>116</td>\n      <td>0.0</td>\n      <td>10</td>\n      <td>1014</td>\n      <td>47</td>\n      <td>49</td>\n      <td>15</td>\n      <td>61</td>\n      <td>62</td>\n      <td>1400</td>\n      <td>2</td>\n      <td>5</td>\n      <td>1349.0</td>\n      <td>0.0</td>\n      <td>1350</td>\n      <td>0.0</td>\n      <td>13930</td>\n      <td>14747</td>\n    </tr>\n    <tr>\n      <th>4</th>\n      <td>6</td>\n      <td>222</td>\n      <td>356</td>\n      <td>2.2</td>\n      <td>8</td>\n      <td>1016</td>\n      <td>38</td>\n      <td>71</td>\n      <td>10</td>\n      <td>80</td>\n      <td>81</td>\n      <td>800</td>\n      <td>3</td>\n      <td>7</td>\n      <td>809.0</td>\n      <td>0.0</td>\n      <td>810</td>\n      <td>0.0</td>\n      <td>11057</td>\n      <td>10397</td>\n    </tr>\n    <tr>\n      <th>...</th>\n      <td>...</td>\n      <td>...</td>\n      <td>...</td>\n      <td>...</td>\n      <td>...</td>\n      <td>...</td>\n      <td>...</td>\n      <td>...</td>\n      <td>...</td>\n      <td>...</td>\n      <td>...</td>\n      <td>...</td>\n      <td>...</td>\n      <td>...</td>\n      <td>...</td>\n      <td>...</td>\n      <td>...</td>\n      <td>...</td>\n      <td>...</td>\n      <td>...</td>\n    </tr>\n    <tr>\n      <th>157376</th>\n      <td>6</td>\n      <td>166</td>\n      <td>113</td>\n      <td>0.0</td>\n      <td>10</td>\n      <td>1015</td>\n      <td>0</td>\n      <td>45</td>\n      <td>6</td>\n      <td>77</td>\n      <td>75</td>\n      <td>1700</td>\n      <td>4</td>\n      <td>11</td>\n      <td>1748.0</td>\n      <td>1.0</td>\n      <td>1725</td>\n      <td>23.0</td>\n      <td>12892</td>\n      <td>11298</td>\n    </tr>\n    <tr>\n      <th>157377</th>\n      <td>5</td>\n      <td>96</td>\n      <td>113</td>\n      <td>0.0</td>\n      <td>10</td>\n      <td>1021</td>\n      <td>0</td>\n      <td>34</td>\n      <td>7</td>\n      <td>50</td>\n      <td>48</td>\n      <td>1000</td>\n      <td>1</td>\n      <td>2</td>\n      <td>1028.0</td>\n      <td>1.0</td>\n      <td>1000</td>\n      <td>28.0</td>\n      <td>14107</td>\n      <td>14771</td>\n    </tr>\n    <tr>\n      <th>157378</th>\n      <td>9</td>\n      <td>225</td>\n      <td>143</td>\n      <td>0.0</td>\n      <td>6</td>\n      <td>1006</td>\n      <td>100</td>\n      <td>35</td>\n      <td>12</td>\n      <td>39</td>\n      <td>35</td>\n      <td>1700</td>\n      <td>1</td>\n      <td>1</td>\n      <td>1711.0</td>\n      <td>0.0</td>\n      <td>1715</td>\n      <td>0.0</td>\n      <td>13930</td>\n      <td>11292</td>\n    </tr>\n    <tr>\n      <th>157379</th>\n      <td>4</td>\n      <td>20</td>\n      <td>113</td>\n      <td>0.0</td>\n      <td>10</td>\n      <td>1022</td>\n      <td>0</td>\n      <td>51</td>\n      <td>9</td>\n      <td>63</td>\n      <td>63</td>\n      <td>2200</td>\n      <td>4</td>\n      <td>12</td>\n      <td>2130.0</td>\n      <td>0.0</td>\n      <td>2135</td>\n      <td>0.0</td>\n      <td>14771</td>\n      <td>13303</td>\n    </tr>\n    <tr>\n      <th>157380</th>\n      <td>11</td>\n      <td>99</td>\n      <td>116</td>\n      <td>0.0</td>\n      <td>10</td>\n      <td>1019</td>\n      <td>10</td>\n      <td>25</td>\n      <td>24</td>\n      <td>52</td>\n      <td>50</td>\n      <td>1700</td>\n      <td>4</td>\n      <td>11</td>\n      <td>1810.0</td>\n      <td>1.0</td>\n      <td>1650</td>\n      <td>80.0</td>\n      <td>11292</td>\n      <td>14771</td>\n    </tr>\n  </tbody>\n</table>\n<p>157381 rows × 20 columns</p>\n</div>"
     },
     "metadata": {},
     "execution_count": 7
    }
   ],
   "source": [
    "features_pip"
   ]
  },
  {
   "cell_type": "code",
   "execution_count": 8,
   "metadata": {},
   "outputs": [],
   "source": [
    "train_feature_pip,test_feature_pip,train_target_pip,test_target_pip=train_test_split(features_pip,target_pip,test_size=0.2,random_state=42)"
   ]
  },
  {
   "cell_type": "code",
   "execution_count": 107,
   "metadata": {},
   "outputs": [],
   "source": [
    "#linear regression\n",
    "lin_reg_pip=LinearRegression().fit(train_feature_pip,train_target_pip)\n",
    "lin_reg_pred_pip=lin_reg_pip.predict(test_feature_pip)"
   ]
  },
  {
   "cell_type": "code",
   "execution_count": 108,
   "metadata": {
    "tags": []
   },
   "outputs": [
    {
     "output_type": "stream",
     "name": "stdout",
     "text": "mean_squared_error:   201.1780007213055\nmean_absolute_error:  8.7584467089036\nr2_score:             0.9391923290082086\n"
    }
   ],
   "source": [
    "print(\"mean_squared_error:  \",mean_squared_error(test_target_pip,lin_reg_pred_pip))\n",
    "print(\"mean_absolute_error: \",mean_absolute_error(test_target_pip,lin_reg_pred_pip))\n",
    "print(\"r2_score:            \",r2_score(test_target_pip,lin_reg_pred_pip))"
   ]
  },
  {
   "cell_type": "code",
   "execution_count": 109,
   "metadata": {},
   "outputs": [],
   "source": [
    "#linear support vector regressor\n",
    "SVR_pip=LinearSVR().fit(train_feature_pip,train_target_pip)\n",
    "SVR_pred_pip=SVR_pip.predict(test_feature_pip)"
   ]
  },
  {
   "cell_type": "code",
   "execution_count": 110,
   "metadata": {
    "tags": []
   },
   "outputs": [
    {
     "output_type": "stream",
     "name": "stdout",
     "text": "mean_squared_error:   549.0382954731712\nmean_absolute_error:  19.07039031394016\nr2_score:             0.834048753276576\n"
    }
   ],
   "source": [
    "print(\"mean_squared_error:  \",mean_squared_error(test_target_pip,SVR_pred_pip))\n",
    "print(\"mean_absolute_error: \",mean_absolute_error(test_target_pip,SVR_pred_pip))\n",
    "print(\"r2_score:            \",r2_score(test_target_pip,SVR_pred_pip))"
   ]
  },
  {
   "cell_type": "code",
   "execution_count": 11,
   "metadata": {},
   "outputs": [],
   "source": [
    "#Extra Tree Regressor\n",
    "extra_tree_pip=ExtraTreesRegressor(n_estimators=100, random_state=0).fit(train_feature_pip,train_target_pip)\n",
    "extra_tree_pred_pip=extra_tree_pip.predict(test_feature_pip)"
   ]
  },
  {
   "cell_type": "code",
   "execution_count": 12,
   "metadata": {
    "tags": []
   },
   "outputs": [
    {
     "output_type": "stream",
     "name": "stdout",
     "text": "mean_squared_error:   204.60564680163293\nmean_absolute_error:  9.094772214632908\nr2_score:             0.9381562953744039\n"
    }
   ],
   "source": [
    "print(\"mean_squared_error:  \",mean_squared_error(test_target_pip,extra_tree_pred_pip))\n",
    "print(\"mean_absolute_error: \",mean_absolute_error(test_target_pip,extra_tree_pred_pip))\n",
    "print(\"r2_score:            \",r2_score(test_target_pip,extra_tree_pred_pip))"
   ]
  },
  {
   "cell_type": "code",
   "execution_count": 9,
   "metadata": {},
   "outputs": [],
   "source": [
    "#Gradient Boosting Regressor\n",
    "XGBoost_pip=GradientBoostingRegressor().fit(train_feature_pip,train_target_pip)\n",
    "XGBoost_pred_pip=XGBoost_pip.predict(test_feature_pip)"
   ]
  },
  {
   "cell_type": "code",
   "execution_count": 10,
   "metadata": {
    "tags": []
   },
   "outputs": [
    {
     "output_type": "stream",
     "name": "stdout",
     "text": "mean_squared_error:   195.35195523190112\nmean_absolute_error:  8.710503059290541\nr2_score:             0.9409532981799507\n"
    }
   ],
   "source": [
    "print(\"mean_squared_error:  \",mean_squared_error(test_target_pip,XGBoost_pred_pip))\n",
    "print(\"mean_absolute_error: \",mean_absolute_error(test_target_pip,XGBoost_pred_pip))\n",
    "print(\"r2_score:            \",r2_score(test_target_pip,XGBoost_pred_pip))"
   ]
  }
 ]
}